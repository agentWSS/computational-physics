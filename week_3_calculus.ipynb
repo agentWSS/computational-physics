{
  "cells": [
    {
      "cell_type": "markdown",
      "metadata": {
        "id": "4-7KbEYLoRJD"
      },
      "source": [
        "Before you turn this problem in, make sure everything runs as expected. First, **restart the kernel** (in the menubar, select Kernel$\\rightarrow$Restart) and then **run all cells** (in the menubar, select Cell$\\rightarrow$Run All).\n",
        "\n",
        "Make sure you fill in any place that says `YOUR CODE HERE` or \"YOUR ANSWER HERE\", as well as your github nickname below:"
      ]
    },
    {
      "cell_type": "code",
      "execution_count": null,
      "metadata": {
        "id": "fUUxu_X1oRJG"
      },
      "outputs": [],
      "source": [
        "NICKNAME = \"agentWSS\""
      ]
    },
    {
      "cell_type": "markdown",
      "metadata": {
        "id": "eI-wSQdGoRJJ"
      },
      "source": [
        "---"
      ]
    },
    {
      "cell_type": "markdown",
      "metadata": {
        "deletable": false,
        "editable": false,
        "nbgrader": {
          "cell_type": "markdown",
          "checksum": "7dccf623e8155edecb3e6e5e47a9ef81",
          "grade": false,
          "grade_id": "cell-a2abfc4a6208ed23",
          "locked": true,
          "schema_version": 3,
          "solution": false,
          "task": false
        },
        "id": "gczVqaIboRJK"
      },
      "source": [
        "# Часть I. Односторонние разностные схемы"
      ]
    },
    {
      "cell_type": "markdown",
      "metadata": {
        "deletable": false,
        "editable": false,
        "nbgrader": {
          "cell_type": "markdown",
          "checksum": "f4b04751eb6e40db195beea9124423d3",
          "grade": false,
          "grade_id": "cell-58ce0b90477554a8",
          "locked": true,
          "schema_version": 3,
          "solution": false,
          "task": false
        },
        "id": "Z1CkDHHQoRJX"
      },
      "source": [
        "Напишите функцию `deriv`, которая вычисляет производную функции в заданной точке $x$, используя одностороннюю разностную схему с заданным шагом $h$ и степенью аппроксимации $O(h^2)$. \\\\\n",
        "$f'(x)=\\frac{-3f(x)+4f(x+h)-f(x+2h)}{2h}$"
      ]
    },
    {
      "cell_type": "code",
      "execution_count": 5,
      "metadata": {
        "ExecuteTime": {
          "end_time": "2022-11-02T10:55:29.675531Z",
          "start_time": "2022-11-02T10:55:29.667604Z"
        },
        "deletable": false,
        "nbgrader": {
          "cell_type": "code",
          "checksum": "8f8e897d3fbbb433ce8cda547894e344",
          "grade": false,
          "grade_id": "cell-247122d69a9fc913",
          "locked": false,
          "schema_version": 3,
          "solution": true,
          "task": false
        },
        "id": "ltSE2vp4oRJY"
      },
      "outputs": [],
      "source": [
        "def deriv(f, x, h):\n",
        "    \"\"\" Вычисляет производную `f` в точке `x` с шагом `h`.\n",
        "    Вычисляет производную, используя односторонню разностную схему со степенью аппроксимации $O(h^2)$.\n",
        "    \n",
        "    Parameters\n",
        "    ----------\n",
        "    f : callable\n",
        "        Функция, которую нужно продифференцировать\n",
        "    x : float\n",
        "        Точка, в которой нужно дифференцировать функцию\n",
        "    h : float\n",
        "        Шаг\n",
        "        \n",
        "    Rerurns\n",
        "    -------\n",
        "    fder : производная f(x) в точке x с шагом h.\n",
        "    \"\"\"\n",
        "    return (-3 * f(x) + 4 * f(x + h) - f(x + 2 * h)) / (2 * h)"
      ]
    },
    {
      "cell_type": "markdown",
      "metadata": {
        "deletable": false,
        "editable": false,
        "nbgrader": {
          "cell_type": "markdown",
          "checksum": "44271195412c6453928a38465a99d370",
          "grade": false,
          "grade_id": "cell-d0404f738b4b1ddf",
          "locked": true,
          "schema_version": 3,
          "solution": false,
          "task": false
        },
        "id": "OZgeDJVZoRJZ"
      },
      "source": [
        "#### Тест I.1\n",
        "\n",
        "Проверьте ваш алгоритм на простом примере: продифференцируйте $f(x) = x^3$ в точке $x=0$. Прокомментируйте, совпадает ли результат с ожидаемым $f'(x) = 0$ при стремлении $h\\to 0$."
      ]
    },
    {
      "cell_type": "code",
      "execution_count": 6,
      "metadata": {
        "ExecuteTime": {
          "end_time": "2022-11-02T10:55:32.649499Z",
          "start_time": "2022-11-02T10:55:32.641768Z"
        },
        "deletable": false,
        "editable": false,
        "nbgrader": {
          "cell_type": "code",
          "checksum": "b5da519e3e5c32aa43d9708173fff822",
          "grade": true,
          "grade_id": "cell-de34dd9a8de8f123",
          "locked": true,
          "points": 1,
          "schema_version": 3,
          "solution": false,
          "task": false
        },
        "colab": {
          "base_uri": "https://localhost:8080/"
        },
        "id": "Wuwp4ErooRJa",
        "outputId": "800b47c5-dd79-48a0-e500-1e2b41f3a41f"
      },
      "outputs": [
        {
          "output_type": "stream",
          "name": "stdout",
          "text": [
            "0.010000 -- -0.0002\n",
            "0.001000 --  -2e-06\n",
            "0.000100 --  -2e-08\n",
            "0.000010 --  -2e-10\n"
          ]
        }
      ],
      "source": [
        "x = 0\n",
        "for h in [1e-2, 1e-3, 1e-4, 1e-5]:\n",
        "    err = deriv(lambda x: x**3, x, h)\n",
        "    print(\"%5f -- %7.4g\" % (h, err))\n"
      ]
    },
    {
      "cell_type": "markdown",
      "metadata": {
        "deletable": false,
        "nbgrader": {
          "cell_type": "markdown",
          "checksum": "189794ac6c44e4e7bb19e43f0745afcd",
          "grade": true,
          "grade_id": "cell-27237ba3cda86241",
          "locked": false,
          "points": 1,
          "schema_version": 3,
          "solution": true,
          "task": false
        },
        "id": "fE0KqAEgoRJb"
      },
      "source": [
        "YOUR ANSWER HERE"
      ]
    },
    {
      "cell_type": "markdown",
      "metadata": {
        "deletable": false,
        "editable": false,
        "nbgrader": {
          "cell_type": "markdown",
          "checksum": "d9f79b9c6aa3bdb451f947f25ae736e8",
          "grade": false,
          "grade_id": "cell-27d5fa90ce50a65f",
          "locked": true,
          "schema_version": 3,
          "solution": false,
          "task": false
        },
        "id": "3aOY3KVGoRJc"
      },
      "source": [
        "### Тест I.2\n",
        "\n",
        "Теперь попробуйте немного более сложную функцию $f(x) = x^2 \\log{x}$. Оцените значение производной в точке $x=1$, используя *двухточечную* и *трехточечную* схемы. Для обеих схем оцените значение $h$, при котором ошибка перестанет падать."
      ]
    },
    {
      "cell_type": "code",
      "execution_count": 7,
      "metadata": {
        "ExecuteTime": {
          "end_time": "2022-11-02T10:57:07.885511Z",
          "start_time": "2022-11-02T10:57:07.879734Z"
        },
        "deletable": false,
        "editable": false,
        "nbgrader": {
          "cell_type": "code",
          "checksum": "f72dc80bffc29ddb9f03329fb940e482",
          "grade": false,
          "grade_id": "cell-388936373111aa39",
          "locked": true,
          "schema_version": 3,
          "solution": false,
          "task": false
        },
        "id": "plPIKZU0oRJc"
      },
      "outputs": [],
      "source": [
        "from math import log\n",
        "\n",
        "def f(x):\n",
        "    return x**2 * log(x)\n",
        "    \n",
        "def fder(x):\n",
        "    return x * (2.*log(x) + 1)"
      ]
    },
    {
      "cell_type": "code",
      "execution_count": 26,
      "metadata": {
        "deletable": false,
        "nbgrader": {
          "cell_type": "code",
          "checksum": "a8ff82fa8e3fab8a2619bdda40855b90",
          "grade": true,
          "grade_id": "cell-89d470f23af144b9",
          "locked": false,
          "points": 2,
          "schema_version": 3,
          "solution": true,
          "task": false
        },
        "colab": {
          "base_uri": "https://localhost:8080/",
          "height": 609
        },
        "id": "PTLF56pIoRJd",
        "outputId": "cfd660df-bc65-4ec6-8816-2393a6b9ea8f"
      },
      "outputs": [
        {
          "output_type": "display_data",
          "data": {
            "text/plain": [
              "<Figure size 1080x720 with 1 Axes>"
            ],
            "image/png": "[encoded data removed]"
          },
          "metadata": {
            "needs_background": "light"
          }
        }
      ],
      "source": [
        "import numpy as np\n",
        "import matplotlib.pyplot as plt\n",
        "\n",
        "x = 1\n",
        "h_list = np.logspace(-13, 0, num=100)\n",
        "\n",
        "def deriv2(f, x, h):\n",
        "  return (f(x + h) - f(x)) / h\n",
        "\n",
        "plt.figure(figsize=(15, 10))\n",
        "plt.xlabel('log(h)')\n",
        "plt.ylabel('log(|Df-f\\'|)')\n",
        "plt.loglog(h_list, np.abs([fder(x) - deriv2(f, x, h) for h in h_list]), '.', label='двухточечная схема')\n",
        "plt.loglog(h_list, np.abs([fder(x) - deriv(f, x, h) for h in h_list]), '.', label='трехточечная схема')\n",
        "plt.legend()\n",
        "plt.show()\n"
      ]
    },
    {
      "cell_type": "markdown",
      "metadata": {
        "deletable": false,
        "editable": false,
        "nbgrader": {
          "cell_type": "markdown",
          "checksum": "f2f6f5a9c6fbe8c1575bd41eede5ce49",
          "grade": false,
          "grade_id": "cell-c80bff08a3ce816e",
          "locked": true,
          "schema_version": 3,
          "solution": false,
          "task": false
        },
        "id": "n7Mc6xcmoRJd"
      },
      "source": [
        "### Тест I.3 \n",
        "\n",
        "Теперь продифференцируйте $x^2 \\log(x)$ в $x=0$. Используйте трехточечную схему. Заметьте, что в нуле функцию нужно доопределить явным образом. Постройте зависимость ошибки от величины шага $h$. Объясните полученные результаты.\n",
        "\n"
      ]
    },
    {
      "cell_type": "code",
      "execution_count": 21,
      "metadata": {
        "ExecuteTime": {
          "end_time": "2022-11-02T10:57:47.265611Z",
          "start_time": "2022-11-02T10:57:47.257158Z"
        },
        "deletable": false,
        "editable": false,
        "nbgrader": {
          "cell_type": "code",
          "checksum": "e82e3a057716ab938190321fa252c45a",
          "grade": false,
          "grade_id": "cell-0f7900a58bda55ca",
          "locked": true,
          "schema_version": 3,
          "solution": false,
          "task": false
        },
        "colab": {
          "base_uri": "https://localhost:8080/"
        },
        "id": "kJRSa3asoRJe",
        "outputId": "4f5c03ee-45ee-43c8-e11d-ff6701cad33b"
      },
      "outputs": [
        {
          "output_type": "stream",
          "name": "stdout",
          "text": [
            "0.010000 -- -0.01386\n",
            "0.001000 -- -0.001386\n",
            "0.000100 -- -0.0001386\n",
            "0.000010 -- -1.386e-05\n"
          ]
        }
      ],
      "source": [
        "def f(x):\n",
        "    if x == 0:\n",
        "        # предел $x^2 log(x)$ при $x-> 0$ равен нулю, хотя log(x) не определен в x=0\n",
        "        return 0.0\n",
        "    else:\n",
        "        return x**2 * log(x)\n",
        "    \n",
        "def fder(x):\n",
        "    if x == 0:\n",
        "        return 0.0\n",
        "    else:\n",
        "        return x*(2*log(x) + 1)\n",
        "\n",
        "x = 0\n",
        "for h in [1e-2, 1e-3, 1e-4, 1e-5]:\n",
        "    err = deriv(f, x, h) - fder(x)\n",
        "    print(\"%5f -- %7.4g\" % (h, err))"
      ]
    },
    {
      "cell_type": "code",
      "execution_count": 27,
      "metadata": {
        "deletable": false,
        "nbgrader": {
          "cell_type": "code",
          "checksum": "e0af096a966239a9aa97e4504456d76a",
          "grade": true,
          "grade_id": "cell-798170312e193040",
          "locked": false,
          "points": 2,
          "schema_version": 3,
          "solution": true,
          "task": false
        },
        "colab": {
          "base_uri": "https://localhost:8080/",
          "height": 609
        },
        "id": "YV3yHGtYoRJe",
        "outputId": "65b3be14-cbe4-4657-d958-37566dbdf77d"
      },
      "outputs": [
        {
          "output_type": "display_data",
          "data": {
            "text/plain": [
              "<Figure size 1080x720 with 1 Axes>"
            ],
            "image/png": "[encoded data removed]"
          },
          "metadata": {
            "needs_background": "light"
          }
        }
      ],
      "source": [
        "x=0\n",
        "\n",
        "plt.figure(figsize=(15, 10))\n",
        "\n",
        "plt.loglog(h_list, np.abs([fder(x) - deriv(f, x, h) for h in h_list]), '.', label='трехточечная схема')\n",
        "plt.xlabel('log(h)')\n",
        "plt.ylabel(\"log(|Df-f'|)\")\n",
        "plt.legend()\n",
        "plt.show()\n"
      ]
    },
    {
      "cell_type": "markdown",
      "metadata": {
        "deletable": false,
        "nbgrader": {
          "cell_type": "markdown",
          "checksum": "f2b7f686b02f60f8085d92e24ffcfa12",
          "grade": true,
          "grade_id": "cell-0d44d43244d82696",
          "locked": false,
          "points": 1,
          "schema_version": 3,
          "solution": true,
          "task": false
        },
        "id": "YoKeR0EboRJe"
      },
      "source": [
        "Мы наблюдаем прямую зависимость: \n",
        "$ɛ = \\frac{4h^2\\log(h)-4h^2\\log(2h)}{2h} = 2\\log(2)h$ \n"
      ]
    },
    {
      "cell_type": "markdown",
      "metadata": {
        "deletable": false,
        "editable": false,
        "heading_collapsed": true,
        "nbgrader": {
          "cell_type": "markdown",
          "checksum": "a687bf3673f080f4194ad42a5a6bcc4a",
          "grade": false,
          "grade_id": "cell-ea586deba7686923",
          "locked": true,
          "schema_version": 3,
          "solution": false,
          "task": false
        },
        "id": "giMXbALKoRJf"
      },
      "source": [
        "# Часть II. Midpoint rule"
      ]
    },
    {
      "cell_type": "markdown",
      "metadata": {
        "deletable": false,
        "editable": false,
        "hidden": true,
        "nbgrader": {
          "cell_type": "markdown",
          "checksum": "b5ce6a65d088a79873fab62d062391de",
          "grade": false,
          "grade_id": "cell-823e204de1d177cf",
          "locked": true,
          "schema_version": 3,
          "solution": false,
          "task": false
        },
        "id": "tLsOG54voRJf"
      },
      "source": [
        "Напишите функцию, вычисляющую определенный интеграл, используя midpoint rule, с точностью до заданной погрешности $\\epsilon$. Оценивайте ошибку, сравнивая значения интеграла для $N$ и $2N$ элементарных интервалов."
      ]
    },
    {
      "cell_type": "code",
      "execution_count": 69,
      "metadata": {
        "ExecuteTime": {
          "end_time": "2022-11-02T11:02:46.147855Z",
          "start_time": "2022-11-02T11:02:46.137812Z"
        },
        "deletable": false,
        "hidden": true,
        "nbgrader": {
          "cell_type": "code",
          "checksum": "8e9900aa077ba755b56bed4b333b5e17",
          "grade": false,
          "grade_id": "cell-6d8e2a4d5161892f",
          "locked": false,
          "schema_version": 3,
          "solution": true,
          "task": false
        },
        "id": "-H4IV7w5oRJf"
      },
      "outputs": [],
      "source": [
        "def midpoint_rule(func, a, b, eps):\n",
        "    \"\"\" Вычисляет интеграл f от a до b используя правило центральной точки.\n",
        "    \n",
        "    Parameters\n",
        "    ----------\n",
        "    func : callable\n",
        "        Функция, которую нужно проинтегрировать\n",
        "    a : float\n",
        "        Нижний предел интегрирования\n",
        "    b : float\n",
        "        Верхний предел интегрирования\n",
        "    eps : float\n",
        "        Ожидаемая ошибка оценки\n",
        "        \n",
        "    Returns\n",
        "    -------\n",
        "    integral : float\n",
        "        Оценка интеграла $\\int_a^b f(x) dx$.\n",
        "    n : int\n",
        "        The number of intervals on segment.\n",
        "    \"\"\"\n",
        "    \n",
        "    n=1 \n",
        "    integral = func((a + b) / 2) * (b - a)\n",
        "    integral_2 = func((3 * a + b) / 4) * (b - a) / 2 + func((a + 3 * b) / 4) * (b - a) / 2\n",
        "\n",
        "    while abs(integral - integral_2) >= eps:\n",
        "        integral = 0\n",
        "        integral_2 = 0\n",
        "        n += 1\n",
        "        h=(b-a)/n\n",
        "        for i in range(1, n + 1):\n",
        "            integral += func((i - 0.5) * h) * h\n",
        "        h = (b - a) / (2 * n) \n",
        "        for i in range(1, 2 * n + 1):\n",
        "            integral_2 += func((i - 0.5) * h) * h\n",
        "\n",
        "    return integral_2, n\n"
      ]
    },
    {
      "cell_type": "markdown",
      "metadata": {
        "deletable": false,
        "editable": false,
        "heading_collapsed": true,
        "hidden": true,
        "nbgrader": {
          "cell_type": "markdown",
          "checksum": "17de61ef22af343aa2e851b308606719",
          "grade": false,
          "grade_id": "cell-a4a6f9fe49230343",
          "locked": true,
          "schema_version": 3,
          "solution": false,
          "task": false
        },
        "id": "Eugozy5FoRJg"
      },
      "source": [
        "### Тест II.1\n",
        "\n",
        "Протестирутйте ваш алгоритм на простом интеграле, который вы можете посчитать аналитически.\n",
        "\n",
        "Сравните скорость сходимости с ожидаемой $O(N^{-2})$ в зависимости от количества интервалов, необходимых для заданной точности $\\epsilon$.\n",
        "\n",
        "Сравните полученный результат с ответом, вычисленным \"руками\". Попадает ли результат в интервал заданной ошибки?\n",
        "\n",
        "(20% итоговой оценки)\n"
      ]
    },
    {
      "cell_type": "code",
      "execution_count": 70,
      "metadata": {
        "deletable": false,
        "hidden": true,
        "nbgrader": {
          "cell_type": "code",
          "checksum": "bf314859ec5cf867c3ca556b9f25ffae",
          "grade": true,
          "grade_id": "cell-8f4a8b01438b2182",
          "locked": false,
          "points": 1,
          "schema_version": 3,
          "solution": true,
          "task": false
        },
        "colab": {
          "base_uri": "https://localhost:8080/",
          "height": 623
        },
        "id": "s7RK-0pwoRJg",
        "outputId": "b130cd07-2b8e-4815-c389-7737aa0f770d"
      },
      "outputs": [
        {
          "output_type": "execute_result",
          "data": {
            "text/plain": [
              "(8.999681122448976, 42)"
            ]
          },
          "metadata": {},
          "execution_count": 70
        },
        {
          "output_type": "display_data",
          "data": {
            "text/plain": [
              "<Figure size 1080x720 with 1 Axes>"
            ],
            "image/png": "[encoded data removed]"
          },
          "metadata": {
            "needs_background": "light"
          }
        }
      ],
      "source": [
        "f = lambda x : x**2\n",
        "\n",
        "a = 0\n",
        "b = 3\n",
        "\n",
        "n = [midpoint_rule(f, a, b, eps)[1] for eps in np.linspace(0.0001, 0.1, 1000)]\n",
        "\n",
        "plt.figure(figsize=(15, 10))\n",
        "plt.plot(np.linspace(0.0001, 0.1, 1000), n)\n",
        "plt.xlabel(r'$\\varepsilon$')\n",
        "plt.ylabel('N')\n",
        "\n",
        "midpoint_rule(f, a, b, 0.001)"
      ]
    },
    {
      "cell_type": "markdown",
      "metadata": {
        "deletable": false,
        "hidden": true,
        "nbgrader": {
          "cell_type": "markdown",
          "checksum": "eee35c4d10503420186cc419a28a1554",
          "grade": true,
          "grade_id": "cell-d474c41a6a7cbc6c",
          "locked": false,
          "points": 2,
          "schema_version": 3,
          "solution": true,
          "task": false
        },
        "id": "0GslNgpCoRJh"
      },
      "source": [
        "Разница с вычислением \"руками\" составила менее 0.001 (ɛ =0,00031887756), значит результат попадает в интервал заданной ошибки."
      ]
    },
    {
      "cell_type": "markdown",
      "metadata": {
        "deletable": false,
        "editable": false,
        "heading_collapsed": true,
        "hidden": true,
        "nbgrader": {
          "cell_type": "markdown",
          "checksum": "e60cc76994d195207c26398c5fd3483e",
          "grade": false,
          "grade_id": "cell-9b204a1b206b1efd",
          "locked": true,
          "schema_version": 3,
          "solution": false,
          "task": false
        },
        "id": "aDVFbHttoRJh"
      },
      "source": [
        "## Тест II.2\n",
        "\n",
        "Используя ваш алгоритм, посчитайте значение\n",
        "\n",
        "$$\n",
        "\\int_0^1\\! \\frac{\\sin{\\sqrt{x}}}{x}\\, dx\n",
        "$$\n",
        "\n",
        "с точностью до $\\epsilon=10^{-4}$.\n",
        "\n",
        "Заметим, что интеграл содержит интегрируемую особенность в нижнем пределе. Выполните вычисление двумя способами: во первых, посчитайте интеграл \"в лоб\", во вторых, вычтите особенность из подынтегрального выражения. Сравните количество необходимых итераций для достижения заданной точности $\\epsilon$.\n",
        "\n",
        "(30% итоговой оценки)"
      ]
    },
    {
      "cell_type": "markdown",
      "source": [
        "$y=\\sqrt x$\n",
        "\n",
        "$dx=2ydy$\n",
        "\n",
        "для второго случая: \n",
        "\n",
        "$\\frac{\\sin(\\sqrt x)}{x}=\\frac{\\sin(\\sqrt x)}{x}-\\frac{1}{\\sqrt x}+\\frac{1}{\\sqrt x}$\n",
        "\n",
        "Далее при замене $y=\\sqrt x$ последнеее подинтегральное слагаемое будет $2dy$"
      ],
      "metadata": {
        "id": "EyXy7p25W9Qy"
      }
    },
    {
      "cell_type": "code",
      "execution_count": 68,
      "metadata": {
        "deletable": false,
        "hidden": true,
        "nbgrader": {
          "cell_type": "code",
          "checksum": "3cb0868511fde49b86758808cd93aca8",
          "grade": true,
          "grade_id": "cell-46b736cfbfd4d657",
          "locked": false,
          "points": 2,
          "schema_version": 3,
          "solution": true,
          "task": false
        },
        "colab": {
          "base_uri": "https://localhost:8080/"
        },
        "id": "hZl_bWdioRJi",
        "outputId": "1e890e68-e753-4af7-f2ed-139430b11a48"
      },
      "outputs": [
        {
          "output_type": "stream",
          "name": "stdout",
          "text": [
            "1.8922941998480554 14\n",
            "1.8920193180026728 16\n"
          ]
        }
      ],
      "source": [
        "import numpy as np\n",
        "\n",
        "a = 0\n",
        "b = 1\n",
        "eps = 1e-4\n",
        "\n",
        "f_1 = lambda t: 2 * np.sin(t) / t\n",
        "result, n = midpoint_rule(f_1, a, b, eps)\n",
        "print(result, n)\n",
        "\n",
        "f_2 = lambda x: 2 + np.sin(np.sqrt(x)) / x - 1 / np.sqrt(x)\n",
        "result, n = midpoint_rule(f_2, a, b, eps)\n",
        "print(result, n)"
      ]
    },
    {
      "cell_type": "markdown",
      "source": [
        "Во втором случае потребовалось на 2 шага больше."
      ],
      "metadata": {
        "id": "awB9LCrMXXZW"
      }
    },
    {
      "cell_type": "markdown",
      "metadata": {
        "deletable": false,
        "editable": false,
        "heading_collapsed": true,
        "nbgrader": {
          "cell_type": "markdown",
          "checksum": "14cba3aba3d21fdb0ebe23c386e6af64",
          "grade": false,
          "grade_id": "cell-a84348af6d660154",
          "locked": true,
          "schema_version": 3,
          "solution": false,
          "task": false
        },
        "id": "5CWV1qpWoRJi"
      },
      "source": [
        "# Часть  III \n",
        "\n",
        "\n",
        "Вычислите определённый интеграл **методом трапеций**  с вычитанием сингулярности\n",
        "\n",
        "$$\n",
        "I = \\int_{0}^{1}\\frac{e^x}{\\sqrt{x(1-x)}}dx.\n",
        "$$\n",
        "\n",
        "Преобразуйте данный интеграл, вычитая сингулярности. Выпишите расчетные формулы.\n",
        "\n",
        "Вам могут пригодиться значения следующих определенных интегралов:\n",
        "\n",
        "$$\n",
        "\\int_0^1 \\frac{1}{\\sqrt{x (1-x)}} \\, dx=\\pi,\\quad \\int_0^1 \\frac{x}{\\sqrt{x (1-x)}} \\, dx=\\pi/2.\n",
        "$$"
      ]
    },
    {
      "cell_type": "markdown",
      "metadata": {
        "deletable": false,
        "hidden": true,
        "nbgrader": {
          "cell_type": "markdown",
          "checksum": "62f97fdccd2f25cb7fabca5153f7abb9",
          "grade": true,
          "grade_id": "cell-d23d794b6897dcd5",
          "locked": false,
          "points": 1,
          "schema_version": 3,
          "solution": true,
          "task": false
        },
        "id": "DKCBzXF_oRJi"
      },
      "source": []
    },
    {
      "cell_type": "markdown",
      "metadata": {
        "deletable": false,
        "editable": false,
        "hidden": true,
        "nbgrader": {
          "cell_type": "markdown",
          "checksum": "f17a79f5ce21cdf8a9ace16b7151ed3b",
          "grade": false,
          "grade_id": "cell-4bef248a3d85e2ea",
          "locked": true,
          "schema_version": 3,
          "solution": false,
          "task": false
        },
        "id": "gwYBH4W2oRJi"
      },
      "source": [
        "Cоставьте функцию, возвращающую значение интеграла методом трапеций."
      ]
    },
    {
      "cell_type": "code",
      "execution_count": null,
      "metadata": {
        "ExecuteTime": {
          "end_time": "2022-11-02T11:08:47.860563Z",
          "start_time": "2022-11-02T11:08:47.853918Z"
        },
        "deletable": false,
        "hidden": true,
        "nbgrader": {
          "cell_type": "code",
          "checksum": "d1fe63b13f057c05c47ff3528738b822",
          "grade": false,
          "grade_id": "cell-76e4d86116937fef",
          "locked": false,
          "schema_version": 3,
          "solution": true,
          "task": false
        },
        "id": "zNd9VKrIoRJj"
      },
      "outputs": [],
      "source": [
        "def integ(npts=10):\n",
        "    \"\"\"Compute the value of the integral above.\n",
        "    \n",
        "    Subtract the singularities and use the trapezoid rule. \n",
        "    \n",
        "    Parameters\n",
        "    ----------\n",
        "    npts : int\n",
        "        The number of points for the trapezoid rule\n",
        "        \n",
        "    Returns\n",
        "    -------\n",
        "    I : float\n",
        "       The computed value of the integral\n",
        "    \"\"\"\n",
        "    # YOUR CODE HERE\n",
        "    raise NotImplementedError()"
      ]
    },
    {
      "cell_type": "code",
      "execution_count": null,
      "metadata": {
        "ExecuteTime": {
          "end_time": "2022-11-02T11:08:48.915905Z",
          "start_time": "2022-11-02T11:08:48.584524Z"
        },
        "deletable": false,
        "editable": false,
        "hidden": true,
        "nbgrader": {
          "cell_type": "code",
          "checksum": "b566a313d9c2b4995fa7ccb48afb3335",
          "grade": true,
          "grade_id": "cell-525ab3ba781ed560",
          "locked": true,
          "points": 3,
          "schema_version": 3,
          "solution": false,
          "task": false
        },
        "id": "USlyk3d-oRJj"
      },
      "outputs": [],
      "source": [
        "# this is a test to check your computed value\n",
        "from numpy.testing import assert_allclose\n"
      ]
    }
  ],
  "metadata": {
    "kernelspec": {
      "display_name": "Python 3 (ipykernel)",
      "language": "python",
      "name": "python3"
    },
    "language_info": {
      "codemirror_mode": {
        "name": "ipython",
        "version": 3
      },
      "file_extension": ".py",
      "mimetype": "text/x-python",
      "name": "python",
      "nbconvert_exporter": "python",
      "pygments_lexer": "ipython3",
      "version": "3.8.13"
    },
    "latex_envs": {
      "LaTeX_envs_menu_present": true,
      "autoclose": true,
      "autocomplete": false,
      "bibliofile": "biblio.bib",
      "cite_by": "apalike",
      "current_citInitial": 1,
      "eqLabelWithNumbers": true,
      "eqNumInitial": 1,
      "hotkeys": {
        "equation": "Ctrl-E",
        "itemize": "Ctrl-I"
      },
      "labels_anchors": false,
      "latex_user_defs": false,
      "report_style_numbering": false,
      "user_envs_cfg": false
    },
    "toc": {
      "base_numbering": 1,
      "nav_menu": {},
      "number_sections": true,
      "sideBar": true,
      "skip_h1_title": false,
      "title_cell": "Table of Contents",
      "title_sidebar": "Contents",
      "toc_cell": false,
      "toc_position": {},
      "toc_section_display": true,
      "toc_window_display": false
    },
    "colab": {
      "provenance": []
    }
  },
  "nbformat": 4,
  "nbformat_minor": 0
}