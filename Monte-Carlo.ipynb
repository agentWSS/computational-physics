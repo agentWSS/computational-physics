{
  "cells": [
    {
      "cell_type": "markdown",
      "metadata": {
        "id": "tK2D7399K5gM"
      },
      "source": [
        "Before you turn this problem in, make sure everything runs as expected. First, **restart the kernel** (in the menubar, select Kernel$\\rightarrow$Restart) and then **run all cells** (in the menubar, select Cell$\\rightarrow$Run All).\n",
        "\n",
        "Make sure you fill in any place that says `YOUR CODE HERE` or \"YOUR ANSWER HERE\", as well as your github nickname below:"
      ]
    },
    {
      "cell_type": "code",
      "execution_count": null,
      "metadata": {
        "id": "6_mlThrSK5gO"
      },
      "outputs": [],
      "source": [
        "NICKNAME = \"agentWSS\""
      ]
    },
    {
      "cell_type": "markdown",
      "metadata": {
        "id": "CYGY7rEKK5gP"
      },
      "source": [
        "---"
      ]
    },
    {
      "cell_type": "markdown",
      "metadata": {
        "deletable": false,
        "editable": false,
        "nbgrader": {
          "cell_type": "markdown",
          "checksum": "eea0b4c2ba05640528fa9e4319357e1d",
          "grade": false,
          "grade_id": "cell-56cbcb736139c03b",
          "locked": true,
          "schema_version": 3,
          "solution": false,
          "task": false
        },
        "id": "1Me5qs4NK5gQ"
      },
      "source": [
        "# Метод Монте-Карло в физике"
      ]
    },
    {
      "cell_type": "markdown",
      "metadata": {
        "deletable": false,
        "editable": false,
        "nbgrader": {
          "cell_type": "markdown",
          "checksum": "a339c3a84b55463f59280bed0c8ee43f",
          "grade": false,
          "grade_id": "cell-6576dbe1b9e30af9",
          "locked": true,
          "schema_version": 3,
          "solution": false,
          "task": false
        },
        "id": "4IatnKS4K5gQ"
      },
      "source": [
        "Методами Монте-Карло называют множество различных методов в совершенно разных областях от физики до экономики. Основная суть этих методов заключается в использовании случайных величин для получения различных состояний исследуемой системы. "
      ]
    },
    {
      "cell_type": "markdown",
      "metadata": {
        "deletable": false,
        "editable": false,
        "nbgrader": {
          "cell_type": "markdown",
          "checksum": "d7dd210ab3ea44c91133cadd14f1fa40",
          "grade": false,
          "grade_id": "cell-58e35dd9137424ae",
          "locked": true,
          "schema_version": 3,
          "solution": false,
          "task": false
        },
        "id": "i4LlsS4-K5gR"
      },
      "source": [
        "Одно из частых применений метода Монте-Карло в физике состоит в расчете интегралов. При этом действительно полезным и незаменимым метод становится при работе с большим количеством измерений, когда построение обычных квадратур приводит к чересчур  огромным сеткам. Например, уже в случае 10 измерений, задание обычной равномерной решетки шириной в $2^4 = 16$ узлов, приводит к общей сетке размера $2^{40} \\simeq 10^{12}$. Массив данных float такого размера будет занимать 4ТБ в памяти компьютера. Оперировать такими интегралами стандартными методами становится принципиально невозможно."
      ]
    },
    {
      "cell_type": "code",
      "execution_count": 114,
      "metadata": {
        "deletable": false,
        "editable": false,
        "nbgrader": {
          "cell_type": "code",
          "checksum": "ba6a7dc9d4cfc57bb057999fe06868da",
          "grade": false,
          "grade_id": "cell-81813c7b5296fe8f",
          "locked": true,
          "schema_version": 3,
          "solution": false,
          "task": false
        },
        "id": "zZOBlc0gK5gR"
      },
      "outputs": [],
      "source": [
        "import numpy as np\n",
        "import matplotlib.pyplot as plt\n",
        "import scipy.special as sp\n",
        "plt.style.use('ggplot')"
      ]
    },
    {
      "cell_type": "markdown",
      "metadata": {
        "deletable": false,
        "editable": false,
        "nbgrader": {
          "cell_type": "markdown",
          "checksum": "408e7bacae9c68332c2d98cd2cee25eb",
          "grade": false,
          "grade_id": "cell-14d4c849aa697dc6",
          "locked": true,
          "schema_version": 3,
          "solution": false,
          "task": false
        },
        "id": "lSXXpRYUK5gS"
      },
      "source": [
        "## Задание 1\n",
        "Вычислим объем многомерной сферы в большом количестве измерений."
      ]
    },
    {
      "cell_type": "markdown",
      "metadata": {
        "deletable": false,
        "editable": false,
        "nbgrader": {
          "cell_type": "markdown",
          "checksum": "739ea836c17dbf030bf37ac579310071",
          "grade": false,
          "grade_id": "cell-e12d5d5a71eaa14b",
          "locked": true,
          "schema_version": 3,
          "solution": false,
          "task": false
        },
        "id": "N0HaTeZtK5gS"
      },
      "source": [
        "### Задание 1.1 \n",
        "Напишите функцию, вычисляющую точный объем $d$-мерной сферы с помощью явного выражения. \n",
        "Объем многомерной сферы радиуса $R$ в $d$-измерениях дается формулой: \n",
        "$$\n",
        "V_d = \\frac{\\pi^{d/2}} {\\Gamma(1 + d/2)}\n",
        "$$\n",
        "где $\\Gamma(x)$ - гамма функция, значение которой можно получить из scipy.special."
      ]
    },
    {
      "cell_type": "code",
      "execution_count": 16,
      "metadata": {
        "deletable": false,
        "nbgrader": {
          "cell_type": "code",
          "checksum": "ac702277e841fd72344f4905bfbd2927",
          "grade": false,
          "grade_id": "cell-46a7bd98d2088625",
          "locked": false,
          "schema_version": 3,
          "solution": true,
          "task": false
        },
        "id": "own-UzpUK5gT"
      },
      "outputs": [],
      "source": [
        "def getSphereVolumeExact(D, R = 1.0):\n",
        "    \"\"\"\n",
        "    Функция вычисляет значение объема D-мерной сферы радиуса R по явной формуле\n",
        "\n",
        "    --------\n",
        "    Аргументы:\n",
        "    D - int, количество измерений \n",
        "    R = 1 - float, радиус сферы\n",
        "    --------\n",
        "    Функция возвращает:\n",
        "    V - float, объем сферы\n",
        "    \"\"\"\n",
        "    V = np.pi**(D/2) / sp.gamma(1+D/2)\n",
        "    return V"
      ]
    },
    {
      "cell_type": "markdown",
      "metadata": {
        "deletable": false,
        "editable": false,
        "nbgrader": {
          "cell_type": "markdown",
          "checksum": "26cc5a1242ae5f816727e7a8a6576672",
          "grade": false,
          "grade_id": "cell-6e7a66fafbabb80c",
          "locked": true,
          "schema_version": 3,
          "solution": false,
          "task": false
        },
        "id": "F85J8c6rK5gT"
      },
      "source": [
        "1. Проверьте результат для нескольких известных вам значений. \n",
        "2. Построите график V(D)"
      ]
    },
    {
      "cell_type": "code",
      "execution_count": 17,
      "metadata": {
        "deletable": false,
        "nbgrader": {
          "cell_type": "code",
          "checksum": "d54ad6aa4fa4bd1195cdd7b4080f3ff7",
          "grade": true,
          "grade_id": "cell-e3abbe900c927a0c",
          "locked": false,
          "points": 1,
          "schema_version": 3,
          "solution": true,
          "task": false
        },
        "id": "NeITserJK5gU",
        "outputId": "c47d6453-e6b8-418e-ecad-a61ea2768121",
        "colab": {
          "base_uri": "https://localhost:8080/",
          "height": 299
        }
      },
      "outputs": [
        {
          "output_type": "execute_result",
          "data": {
            "text/plain": [
              "Text(0, 0.5, '$V$')"
            ]
          },
          "metadata": {},
          "execution_count": 17
        },
        {
          "output_type": "display_data",
          "data": {
            "text/plain": [
              "<Figure size 432x288 with 1 Axes>"
            ],
            "image/png": "[encoded data removed]"
          },
          "metadata": {}
        }
      ],
      "source": [
        "x = 20\n",
        "y = [getSphereVolumeExact(d) for d in range(x)]\n",
        "plt.figure()\n",
        "plt.plot(np.arange(x), y)\n",
        "plt.xlabel(\"$D$\")\n",
        "plt.ylabel(\"$V$\")"
      ]
    },
    {
      "cell_type": "markdown",
      "metadata": {
        "deletable": false,
        "editable": false,
        "nbgrader": {
          "cell_type": "markdown",
          "checksum": "e1f704ef2557c69c68f0ba8306f0a590",
          "grade": false,
          "grade_id": "cell-6746c4683191a10a",
          "locked": true,
          "schema_version": 3,
          "solution": false,
          "task": false
        },
        "id": "BBkhRgXvK5gU"
      },
      "source": [
        "### Задание 1.2\n",
        "Напишите функцию, вычисляющую объем сферы методом Монте-Карло на псевдослучайных числах (используя, например `numpy.random.rand`)."
      ]
    },
    {
      "cell_type": "code",
      "execution_count": 26,
      "metadata": {
        "deletable": false,
        "nbgrader": {
          "cell_type": "code",
          "checksum": "7a684a4679d07ffcedf9756be7dc7a70",
          "grade": false,
          "grade_id": "cell-1a0370e3818326f5",
          "locked": false,
          "schema_version": 3,
          "solution": true,
          "task": false
        },
        "id": "bwMpo5DZK5gU"
      },
      "outputs": [],
      "source": [
        "def getSphereVolumePseudorandom(N, D, R = 1):\n",
        "    \"\"\"\n",
        "    Функция вычисляет значение объема D-мерной сферы радиуса R методом Монте-Кало на псевдослучайных числах\n",
        "\n",
        "    --------\n",
        "    Аргументы:\n",
        "    N - int, количество случайных точек\n",
        "    D - int, количество измерений \n",
        "    R = 1 - float, радиус сферы\n",
        "    --------\n",
        "    Функция возвращает:\n",
        "    V - float, объем сферы\n",
        "    \"\"\"\n",
        "    p = np.random.uniform(low = -R, high = R, size = (N, D))\n",
        "    N_2 = np.count_nonzero([np.linalg.norm(p[i]) < R for i in range(N)])\n",
        "    V = (2 * R) ** D\n",
        "    V = N_2 / N * V\n",
        "    return V"
      ]
    },
    {
      "cell_type": "markdown",
      "metadata": {
        "deletable": false,
        "editable": false,
        "nbgrader": {
          "cell_type": "markdown",
          "checksum": "af83d5e086486ba1208528434be0323b",
          "grade": false,
          "grade_id": "cell-470c46d55a104b03",
          "locked": true,
          "schema_version": 3,
          "solution": false,
          "task": false
        },
        "id": "jAI34neMK5gV"
      },
      "source": [
        "Постройте график зависимости относительной точности $\\epsilon$ которая достигается при фиксированном $N$ от размерности сферы $D$. Для относительной точности используйте выражение $\\epsilon = (V_{exact} - V_{random})/V_{exact}$."
      ]
    },
    {
      "cell_type": "code",
      "execution_count": 66,
      "metadata": {
        "deletable": false,
        "nbgrader": {
          "cell_type": "code",
          "checksum": "b316d79151ab61c96b0da29d16e959c0",
          "grade": true,
          "grade_id": "cell-bc252a77e4f5fbd7",
          "locked": false,
          "points": 2,
          "schema_version": 3,
          "solution": true,
          "task": false
        },
        "id": "6iObGVZxK5gV",
        "outputId": "bcc44608-4cc1-4c7b-87d4-17e6bfc52fe3",
        "colab": {
          "base_uri": "https://localhost:8080/",
          "height": 517
        }
      },
      "outputs": [
        {
          "output_type": "execute_result",
          "data": {
            "text/plain": [
              "<matplotlib.legend.Legend at 0x7f6782d86550>"
            ]
          },
          "metadata": {},
          "execution_count": 66
        },
        {
          "output_type": "display_data",
          "data": {
            "text/plain": [
              "<Figure size 864x576 with 1 Axes>"
            ],
            "image/png": "[encoded data removed]"
          },
          "metadata": {}
        }
      ],
      "source": [
        "N_1 = 5000\n",
        "D = np.arange(2, 17)\n",
        "e_2 = []\n",
        "for d in D:\n",
        "    e = abs(1 - getSphereVolumePseudorandom(N_1, d) / getSphereVolumeExact(d))\n",
        "    e_2.append(e)\n",
        "plt.figure(figsize=(12, 8))\n",
        "plt.xlabel(r'$D$')\n",
        "plt.ylabel(r'$\\epsilon$')\n",
        "plt.plot(D, e_2, label=r'$\\epsilon(D)$')\n",
        "plt.legend()"
      ]
    },
    {
      "cell_type": "markdown",
      "metadata": {
        "deletable": false,
        "editable": false,
        "nbgrader": {
          "cell_type": "markdown",
          "checksum": "64d0594d7fc0b8e470108eb2974397c3",
          "grade": false,
          "grade_id": "cell-853f758127514e1d",
          "locked": true,
          "schema_version": 3,
          "solution": false,
          "task": false
        },
        "id": "YH6rDaAaK5gV"
      },
      "source": [
        "### Задание 1.3\n",
        "Напишите функцию, вычисляющую объем сферы методом Монте-Карло на квазислучайной последовательности Соболя.\n",
        "\n",
        "Для установки библиотеки `sobol_seq`:\n",
        "\n",
        "\n",
        "выполните `pip install sobol_seq` в Jupyter или\n",
        "\n",
        "выполните команду `pip install sobol_seq --user` в командном окне (если вы используете Jupyter Notebook в составе Anaconda откройте Anaconda Prompt и выполните команду pip в ней, после чего перезапустите Jupyter Notebook).\n"
      ]
    },
    {
      "cell_type": "code",
      "execution_count": 73,
      "metadata": {
        "ExecuteTime": {
          "end_time": "2022-11-17T13:15:33.843734Z",
          "start_time": "2022-11-17T13:15:33.527008Z"
        },
        "deletable": false,
        "nbgrader": {
          "cell_type": "code",
          "checksum": "ca2bd60ff215b0c47e8fe9a1f88f2c27",
          "grade": true,
          "grade_id": "cell-cdee67dec70bf876",
          "locked": false,
          "points": 0,
          "schema_version": 3,
          "solution": true,
          "task": false
        },
        "id": "f7DLUo4JK5gV",
        "outputId": "1151745e-7eb8-4248-e2e4-cdd5e71b9f64",
        "colab": {
          "base_uri": "https://localhost:8080/"
        }
      },
      "outputs": [
        {
          "output_type": "stream",
          "name": "stdout",
          "text": [
            "Looking in indexes: https://pypi.org/simple, https://us-python.pkg.dev/colab-wheels/public/simple/\n",
            "Collecting sobol_seq\n",
            "  Downloading sobol_seq-0.2.0-py3-none-any.whl (9.2 kB)\n",
            "Requirement already satisfied: numpy in /usr/local/lib/python3.8/dist-packages (from sobol_seq) (1.21.6)\n",
            "Requirement already satisfied: scipy in /usr/local/lib/python3.8/dist-packages (from sobol_seq) (1.7.3)\n",
            "Installing collected packages: sobol-seq\n",
            "Successfully installed sobol-seq-0.2.0\n"
          ]
        }
      ],
      "source": [
        "%pip install sobol_seq \n",
        "import sobol_seq"
      ]
    },
    {
      "cell_type": "markdown",
      "metadata": {
        "deletable": false,
        "editable": false,
        "nbgrader": {
          "cell_type": "markdown",
          "checksum": "a0708eb7467e9e14de69c825b6267544",
          "grade": false,
          "grade_id": "cell-a4e83154a99b336c",
          "locked": true,
          "schema_version": 3,
          "solution": false,
          "task": false
        },
        "id": "XxG0sv9uK5gW"
      },
      "source": [
        "Используйте функцию `i4_sobol_generate`. Документацию по ней можно получить выполнив следующую строчку кода:"
      ]
    },
    {
      "cell_type": "code",
      "execution_count": null,
      "metadata": {
        "deletable": false,
        "editable": false,
        "nbgrader": {
          "cell_type": "code",
          "checksum": "4dd80d4e49a11c30ff18fa6a94acc980",
          "grade": false,
          "grade_id": "cell-c2e083778576396c",
          "locked": true,
          "schema_version": 3,
          "solution": false,
          "task": false
        },
        "id": "ILblR4CZK5gW"
      },
      "outputs": [],
      "source": [
        "sobol_seq.i4_sobol_generate?"
      ]
    },
    {
      "cell_type": "code",
      "execution_count": 75,
      "metadata": {
        "deletable": false,
        "nbgrader": {
          "cell_type": "code",
          "checksum": "fd6332fd33d93a423b00d29d4c5ec2cf",
          "grade": false,
          "grade_id": "cell-a47b8ac1df1c3aa2",
          "locked": false,
          "schema_version": 3,
          "solution": true,
          "task": false
        },
        "id": "wlxDKBqvK5gW"
      },
      "outputs": [],
      "source": [
        "def getSphereVolumeQuasirandom(N, D, R = 1):\n",
        "    \"\"\"\n",
        "    Функция вычисляет значение объема D-мерной сферы радиуса R методом Монте-Кало на квазислучайных числах\n",
        "\n",
        "    --------\n",
        "    Аргументы:\n",
        "    N - int, количество случайных точек\n",
        "    D - int, количество измерений \n",
        "    R = 1 - float, радиус сферы\n",
        "    --------\n",
        "    Функция возвращает:\n",
        "    V - float, объем сферы\n",
        "    \"\"\"\n",
        "    s = sobol_seq.i4_sobol_generate(D, N)\n",
        "    V = np.sum(s ** 2 @ np.ones((D, 1)) < 1 ) / N * (2 * R) ** D\n",
        "    return V"
      ]
    },
    {
      "cell_type": "markdown",
      "metadata": {
        "deletable": false,
        "editable": false,
        "nbgrader": {
          "cell_type": "markdown",
          "checksum": "e832833a2abf17f3a31f0b502d0c6269",
          "grade": false,
          "grade_id": "cell-c78358c73e3552e1",
          "locked": true,
          "schema_version": 3,
          "solution": false,
          "task": false
        },
        "id": "_0IZ5pG_K5gW"
      },
      "source": [
        "Сравните точность вычисления объема для квазислучайной и псевдослучайной последовательностей, рассчитав  $\\epsilon(D)$, при таком же значении $N$, как в предыдущем задании. Постройте обе зависимости $\\epsilon(D)$ на одном графике в логарифмической шкале по $\\epsilon$."
      ]
    },
    {
      "cell_type": "code",
      "execution_count": 78,
      "metadata": {
        "deletable": false,
        "nbgrader": {
          "cell_type": "code",
          "checksum": "cea5e5d71d2557210c2c83a3575595a3",
          "grade": true,
          "grade_id": "cell-fa2634c16c9366de",
          "locked": false,
          "points": 3,
          "schema_version": 3,
          "solution": true,
          "task": false
        },
        "id": "9PQIiCUmK5gX",
        "outputId": "d364fe0a-7b1d-45ad-a497-a7ff55e57cc3",
        "colab": {
          "base_uri": "https://localhost:8080/",
          "height": 500
        }
      },
      "outputs": [
        {
          "output_type": "display_data",
          "data": {
            "text/plain": [
              "<Figure size 864x576 with 1 Axes>"
            ],
            "image/png": "[encoded data removed]"
          },
          "metadata": {}
        }
      ],
      "source": [
        "n = 5000\n",
        "D = np.arange(1, 20, 1)\n",
        "\n",
        "e_1 = np.array([(getSphereVolumeExact(d) - getSphereVolumePseudorandom(n, d)) / getSphereVolumeExact(d) for d in D])\n",
        "e_2 = np.array([(getSphereVolumeExact(d) - getSphereVolumeQuasirandom(n, d)) / getSphereVolumeExact(d) for d in D])\n",
        "plt.figure(figsize=(12, 8))\n",
        "plt.yscale(\"log\")\n",
        "plt.plot(D, np.abs(e_1), label=\"псевдо\")\n",
        "plt.plot(D, np.abs(e_2), label=\"квази\")\n",
        "plt.xlabel(\"$D$\")\n",
        "plt.ylabel(\"$log\\epsilon$\")\n",
        "plt.legend()\n",
        "plt.show()"
      ]
    },
    {
      "cell_type": "markdown",
      "metadata": {
        "deletable": false,
        "editable": false,
        "nbgrader": {
          "cell_type": "markdown",
          "checksum": "e383870464ab39ce5a420a82b0d9126f",
          "grade": false,
          "grade_id": "cell-e969d95dbed841c4",
          "locked": true,
          "schema_version": 3,
          "solution": false,
          "task": false
        },
        "id": "45E-6tC2K5gX"
      },
      "source": [
        "Сделайте вывды о работе псевдослучайной и квазислучайной последовательностях. "
      ]
    },
    {
      "cell_type": "markdown",
      "metadata": {
        "deletable": false,
        "nbgrader": {
          "cell_type": "markdown",
          "checksum": "df94c0084812a2d9671fe006d76698bd",
          "grade": true,
          "grade_id": "cell-38edaea06714934d",
          "locked": false,
          "points": 1,
          "schema_version": 3,
          "solution": true,
          "task": false
        },
        "id": "yWXzNbdkK5gX"
      },
      "source": [
        "YOUR ANSWER HERE"
      ]
    },
    {
      "cell_type": "markdown",
      "metadata": {
        "deletable": false,
        "editable": false,
        "nbgrader": {
          "cell_type": "markdown",
          "checksum": "fe4e91df7e49b802f59fe84cad36d487",
          "grade": false,
          "grade_id": "cell-5190799a80fee19b",
          "locked": true,
          "schema_version": 3,
          "solution": false,
          "task": false
        },
        "id": "gBqFcGC5K5gX"
      },
      "source": [
        "# Задание 2"
      ]
    },
    {
      "cell_type": "markdown",
      "metadata": {
        "deletable": false,
        "editable": false,
        "nbgrader": {
          "cell_type": "markdown",
          "checksum": "cc52dbc64e89d296d8859c43503ba17c",
          "grade": false,
          "grade_id": "cell-b514f20dc52808b3",
          "locked": true,
          "schema_version": 3,
          "solution": false,
          "task": false
        },
        "id": "GgkGlmJcK5gX"
      },
      "source": [
        "## Задание 2.1\n",
        "Вычислите значение интеграла \n",
        "$$\n",
        "\\int d^d\\mathbf{r} \\frac{e^{-\\mathbf{r}^T\\mathbf{r}}}{1 + \\mathbf{r}^T\\mathbf{r}}, \\;\\mathbf{r} = (r_1, r_2, ..., r_d)\n",
        "$$\n",
        "по всему пространству, используя генерацию случайной величины с гауссовой плотностью.\n",
        "Проведите результаты для $d=1,2,3,4,5$, используя разумной количество точек.\n",
        "Для $d=1,2$ сравните с ответом, полученным \\textit{любым} другим способом."
      ]
    },
    {
      "cell_type": "code",
      "execution_count": 121,
      "metadata": {
        "deletable": false,
        "nbgrader": {
          "cell_type": "code",
          "checksum": "03b3f3f41ff9c708a754cad6ef9b0e0e",
          "grade": true,
          "grade_id": "cell-1a5d7fa2b658a67f",
          "locked": false,
          "points": 3,
          "schema_version": 3,
          "solution": true,
          "task": false
        },
        "id": "B6_P3nSbK5gY",
        "outputId": "1ed0f434-ef7e-4c1a-c635-34d086cdc82f",
        "colab": {
          "base_uri": "https://localhost:8080/"
        }
      },
      "outputs": [
        {
          "output_type": "stream",
          "name": "stdout",
          "text": [
            "1 1.344275807983289\n",
            "2 1.8738407809678101\n",
            "3 2.6955154862870097\n",
            "4 3.9816339769969695\n",
            "5 6.0269713510519605\n",
            "Real: I = 1.3432934216467354\n",
            "Real: I = 1.873480492462358\n"
          ]
        }
      ],
      "source": [
        "from scipy import integrate\n",
        "\n",
        "d1 = lambda x: np.e**(-x**2) / (1 + x**2)\n",
        "d2 = lambda x, y: np.e ** (-x**2-y**2)/(1+x**2+y**2)\n",
        "q = 0\n",
        "N = 100000\n",
        "for d in [1, 2,3,4,5]:\n",
        "    p = np.random.normal(0, 1 / np.sqrt(2), size=(d, N))\n",
        "    for i in range(d):\n",
        "        q += p[i]**2\n",
        "    I = (np.sqrt(np.pi) ** d / (1 + q)).sum() / N\n",
        "    q = 0\n",
        "    print(d, I)\n",
        "print(f'Real: I = {integrate.quad(f_1, -np.inf, np.inf)[0]}')\n",
        "print(f'Real: I = {integrate.dblquad(f_2, -np.inf, np.inf, -np.inf, np.inf)[0]}')"
      ]
    },
    {
      "cell_type": "markdown",
      "metadata": {
        "deletable": false,
        "editable": false,
        "nbgrader": {
          "cell_type": "markdown",
          "checksum": "ccee63c4b03c4d79f02913b7313ba608",
          "grade": false,
          "grade_id": "cell-ce2fa89765e2cb96",
          "locked": true,
          "schema_version": 3,
          "solution": false,
          "task": false
        },
        "id": "9GjZR5o9K5gY"
      },
      "source": [
        "## Задание 2.2\n",
        "Реализуйте функцию, возвращающую выборку случайной величины с плотностью $\\omega(x) \\propto \\sqrt{1-x^2}, x\\in[-1,1]$, используя rejection method."
      ]
    },
    {
      "cell_type": "code",
      "execution_count": 120,
      "metadata": {
        "ExecuteTime": {
          "end_time": "2022-11-17T13:05:20.564428Z",
          "start_time": "2022-11-17T13:05:20.558161Z"
        },
        "deletable": false,
        "nbgrader": {
          "cell_type": "code",
          "checksum": "6e0d4d3b87a8503dafd0bb5847b17532",
          "grade": false,
          "grade_id": "cell-7e3e16764a1a98d5",
          "locked": false,
          "schema_version": 3,
          "solution": true,
          "task": false
        },
        "id": "RXh2WZVKK5gY"
      },
      "outputs": [],
      "source": [
        "def getSample(N):\n",
        "    \"\"\"\n",
        "    Функция возвращает выборку случайных величин с распределнием ~sqrt(1-x^2) \n",
        "\n",
        "    --------\n",
        "    Аргументы:\n",
        "    N - int, количество случайных точек\n",
        "    --------\n",
        "    Функция возвращает:\n",
        "    sample - numpy ndarray of float, массив случайных величин размера N\n",
        "    \"\"\"\n",
        "    f = lambda x: np.sqrt(1 - x ** 2)\n",
        "    sample = []\n",
        "    q = 0\n",
        "    while q < N:\n",
        "        x=np.random.uniform(-1,1)\n",
        "        y=np.random.uniform(0,1)\n",
        "        if y < f(x):\n",
        "           sample.append(x)\n",
        "           q += 1\n",
        "\n",
        "    return sample"
      ]
    },
    {
      "cell_type": "markdown",
      "metadata": {
        "deletable": false,
        "editable": false,
        "nbgrader": {
          "cell_type": "markdown",
          "checksum": "b20ba7e8d517e79fc84955c12a4f96ff",
          "grade": false,
          "grade_id": "cell-6e7e433d4b66c555",
          "locked": true,
          "schema_version": 3,
          "solution": false,
          "task": false
        },
        "id": "envmpLNfK5gY"
      },
      "source": [
        "Проверьте правильность, сгенерировав достаточно большой sample, и построив гистограмму."
      ]
    },
    {
      "cell_type": "code",
      "execution_count": 125,
      "metadata": {
        "deletable": false,
        "nbgrader": {
          "cell_type": "code",
          "checksum": "ad5194f981453ca90fb070574e726017",
          "grade": true,
          "grade_id": "cell-bf9f681eae8300e9",
          "locked": false,
          "points": 3,
          "schema_version": 3,
          "solution": true,
          "task": false
        },
        "id": "XJImLjVrK5gZ",
        "outputId": "13864cde-1bb3-484d-e349-af3a037f11ce",
        "colab": {
          "base_uri": "https://localhost:8080/",
          "height": 265
        }
      },
      "outputs": [
        {
          "output_type": "display_data",
          "data": {
            "text/plain": [
              "<Figure size 432x288 with 1 Axes>"
            ],
            "image/png": "[encoded data removed]"
          },
          "metadata": {}
        }
      ],
      "source": [
        "plt.hist(getSample(100000), 100, density=True)\n",
        "plt.show()"
      ]
    },
    {
      "cell_type": "markdown",
      "metadata": {
        "deletable": false,
        "editable": false,
        "nbgrader": {
          "cell_type": "markdown",
          "checksum": "efa058240c57aa7bb6cf5420101cb234",
          "grade": false,
          "grade_id": "cell-b74adc6677b414a1",
          "locked": true,
          "schema_version": 3,
          "solution": false,
          "task": false
        },
        "id": "Id52gwSDK5gZ"
      },
      "source": [
        "# Задание 3\n",
        "\n",
        "Рассмотрим решетку $n\\times n$, в которой каждой ячейке соответствует спин $\\sigma_i$ равный $+1$ или $-1$. При этом между соседними ячейками существует энергия взаимодействия\n",
        "$$\n",
        "E_i = -J \\sigma_i \\sigma_j\n",
        "$$\n",
        "Тогда энергия каждой ячейки \n",
        "$$\n",
        "E_i = -J \\sigma_i \\sum_j \\sigma_j\n",
        "$$\n",
        "где суммирование подразумевается только по соседним с $i$-ой ячейкой.\n",
        "\n",
        "При нулевой температуре энергитически более выгодным состоянием является состояние, когда все спины одинаково ориентированы. Однако при ненулевой температуре вероятность перехода в более возбужденное состояние пропорциональна $\\sim \\exp(-\\Delta E/ k T)$.\n",
        "\n",
        "Явное численное моделирование такой системы (модели Изинга) является проблематичным, поскольку количество возможных состояний системы $2^N$, где $N$ - общее число узлов, и уже для двумерной сетки $16\\times 16$ это число становится астрономически большим. "
      ]
    },
    {
      "cell_type": "markdown",
      "metadata": {
        "deletable": false,
        "editable": false,
        "nbgrader": {
          "cell_type": "markdown",
          "checksum": "10f464e77c2908321438cf9bdb6c8243",
          "grade": false,
          "grade_id": "cell-b3a6b8d7d9dc847b",
          "locked": true,
          "schema_version": 3,
          "solution": false,
          "task": false
        },
        "id": "N-2odIfRK5gZ"
      },
      "source": [
        "На помощь приходят методы Монте-Карло. Одна из простейших его реализаций (алгоритм Метрополиса — Гастингса):\n",
        "1. Задаем случайное начальное состояние\n",
        "2. Выбираем случайную ячейку\n",
        "3. Переворачиваем её спин и считаем изменение энергии $\\delta E$ данной ячейки.\n",
        "4. Если изменение энергии отрицательное, оставляем спин перевернутым\n",
        "5. Если изменение энергии положительное, оставляем спин перевернутым с вероятностью $\\exp(-\\delta E/kT)$\n",
        "6. Повторяем пункты 2-5 нужное количество раз\n",
        "\n",
        "Спустя достаточно большое количество повторений устанавливается равновесное состояние. "
      ]
    },
    {
      "cell_type": "markdown",
      "metadata": {
        "deletable": false,
        "editable": false,
        "nbgrader": {
          "cell_type": "markdown",
          "checksum": "94fbd3a6424f0888f58d81a4c255fb30",
          "grade": false,
          "grade_id": "cell-1b3a73340d1b1f7e",
          "locked": true,
          "schema_version": 3,
          "solution": false,
          "task": false
        },
        "id": "XXeyvj-XK5gZ"
      },
      "source": [
        "Реализуем данный алгоритм: \n",
        "1. Задайте начальное случайное расраспределение в виде матрицы из $+1$ и $-1$ размерности $N\\times N$:"
      ]
    },
    {
      "cell_type": "code",
      "execution_count": 160,
      "metadata": {
        "deletable": false,
        "nbgrader": {
          "cell_type": "code",
          "checksum": "d90cf3bba663136d8c87ae132b56cd5b",
          "grade": true,
          "grade_id": "cell-9128b635e7b2a8ed",
          "locked": false,
          "points": 1,
          "schema_version": 3,
          "solution": true,
          "task": false
        },
        "id": "vS05zd7AK5ga"
      },
      "outputs": [],
      "source": [
        "def getInitialState(N):\n",
        "    '''\n",
        "    Функция задает случайное начальное состояние\n",
        "    ---------\n",
        "    Аргументы:\n",
        "    N - int, линейный размер решетки \n",
        "    --------\n",
        "    Функция возвращает:\n",
        "    state - numpy ndarray of ints, массив состояния системы размера NxN\n",
        "    '''\n",
        "    state = np.random.randint(2, size=(N, N))\n",
        "    state[state == 0] = -1\n",
        "    return state"
      ]
    },
    {
      "cell_type": "markdown",
      "metadata": {
        "deletable": false,
        "editable": false,
        "nbgrader": {
          "cell_type": "markdown",
          "checksum": "79b98f806bb18803e0222b4dee925fbf",
          "grade": false,
          "grade_id": "cell-e29e48763bb6018d",
          "locked": true,
          "schema_version": 3,
          "solution": false,
          "task": false
        },
        "id": "9cBVkyr9K5ga"
      },
      "source": [
        "2. Напишите функцию, которая для ячейки $(i,j)$ расчитывает изменение её энергии, если изменить её знак. При этом для простоты предполагаем, во-первых, что $J=1$ (на него отнормируем kT), и во-вторых, что элементы находящиеся на верхней и нижней (левой и правой) границах находятся рядом друг с другом (топология тора).  \n"
      ]
    },
    {
      "cell_type": "code",
      "execution_count": 161,
      "metadata": {
        "deletable": false,
        "nbgrader": {
          "cell_type": "code",
          "checksum": "c45e1a1ce3337837eb4af34278869fb7",
          "grade": true,
          "grade_id": "cell-efa3e23518fc6507",
          "locked": false,
          "points": 1,
          "schema_version": 3,
          "solution": true,
          "task": false
        },
        "id": "pWDthP4ZK5ga"
      },
      "outputs": [],
      "source": [
        "def getDeltaE(i, j, state):\n",
        "    '''\n",
        "    Функция расчитывает и возвращает изменение энергии ячейки (i,j) в случае ее переворота (не меняя состояния state)\n",
        "    \n",
        "    ---------\n",
        "    Аргументы:\n",
        "    i - int, адресс ячейки вдоль оси 0\n",
        "    j - int, адресс ячейки вдоль оси 1\n",
        "    state - numpy ndarray of ints, массив состояния системы размера NxN\n",
        "    --------\n",
        "    Функция возвращает:\n",
        "    dE - float, изменение энергии\n",
        "    '''\n",
        "    J = (state[i][j]) * (state[i - 1][j] + state[i - N + 1][j] + state[i][j - N + 1] + state[i][j - 1])\n",
        "    return 2 * float(J)"
      ]
    },
    {
      "cell_type": "markdown",
      "metadata": {
        "deletable": false,
        "editable": false,
        "nbgrader": {
          "cell_type": "markdown",
          "checksum": "f068251f2be978138c015fefd0a03fe9",
          "grade": false,
          "grade_id": "cell-48788fd9ea8bdab0",
          "locked": true,
          "schema_version": 3,
          "solution": false,
          "task": false
        },
        "id": "PRNW8jz3K5gb"
      },
      "source": [
        "3. Напишите функцию, которая $N^2$ раз для разных случайных $(i,j)$ меняет спин в зависимости от изменения энергии, согласно пунктам 4. и 5. "
      ]
    },
    {
      "cell_type": "code",
      "execution_count": 179,
      "metadata": {
        "deletable": false,
        "nbgrader": {
          "cell_type": "code",
          "checksum": "689fbde57521049f5517aa6b1c75b413",
          "grade": true,
          "grade_id": "cell-609315b4a0ff1a8c",
          "locked": false,
          "points": 3,
          "schema_version": 3,
          "solution": true,
          "task": false
        },
        "id": "PrdFFNRwK5gb"
      },
      "outputs": [],
      "source": [
        "def makeFlip(T, state):\n",
        "    '''\n",
        "    Функция N^2 раз переворачивает спин, и принимает решение оставить его перевернутым или нет, согласно правилам 4. и 5.\n",
        "    \n",
        "    ---------\n",
        "    Аргументы:\n",
        "    T - float, положительное число, безразмерный коэфициент, характеризующий температуру, равный kT/J\n",
        "    state - numpy ndarray of ints, массив состояния системы размера NxN\n",
        "    --------\n",
        "    Функция возвращает:\n",
        "    state - numpy ndarray of ints, массив нового состояния системы размера NxN\n",
        "    '''\n",
        "    N = len(state)\n",
        "    i = np.random.randint(0, N, size=1)[0]\n",
        "    j = np.random.randint(0, N, size=1)[0]\n",
        "\n",
        "    for _ in range(N ** 2):\n",
        "      dE = getDeltaE(i, j, state)\n",
        "      if dE <= 0:\n",
        "          state[i][j] *= -1 \n",
        "      else:\n",
        "          d = np.random.uniform(0, 1)\n",
        "          if d <= np.e ** (-dE / T):\n",
        "              state[i][j] *= -1  \n",
        "\n",
        "      i = np.random.randint(0, N, size=1)[0]\n",
        "      j = np.random.randint(0, N, size=1)[0]\n",
        "\n",
        "    return state"
      ]
    },
    {
      "cell_type": "markdown",
      "metadata": {
        "deletable": false,
        "editable": false,
        "nbgrader": {
          "cell_type": "markdown",
          "checksum": "e23bbff7eedbee9eb3c93da644122545",
          "grade": false,
          "grade_id": "cell-69e006fc96bdf0c2",
          "locked": true,
          "schema_version": 3,
          "solution": false,
          "task": false
        },
        "id": "c_6Ih593K5gb"
      },
      "source": [
        "4. Напишите функцию, которая будет рассчитывать значение энергии всей системы (предполагаем $J=1$)."
      ]
    },
    {
      "cell_type": "code",
      "execution_count": 180,
      "metadata": {
        "deletable": false,
        "nbgrader": {
          "cell_type": "code",
          "checksum": "524e8b34114ffd4c26b8adc3d516f5f6",
          "grade": true,
          "grade_id": "cell-1b5c253c53203959",
          "locked": false,
          "points": 1,
          "schema_version": 3,
          "solution": true,
          "task": false
        },
        "id": "Cex7Ilp3K5gb"
      },
      "outputs": [],
      "source": [
        "def getEnergy(state):\n",
        "    '''\n",
        "    Функция, рассчитывает значение энергии всей системы\n",
        "    ---------\n",
        "    Аргументы:\n",
        "    state - numpy ndarray of ints, массив состояния системы размера NxN\n",
        "    --------\n",
        "    Функция возвращает:\n",
        "    E - float, значение энергии системы\n",
        "    '''\n",
        "    E = 0\n",
        "    N = len(state)\n",
        "    for x in range(N):\n",
        "        for y in range(N):\n",
        "            E += - getDeltaE(x, y, state) / 2\n",
        "\n",
        "    return E"
      ]
    },
    {
      "cell_type": "markdown",
      "metadata": {
        "deletable": false,
        "editable": false,
        "nbgrader": {
          "cell_type": "markdown",
          "checksum": "8f93f892f3291b506faeeef8196ccf19",
          "grade": false,
          "grade_id": "cell-46b35827d92faf4c",
          "locked": true,
          "schema_version": 3,
          "solution": false,
          "task": false
        },
        "id": "EbuR4JIGK5gc"
      },
      "source": [
        "5. Напишите функцию, которая будет рассчитывать значение намагниченности всей системы $M=\\sum \\sigma$"
      ]
    },
    {
      "cell_type": "code",
      "execution_count": 181,
      "metadata": {
        "deletable": false,
        "nbgrader": {
          "cell_type": "code",
          "checksum": "ccc3dbd159e528ce8a288f9f1e1b7eb9",
          "grade": true,
          "grade_id": "cell-22bc6c63f60c8463",
          "locked": false,
          "points": 1,
          "schema_version": 3,
          "solution": true,
          "task": false
        },
        "id": "13e4WjUdK5gc"
      },
      "outputs": [],
      "source": [
        "def getMagnetization(state):    \n",
        "    '''\n",
        "    Функция, рассчитывает значение намагниченности всей системы\n",
        "    ---------\n",
        "    Аргументы:\n",
        "    state - numpy ndarray of ints, массив состояния системы размера NxN\n",
        "    --------\n",
        "    Функция возвращает:\n",
        "    M - float, значение намагниченности системы\n",
        "    '''\n",
        "    return state.sum()"
      ]
    },
    {
      "cell_type": "markdown",
      "metadata": {
        "deletable": false,
        "editable": false,
        "nbgrader": {
          "cell_type": "markdown",
          "checksum": "e2bf401005e850e21db5f3b53959242c",
          "grade": false,
          "grade_id": "cell-5f91305be438d924",
          "locked": true,
          "schema_version": 3,
          "solution": false,
          "task": false
        },
        "id": "U1gD2MUQK5gc"
      },
      "source": [
        "В следующей ячейке кода зададим начальные параметры: \n",
        "\n",
        "**Nt** - количество точек по температуре, \n",
        "\n",
        "**N** - линейный размер решетки, \n",
        "\n",
        "**eqStep** - количество попыток переворота спина, в течение которых система приводится к равновесному сосотоянию. Обратите внимание, что это число должно увеличиваться пропорционально размеру всей сетки,\n",
        "\n",
        "**steps** - количество попыток переворота спина, в течение которых рассчитывается значения энергии и намагниченности (нужно для усреднения расчитанных значений по ансамблю состояний, близких к равновесному)"
      ]
    },
    {
      "cell_type": "code",
      "execution_count": 182,
      "metadata": {
        "deletable": false,
        "editable": false,
        "nbgrader": {
          "cell_type": "code",
          "checksum": "3d08149ea9a4bb638e744e74c2916b85",
          "grade": false,
          "grade_id": "cell-79f11b7507c49140",
          "locked": true,
          "schema_version": 3,
          "solution": false,
          "task": false
        },
        "id": "wmV4TmLpK5gc"
      },
      "outputs": [],
      "source": [
        "N       = 10         # размер решетки NxN\n",
        "Nt      = 10         # количество точек температуры\n",
        "eqSteps = 150        # количество раз выполнения makeFlip для установления равновесия\n",
        "steps   = 30         # количество раз выполнения makeFlip для усреднения энергии и намагниченности\n",
        "\n",
        "T = np.linspace(0.5, 5, Nt); \n",
        "E, M = np.zeros(Nt), np.zeros(Nt)"
      ]
    },
    {
      "cell_type": "code",
      "execution_count": 183,
      "metadata": {
        "deletable": false,
        "editable": false,
        "nbgrader": {
          "cell_type": "code",
          "checksum": "c24c0ca28646a7b6c01a814f437d8c57",
          "grade": false,
          "grade_id": "cell-81c8f6970955f96e",
          "locked": true,
          "schema_version": 3,
          "solution": false,
          "task": false
        },
        "id": "AhxSY145K5gc",
        "outputId": "99bdcfbd-0e39-412c-e303-7bce36235eac",
        "colab": {
          "base_uri": "https://localhost:8080/",
          "height": 337
        }
      },
      "outputs": [
        {
          "output_type": "stream",
          "name": "stdout",
          "text": []
        },
        {
          "output_type": "display_data",
          "data": {
            "text/plain": [
              "<Figure size 720x360 with 2 Axes>"
            ],
            "image/png": "[encoded data removed]"
          },
          "metadata": {}
        }
      ],
      "source": [
        "for t in range(Nt):\n",
        "    print(\"Complete\", t/Nt*100, '%\\r', end='')\n",
        "    \n",
        "    Esum = Msum = 0\n",
        "    state = getInitialState(N)\n",
        "    \n",
        "    for i in range(eqSteps):         # установление статистического равновесия\n",
        "        makeFlip(T[t], state)          \n",
        "\n",
        "    for i in range(steps):           # суммирование по разным состояниям близким к равновеснсому\n",
        "        makeFlip(T[t], state)          \n",
        "        Esum += getEnergy(state)       \n",
        "        Msum += getMagnetization(state) \n",
        "\n",
        "    E[t] = Esum / (steps * N * N)\n",
        "    M[t] = Msum / (steps * N * N)\n",
        "\n",
        "print(\"Done              \\r\", end='')\n",
        "\n",
        "_, ax = plt.subplots(1,2,figsize=(10, 5));\n",
        "\n",
        "ax[0].scatter(T, E)\n",
        "ax[0].set_xlabel(\"Temperature\");\n",
        "ax[0].set_ylabel(\"Energy \");\n",
        "\n",
        "ax[1].scatter(T, abs(M), color = 'blue')\n",
        "ax[1].set_xlabel(\"Temperature\"); \n",
        "ax[1].set_ylabel(\"Magnetization \");"
      ]
    },
    {
      "cell_type": "markdown",
      "metadata": {
        "deletable": false,
        "editable": false,
        "nbgrader": {
          "cell_type": "markdown",
          "checksum": "1fb7063da5118c9fe84ad7ba058f95f5",
          "grade": false,
          "grade_id": "cell-856d7c9bc2ed3bc4",
          "locked": true,
          "schema_version": 3,
          "solution": false,
          "task": false
        },
        "id": "Qmv-pykhK5gd"
      },
      "source": [
        "Интерпретируйте с точки зрения физики полученные графики. Описывают ли они поведение ферромагнетиков и фазовые переходы?"
      ]
    },
    {
      "cell_type": "markdown",
      "metadata": {
        "deletable": false,
        "nbgrader": {
          "cell_type": "markdown",
          "checksum": "29e314b20907367c58419147f6573eb4",
          "grade": true,
          "grade_id": "cell-b0c53c58b53735de",
          "locked": false,
          "points": 1,
          "schema_version": 3,
          "solution": true,
          "task": false
        },
        "id": "yAwVJKkqK5gd"
      },
      "source": [
        "YOUR ANSWER HERE"
      ]
    },
    {
      "cell_type": "markdown",
      "metadata": {
        "deletable": false,
        "editable": false,
        "nbgrader": {
          "cell_type": "markdown",
          "checksum": "83e3a6d5bf845bfae57a49e8eb3e655d",
          "grade": false,
          "grade_id": "cell-a66eaf8d2e060a5a",
          "locked": true,
          "schema_version": 3,
          "solution": false,
          "task": false
        },
        "id": "dELlh2LwK5gd"
      },
      "source": [
        "Задайте новое сосотояние системы с достаточно большим $N$ и визуализируйте его думя цветами (например с помощью `plt.scatter`). Примените несколько раз к этому сосотоянию функциию makeFlip с низкой и с высокой температурами. Объясните наблюдаемое"
      ]
    },
    {
      "cell_type": "code",
      "execution_count": 192,
      "metadata": {
        "deletable": false,
        "nbgrader": {
          "cell_type": "code",
          "checksum": "7fe95d7a138a398d72810b8aa6fc1aa3",
          "grade": false,
          "grade_id": "cell-03dc4ad9f46d8e42",
          "locked": false,
          "schema_version": 3,
          "solution": true,
          "task": false
        },
        "id": "iGvD-5PcK5gd",
        "outputId": "e47f6079-fb9f-4fae-b60a-7134b012b011",
        "colab": {
          "base_uri": "https://localhost:8080/",
          "height": 272
        }
      },
      "outputs": [
        {
          "output_type": "display_data",
          "data": {
            "text/plain": [
              "<Figure size 432x288 with 2 Axes>"
            ],
            "image/png": "[encoded data removed]"
          },
          "metadata": {}
        }
      ],
      "source": [
        "import seaborn as sns\n",
        "N = 64\n",
        "s = getInitialState(N)\n",
        "sns.heatmap(s)\n",
        "plt.show()"
      ]
    },
    {
      "cell_type": "code",
      "execution_count": 195,
      "metadata": {
        "deletable": false,
        "nbgrader": {
          "cell_type": "code",
          "checksum": "fc631ae525a93d79c509eb1d68d30908",
          "grade": true,
          "grade_id": "cell-48a4ce67380bd407",
          "locked": false,
          "points": 4,
          "schema_version": 3,
          "solution": true,
          "task": false
        },
        "id": "LsTQKBqZK5ge",
        "outputId": "0e95094f-5bdb-444a-9789-af53ba1baf25",
        "colab": {
          "base_uri": "https://localhost:8080/",
          "height": 596
        }
      },
      "outputs": [
        {
          "output_type": "display_data",
          "data": {
            "text/plain": [
              "<Figure size 1728x720 with 4 Axes>"
            ],
            "image/png": "[encoded data removed]"
          },
          "metadata": {}
        }
      ],
      "source": [
        "times = 10\n",
        "S = getInitialState(N)\n",
        "s = getInitialState(N)\n",
        "fig, ax = plt.subplots(1, 2, figsize=(24, 10))\n",
        "for _ in range(times):\n",
        "    s = makeFlip(0.1, s)\n",
        "    S = makeFlip(20, S)   \n",
        "sns.heatmap(S, ax=ax[0])\n",
        "sns.heatmap(s, ax=ax[1])\n",
        "plt.show()"
      ]
    },
    {
      "cell_type": "markdown",
      "metadata": {
        "deletable": false,
        "nbgrader": {
          "cell_type": "markdown",
          "checksum": "9087c7c2f501fcdc5b5fb1d4b67c05d7",
          "grade": true,
          "grade_id": "cell-72a37af61409d074",
          "locked": false,
          "points": 1,
          "schema_version": 3,
          "solution": true,
          "task": false
        },
        "id": "wGIdnjOSK5ge"
      },
      "source": [
        "YOUR ANSWER HERE"
      ]
    }
  ],
  "metadata": {
    "kernelspec": {
      "display_name": "Python 3 (ipykernel)",
      "language": "python",
      "name": "python3"
    },
    "language_info": {
      "codemirror_mode": {
        "name": "ipython",
        "version": 3
      },
      "file_extension": ".py",
      "mimetype": "text/x-python",
      "name": "python",
      "nbconvert_exporter": "python",
      "pygments_lexer": "ipython3",
      "version": "3.8.13"
    },
    "latex_envs": {
      "LaTeX_envs_menu_present": true,
      "autoclose": true,
      "autocomplete": false,
      "bibliofile": "biblio.bib",
      "cite_by": "apalike",
      "current_citInitial": 1,
      "eqLabelWithNumbers": true,
      "eqNumInitial": 1,
      "hotkeys": {
        "equation": "Ctrl-E",
        "itemize": "Ctrl-I"
      },
      "labels_anchors": false,
      "latex_user_defs": false,
      "report_style_numbering": false,
      "user_envs_cfg": false
    },
    "toc": {
      "base_numbering": 1,
      "nav_menu": {},
      "number_sections": true,
      "sideBar": true,
      "skip_h1_title": false,
      "title_cell": "Table of Contents",
      "title_sidebar": "Contents",
      "toc_cell": false,
      "toc_position": {},
      "toc_section_display": true,
      "toc_window_display": false
    },
    "colab": {
      "provenance": []
    }
  },
  "nbformat": 4,
  "nbformat_minor": 0
}