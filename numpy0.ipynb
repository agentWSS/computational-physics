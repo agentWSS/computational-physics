{
  "cells": [
    {
      "cell_type": "markdown",
      "metadata": {
        "id": "tzp5AF1rVFQP"
      },
      "source": [
        "Before you turn this problem in, make sure everything runs as expected. First, **restart the kernel** (in the menubar, select Kernel$\\rightarrow$Restart) and then **run all cells** (in the menubar, select Cell$\\rightarrow$Run All).\n",
        "\n",
        "Make sure you fill in any place that says `YOUR CODE HERE` or \"YOUR ANSWER HERE\", as well as your github nickname below:"
      ]
    },
    {
      "cell_type": "code",
      "execution_count": 8,
      "metadata": {
        "id": "MyaCQIpCVFQR"
      },
      "outputs": [],
      "source": [
        "NICKNAME = \"agentWSS\""
      ]
    },
    {
      "cell_type": "markdown",
      "metadata": {
        "id": "hQkiWeZuVFQT"
      },
      "source": [
        "---"
      ]
    },
    {
      "cell_type": "markdown",
      "metadata": {
        "deletable": false,
        "editable": false,
        "nbgrader": {
          "cell_type": "markdown",
          "checksum": "13d4b32a8aa6df93deddb6933b8b574c",
          "grade": false,
          "grade_id": "cell-4efb0b8c73de10d7",
          "locked": true,
          "schema_version": 3,
          "solution": false,
          "task": false
        },
        "id": "6m4xHPi2VFQU"
      },
      "source": [
        "# Задачи по NumPy"
      ]
    },
    {
      "cell_type": "code",
      "execution_count": 9,
      "metadata": {
        "ExecuteTime": {
          "end_time": "2022-09-28T21:33:50.840713Z",
          "start_time": "2022-09-28T21:33:50.335730Z"
        },
        "deletable": false,
        "editable": false,
        "nbgrader": {
          "cell_type": "code",
          "checksum": "7a478e1d3b0f42546f049f6db2a101d9",
          "grade": false,
          "grade_id": "cell-e0f2fa9f6c75a673",
          "locked": true,
          "schema_version": 3,
          "solution": false,
          "task": false
        },
        "id": "m4bInBFuVFQU"
      },
      "outputs": [],
      "source": [
        "import numpy as np\n",
        "import matplotlib.pyplot as plt"
      ]
    },
    {
      "cell_type": "markdown",
      "metadata": {
        "deletable": false,
        "editable": false,
        "nbgrader": {
          "cell_type": "markdown",
          "checksum": "b9f1cca644dabe1354c3e5e959186342",
          "grade": false,
          "grade_id": "cell-38f488cb2a8bd4c4",
          "locked": true,
          "schema_version": 3,
          "solution": false,
          "task": false
        },
        "id": "lhyI2GhkVFQV"
      },
      "source": [
        "1. Напишите функцию, возвращающую нулевой вектор длины 10, у которого пятый элемент - единица.\n",
        "\n",
        "*Вектор - numpy массив с shape = (n,)*"
      ]
    },
    {
      "cell_type": "code",
      "execution_count": 10,
      "metadata": {
        "deletable": false,
        "nbgrader": {
          "cell_type": "code",
          "checksum": "fc04e0f0a03c5a710d958e3bd83dba0c",
          "grade": false,
          "grade_id": "cell-f65d513623e98cd2",
          "locked": false,
          "schema_version": 3,
          "solution": true,
          "task": false
        },
        "colab": {
          "base_uri": "https://localhost:8080/"
        },
        "id": "aRiMPUYaVFQW",
        "outputId": "835ac54d-3f0f-45f9-9cf0-6b8ec76a38d0"
      },
      "outputs": [
        {
          "output_type": "execute_result",
          "data": {
            "text/plain": [
              "array([0., 0., 0., 0., 1., 0., 0., 0., 0., 0.])"
            ]
          },
          "metadata": {},
          "execution_count": 10
        }
      ],
      "source": [
        "def null_vec():\n",
        "    vec = np.zeros(10)\n",
        "    vec[4] = 1\n",
        "    return vec\n",
        "\n",
        "null_vec()"
      ]
    },
    {
      "cell_type": "code",
      "execution_count": 3,
      "metadata": {
        "deletable": false,
        "editable": false,
        "nbgrader": {
          "cell_type": "code",
          "checksum": "5fcae6a2893f126bf2c760cb4323ca4e",
          "grade": true,
          "grade_id": "cell-1f7c19ae31380e34",
          "locked": true,
          "points": 1,
          "schema_version": 3,
          "solution": false,
          "task": false
        },
        "id": "Zavu6rQzVFQW"
      },
      "outputs": [],
      "source": []
    },
    {
      "cell_type": "markdown",
      "metadata": {
        "deletable": false,
        "editable": false,
        "nbgrader": {
          "cell_type": "markdown",
          "checksum": "09351b4a8153ae7e223d734a7032298c",
          "grade": false,
          "grade_id": "cell-9bd5be14d3c4a9d0",
          "locked": true,
          "schema_version": 3,
          "solution": false,
          "task": false
        },
        "id": "Fn_R10TsVFQX"
      },
      "source": [
        "2.Верните перевернутый вектор.\n",
        "\n",
        "Пример: [1, 2, 3]->[3,2,1]"
      ]
    },
    {
      "cell_type": "code",
      "execution_count": 11,
      "metadata": {
        "deletable": false,
        "nbgrader": {
          "cell_type": "code",
          "checksum": "191f351fd8f17acea95f6b027f2df8d7",
          "grade": false,
          "grade_id": "cell-9b4f47aa0cb85467",
          "locked": false,
          "schema_version": 3,
          "solution": true,
          "task": false
        },
        "colab": {
          "base_uri": "https://localhost:8080/"
        },
        "id": "3XECYS2mVFQX",
        "outputId": "74995f89-d48e-4b91-e1e9-1253a8d49f50"
      },
      "outputs": [
        {
          "output_type": "stream",
          "name": "stdout",
          "text": [
            "[3 2 1]\n"
          ]
        }
      ],
      "source": [
        "def reverse_vec(v):\n",
        "    return v[::-1]\n",
        "\n",
        "vec = np.array([1, 2, 3])\n",
        "print(reverse_vec(vec))"
      ]
    },
    {
      "cell_type": "code",
      "execution_count": null,
      "metadata": {
        "deletable": false,
        "editable": false,
        "nbgrader": {
          "cell_type": "code",
          "checksum": "230b5e9fd7ff7795c26fd41be8c90184",
          "grade": true,
          "grade_id": "cell-f57d3b785304cbc2",
          "locked": true,
          "points": 1,
          "schema_version": 3,
          "solution": false,
          "task": false
        },
        "id": "3-H2xi3oVFQX"
      },
      "outputs": [],
      "source": []
    },
    {
      "cell_type": "markdown",
      "metadata": {
        "deletable": false,
        "editable": false,
        "nbgrader": {
          "cell_type": "markdown",
          "checksum": "6d4c6a65d7cbdcb5f823e0aba4da1a23",
          "grade": false,
          "grade_id": "cell-66f3b689c2c82b66",
          "locked": true,
          "schema_version": 3,
          "solution": false,
          "task": false
        },
        "id": "Ad8DiqT3VFQY"
      },
      "source": [
        "3.Создайте матрицу 3x3, в которой величины будут идти по порядку от 0 до 8: \n",
        "\n",
        "\\begin{equation*} \n",
        "\\begin{pmatrix}\n",
        "0 & 1 & 2 \\\\\n",
        "3 & 4 & 5 \\\\\n",
        "6 & 7 & 8 \n",
        "\\end{pmatrix}\n",
        "\\end{equation*}"
      ]
    },
    {
      "cell_type": "code",
      "execution_count": 16,
      "metadata": {
        "deletable": false,
        "nbgrader": {
          "cell_type": "code",
          "checksum": "76545faee85f50bdf5916ee76e3542b4",
          "grade": false,
          "grade_id": "cell-17bec3567fc74cc1",
          "locked": false,
          "schema_version": 3,
          "solution": true,
          "task": false
        },
        "colab": {
          "base_uri": "https://localhost:8080/"
        },
        "id": "kAVShR8-VFQY",
        "outputId": "2245b3d6-a561-46f3-e4d4-41a259ce0849"
      },
      "outputs": [
        {
          "output_type": "stream",
          "name": "stdout",
          "text": [
            "[0, 1, 2]\n",
            "[3, 4, 5]\n",
            "[6, 7, 8]\n"
          ]
        }
      ],
      "source": [
        "def matrix():\n",
        "    m = [[i + j for i in range(3)] for j in range(0, 9, 3)]\n",
        "    for row in m:\n",
        "        print(row)\n",
        "\n",
        "matrix()"
      ]
    },
    {
      "cell_type": "code",
      "execution_count": null,
      "metadata": {
        "deletable": false,
        "editable": false,
        "nbgrader": {
          "cell_type": "code",
          "checksum": "27b3aeb30354329e1cfc8639ec3bb2fe",
          "grade": true,
          "grade_id": "cell-3b80759ec55892f3",
          "locked": true,
          "points": 1,
          "schema_version": 3,
          "solution": false,
          "task": false
        },
        "id": "KWKK0xnuVFQY"
      },
      "outputs": [],
      "source": []
    },
    {
      "cell_type": "markdown",
      "metadata": {
        "deletable": false,
        "editable": false,
        "nbgrader": {
          "cell_type": "markdown",
          "checksum": "8e024e4c89faaf596f229be7abd19c16",
          "grade": false,
          "grade_id": "cell-7b559a2c96997c1a",
          "locked": true,
          "schema_version": 3,
          "solution": false,
          "task": false
        },
        "id": "YsIL2hv5VFQY"
      },
      "source": [
        "4. Постройте матрицу размером 8х8 по принципу шахматной доски."
      ]
    },
    {
      "cell_type": "code",
      "execution_count": 15,
      "metadata": {
        "ExecuteTime": {
          "end_time": "2022-09-28T21:33:16.008347Z",
          "start_time": "2022-09-28T21:33:16.000276Z"
        },
        "deletable": false,
        "nbgrader": {
          "cell_type": "code",
          "checksum": "c07a9194de31c261cd61be734a0a93f2",
          "grade": false,
          "grade_id": "cell-d3656b24b46b803b",
          "locked": false,
          "schema_version": 3,
          "solution": true,
          "task": false
        },
        "colab": {
          "base_uri": "https://localhost:8080/"
        },
        "id": "NTRXYoqVVFQZ",
        "outputId": "993fe797-e481-492c-a93a-567acc68fa26"
      },
      "outputs": [
        {
          "output_type": "stream",
          "name": "stdout",
          "text": [
            "['w', 'b', 'w', 'b', 'w', 'b', 'w', 'b']\n",
            "['b', 'w', 'b', 'w', 'b', 'w', 'b', 'w']\n",
            "['w', 'b', 'w', 'b', 'w', 'b', 'w', 'b']\n",
            "['b', 'w', 'b', 'w', 'b', 'w', 'b', 'w']\n",
            "['w', 'b', 'w', 'b', 'w', 'b', 'w', 'b']\n",
            "['b', 'w', 'b', 'w', 'b', 'w', 'b', 'w']\n",
            "['w', 'b', 'w', 'b', 'w', 'b', 'w', 'b']\n",
            "['b', 'w', 'b', 'w', 'b', 'w', 'b', 'w']\n"
          ]
        }
      ],
      "source": [
        "def checkerboard(w, b):\n",
        "    matrix = [[(i + j) % 2 == 0 and w or b for i in range(8)] for j in range(8)]\n",
        "    for row in matrix:\n",
        "        print(row)\n",
        "\n",
        "checkerboard(\"w\", \"b\")"
      ]
    },
    {
      "cell_type": "code",
      "execution_count": null,
      "metadata": {
        "deletable": false,
        "editable": false,
        "nbgrader": {
          "cell_type": "code",
          "checksum": "70b90d99a5e641ceef1dc24bd3fa4e21",
          "grade": true,
          "grade_id": "cell-92e793300667d965",
          "locked": true,
          "points": 1,
          "schema_version": 3,
          "solution": false,
          "task": false
        },
        "id": "umjbRnXMVFQZ"
      },
      "outputs": [],
      "source": []
    },
    {
      "cell_type": "markdown",
      "metadata": {
        "deletable": false,
        "editable": false,
        "nbgrader": {
          "cell_type": "markdown",
          "checksum": "5ec7591c47c18decc245ca631a85ddf1",
          "grade": false,
          "grade_id": "cell-d11eb05802ab4025",
          "locked": true,
          "schema_version": 3,
          "solution": false,
          "task": false
        },
        "id": "qA6nN_sSVFQZ"
      },
      "source": [
        "5. Напишите функцию, которая переводит декартовы координаты в полярные."
      ]
    },
    {
      "cell_type": "code",
      "execution_count": 18,
      "metadata": {
        "ExecuteTime": {
          "end_time": "2022-09-28T21:36:09.225111Z",
          "start_time": "2022-09-28T21:36:09.177999Z"
        },
        "deletable": false,
        "nbgrader": {
          "cell_type": "code",
          "checksum": "efa1250b28d4f0f92d5d74e830ec482f",
          "grade": false,
          "grade_id": "cell-b190ffcc2e3da3a7",
          "locked": false,
          "schema_version": 3,
          "solution": true,
          "task": false
        },
        "colab": {
          "base_uri": "https://localhost:8080/"
        },
        "id": "WbGk35y1VFQZ",
        "outputId": "3f9368f1-a686-45ff-a3be-157b2fb84c33"
      },
      "outputs": [
        {
          "output_type": "stream",
          "name": "stdout",
          "text": [
            "(1.4142135623730951, 0.7853981633974483)\n",
            "(2.0, 0.0)\n",
            "(3.0, 1.5707963267948966)\n"
          ]
        }
      ],
      "source": [
        "import math\n",
        "def cartesian_to_polar(c):\n",
        "    x, y = c\n",
        "    r = math.sqrt(x**2 + y**2)\n",
        "    theta = math.atan2(y, x)\n",
        "    return (r, theta)\n",
        "\n",
        "print(cartesian_to_polar((1, 1)))\n",
        "print(cartesian_to_polar((2, 0)))\n",
        "print(cartesian_to_polar((0, 3)))"
      ]
    },
    {
      "cell_type": "code",
      "execution_count": null,
      "metadata": {
        "deletable": false,
        "editable": false,
        "nbgrader": {
          "cell_type": "code",
          "checksum": "af18abbf22434efdedd88b61d3ec1431",
          "grade": true,
          "grade_id": "cell-a4bb448a7328b920",
          "locked": true,
          "points": 2,
          "schema_version": 3,
          "solution": false,
          "task": false
        },
        "id": "GpJ-GifSVFQa"
      },
      "outputs": [],
      "source": []
    },
    {
      "cell_type": "markdown",
      "metadata": {
        "deletable": false,
        "editable": false,
        "nbgrader": {
          "cell_type": "markdown",
          "checksum": "0015138989241286a3c0d4a914b99526",
          "grade": false,
          "grade_id": "cell-90235d4cabb80c2b",
          "locked": true,
          "schema_version": 3,
          "solution": false,
          "task": false
        },
        "id": "YclWE8HqVFQa"
      },
      "source": [
        "6. Улитка Пасскаля -- плоская кривая, задаваемая уравнением в полярных координатах: $𝑟=𝑎+cos𝜙.$ \n",
        "\n",
        "Напишите функцию, определяющую координаты точек такой кривой.\n",
        "\n",
        "(Подсказка: np.linspace создает одномерный массив из указанного количества элементов, значения которых равномерно распределенны внутри заданного интервала.)"
      ]
    },
    {
      "cell_type": "code",
      "execution_count": 19,
      "metadata": {
        "deletable": false,
        "nbgrader": {
          "cell_type": "code",
          "checksum": "deb5e6f0870cd45934719f70da54a546",
          "grade": false,
          "grade_id": "cell-bea2b11f79b37b02",
          "locked": false,
          "schema_version": 3,
          "solution": true,
          "task": false
        },
        "id": "09-U62vwVFQa"
      },
      "outputs": [],
      "source": [
        "def make_curve(n, a):\n",
        "    phi = np.linspace(0, 2 * np.pi, n)\n",
        "    r = a + np.cos(phi)\n",
        "    x = r * np.cos(phi)\n",
        "    y = r * np.sin(phi)\n",
        "    return (x, y)\n",
        "\n",
        "x, y = make_curve(100, 1)"
      ]
    },
    {
      "cell_type": "code",
      "execution_count": null,
      "metadata": {
        "deletable": false,
        "editable": false,
        "nbgrader": {
          "cell_type": "code",
          "checksum": "903a83b433060f37236ab3ae0b1d2f66",
          "grade": true,
          "grade_id": "cell-28ce80f4d588a6d9",
          "locked": true,
          "points": 2,
          "schema_version": 3,
          "solution": false,
          "task": false
        },
        "id": "kKbQ5JN9VFQb"
      },
      "outputs": [],
      "source": [
        "N = 50\n",
        "A = 1\n",
        "m = make_curve(N, A)"
      ]
    },
    {
      "cell_type": "markdown",
      "metadata": {
        "deletable": false,
        "editable": false,
        "nbgrader": {
          "cell_type": "markdown",
          "checksum": "477a62382dd7b5b6cd936639acbffb1a",
          "grade": false,
          "grade_id": "cell-a46ace5952ca4916",
          "locked": true,
          "schema_version": 3,
          "solution": false,
          "task": false
        },
        "id": "U6JOu7tCVFQb"
      },
      "source": [
        "Постройте ее на плоскости xy для разных значений a."
      ]
    },
    {
      "cell_type": "code",
      "execution_count": 20,
      "metadata": {
        "deletable": false,
        "nbgrader": {
          "cell_type": "code",
          "checksum": "865d58049347d2b3f89d531565501c0d",
          "grade": true,
          "grade_id": "cell-5589004ce9d6a2fa",
          "locked": false,
          "points": 2,
          "schema_version": 3,
          "solution": true,
          "task": false
        },
        "colab": {
          "base_uri": "https://localhost:8080/",
          "height": 265
        },
        "id": "EQ-Bdj-iVFQb",
        "outputId": "0ac58ad7-62e8-4b26-9f78-2831f0fedf0f"
      },
      "outputs": [
        {
          "output_type": "display_data",
          "data": {
            "text/plain": [
              "<Figure size 432x288 with 1 Axes>"
            ],
            "image/png": "[encoded data removed]"
          },
          "metadata": {
            "needs_background": "light"
          }
        }
      ],
      "source": [
        "import matplotlib.pyplot as plt\n",
        "\n",
        "x1, y1 = make_curve(100, 1)\n",
        "x2, y2 = make_curve(100, 2)\n",
        "x3, y3 = make_curve(100, 3)\n",
        "\n",
        "plt.plot(x1, y1, label=\"a = 1\")\n",
        "plt.plot(x2, y2, label=\"a = 2\")\n",
        "plt.plot(x3, y3, label=\"a = 3\")\n",
        "plt.legend()\n",
        "plt.show()"
      ]
    }
  ],
  "metadata": {
    "kernelspec": {
      "display_name": "Python 3",
      "language": "python",
      "name": "python3"
    },
    "language_info": {
      "codemirror_mode": {
        "name": "ipython",
        "version": 3
      },
      "file_extension": ".py",
      "mimetype": "text/x-python",
      "name": "python",
      "nbconvert_exporter": "python",
      "pygments_lexer": "ipython3",
      "version": "3.8.8"
    },
    "latex_envs": {
      "LaTeX_envs_menu_present": true,
      "autoclose": false,
      "autocomplete": true,
      "bibliofile": "biblio.bib",
      "cite_by": "apalike",
      "current_citInitial": 1,
      "eqLabelWithNumbers": true,
      "eqNumInitial": 1,
      "hotkeys": {
        "equation": "Ctrl-E",
        "itemize": "Ctrl-I"
      },
      "labels_anchors": false,
      "latex_user_defs": false,
      "report_style_numbering": false,
      "user_envs_cfg": false
    },
    "toc": {
      "base_numbering": 1,
      "nav_menu": {},
      "number_sections": true,
      "sideBar": true,
      "skip_h1_title": false,
      "title_cell": "Table of Contents",
      "title_sidebar": "Contents",
      "toc_cell": false,
      "toc_position": {},
      "toc_section_display": true,
      "toc_window_display": false
    },
    "colab": {
      "provenance": []
    }
  },
  "nbformat": 4,
  "nbformat_minor": 0
}