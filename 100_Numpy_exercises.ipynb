{
  "cells": [
    {
      "cell_type": "markdown",
      "id": "ad1d1330",
      "metadata": {
        "id": "ad1d1330"
      },
      "source": [
        "# 100 numpy exercises\n",
        "\n",
        "This is a collection of exercises that have been collected in the numpy mailing list, on stack overflow\n",
        "and in the numpy documentation. The goal of this collection is to offer a quick reference for both old\n",
        "and new users but also to provide a set of exercises for those who teach.\n",
        "\n",
        "\n",
        "If you find an error or think you've a better way to solve some of them, feel\n",
        "free to open an issue at <https://github.com/rougier/numpy-100>."
      ]
    },
    {
      "cell_type": "markdown",
      "id": "1d620162",
      "metadata": {
        "id": "1d620162"
      },
      "source": [
        "File automatically generated. See the documentation to update questions/answers/hints programmatically."
      ]
    },
    {
      "cell_type": "markdown",
      "id": "8574d627",
      "metadata": {
        "id": "8574d627"
      },
      "source": [
        "Run the `initialize.py` module, then for each question you can query the\n",
        "answer or an hint with `hint(n)` or `answer(n)` for `n` question number."
      ]
    },
    {
      "cell_type": "code",
      "execution_count": 201,
      "id": "c6fe8a29",
      "metadata": {
        "id": "c6fe8a29"
      },
      "outputs": [],
      "source": [
        "NICKNAME = \"agentWSS\""
      ]
    },
    {
      "cell_type": "markdown",
      "id": "954c5d8f",
      "metadata": {
        "id": "954c5d8f"
      },
      "source": [
        "#### 1. Import the numpy package under the name `np` (★☆☆)"
      ]
    },
    {
      "cell_type": "code",
      "execution_count": 202,
      "id": "4006c08e",
      "metadata": {
        "id": "4006c08e"
      },
      "outputs": [],
      "source": [
        "import numpy as np\n"
      ]
    },
    {
      "cell_type": "markdown",
      "id": "88e34f09",
      "metadata": {
        "id": "88e34f09"
      },
      "source": [
        "#### 2. Print the numpy version and the configuration (★☆☆)"
      ]
    },
    {
      "cell_type": "code",
      "execution_count": 5,
      "id": "b1122a25",
      "metadata": {
        "colab": {
          "base_uri": "https://localhost:8080/"
        },
        "id": "b1122a25",
        "outputId": "45c7f24d-9694-4b35-cf51-5cde7296a9b0"
      },
      "outputs": [
        {
          "output_type": "stream",
          "name": "stdout",
          "text": [
            "1.21.6\n",
            "blas_mkl_info:\n",
            "  NOT AVAILABLE\n",
            "blis_info:\n",
            "  NOT AVAILABLE\n",
            "openblas_info:\n",
            "    libraries = ['openblas', 'openblas']\n",
            "    library_dirs = ['/usr/local/lib']\n",
            "    language = c\n",
            "    define_macros = [('HAVE_CBLAS', None)]\n",
            "    runtime_library_dirs = ['/usr/local/lib']\n",
            "blas_opt_info:\n",
            "    libraries = ['openblas', 'openblas']\n",
            "    library_dirs = ['/usr/local/lib']\n",
            "    language = c\n",
            "    define_macros = [('HAVE_CBLAS', None)]\n",
            "    runtime_library_dirs = ['/usr/local/lib']\n",
            "lapack_mkl_info:\n",
            "  NOT AVAILABLE\n",
            "openblas_lapack_info:\n",
            "    libraries = ['openblas', 'openblas']\n",
            "    library_dirs = ['/usr/local/lib']\n",
            "    language = c\n",
            "    define_macros = [('HAVE_CBLAS', None)]\n",
            "    runtime_library_dirs = ['/usr/local/lib']\n",
            "lapack_opt_info:\n",
            "    libraries = ['openblas', 'openblas']\n",
            "    library_dirs = ['/usr/local/lib']\n",
            "    language = c\n",
            "    define_macros = [('HAVE_CBLAS', None)]\n",
            "    runtime_library_dirs = ['/usr/local/lib']\n",
            "Supported SIMD extensions in this NumPy install:\n",
            "    baseline = SSE,SSE2,SSE3\n",
            "    found = SSSE3,SSE41,POPCNT,SSE42,AVX,F16C,FMA3,AVX2\n",
            "    not found = AVX512F,AVX512CD,AVX512_KNL,AVX512_KNM,AVX512_SKX,AVX512_CLX,AVX512_CNL,AVX512_ICL\n"
          ]
        }
      ],
      "source": [
        "print(np.__version__)\n",
        "np.show_config()"
      ]
    },
    {
      "cell_type": "markdown",
      "id": "37c21848",
      "metadata": {
        "id": "37c21848"
      },
      "source": [
        "#### 3. Create a null vector of size 10 (★☆☆)"
      ]
    },
    {
      "cell_type": "code",
      "execution_count": 6,
      "id": "e090a462",
      "metadata": {
        "colab": {
          "base_uri": "https://localhost:8080/"
        },
        "id": "e090a462",
        "outputId": "3b6d8769-b2e3-4297-a732-0b8f3610824b"
      },
      "outputs": [
        {
          "output_type": "stream",
          "name": "stdout",
          "text": [
            "[0. 0. 0. 0. 0. 0. 0. 0. 0. 0.]\n"
          ]
        }
      ],
      "source": [
        "null_vector = np.zeros(10)\n",
        "\n",
        "print(null_vector)"
      ]
    },
    {
      "cell_type": "markdown",
      "id": "7c0e6add",
      "metadata": {
        "id": "7c0e6add"
      },
      "source": [
        "#### 4. How to find the memory size of any array (★☆☆)"
      ]
    },
    {
      "cell_type": "code",
      "execution_count": 7,
      "id": "8c96715d",
      "metadata": {
        "colab": {
          "base_uri": "https://localhost:8080/"
        },
        "id": "8c96715d",
        "outputId": "3c451bb4-f050-4aee-c2d6-c85b640cd8bc"
      },
      "outputs": [
        {
          "output_type": "stream",
          "name": "stdout",
          "text": [
            "40\n"
          ]
        }
      ],
      "source": [
        "a = np.array([1, 2, 3, 4, 5])\n",
        "\n",
        "memory_size = a.nbytes\n",
        "\n",
        "print(memory_size)"
      ]
    },
    {
      "cell_type": "markdown",
      "id": "4cf547db",
      "metadata": {
        "id": "4cf547db"
      },
      "source": [
        "#### 5. How to get the documentation of the numpy add function from the command line? (★☆☆)"
      ]
    },
    {
      "cell_type": "code",
      "execution_count": 11,
      "id": "2a24a1e9",
      "metadata": {
        "colab": {
          "base_uri": "https://localhost:8080/"
        },
        "id": "2a24a1e9",
        "outputId": "59add3d8-0cf1-400c-d9ff-7e39de6c682a"
      },
      "outputs": [
        {
          "output_type": "stream",
          "name": "stdout",
          "text": [
            "add(x1, x2, /, out=None, *, where=True, casting='same_kind', order='K', dtype=None, subok=True[, signature, extobj])\n",
            "\n",
            "Add arguments element-wise.\n",
            "\n",
            "Parameters\n",
            "----------\n",
            "x1, x2 : array_like\n",
            "    The arrays to be added.\n",
            "    If ``x1.shape != x2.shape``, they must be broadcastable to a common\n",
            "    shape (which becomes the shape of the output).\n",
            "out : ndarray, None, or tuple of ndarray and None, optional\n",
            "    A location into which the result is stored. If provided, it must have\n",
            "    a shape that the inputs broadcast to. If not provided or None,\n",
            "    a freshly-allocated array is returned. A tuple (possible only as a\n",
            "    keyword argument) must have length equal to the number of outputs.\n",
            "where : array_like, optional\n",
            "    This condition is broadcast over the input. At locations where the\n",
            "    condition is True, the `out` array will be set to the ufunc result.\n",
            "    Elsewhere, the `out` array will retain its original value.\n",
            "    Note that if an uninitialized `out` array is created via the default\n",
            "    ``out=None``, locations within it where the condition is False will\n",
            "    remain uninitialized.\n",
            "**kwargs\n",
            "    For other keyword-only arguments, see the\n",
            "    :ref:`ufunc docs <ufuncs.kwargs>`.\n",
            "\n",
            "Returns\n",
            "-------\n",
            "add : ndarray or scalar\n",
            "    The sum of `x1` and `x2`, element-wise.\n",
            "    This is a scalar if both `x1` and `x2` are scalars.\n",
            "\n",
            "Notes\n",
            "-----\n",
            "Equivalent to `x1` + `x2` in terms of array broadcasting.\n",
            "\n",
            "Examples\n",
            "--------\n",
            ">>> np.add(1.0, 4.0)\n",
            "5.0\n",
            ">>> x1 = np.arange(9.0).reshape((3, 3))\n",
            ">>> x2 = np.arange(3.0)\n",
            ">>> np.add(x1, x2)\n",
            "array([[  0.,   2.,   4.],\n",
            "       [  3.,   5.,   7.],\n",
            "       [  6.,   8.,  10.]])\n",
            "\n",
            "The ``+`` operator can be used as a shorthand for ``np.add`` on ndarrays.\n",
            "\n",
            ">>> x1 = np.arange(9.0).reshape((3, 3))\n",
            ">>> x2 = np.arange(3.0)\n",
            ">>> x1 + x2\n",
            "array([[ 0.,  2.,  4.],\n",
            "       [ 3.,  5.,  7.],\n",
            "       [ 6.,  8., 10.]])\n"
          ]
        }
      ],
      "source": [
        "np.info(np.add)"
      ]
    },
    {
      "cell_type": "markdown",
      "id": "bf6679c3",
      "metadata": {
        "id": "bf6679c3"
      },
      "source": [
        "#### 6. Create a null vector of size 10 but the fifth value which is 1 (★☆☆)"
      ]
    },
    {
      "cell_type": "code",
      "execution_count": 12,
      "id": "f4cd59b6",
      "metadata": {
        "colab": {
          "base_uri": "https://localhost:8080/"
        },
        "id": "f4cd59b6",
        "outputId": "3be4ee97-f660-4b5c-8776-dc0d3655d8fe"
      },
      "outputs": [
        {
          "output_type": "stream",
          "name": "stdout",
          "text": [
            "[0. 0. 0. 0. 1. 0. 0. 0. 0. 0.]\n"
          ]
        }
      ],
      "source": [
        "null_vector = np.zeros(10)\n",
        "\n",
        "null_vector[4] = 1\n",
        "\n",
        "print(null_vector)"
      ]
    },
    {
      "cell_type": "markdown",
      "id": "022451fb",
      "metadata": {
        "id": "022451fb"
      },
      "source": [
        "#### 7. Create a vector with values ranging from 10 to 49 (★☆☆)"
      ]
    },
    {
      "cell_type": "code",
      "execution_count": 13,
      "id": "22c2f0a8",
      "metadata": {
        "colab": {
          "base_uri": "https://localhost:8080/"
        },
        "id": "22c2f0a8",
        "outputId": "3d8c4843-9a63-4cdb-dbd0-cf369ab72f97"
      },
      "outputs": [
        {
          "output_type": "stream",
          "name": "stdout",
          "text": [
            "[10 11 12 13 14 15 16 17 18 19 20 21 22 23 24 25 26 27 28 29 30 31 32 33\n",
            " 34 35 36 37 38 39 40 41 42 43 44 45 46 47 48 49]\n"
          ]
        }
      ],
      "source": [
        "vector = np.arange(10, 50)\n",
        "\n",
        "print(vector)"
      ]
    },
    {
      "cell_type": "markdown",
      "id": "aca8f6ee",
      "metadata": {
        "id": "aca8f6ee"
      },
      "source": [
        "#### 8. Reverse a vector (first element becomes last) (★☆☆)"
      ]
    },
    {
      "cell_type": "code",
      "execution_count": 14,
      "id": "15f37616",
      "metadata": {
        "colab": {
          "base_uri": "https://localhost:8080/"
        },
        "id": "15f37616",
        "outputId": "60ac26ea-2bf2-46c3-f4b8-6e5ef5c290c3"
      },
      "outputs": [
        {
          "output_type": "stream",
          "name": "stdout",
          "text": [
            "[49 48 47 46 45 44 43 42 41 40 39 38 37 36 35 34 33 32 31 30 29 28 27 26\n",
            " 25 24 23 22 21 20 19 18 17 16 15 14 13 12 11 10]\n"
          ]
        }
      ],
      "source": [
        "vector[:] = vector[::-1]\n",
        "\n",
        "print(vector)"
      ]
    },
    {
      "cell_type": "markdown",
      "id": "97bfddd4",
      "metadata": {
        "id": "97bfddd4"
      },
      "source": [
        "#### 9. Create a 3x3 matrix with values ranging from 0 to 8 (★☆☆)"
      ]
    },
    {
      "cell_type": "code",
      "execution_count": 15,
      "id": "8b93d83c",
      "metadata": {
        "colab": {
          "base_uri": "https://localhost:8080/"
        },
        "id": "8b93d83c",
        "outputId": "6fca15e7-434e-4acc-c5d9-4293a40f5816"
      },
      "outputs": [
        {
          "output_type": "stream",
          "name": "stdout",
          "text": [
            "[[0 1 2]\n",
            " [3 4 5]\n",
            " [6 7 8]]\n"
          ]
        }
      ],
      "source": [
        "matrix = np.arange(9)\n",
        "\n",
        "matrix = matrix.reshape((3, 3))\n",
        "\n",
        "print(matrix)"
      ]
    },
    {
      "cell_type": "markdown",
      "id": "a073dad0",
      "metadata": {
        "id": "a073dad0"
      },
      "source": [
        "#### 10. Find indices of non-zero elements from [1,2,0,0,4,0] (★☆☆)"
      ]
    },
    {
      "cell_type": "code",
      "execution_count": 16,
      "id": "c21fb91c",
      "metadata": {
        "colab": {
          "base_uri": "https://localhost:8080/"
        },
        "id": "c21fb91c",
        "outputId": "7275048d-fc06-498d-d0cb-325f27d3529b"
      },
      "outputs": [
        {
          "output_type": "stream",
          "name": "stdout",
          "text": [
            "(array([0, 1, 4]),)\n"
          ]
        }
      ],
      "source": [
        "array = np.array([1, 2, 0, 0, 4, 0])\n",
        "\n",
        "indices = np.nonzero(array)\n",
        "\n",
        "print(indices)"
      ]
    },
    {
      "cell_type": "markdown",
      "id": "82b9a7a0",
      "metadata": {
        "id": "82b9a7a0"
      },
      "source": [
        "#### 11. Create a 3x3 identity matrix (★☆☆)"
      ]
    },
    {
      "cell_type": "code",
      "execution_count": 17,
      "id": "7ce1325a",
      "metadata": {
        "colab": {
          "base_uri": "https://localhost:8080/"
        },
        "id": "7ce1325a",
        "outputId": "15e44857-182d-4e53-cf78-c4858d5023a4"
      },
      "outputs": [
        {
          "output_type": "stream",
          "name": "stdout",
          "text": [
            "[[1. 0. 0.]\n",
            " [0. 1. 0.]\n",
            " [0. 0. 1.]]\n"
          ]
        }
      ],
      "source": [
        "identity_matrix = np.identity(3)\n",
        "\n",
        "print(identity_matrix)"
      ]
    },
    {
      "cell_type": "markdown",
      "id": "0e6364d3",
      "metadata": {
        "id": "0e6364d3"
      },
      "source": [
        "#### 12. Create a 3x3x3 array with random values (★☆☆)"
      ]
    },
    {
      "cell_type": "code",
      "execution_count": 20,
      "id": "8139c1c8",
      "metadata": {
        "colab": {
          "base_uri": "https://localhost:8080/"
        },
        "id": "8139c1c8",
        "outputId": "d6511f9c-6d0c-4185-8999-de37938563d6"
      },
      "outputs": [
        {
          "output_type": "stream",
          "name": "stdout",
          "text": [
            "[[[9 7 3]\n",
            "  [6 6 7]\n",
            "  [8 2 5]]\n",
            "\n",
            " [[1 8 3]\n",
            "  [3 7 8]\n",
            "  [9 3 2]]\n",
            "\n",
            " [[0 2 7]\n",
            "  [6 4 3]\n",
            "  [3 9 9]]]\n"
          ]
        }
      ],
      "source": [
        "array = np.random.randint(0, 10, size=(3, 3, 3))\n",
        "\n",
        "print(array)"
      ]
    },
    {
      "cell_type": "markdown",
      "id": "49ef36a6",
      "metadata": {
        "id": "49ef36a6"
      },
      "source": [
        "#### 13. Create a 10x10 array with random values and find the minimum and maximum values (★☆☆)"
      ]
    },
    {
      "cell_type": "code",
      "execution_count": 24,
      "id": "5b4c73c7",
      "metadata": {
        "colab": {
          "base_uri": "https://localhost:8080/"
        },
        "id": "5b4c73c7",
        "outputId": "c06d2ae7-0d97-4b46-b5f0-692783d0b180"
      },
      "outputs": [
        {
          "output_type": "stream",
          "name": "stdout",
          "text": [
            "[[0.86683047 0.44244393 0.92707203 0.57735861 0.83267727 0.61010268\n",
            "  0.0134506  0.73905208 0.94961014 0.68192885]\n",
            " [0.60817945 0.76440878 0.78154341 0.62787461 0.83704375 0.10484604\n",
            "  0.25600251 0.82007021 0.48721442 0.60940043]\n",
            " [0.7717571  0.49978847 0.24077767 0.79439605 0.01656411 0.74843517\n",
            "  0.17561011 0.70008931 0.33329351 0.72322222]\n",
            " [0.94563256 0.28149235 0.11942092 0.11142048 0.98234226 0.54518962\n",
            "  0.44700538 0.93681051 0.03046271 0.20589788]\n",
            " [0.60129737 0.8832249  0.86348005 0.3571324  0.9609236  0.48881182\n",
            "  0.78111181 0.76070858 0.83865397 0.63069417]\n",
            " [0.18910035 0.9900914  0.48494159 0.9286148  0.79164068 0.97478666\n",
            "  0.38176442 0.18016929 0.69084862 0.15840666]\n",
            " [0.64480085 0.45197747 0.27415733 0.10887146 0.27625887 0.8218492\n",
            "  0.86176448 0.68131321 0.55885309 0.26900189]\n",
            " [0.28465088 0.5929733  0.88092911 0.36620986 0.57019048 0.96603771\n",
            "  0.27368474 0.59180518 0.35454562 0.65907412]\n",
            " [0.75471899 0.44637534 0.85884537 0.20434136 0.79910277 0.18727222\n",
            "  0.72994576 0.74098233 0.95602805 0.47672126]\n",
            " [0.01878681 0.65240864 0.08676143 0.91513836 0.28659113 0.40632156\n",
            "  0.65941769 0.55111354 0.1623962  0.10394004]]\n",
            "0.013450603249285265\n",
            "0.9900913956888928\n"
          ]
        }
      ],
      "source": [
        "array = np.random.rand(10, 10)\n",
        "print(array)\n",
        "\n",
        "min_value = array.min()\n",
        "max_value = array.max()\n",
        "\n",
        "print(min_value)\n",
        "print(max_value)"
      ]
    },
    {
      "cell_type": "markdown",
      "id": "625eb243",
      "metadata": {
        "id": "625eb243"
      },
      "source": [
        "#### 14. Create a random vector of size 30 and find the mean value (★☆☆)"
      ]
    },
    {
      "cell_type": "code",
      "execution_count": 26,
      "id": "ba7b8300",
      "metadata": {
        "colab": {
          "base_uri": "https://localhost:8080/"
        },
        "id": "ba7b8300",
        "outputId": "9a09020c-28f3-4588-d4b1-3c4da2271776"
      },
      "outputs": [
        {
          "output_type": "stream",
          "name": "stdout",
          "text": [
            "[0.42248064 0.57911789 0.6892348  0.98891181 0.61125977 0.40868675\n",
            " 0.27532624 0.5515008  0.07193849 0.95111466 0.16360424 0.35687155\n",
            " 0.93562358 0.49663164 0.14147058 0.75277668 0.61603148 0.36068073\n",
            " 0.57576269 0.77038796 0.76827208 0.44690255 0.21726587 0.91864074\n",
            " 0.12401833 0.22143119 0.30518674 0.25455422 0.535954   0.35681303]\n",
            "0.4956150575462583\n"
          ]
        }
      ],
      "source": [
        "vector = np.random.rand(30)\n",
        "print(vector)\n",
        "\n",
        "mean_value = vector.mean()\n",
        "\n",
        "print(mean_value)"
      ]
    },
    {
      "cell_type": "markdown",
      "id": "19540b2f",
      "metadata": {
        "id": "19540b2f"
      },
      "source": [
        "#### 15. Create a 2d array with 1 on the border and 0 inside (★☆☆)"
      ]
    },
    {
      "cell_type": "code",
      "execution_count": 27,
      "id": "19e78d2c",
      "metadata": {
        "colab": {
          "base_uri": "https://localhost:8080/"
        },
        "id": "19e78d2c",
        "outputId": "5616766f-6240-4481-a5df-d11caefadac4"
      },
      "outputs": [
        {
          "output_type": "stream",
          "name": "stdout",
          "text": [
            "[[1. 1. 1. 1. 1.]\n",
            " [1. 0. 0. 0. 1.]\n",
            " [1. 0. 0. 0. 1.]\n",
            " [1. 0. 0. 0. 1.]\n",
            " [1. 1. 1. 1. 1.]]\n"
          ]
        }
      ],
      "source": [
        "array = np.ones((5, 5))\n",
        "array[1:-1, 1:-1] = 0\n",
        "\n",
        "print(array)"
      ]
    },
    {
      "cell_type": "markdown",
      "id": "3f0fe171",
      "metadata": {
        "id": "3f0fe171"
      },
      "source": [
        "#### 16. How to add a border (filled with 0's) around an existing array? (★☆☆)"
      ]
    },
    {
      "cell_type": "code",
      "execution_count": 28,
      "id": "662a99b4",
      "metadata": {
        "colab": {
          "base_uri": "https://localhost:8080/"
        },
        "id": "662a99b4",
        "outputId": "147c52d7-8256-472f-e893-bfe5d0feed75"
      },
      "outputs": [
        {
          "output_type": "stream",
          "name": "stdout",
          "text": [
            "[[0 0 0 0 0]\n",
            " [0 1 2 3 0]\n",
            " [0 4 5 6 0]\n",
            " [0 0 0 0 0]]\n"
          ]
        }
      ],
      "source": [
        "array = np.array([[1, 2, 3], [4, 5, 6]])\n",
        "\n",
        "padded_array = np.pad(array, pad_width=1, mode='constant', constant_values=0)\n",
        "\n",
        "print(padded_array)"
      ]
    },
    {
      "cell_type": "markdown",
      "id": "0464c4af",
      "metadata": {
        "id": "0464c4af"
      },
      "source": [
        "#### 17. What is the result of the following expression? (★☆☆)\n",
        "```python\n",
        "0 * np.nan\n",
        "np.nan == np.nan\n",
        "np.inf > np.nan\n",
        "np.nan - np.nan\n",
        "np.nan in set([np.nan])\n",
        "0.3 == 3 * 0.1\n",
        "```"
      ]
    },
    {
      "cell_type": "code",
      "execution_count": 30,
      "id": "18926a29",
      "metadata": {
        "colab": {
          "base_uri": "https://localhost:8080/"
        },
        "id": "18926a29",
        "outputId": "a2897147-0256-41d7-d4e9-b8c21e91bc66"
      },
      "outputs": [
        {
          "output_type": "stream",
          "name": "stdout",
          "text": [
            "nan\n",
            "False\n",
            "False\n",
            "nan\n",
            "True\n",
            "False\n"
          ]
        }
      ],
      "source": [
        "print(0 * np.nan)\n",
        "print(np.nan == np.nan)\n",
        "print(np.inf > np.nan)\n",
        "print(np.nan - np.nan)\n",
        "print(np.nan in set([np.nan]))\n",
        "print(0.3 == 3 * 0.1)"
      ]
    },
    {
      "cell_type": "markdown",
      "source": [
        "nan (не число) — это специальное значение с плавающей запятой, представляющее неопределенное или непредставимое значение. Оно не равно никакому другому значению, в том числе самому себе, и любая операция, включающая nan, приведет к nan.\n",
        "\n",
        "Значение inf (бесконечность) представляет собой положительную или отрицательную бесконечность, в зависимости от знака. Оно больше любого другого конечного значения, но не больше, чем nan.\n",
        "\n",
        "Функция set создает объект set, представляющий собой неупорядоченный набор уникальных элементов. Оператор in можно использовать для проверки того, находится ли элемент в наборе. В этом случае np.nan находится в наборе [np.nan]."
      ],
      "metadata": {
        "id": "5mSWwEy1GlrH"
      },
      "id": "5mSWwEy1GlrH"
    },
    {
      "cell_type": "markdown",
      "id": "afb90e8b",
      "metadata": {
        "id": "afb90e8b"
      },
      "source": [
        "#### 18. Create a 5x5 matrix with values 1,2,3,4 just below the diagonal (★☆☆)"
      ]
    },
    {
      "cell_type": "code",
      "execution_count": 29,
      "id": "8a988102",
      "metadata": {
        "colab": {
          "base_uri": "https://localhost:8080/"
        },
        "id": "8a988102",
        "outputId": "5ceb0c13-d631-42a0-b898-e67fa8baae20"
      },
      "outputs": [
        {
          "output_type": "stream",
          "name": "stdout",
          "text": [
            "[[0 0 0 0 0]\n",
            " [1 0 0 0 0]\n",
            " [0 2 0 0 0]\n",
            " [0 0 3 0 0]\n",
            " [0 0 0 4 0]]\n"
          ]
        }
      ],
      "source": [
        "matrix = np.diag([1, 2, 3, 4], k=-1)\n",
        "\n",
        "print(matrix)"
      ]
    },
    {
      "cell_type": "markdown",
      "id": "ca611f9e",
      "metadata": {
        "id": "ca611f9e"
      },
      "source": [
        "#### 19. Create a 8x8 matrix and fill it with a checkerboard pattern (★☆☆)"
      ]
    },
    {
      "cell_type": "code",
      "execution_count": 31,
      "id": "24049fc7",
      "metadata": {
        "colab": {
          "base_uri": "https://localhost:8080/"
        },
        "id": "24049fc7",
        "outputId": "8f255527-ebe6-4fb2-9fbf-64e1b91bd611"
      },
      "outputs": [
        {
          "output_type": "stream",
          "name": "stdout",
          "text": [
            "[[0 1 0 1 0 1 0 1]\n",
            " [1 0 1 0 1 0 1 0]\n",
            " [0 1 0 1 0 1 0 1]\n",
            " [1 0 1 0 1 0 1 0]\n",
            " [0 1 0 1 0 1 0 1]\n",
            " [1 0 1 0 1 0 1 0]\n",
            " [0 1 0 1 0 1 0 1]\n",
            " [1 0 1 0 1 0 1 0]]\n"
          ]
        }
      ],
      "source": [
        "pattern = np.array([[0, 1], [1, 0]])\n",
        "matrix = np.tile(pattern, (4, 4)).reshape((8, 8))\n",
        "\n",
        "print(matrix)"
      ]
    },
    {
      "cell_type": "markdown",
      "id": "9b77f7af",
      "metadata": {
        "id": "9b77f7af"
      },
      "source": [
        "#### 20. Consider a (6,7,8) shape array, what is the index (x,y,z) of the 100th \n",
        "\n",
        "---\n",
        "\n",
        "element? (★☆☆)"
      ]
    },
    {
      "cell_type": "code",
      "execution_count": 32,
      "id": "402efd68",
      "metadata": {
        "colab": {
          "base_uri": "https://localhost:8080/"
        },
        "id": "402efd68",
        "outputId": "5a7f09cb-bbf5-4e8d-9778-4447d39f6047"
      },
      "outputs": [
        {
          "output_type": "stream",
          "name": "stdout",
          "text": [
            "(1, 5, 4)\n"
          ]
        }
      ],
      "source": [
        "index = np.unravel_index(100, (6, 7, 8))\n",
        "\n",
        "print(index)"
      ]
    },
    {
      "cell_type": "markdown",
      "id": "07e399b8",
      "metadata": {
        "id": "07e399b8"
      },
      "source": [
        "#### 21. Create a checkerboard 8x8 matrix using the tile function (★☆☆)"
      ]
    },
    {
      "cell_type": "code",
      "execution_count": 33,
      "id": "867964a9",
      "metadata": {
        "colab": {
          "base_uri": "https://localhost:8080/"
        },
        "id": "867964a9",
        "outputId": "9977bdf5-859b-479b-829d-108c01a2964c"
      },
      "outputs": [
        {
          "output_type": "stream",
          "name": "stdout",
          "text": [
            "[[0 1 0 1 0 1 0 1]\n",
            " [1 0 1 0 1 0 1 0]\n",
            " [0 1 0 1 0 1 0 1]\n",
            " [1 0 1 0 1 0 1 0]\n",
            " [0 1 0 1 0 1 0 1]\n",
            " [1 0 1 0 1 0 1 0]\n",
            " [0 1 0 1 0 1 0 1]\n",
            " [1 0 1 0 1 0 1 0]]\n"
          ]
        }
      ],
      "source": [
        "matrix = np.tile(np.array([[0, 1], [1, 0]]), (4, 4))\n",
        "\n",
        "print(matrix)"
      ]
    },
    {
      "cell_type": "markdown",
      "id": "bc92d88a",
      "metadata": {
        "id": "bc92d88a"
      },
      "source": [
        "#### 22. Normalize a 5x5 random matrix (★☆☆)"
      ]
    },
    {
      "cell_type": "code",
      "execution_count": 34,
      "id": "a3709496",
      "metadata": {
        "colab": {
          "base_uri": "https://localhost:8080/"
        },
        "id": "a3709496",
        "outputId": "2f94ff14-05a1-412c-d403-6b478e4f8063"
      },
      "outputs": [
        {
          "output_type": "stream",
          "name": "stdout",
          "text": [
            "[[-1.46416207 -0.99048159 -0.92393405 -0.35164139  0.55380501]\n",
            " [ 0.65102797 -0.9398556   1.21656697 -0.77177166  0.36923079]\n",
            " [-0.19115359  0.67456857 -0.33766272  1.50483578 -0.99123334]\n",
            " [-1.52539708 -0.15845165  1.50747506  0.76669163  0.15035342]\n",
            " [-1.79357801  0.87934177  1.42813104 -0.5486755   1.28597026]]\n"
          ]
        }
      ],
      "source": [
        "matrix = np.random.rand(5, 5)\n",
        "\n",
        "mean = matrix.mean()\n",
        "std = matrix.std()\n",
        "normalized_matrix = (matrix - mean) / std\n",
        "\n",
        "print(normalized_matrix)"
      ]
    },
    {
      "cell_type": "markdown",
      "id": "9e2fd8ce",
      "metadata": {
        "id": "9e2fd8ce"
      },
      "source": [
        "#### 23. Create a custom dtype that describes a color as four unsigned bytes (RGBA) (★☆☆)"
      ]
    },
    {
      "cell_type": "code",
      "execution_count": 38,
      "id": "5881b2b5",
      "metadata": {
        "colab": {
          "base_uri": "https://localhost:8080/"
        },
        "id": "5881b2b5",
        "outputId": "c91e3f25-6a61-4655-c840-db940c76a63b"
      },
      "outputs": [
        {
          "output_type": "stream",
          "name": "stdout",
          "text": [
            "[('r', 'u1'), ('g', 'u1'), ('b', 'u1'), ('a', 'u1')]\n"
          ]
        }
      ],
      "source": [
        "color_dtype = np.dtype([('r', np.uint8), ('g', np.uint8), ('b', np.uint8), ('a', np.uint8)])\n",
        "\n",
        "print(color_dtype)"
      ]
    },
    {
      "cell_type": "markdown",
      "id": "d6904ab9",
      "metadata": {
        "id": "d6904ab9"
      },
      "source": [
        "#### 24. Multiply a 5x3 matrix by a 3x2 matrix (real matrix product) (★☆☆)"
      ]
    },
    {
      "cell_type": "code",
      "execution_count": 47,
      "id": "cb3b6528",
      "metadata": {
        "colab": {
          "base_uri": "https://localhost:8080/"
        },
        "id": "cb3b6528",
        "outputId": "08fa92c5-95ba-4fa5-a7c0-c6549565f455"
      },
      "outputs": [
        {
          "output_type": "stream",
          "name": "stdout",
          "text": [
            "[[1.35750176 0.88508745]\n",
            " [1.44455894 0.86951653]\n",
            " [0.97832923 0.70815507]\n",
            " [0.67497409 0.49847293]\n",
            " [0.81316253 0.45737366]]\n"
          ]
        }
      ],
      "source": [
        "matrix_a = np.random.rand(5, 3)\n",
        "\n",
        "matrix_b = np.random.rand(3, 2)\n",
        "\n",
        "matrix_c = np.dot(matrix_a, matrix_b)\n",
        "\n",
        "print(matrix_c)"
      ]
    },
    {
      "cell_type": "markdown",
      "id": "c57116dd",
      "metadata": {
        "id": "c57116dd"
      },
      "source": [
        "#### 25. Given a 1D array, negate all elements which are between 3 and 8, in place. (★☆☆)"
      ]
    },
    {
      "cell_type": "code",
      "execution_count": 48,
      "id": "4fbf1b1e",
      "metadata": {
        "colab": {
          "base_uri": "https://localhost:8080/"
        },
        "id": "4fbf1b1e",
        "outputId": "ae121a11-f470-4ff9-dda2-8feb5519a8ab"
      },
      "outputs": [
        {
          "output_type": "stream",
          "name": "stdout",
          "text": [
            "[ 1  2  3 -4 -5 -6 -7  8  9 10]\n"
          ]
        }
      ],
      "source": [
        "array = np.array([1, 2, 3, 4, 5, 6, 7, 8, 9, 10])\n",
        "\n",
        "array[np.where((array > 3) & (array < 8))] = np.negative(array[np.where((array > 3) & (array < 8))])\n",
        "\n",
        "print(array)"
      ]
    },
    {
      "cell_type": "markdown",
      "id": "52707d61",
      "metadata": {
        "id": "52707d61"
      },
      "source": [
        "#### 26. What is the output of the following script? (★☆☆)\n",
        "```python\n",
        "# Author: Jake VanderPlas\n",
        "\n",
        "print(sum(range(5),-1))\n",
        "from numpy import *\n",
        "print(sum(range(5),-1))\n",
        "```"
      ]
    },
    {
      "cell_type": "code",
      "execution_count": 49,
      "id": "18a238e6",
      "metadata": {
        "colab": {
          "base_uri": "https://localhost:8080/"
        },
        "id": "18a238e6",
        "outputId": "0b6d6046-a6d7-4cf3-9f65-676037543547"
      },
      "outputs": [
        {
          "output_type": "stream",
          "name": "stdout",
          "text": [
            "9\n",
            "10\n"
          ]
        }
      ],
      "source": [
        "print(sum(range(5),-1))\n",
        "from numpy import *\n",
        "print(sum(range(5),-1))"
      ]
    },
    {
      "cell_type": "markdown",
      "id": "5ab377fd",
      "metadata": {
        "id": "5ab377fd"
      },
      "source": [
        "#### 27. Consider an integer vector Z, which of these expressions are legal? (★☆☆)\n",
        "```python\n",
        "Z**Z\n",
        "2 << Z >> 2\n",
        "Z <- Z\n",
        "1j*Z\n",
        "Z/1/1\n",
        "Z<Z>Z\n",
        "```"
      ]
    },
    {
      "cell_type": "code",
      "execution_count": null,
      "id": "36cc66a9",
      "metadata": {
        "id": "36cc66a9"
      },
      "outputs": [],
      "source": []
    },
    {
      "cell_type": "markdown",
      "id": "654f223f",
      "metadata": {
        "id": "654f223f"
      },
      "source": [
        "#### 28. What are the result of the following expressions? (★☆☆)\n",
        "```python\n",
        "np.array(0) / np.array(0)\n",
        "np.array(0) // np.array(0)\n",
        "np.array([np.nan]).astype(int).astype(float)\n",
        "```"
      ]
    },
    {
      "cell_type": "code",
      "execution_count": 50,
      "id": "6d9d3c21",
      "metadata": {
        "colab": {
          "base_uri": "https://localhost:8080/"
        },
        "id": "6d9d3c21",
        "outputId": "626a2331-2c23-4e38-ae67-eb1fa5e4468c"
      },
      "outputs": [
        {
          "output_type": "stream",
          "name": "stdout",
          "text": [
            "nan\n",
            "0\n",
            "[-9.22337204e+18]\n"
          ]
        },
        {
          "output_type": "stream",
          "name": "stderr",
          "text": [
            "<ipython-input-50-2a10de0ee61b>:1: RuntimeWarning: invalid value encountered in true_divide\n",
            "  print(np.array(0) / np.array(0))\n",
            "<ipython-input-50-2a10de0ee61b>:2: RuntimeWarning: divide by zero encountered in floor_divide\n",
            "  print(np.array(0) // np.array(0))\n"
          ]
        }
      ],
      "source": [
        "print(np.array(0) / np.array(0))\n",
        "print(np.array(0) // np.array(0))\n",
        "print(np.array([np.nan]).astype(int).astype(float))"
      ]
    },
    {
      "cell_type": "markdown",
      "id": "a7e00adf",
      "metadata": {
        "id": "a7e00adf"
      },
      "source": [
        "#### 29. How to round away from zero a float array ? (★☆☆)"
      ]
    },
    {
      "cell_type": "code",
      "execution_count": 52,
      "id": "6ee5777d",
      "metadata": {
        "colab": {
          "base_uri": "https://localhost:8080/"
        },
        "id": "6ee5777d",
        "outputId": "03b262e0-47cf-44cf-a28d-73f440b509a2"
      },
      "outputs": [
        {
          "output_type": "stream",
          "name": "stdout",
          "text": [
            "[-1. -0.  1.  2.]\n",
            "[-2. -1.  0.  1.]\n"
          ]
        }
      ],
      "source": [
        "array = np.array([-1.5, -0.5, 0.5, 1.5])\n",
        "\n",
        "rounded_array_ceil = np.ceil(array) \n",
        "rounded_array_floor = np.floor(array) \n",
        "\n",
        "print(rounded_array_ceil)\n",
        "print(rounded_array_floor)"
      ]
    },
    {
      "cell_type": "markdown",
      "id": "56be1f05",
      "metadata": {
        "id": "56be1f05"
      },
      "source": [
        "#### 30. How to find common values between two arrays? (★☆☆)"
      ]
    },
    {
      "cell_type": "code",
      "execution_count": 58,
      "id": "62eeedc0",
      "metadata": {
        "colab": {
          "base_uri": "https://localhost:8080/"
        },
        "id": "62eeedc0",
        "outputId": "eadcb426-563b-40ec-deff-a0984256413c"
      },
      "outputs": [
        {
          "output_type": "stream",
          "name": "stdout",
          "text": [
            "[1 5 9]\n"
          ]
        }
      ],
      "source": [
        "array_a = np.random.randint(1, 10, size=(5,))\n",
        "array_b = np.random.randint(1, 10, size=(5,))\n",
        "\n",
        "common_values = np.intersect1d(array_a, array_b)\n",
        "\n",
        "print(common_values)"
      ]
    },
    {
      "cell_type": "markdown",
      "id": "83567c5c",
      "metadata": {
        "id": "83567c5c"
      },
      "source": [
        "#### 31. How to ignore all numpy warnings (not recommended)? (★☆☆)"
      ]
    },
    {
      "cell_type": "code",
      "execution_count": 57,
      "id": "fa02b423",
      "metadata": {
        "id": "fa02b423"
      },
      "outputs": [],
      "source": [
        "defaults = np.seterr(all = 'ignore')"
      ]
    },
    {
      "cell_type": "markdown",
      "id": "0a7449b6",
      "metadata": {
        "id": "0a7449b6"
      },
      "source": [
        "#### 32. Is the following expressions true? (★☆☆)\n",
        "```python\n",
        "np.sqrt(-1) == np.emath.sqrt(-1)\n",
        "```"
      ]
    },
    {
      "cell_type": "code",
      "execution_count": 59,
      "id": "69eb4456",
      "metadata": {
        "colab": {
          "base_uri": "https://localhost:8080/"
        },
        "id": "69eb4456",
        "outputId": "c376e931-dd01-4f75-992d-550720a0834b"
      },
      "outputs": [
        {
          "output_type": "execute_result",
          "data": {
            "text/plain": [
              "False"
            ]
          },
          "metadata": {},
          "execution_count": 59
        }
      ],
      "source": [
        "np.sqrt(-1) == np.emath.sqrt(-1)"
      ]
    },
    {
      "cell_type": "markdown",
      "id": "9d434219",
      "metadata": {
        "id": "9d434219"
      },
      "source": [
        "#### 33. How to get the dates of yesterday, today and tomorrow? (★☆☆)"
      ]
    },
    {
      "cell_type": "code",
      "execution_count": 60,
      "id": "0b192943",
      "metadata": {
        "colab": {
          "base_uri": "https://localhost:8080/"
        },
        "id": "0b192943",
        "outputId": "15fc8c35-9c00-4a84-a212-1646c6366ca5"
      },
      "outputs": [
        {
          "output_type": "stream",
          "name": "stdout",
          "text": [
            "2022-12-22\n",
            "2022-12-23\n",
            "2022-12-24\n"
          ]
        }
      ],
      "source": [
        "today = np.datetime64('today')\n",
        "\n",
        "yesterday = today - np.timedelta64(1, 'D')\n",
        "\n",
        "tomorrow = today + np.timedelta64(1, 'D')\n",
        "\n",
        "print(yesterday)  \n",
        "print(today)  \n",
        "print(tomorrow) "
      ]
    },
    {
      "cell_type": "markdown",
      "id": "b0e44339",
      "metadata": {
        "id": "b0e44339"
      },
      "source": [
        "#### 34. How to get all the dates corresponding to the month of July 2016? (★★☆)"
      ]
    },
    {
      "cell_type": "code",
      "execution_count": 61,
      "id": "8bf7daa6",
      "metadata": {
        "colab": {
          "base_uri": "https://localhost:8080/"
        },
        "id": "8bf7daa6",
        "outputId": "8161df34-e95a-4b23-89f8-aa578cdedf5d"
      },
      "outputs": [
        {
          "output_type": "stream",
          "name": "stdout",
          "text": [
            "['2016-07-01' '2016-07-02' '2016-07-03' '2016-07-04' '2016-07-05'\n",
            " '2016-07-06' '2016-07-07' '2016-07-08' '2016-07-09' '2016-07-10'\n",
            " '2016-07-11' '2016-07-12' '2016-07-13' '2016-07-14' '2016-07-15'\n",
            " '2016-07-16' '2016-07-17' '2016-07-18' '2016-07-19' '2016-07-20'\n",
            " '2016-07-21' '2016-07-22' '2016-07-23' '2016-07-24' '2016-07-25'\n",
            " '2016-07-26' '2016-07-27' '2016-07-28' '2016-07-29' '2016-07-30'\n",
            " '2016-07-31']\n"
          ]
        }
      ],
      "source": [
        "start_date = np.datetime64('2016-07-01')\n",
        "\n",
        "end_date = np.datetime64('2016-07-31')\n",
        "\n",
        "dates = np.arange(start_date, end_date+1, dtype='datetime64[D]')\n",
        "\n",
        "print(dates)"
      ]
    },
    {
      "cell_type": "markdown",
      "id": "f9b3c24a",
      "metadata": {
        "id": "f9b3c24a"
      },
      "source": [
        "#### 35. How to compute ((A+B)*(-A/2)) in place (without copy)? (★★☆)"
      ]
    },
    {
      "cell_type": "code",
      "execution_count": 71,
      "id": "40da18c9",
      "metadata": {
        "colab": {
          "base_uri": "https://localhost:8080/"
        },
        "id": "40da18c9",
        "outputId": "6aad1118-a8cb-46e6-ee3b-4c880ebec38d"
      },
      "outputs": [
        {
          "output_type": "stream",
          "name": "stdout",
          "text": [
            "[-1.5 -1.5 -1.5 -1.5 -1.5]\n"
          ]
        }
      ],
      "source": [
        "A = np.ones(5) * 1 \n",
        "B = np.ones(5) * 2\n",
        "\n",
        "np.add(A, B, out=A)\n",
        "np.negative(A, out=A)\n",
        "np.divide(A, 2, out=A)\n",
        "\n",
        "print(A)"
      ]
    },
    {
      "cell_type": "markdown",
      "id": "cbb64ee9",
      "metadata": {
        "id": "cbb64ee9"
      },
      "source": [
        "#### 36. Extract the integer part of a random array of positive numbers using 4 different methods (★★☆)"
      ]
    },
    {
      "cell_type": "code",
      "execution_count": 68,
      "id": "f83748bd",
      "metadata": {
        "colab": {
          "base_uri": "https://localhost:8080/"
        },
        "id": "f83748bd",
        "outputId": "7d497c57-67b7-4793-a3b4-1999b57318e4"
      },
      "outputs": [
        {
          "output_type": "stream",
          "name": "stdout",
          "text": [
            "[0. 0. 0. 0. 0.]\n",
            "[0 0 0 0 0]\n",
            "[0. 0. 0. 0. 0.]\n",
            "[0 1 0 1 0]\n"
          ]
        }
      ],
      "source": [
        "array = np.random.rand(5)\n",
        "integer_part = np.floor(array)\n",
        "print(integer_part)\n",
        "\n",
        "array = np.random.rand(5)\n",
        "integer_part = array.astype(int)\n",
        "print(integer_part)\n",
        "\n",
        "array = np.random.rand(5)\n",
        "integer_part = np.trunc(array)\n",
        "print(integer_part)\n",
        "\n",
        "array = np.random.rand(5)\n",
        "integer_part = np.round(array).astype(int)\n",
        "print(integer_part)"
      ]
    },
    {
      "cell_type": "markdown",
      "id": "8418e1e4",
      "metadata": {
        "id": "8418e1e4"
      },
      "source": [
        "#### 37. Create a 5x5 matrix with row values ranging from 0 to 4 (★★☆)"
      ]
    },
    {
      "cell_type": "code",
      "execution_count": 75,
      "id": "08e726e4",
      "metadata": {
        "colab": {
          "base_uri": "https://localhost:8080/"
        },
        "id": "08e726e4",
        "outputId": "63f2e83f-b225-46e3-e45a-6ff9089ece74"
      },
      "outputs": [
        {
          "output_type": "stream",
          "name": "stdout",
          "text": [
            "[[0. 1. 2. 3. 4.]\n",
            " [0. 1. 2. 3. 4.]\n",
            " [0. 1. 2. 3. 4.]\n",
            " [0. 1. 2. 3. 4.]\n",
            " [0. 1. 2. 3. 4.]]\n"
          ]
        }
      ],
      "source": [
        "a = np.zeros((5,5))\n",
        "a += np.arange(5)\n",
        "print(a)"
      ]
    },
    {
      "cell_type": "markdown",
      "id": "a8420e2c",
      "metadata": {
        "id": "a8420e2c"
      },
      "source": [
        "#### 38. Consider a generator function that generates 10 integers and use it to build an array (★☆☆)"
      ]
    },
    {
      "cell_type": "code",
      "execution_count": 77,
      "id": "c58e77ad",
      "metadata": {
        "colab": {
          "base_uri": "https://localhost:8080/"
        },
        "id": "c58e77ad",
        "outputId": "85b331da-a3f1-4c5e-c8bc-c0e239e6196f"
      },
      "outputs": [
        {
          "output_type": "stream",
          "name": "stdout",
          "text": [
            "[0 1 2 3 4 5 6 7 8 9]\n"
          ]
        }
      ],
      "source": [
        "def generator_function():\n",
        "    for i in range(10):\n",
        "        yield i\n",
        "array = np.fromiter(generator_function(), dtype=int)\n",
        "\n",
        "print(array)"
      ]
    },
    {
      "cell_type": "markdown",
      "id": "deab3e77",
      "metadata": {
        "id": "deab3e77"
      },
      "source": [
        "#### 39. Create a vector of size 10 with values ranging from 0 to 1, both excluded (★★☆)"
      ]
    },
    {
      "cell_type": "code",
      "execution_count": 78,
      "id": "2c5fafc8",
      "metadata": {
        "colab": {
          "base_uri": "https://localhost:8080/"
        },
        "id": "2c5fafc8",
        "outputId": "974e02d4-a5f0-4f19-ac10-da68ef341f79"
      },
      "outputs": [
        {
          "output_type": "stream",
          "name": "stdout",
          "text": [
            "[0.  0.1 0.2 0.3 0.4 0.5 0.6 0.7 0.8 0.9]\n"
          ]
        }
      ],
      "source": [
        "vector = np.linspace(0, 1, 10, endpoint=False)\n",
        "\n",
        "print(vector)"
      ]
    },
    {
      "cell_type": "markdown",
      "id": "5bb5de9c",
      "metadata": {
        "id": "5bb5de9c"
      },
      "source": [
        "#### 40. Create a random vector of size 10 and sort it (★★☆)"
      ]
    },
    {
      "cell_type": "code",
      "execution_count": 84,
      "id": "b9916965",
      "metadata": {
        "colab": {
          "base_uri": "https://localhost:8080/"
        },
        "id": "b9916965",
        "outputId": "23c15e01-04e7-4eec-db89-9a104346e9fe"
      },
      "outputs": [
        {
          "output_type": "stream",
          "name": "stdout",
          "text": [
            "[0.01124676 0.06071943 0.1384384  0.1651925  0.20169384 0.24400137\n",
            " 0.53761742 0.56016771 0.71073842 0.93229251]\n"
          ]
        }
      ],
      "source": [
        "array = np.random.random(10)\n",
        "\n",
        "print(np.sort(array))"
      ]
    },
    {
      "cell_type": "markdown",
      "id": "ebc8ad64",
      "metadata": {
        "id": "ebc8ad64"
      },
      "source": [
        "#### 41. How to sum a small array faster than np.sum? (★★☆)"
      ]
    },
    {
      "cell_type": "code",
      "execution_count": 87,
      "id": "e7ac9923",
      "metadata": {
        "colab": {
          "base_uri": "https://localhost:8080/"
        },
        "id": "e7ac9923",
        "outputId": "8c8f66a3-f438-4dd0-9905-947f461ba8aa"
      },
      "outputs": [
        {
          "output_type": "stream",
          "name": "stdout",
          "text": [
            "10\n"
          ]
        }
      ],
      "source": [
        "array = np.arange(5)\n",
        "\n",
        "print(np.add.reduce(array))"
      ]
    },
    {
      "cell_type": "markdown",
      "id": "4abfb753",
      "metadata": {
        "id": "4abfb753"
      },
      "source": [
        "#### 42. Consider two random array A and B, check if they are equal (★★☆)"
      ]
    },
    {
      "cell_type": "code",
      "execution_count": 88,
      "id": "d265b5f6",
      "metadata": {
        "colab": {
          "base_uri": "https://localhost:8080/"
        },
        "id": "d265b5f6",
        "outputId": "52910988-8043-4662-b53f-e47db5d40e62"
      },
      "outputs": [
        {
          "output_type": "stream",
          "name": "stdout",
          "text": [
            "False\n"
          ]
        }
      ],
      "source": [
        "array_a = np.random.random(10)\n",
        "array_b = np.random.random(10)\n",
        "\n",
        "are_equal = np.array_equal(array_a, array_b)\n",
        "\n",
        "print(are_equal)"
      ]
    },
    {
      "cell_type": "markdown",
      "id": "c8fad2be",
      "metadata": {
        "id": "c8fad2be"
      },
      "source": [
        "#### 43. Make an array immutable (read-only) (★★☆)"
      ]
    },
    {
      "cell_type": "code",
      "execution_count": 89,
      "id": "cadce095",
      "metadata": {
        "colab": {
          "base_uri": "https://localhost:8080/"
        },
        "id": "cadce095",
        "outputId": "2c6840af-6aaf-4da7-c903-b81ede5bc459"
      },
      "outputs": [
        {
          "output_type": "stream",
          "name": "stdout",
          "text": [
            "assignment destination is read-only\n"
          ]
        }
      ],
      "source": [
        "array = np.array([1, 2, 3, 4, 5])\n",
        "\n",
        "array.flags.writeable = False\n",
        "\n",
        "try:\n",
        "    array[0] = 10\n",
        "except ValueError as e:\n",
        "    print(e) "
      ]
    },
    {
      "cell_type": "markdown",
      "id": "91b25fb1",
      "metadata": {
        "id": "91b25fb1"
      },
      "source": [
        "#### 44. Consider a random 10x2 matrix representing cartesian coordinates, convert them to polar coordinates (★★☆)"
      ]
    },
    {
      "cell_type": "code",
      "execution_count": 90,
      "id": "3f5fb344",
      "metadata": {
        "colab": {
          "base_uri": "https://localhost:8080/"
        },
        "id": "3f5fb344",
        "outputId": "1b17a83e-a772-4812-ce99-db145c0424af"
      },
      "outputs": [
        {
          "output_type": "stream",
          "name": "stdout",
          "text": [
            "[[0.87174304 0.82336481]\n",
            " [1.39585564 0.75638437]\n",
            " [0.92298248 1.07807304]\n",
            " [0.87867189 0.90310134]\n",
            " [0.94559569 0.80567762]\n",
            " [0.91118592 0.98772921]\n",
            " [0.40814039 0.51291425]\n",
            " [0.98897207 0.99917213]\n",
            " [0.95859183 0.70247684]\n",
            " [0.21259035 0.78812217]]\n"
          ]
        }
      ],
      "source": [
        "cartesian = np.random.random((10, 2))\n",
        "\n",
        "polar = np.column_stack((np.arctan2(cartesian[:, 1], cartesian[:, 0]), np.hypot(cartesian[:, 0], cartesian[:, 1])))\n",
        "\n",
        "print(polar)"
      ]
    },
    {
      "cell_type": "markdown",
      "id": "7e4116bc",
      "metadata": {
        "id": "7e4116bc"
      },
      "source": [
        "#### 45. Create random vector of size 10 and replace the maximum value by 0 (★★☆)"
      ]
    },
    {
      "cell_type": "code",
      "execution_count": 94,
      "id": "b4e895f6",
      "metadata": {
        "colab": {
          "base_uri": "https://localhost:8080/"
        },
        "id": "b4e895f6",
        "outputId": "cf651855-4bef-4a3d-c7f0-6fe9c1c923b3"
      },
      "outputs": [
        {
          "output_type": "stream",
          "name": "stdout",
          "text": [
            "[0.64505873 0.94797078 0.668907   0.94937806 0.37788204 0.21564395\n",
            " 0.10944435 0.02846033 0.64516808 0.87464055]\n",
            "[0.64505873 0.94797078 0.668907   0.         0.37788204 0.21564395\n",
            " 0.10944435 0.02846033 0.64516808 0.87464055]\n"
          ]
        }
      ],
      "source": [
        "vector = np.random.random(10)\n",
        "print(vector)\n",
        "vector[vector.argmax()] = 0\n",
        "print(vector)"
      ]
    },
    {
      "cell_type": "markdown",
      "id": "f5b68c55",
      "metadata": {
        "id": "f5b68c55"
      },
      "source": [
        "#### 46. Create a structured array with `x` and `y` coordinates covering the [0,1]x[0,1] area (★★☆)"
      ]
    },
    {
      "cell_type": "code",
      "execution_count": 96,
      "id": "32fd3691",
      "metadata": {
        "colab": {
          "base_uri": "https://localhost:8080/"
        },
        "id": "32fd3691",
        "outputId": "46929b1a-35d6-431e-f9f1-9998bedd776d"
      },
      "outputs": [
        {
          "output_type": "stream",
          "name": "stdout",
          "text": [
            "[[[0.         0.        ]\n",
            "  [0.11111111 0.        ]\n",
            "  [0.22222222 0.        ]\n",
            "  [0.33333333 0.        ]\n",
            "  [0.44444444 0.        ]\n",
            "  [0.55555556 0.        ]\n",
            "  [0.66666667 0.        ]\n",
            "  [0.77777778 0.        ]\n",
            "  [0.88888889 0.        ]\n",
            "  [1.         0.        ]]\n",
            "\n",
            " [[0.         0.11111111]\n",
            "  [0.11111111 0.11111111]\n",
            "  [0.22222222 0.11111111]\n",
            "  [0.33333333 0.11111111]\n",
            "  [0.44444444 0.11111111]\n",
            "  [0.55555556 0.11111111]\n",
            "  [0.66666667 0.11111111]\n",
            "  [0.77777778 0.11111111]\n",
            "  [0.88888889 0.11111111]\n",
            "  [1.         0.11111111]]\n",
            "\n",
            " [[0.         0.22222222]\n",
            "  [0.11111111 0.22222222]\n",
            "  [0.22222222 0.22222222]\n",
            "  [0.33333333 0.22222222]\n",
            "  [0.44444444 0.22222222]\n",
            "  [0.55555556 0.22222222]\n",
            "  [0.66666667 0.22222222]\n",
            "  [0.77777778 0.22222222]\n",
            "  [0.88888889 0.22222222]\n",
            "  [1.         0.22222222]]\n",
            "\n",
            " [[0.         0.33333333]\n",
            "  [0.11111111 0.33333333]\n",
            "  [0.22222222 0.33333333]\n",
            "  [0.33333333 0.33333333]\n",
            "  [0.44444444 0.33333333]\n",
            "  [0.55555556 0.33333333]\n",
            "  [0.66666667 0.33333333]\n",
            "  [0.77777778 0.33333333]\n",
            "  [0.88888889 0.33333333]\n",
            "  [1.         0.33333333]]\n",
            "\n",
            " [[0.         0.44444444]\n",
            "  [0.11111111 0.44444444]\n",
            "  [0.22222222 0.44444444]\n",
            "  [0.33333333 0.44444444]\n",
            "  [0.44444444 0.44444444]\n",
            "  [0.55555556 0.44444444]\n",
            "  [0.66666667 0.44444444]\n",
            "  [0.77777778 0.44444444]\n",
            "  [0.88888889 0.44444444]\n",
            "  [1.         0.44444444]]\n",
            "\n",
            " [[0.         0.55555556]\n",
            "  [0.11111111 0.55555556]\n",
            "  [0.22222222 0.55555556]\n",
            "  [0.33333333 0.55555556]\n",
            "  [0.44444444 0.55555556]\n",
            "  [0.55555556 0.55555556]\n",
            "  [0.66666667 0.55555556]\n",
            "  [0.77777778 0.55555556]\n",
            "  [0.88888889 0.55555556]\n",
            "  [1.         0.55555556]]\n",
            "\n",
            " [[0.         0.66666667]\n",
            "  [0.11111111 0.66666667]\n",
            "  [0.22222222 0.66666667]\n",
            "  [0.33333333 0.66666667]\n",
            "  [0.44444444 0.66666667]\n",
            "  [0.55555556 0.66666667]\n",
            "  [0.66666667 0.66666667]\n",
            "  [0.77777778 0.66666667]\n",
            "  [0.88888889 0.66666667]\n",
            "  [1.         0.66666667]]\n",
            "\n",
            " [[0.         0.77777778]\n",
            "  [0.11111111 0.77777778]\n",
            "  [0.22222222 0.77777778]\n",
            "  [0.33333333 0.77777778]\n",
            "  [0.44444444 0.77777778]\n",
            "  [0.55555556 0.77777778]\n",
            "  [0.66666667 0.77777778]\n",
            "  [0.77777778 0.77777778]\n",
            "  [0.88888889 0.77777778]\n",
            "  [1.         0.77777778]]\n",
            "\n",
            " [[0.         0.88888889]\n",
            "  [0.11111111 0.88888889]\n",
            "  [0.22222222 0.88888889]\n",
            "  [0.33333333 0.88888889]\n",
            "  [0.44444444 0.88888889]\n",
            "  [0.55555556 0.88888889]\n",
            "  [0.66666667 0.88888889]\n",
            "  [0.77777778 0.88888889]\n",
            "  [0.88888889 0.88888889]\n",
            "  [1.         0.88888889]]\n",
            "\n",
            " [[0.         1.        ]\n",
            "  [0.11111111 1.        ]\n",
            "  [0.22222222 1.        ]\n",
            "  [0.33333333 1.        ]\n",
            "  [0.44444444 1.        ]\n",
            "  [0.55555556 1.        ]\n",
            "  [0.66666667 1.        ]\n",
            "  [0.77777778 1.        ]\n",
            "  [0.88888889 1.        ]\n",
            "  [1.         1.        ]]]\n"
          ]
        }
      ],
      "source": [
        "x, y = np.meshgrid(np.linspace(0, 1, 10), np.linspace(0, 1, 10))\n",
        "coordinates = np.stack((x, y), axis=-1)\n",
        "\n",
        "print(coordinates)"
      ]
    },
    {
      "cell_type": "markdown",
      "id": "378bc4e9",
      "metadata": {
        "id": "378bc4e9"
      },
      "source": [
        "#### 47. Given two arrays, X and Y, construct the Cauchy matrix C (Cij =1/(xi - yj)) (★★☆)"
      ]
    },
    {
      "cell_type": "code",
      "execution_count": 99,
      "id": "43282e51",
      "metadata": {
        "colab": {
          "base_uri": "https://localhost:8080/"
        },
        "id": "43282e51",
        "outputId": "61fe89b9-f1ab-4b71-d85a-f11a4f6f5f6b"
      },
      "outputs": [
        {
          "output_type": "stream",
          "name": "stdout",
          "text": [
            "[[ 21.39909512   1.13736299   1.80677238  12.82818252 -39.97445236\n",
            "    1.32876986 -11.17638069   1.26243786   1.52551558   3.32356045]\n",
            " [ -2.39705683   2.40779602  11.16520757  -2.59096997  -2.04530269\n",
            "    3.4642045   -1.80706472   3.04683919   5.21901942  -6.1339509 ]\n",
            " [-51.0746118    1.23013844   2.05270103  85.88690627 -10.94976935\n",
            "    1.45716173  -6.41912175   1.37777475   1.69719947   4.26308343]\n",
            " [ -7.00609866   1.44977323   2.7471817   -8.96777572  -4.6624456\n",
            "    1.77584555  -3.58502426   1.65932565   2.14568172   8.97517753]\n",
            " [-46.69537015   1.23292334   2.06046728 101.96779302 -10.73395283\n",
            "    1.46107103  -6.34434231   1.38126918   1.70250515   4.2967176 ]\n",
            " [ -5.93831094   1.50580235   2.95557054  -7.28992431  -4.1641512\n",
            "    1.86064939  -3.28295739   1.73313471   2.27072964  11.66137993]\n",
            " [ -2.66120694   2.18949423   7.63517     -2.90236223  -2.23455561\n",
            "    3.02961015  -1.95322151   2.70549669   4.29155473  -8.22245682]\n",
            " [ -1.27153403  21.71825781  -3.57513877  -1.32410133  -1.16523152\n",
            "  -12.40590079  -1.08382641 -24.3520067   -5.62852345  -1.87863836]\n",
            " [ -1.51477531   5.80275561  -6.51798222  -1.589973    -1.36628663\n",
            "   21.89098456  -1.25569888  11.73387604 -19.46328798  -2.46297703]\n",
            " [ -1.25202429  29.59517991  -3.42507576  -1.30295854  -1.14882648\n",
            "  -10.76869929  -1.0696195  -18.7549347   -5.26533575  -1.83636062]]\n"
          ]
        }
      ],
      "source": [
        "X = np.random.random(10)\n",
        "Y = np.random.random(10)\n",
        "\n",
        "C = np.reciprocal(np.subtract.outer(X, Y))\n",
        "\n",
        "print(C)"
      ]
    },
    {
      "cell_type": "markdown",
      "id": "7f45d2f9",
      "metadata": {
        "id": "7f45d2f9"
      },
      "source": [
        "#### 48. Print the minimum and maximum representable value for each numpy scalar type (★★☆)"
      ]
    },
    {
      "cell_type": "code",
      "execution_count": 100,
      "id": "a7f37b9e",
      "metadata": {
        "colab": {
          "base_uri": "https://localhost:8080/"
        },
        "id": "a7f37b9e",
        "outputId": "bf1e1cc9-23b9-41c9-953c-a90afc8929e2"
      },
      "outputs": [
        {
          "output_type": "stream",
          "name": "stdout",
          "text": [
            "<class 'numpy.int8'>: -128 to 127\n",
            "<class 'numpy.int16'>: -32768 to 32767\n",
            "<class 'numpy.int32'>: -2147483648 to 2147483647\n",
            "<class 'numpy.int64'>: -9223372036854775808 to 9223372036854775807\n",
            "<class 'numpy.float16'>: -65504.0 to 65504.0\n",
            "<class 'numpy.float32'>: -3.4028234663852886e+38 to 3.4028234663852886e+38\n",
            "<class 'numpy.float64'>: -1.7976931348623157e+308 to 1.7976931348623157e+308\n"
          ]
        }
      ],
      "source": [
        "for dtype in [np.int8, np.int16, np.int32, np.int64]:\n",
        "    info = np.iinfo(dtype)\n",
        "    print(f\"{dtype}: {info.min} to {info.max}\")\n",
        "\n",
        "for dtype in [np.float16, np.float32, np.float64]:\n",
        "    info = np.finfo(dtype)\n",
        "    print(f\"{dtype}: {info.min} to {info.max}\")"
      ]
    },
    {
      "cell_type": "markdown",
      "id": "1d269f07",
      "metadata": {
        "id": "1d269f07"
      },
      "source": [
        "#### 49. How to print all the values of an array? (★★☆)"
      ]
    },
    {
      "cell_type": "code",
      "execution_count": 110,
      "id": "fde90b07",
      "metadata": {
        "colab": {
          "base_uri": "https://localhost:8080/"
        },
        "id": "fde90b07",
        "outputId": "f22a126e-fa05-461f-dbb4-4fb2dfbfa68e"
      },
      "outputs": [
        {
          "output_type": "stream",
          "name": "stdout",
          "text": [
            "[0.41668277 0.6328222  0.98637688 0.42650006 0.12883737 0.54726256\n",
            " 0.89733626 0.86690273 0.99596208 0.34464711]\n"
          ]
        }
      ],
      "source": [
        "np.set_printoptions(threshold=float(\"inf\"))\n",
        "array = np.random.random(10)\n",
        "print(array)"
      ]
    },
    {
      "cell_type": "markdown",
      "id": "ed655678",
      "metadata": {
        "id": "ed655678"
      },
      "source": [
        "#### 50. How to find the closest value (to a given scalar) in a vector? (★★☆)"
      ]
    },
    {
      "cell_type": "code",
      "execution_count": 112,
      "id": "55e0812f",
      "metadata": {
        "colab": {
          "base_uri": "https://localhost:8080/"
        },
        "id": "55e0812f",
        "outputId": "051a9cff-bc7c-4b05-9ed0-e2c60bb41302"
      },
      "outputs": [
        {
          "output_type": "stream",
          "name": "stdout",
          "text": [
            "The closest value to 3.6 is 4\n"
          ]
        }
      ],
      "source": [
        "arr = np.array([1, 5, 2, 3, 4])\n",
        "\n",
        "scalar = 3.6\n",
        "idx = np.abs(arr - scalar).argmin()\n",
        "closest_value = arr[idx]\n",
        "\n",
        "print(f\"The closest value to {scalar} is {closest_value}\")"
      ]
    },
    {
      "cell_type": "markdown",
      "id": "3f73f88f",
      "metadata": {
        "id": "3f73f88f"
      },
      "source": [
        "#### 51. Create a structured array representing a position (x,y) and a color (r,g,b) (★★☆)"
      ]
    },
    {
      "cell_type": "code",
      "execution_count": 117,
      "id": "74b51105",
      "metadata": {
        "colab": {
          "base_uri": "https://localhost:8080/"
        },
        "id": "74b51105",
        "outputId": "ac6b36e1-3536-4f4a-9da8-6f8b6601cfc8"
      },
      "outputs": [
        {
          "output_type": "stream",
          "name": "stdout",
          "text": [
            "[(1, 2, 255,   0, 0) (3, 4,   0, 255, 0)]\n"
          ]
        }
      ],
      "source": [
        "arr = np.array([(1, 2, 255, 0, 0), (3, 4, 0, 255, 0)],\n",
        "               dtype=[(\"x\", np.int32), (\"y\", np.int32), (\"r\", np.uint8), (\"g\", np.uint8), (\"b\", np.uint8)])\n",
        "\n",
        "print(arr)"
      ]
    },
    {
      "cell_type": "markdown",
      "id": "db83eee0",
      "metadata": {
        "id": "db83eee0"
      },
      "source": [
        "#### 52. Consider a random vector with shape (100,2) representing coordinates, find point by point distances (★★☆)"
      ]
    },
    {
      "cell_type": "code",
      "execution_count": 115,
      "id": "10884922",
      "metadata": {
        "colab": {
          "base_uri": "https://localhost:8080/"
        },
        "id": "10884922",
        "outputId": "10584181-c59f-42ba-8dbc-88f8719bb326"
      },
      "outputs": [
        {
          "output_type": "stream",
          "name": "stdout",
          "text": [
            "[[0.         0.76040784 0.15167409 0.32781817 1.20421136 0.06276291\n",
            "  0.90096418 0.94465082 0.58439602 0.2097675  0.71760828 0.17137362\n",
            "  0.51794429 0.33167065 0.5998516  0.59075257 0.27098088 0.60650173\n",
            "  0.05575632 0.80350231 0.51106543 0.80145663 1.11883399 0.32523891\n",
            "  0.68491101 0.11493638 0.85954941 0.85078477 1.02575513 1.09470004\n",
            "  0.63383082 0.56091378 0.73730998 0.18709807 0.43094633 1.0815737\n",
            "  0.4339717  0.94592586 0.69635753 0.43997702 0.80635058 0.34326975\n",
            "  0.85101804 0.61019627 0.87828821 1.13068302 0.82429133 0.57035181\n",
            "  0.09232111 0.06328697 0.82862204 0.68970868 0.32762044 0.80065747\n",
            "  0.73001598 0.73949261 0.21719104 0.63273533 0.59931619 0.26709006\n",
            "  0.67291519 0.16792043 0.98601495 0.39869015 0.52477896 1.0047325\n",
            "  0.41820208 1.00982362 0.45329097 0.92696268 0.31837691 0.84472624\n",
            "  0.96157122 0.27289282 0.79345585 0.61670488 0.53455308 0.86554187\n",
            "  0.95096221 0.56288834 0.33223204 0.61005678 0.3738893  0.94552259\n",
            "  0.55031939 0.65886328 0.75403565 0.84214754 0.62857461 0.38405558\n",
            "  0.12160515 0.97356621 1.15240386 1.04087976 0.91544823 0.8288156\n",
            "  0.74507192 0.71133948 0.09087291 0.60603728]\n",
            " [0.76040784 0.         0.67088401 0.56918172 0.80186029 0.72260577\n",
            "  0.14148406 0.65439882 0.26383764 0.57632385 0.39150593 0.6570177\n",
            "  0.32314343 0.68631345 0.54511881 0.18664914 0.50407705 0.2144331\n",
            "  0.73731025 0.04361044 0.6806423  0.13113922 0.56273764 0.51301313\n",
            "  0.96015149 0.65114841 0.13073025 0.15969818 0.61528366 0.56588448\n",
            "  0.13201448 0.37089499 0.3783738  0.59075999 0.33304845 0.70198879\n",
            "  0.70542922 0.6297973  0.56436328 0.4044123  0.04599482 0.78268624\n",
            "  0.88716704 0.61494095 0.21204099 0.65446297 0.46765635 0.49489134\n",
            "  0.75170897 0.75595442 0.25715759 0.07167077 0.63075114 0.05729562\n",
            "  0.09151078 0.18466708 0.5432589  0.41737406 0.16757572 0.49528793\n",
            "  0.44485995 0.5967406  0.22711004 0.46038647 0.23911288 0.52192081\n",
            "  0.63064147 0.71825758 0.3358847  0.17167351 0.74054153 0.38532345\n",
            "  0.25152096 0.5807501  1.0124009  0.37624462 0.22758295 0.71717337\n",
            "  0.19055753 0.59518205 0.44456683 0.77497578 0.38977306 0.28163253\n",
            "  0.25693666 0.11967383 0.14680069 0.51430402 0.46004388 0.38529935\n",
            "  0.67159457 0.26662319 0.67918747 0.62046313 0.61234261 0.57876813\n",
            "  0.4172349  0.45693454 0.67220766 0.86474921]\n",
            " [0.15167409 0.67088401 0.         0.36727875 1.21349007 0.08897573\n",
            "  0.81223977 0.96338704 0.54080546 0.22159357 0.70618744 0.24157633\n",
            "  0.48383864 0.41619938 0.62999422 0.48956665 0.24664744 0.55098732\n",
            "  0.09870005 0.71228222 0.58096681 0.73299041 1.0928032  0.18606061\n",
            "  0.79468641 0.14797081 0.78273021 0.74040153 1.02559102 1.07358433\n",
            "  0.53954314 0.54650612 0.72193527 0.08699735 0.36301099 1.09038171\n",
            "  0.51672897 0.95964923 0.72392726 0.30833791 0.71655559 0.45561353\n",
            "  0.92669735 0.65619872 0.81672554 1.12207173 0.81998149 0.58930951\n",
            "  0.22270554 0.10579374 0.78201087 0.60349023 0.39247189 0.71743999\n",
            "  0.65662125 0.621385   0.16685921 0.63072716 0.50394075 0.18847504\n",
            "  0.67563641 0.10424275 0.89785502 0.39870684 0.43193754 0.98882395\n",
            "  0.48054618 1.03225107 0.34190171 0.82929024 0.42125346 0.82184076\n",
            "  0.89344054 0.12493743 0.89911628 0.60494939 0.45605167 0.90658513\n",
            "  0.85941901 0.60758125 0.29530652 0.69205522 0.28415803 0.88813438\n",
            "  0.49797671 0.5596233  0.64125047 0.84537285 0.63686983 0.28575183\n",
            "  0.03713967 0.85984439 1.14526825 1.03952284 0.9296268  0.84648949\n",
            "  0.73732411 0.71439671 0.13558271 0.70717244]\n",
            " [0.32781817 0.56918172 0.36727875 0.         0.87687094 0.33861624\n",
            "  0.69481003 0.61683266 0.32585675 0.14609606 0.40483005 0.15734377\n",
            "  0.25541662 0.12028612 0.27242375 0.45631897 0.15600838 0.36602516\n",
            "  0.34830213 0.61153935 0.22183815 0.56204693 0.80940176 0.3984212\n",
            "  0.48015907 0.23111227 0.63155574 0.70330696 0.70136948 0.78165557\n",
            "  0.47284386 0.26115962 0.42732085 0.30190674 0.26904182 0.75450074\n",
            "  0.18129038 0.61838974 0.36885705 0.43991255 0.61080218 0.21518408\n",
            "  0.56415565 0.28992926 0.62113693 0.80937298 0.5038232  0.24351058\n",
            "  0.26086791 0.36943334 0.55117426 0.50006602 0.06420478 0.59101715\n",
            "  0.50730952 0.62777508 0.22294628 0.31547912 0.44800041 0.25327206\n",
            "  0.35124003 0.26901843 0.77295986 0.11069993 0.38597934 0.68907147\n",
            "  0.12128667 0.68222348 0.38750342 0.73962328 0.17180921 0.53814871\n",
            "  0.71098448 0.4041029  0.57094301 0.30917329 0.35859294 0.54331234\n",
            "  0.747582   0.24140521 0.16988582 0.33952668 0.29339144 0.67811928\n",
            "  0.31460314 0.50594221 0.62422978 0.51775955 0.30488003 0.3174859\n",
            "  0.33616971 0.82560178 0.83023338 0.71686856 0.58791038 0.50108755\n",
            "  0.4285047  0.38869775 0.25364815 0.38187397]\n",
            " [1.20421136 0.80186029 1.21349007 0.87687094 0.         1.20792248\n",
            "  0.77006499 0.26416661 0.71047759 1.00454272 0.51443741 1.03420176\n",
            "  0.74549879 0.91016537 0.6080707  0.91539469 0.9668814  0.72864869\n",
            "  1.21931807 0.80171515 0.74580991 0.67090629 0.28867085 1.14935731\n",
            "  0.83542697 1.10034904 0.69939075 0.92916562 0.19626567 0.26139921\n",
            "  0.86758298 0.67025329 0.50444912 1.13046609 0.89207771 0.1231936\n",
            "  0.83188051 0.25863143 0.51286271 1.09721096 0.7922849  0.96654758\n",
            "  0.57208995 0.61659684 0.60163097 0.16054266 0.39798966 0.63386973\n",
            "  1.13534082 1.2410914  0.54592919 0.80733185 0.88964026 0.75404694\n",
            "  0.72731044 0.98636547 1.04688318 0.58294319 0.8857203  1.03843295\n",
            "  0.53788858 1.10943036 0.76157076 0.81614373 0.9080813  0.28005935\n",
            "  0.80805513 0.21169561 1.00807571 0.8336637  0.95476953 0.43271335\n",
            "  0.61950981 1.19419775 0.79071976 0.61207073 0.85203376 0.39121414\n",
            "  0.78739505 0.65709831 0.92125369 0.71637816 0.98347551 0.55281047\n",
            "  0.76135365 0.8839853  0.94851426 0.36833803 0.5783292  0.99911465\n",
            "  1.19063056 0.96912313 0.14100531 0.18644085 0.28908201 0.37642432\n",
            "  0.48103988 0.49910044 1.124599   0.80507462]\n",
            " [0.06276291 0.72260577 0.08897573 0.33861624 1.20792248 0.\n",
            "  0.86389655 0.95167662 0.56390389 0.20350649 0.71115329 0.19111597\n",
            "  0.50066457 0.3631795  0.61006959 0.54767145 0.25241186 0.58139784\n",
            "  0.01470509 0.76517037 0.53784133 0.77219225 1.10776529 0.26683268\n",
            "  0.73000853 0.1080938  0.82713394 0.80497911 1.02514309 1.08560001\n",
            "  0.59363297 0.55211534 0.72932848 0.13586116 0.39919009 1.08482843\n",
            "  0.46584136 0.95086216 0.70608716 0.38478638 0.76859312 0.38797436\n",
            "  0.88183913 0.62727059 0.85207062 1.12682638 0.82129036 0.57559048\n",
            "  0.14227616 0.03530663 0.80828134 0.652929   0.34994273 0.76549672\n",
            "  0.698491   0.69040123 0.18528043 0.62965359 0.55851749 0.22749095\n",
            "  0.67206984 0.12610531 0.94936697 0.39381584 0.48447241 0.99754978\n",
            "  0.44073849 1.01857682 0.40548994 0.88637637 0.35835178 0.83414065\n",
            "  0.93294085 0.21149515 0.83701384 0.60946308 0.49983854 0.88168695\n",
            "  0.91288133 0.57906774 0.31065715 0.64274508 0.33305347 0.92119858\n",
            "  0.52602928 0.61685589 0.70706206 0.84234846 0.62976707 0.34025989\n",
            "  0.06126132 0.9266426  1.1492045  1.03981275 0.92047797 0.83499528\n",
            "  0.74028202 0.71085929 0.0849743  0.64710876]\n",
            " [0.90096418 0.14148406 0.81223977 0.69481003 0.77006499 0.86389655\n",
            "  0.         0.66815227 0.37440266 0.71346949 0.44769249 0.79262777\n",
            "  0.44138714 0.80864258 0.63033317 0.32560471 0.64163904 0.32963621\n",
            "  0.87860164 0.10035142 0.7820492  0.15513106 0.50278407 0.65194123\n",
            "  1.05276202 0.79084569 0.08618028 0.16803079 0.5995246  0.51594062\n",
            "  0.27285359 0.47165689 0.4281706  0.73224127 0.47179346 0.68553179\n",
            "  0.81703357 0.63980361 0.63017068 0.53965618 0.09568448 0.90486156\n",
            "  0.94759907 0.69934262 0.1760282  0.61316603 0.49413052 0.58632286\n",
            "  0.88958915 0.89733598 0.26333007 0.21127154 0.75420729 0.10408542\n",
            "  0.18795589 0.26931506 0.68377434 0.49697819 0.30848757 0.63648684\n",
            "  0.51365875 0.73795239 0.08563362 0.58437396 0.3805842  0.49505864\n",
            "  0.74390781 0.72416037 0.4755553  0.06828612 0.86423831 0.39667516\n",
            "  0.15828272 0.72027799 1.09412047 0.46214872 0.3668011  0.75748419\n",
            "  0.05277524 0.68742168 0.58116486 0.86581042 0.531196   0.21773483\n",
            "  0.38033895 0.25625026 0.22901304 0.53975109 0.53959406 0.52674388\n",
            "  0.81307444 0.20578379 0.63646162 0.60093609 0.62836339 0.61405683\n",
            "  0.46533785 0.51572219 0.81228262 0.96123002]\n",
            " [0.94465082 0.65439882 0.96338704 0.61683266 0.26416661 0.95167662\n",
            "  0.66815227 0.         0.49603652 0.74926581 0.29322837 0.77380296\n",
            "  0.51565413 0.64606378 0.34568679 0.7252904  0.71739385 0.52592925\n",
            "  0.96250913 0.66748823 0.48274987 0.53324045 0.33930024 0.9171002\n",
            "  0.60364823 0.8436524  0.5846859  0.80377685 0.14288397 0.29737684\n",
            "  0.68631624 0.43269029 0.29322089 0.88287798 0.66469613 0.14827431\n",
            "  0.56836044 0.03171496 0.24965005 0.88096419 0.65902675 0.70314139\n",
            "  0.37027588 0.35258366 0.49292413 0.25463563 0.18886364 0.37612147\n",
            "  0.87335918 0.98409434 0.40761187 0.63889755 0.62658339 0.61887992\n",
            "  0.56704585 0.83027889 0.79822259 0.34083826 0.6965578  0.79580381\n",
            "  0.29353784 0.85917259 0.68919186 0.56472092 0.70270891 0.22684381\n",
            "  0.54405864 0.07145162 0.79294454 0.73636975 0.69067159 0.27305073\n",
            "  0.54730988 0.95557666 0.5808814  0.37750039 0.64463821 0.15385293\n",
            "  0.70110248 0.39299173 0.67687806 0.46325175 0.75345339 0.47495667\n",
            "  0.54593042 0.70957365 0.79730962 0.14389683 0.32725994 0.77175556\n",
            "  0.93835848 0.87371416 0.26474212 0.15793536 0.04244552 0.1169515\n",
            "  0.2593233  0.25680886 0.86749562 0.55842089]\n",
            " [0.58439602 0.26383764 0.54080546 0.32585675 0.71047759 0.56390389\n",
            "  0.37440266 0.49603652 0.         0.37752243 0.20304772 0.44549805\n",
            "  0.0711335  0.43568979 0.29104325 0.24050047 0.31363276 0.05013765\n",
            "  0.57786992 0.30199888 0.41685117 0.23620131 0.55361214 0.44294751\n",
            "  0.69761461 0.4694612  0.30639407 0.41741781 0.51461256 0.53711499\n",
            "  0.21758132 0.10975694 0.2074488  0.45381261 0.18625157 0.59188368\n",
            "  0.44393658 0.48076212 0.33206489 0.38788341 0.29910429 0.53151301\n",
            "  0.64869492 0.3596738  0.29940168 0.59612835 0.31621414 0.23697357\n",
            "  0.55046988 0.59920858 0.24453728 0.20594471 0.38233979 0.27278118\n",
            "  0.18705749 0.38415887 0.38036158 0.17940859 0.21493311 0.35296997\n",
            "  0.22064011 0.44388684 0.44918421 0.21557331 0.20721831 0.4580377\n",
            "  0.37004881 0.56706406 0.29893994 0.425875   0.49192458 0.28862606\n",
            "  0.38758893 0.49453626 0.75456137 0.13424474 0.14905979 0.51086238\n",
            "  0.42692371 0.33477067 0.25342861 0.51376292 0.27778481 0.36266854\n",
            "  0.05093156 0.24907264 0.36392466 0.35500798 0.21732711 0.29085094\n",
            "  0.52773526 0.53034884 0.62052103 0.52600063 0.45493547 0.39244571\n",
            "  0.23727241 0.24804741 0.49376892 0.60141848]\n",
            " [0.2097675  0.57632385 0.22159357 0.14609606 1.00454272 0.20350649\n",
            "  0.71346949 0.74926581 0.37752243 0.         0.50943491 0.08465436\n",
            "  0.30951387 0.21738719 0.41052165 0.4255712  0.07244715 0.40364944\n",
            "  0.2153477  0.61993351 0.36434936 0.60186204 0.90933381 0.27216359\n",
            "  0.60242742 0.09721917 0.66404697 0.68692985 0.82176721 0.88569213\n",
            "  0.45856777 0.35163778 0.52849391 0.15764899 0.24396234 0.88141912\n",
            "  0.30931891 0.74780215 0.50564593 0.34209551 0.62145978 0.28589224\n",
            "  0.70897787 0.43462487 0.67473002 0.92425115 0.61831406 0.37322173\n",
            "  0.17652513 0.23725641 0.62072714 0.50465404 0.18018101 0.61052503\n",
            "  0.53438931 0.59038795 0.08776508 0.42655835 0.42690434 0.13602454\n",
            "  0.46862007 0.12336297 0.79691705 0.19086459 0.35428634 0.7964154\n",
            "  0.26303967 0.81682386 0.31529382 0.74706536 0.24279186 0.63523208\n",
            "  0.76026152 0.26518632 0.70054618 0.40805997 0.34918809 0.68583332\n",
            "  0.76508381 0.38600658 0.13238396 0.47934045 0.21897264 0.74001624\n",
            "  0.34725039 0.48790891 0.5964116  0.63886283 0.42629872 0.23857607\n",
            "  0.19180172 0.81141081 0.94642439 0.83650627 0.71746242 0.63241805\n",
            "  0.53783883 0.50739131 0.12207865 0.50826445]\n",
            " [0.71760828 0.39150593 0.70618744 0.40483005 0.51443741 0.71115329\n",
            "  0.44769249 0.29322837 0.20304772 0.50943491 0.         0.55598861\n",
            "  0.23106616 0.47968163 0.20621809 0.4342945  0.46174677 0.23362864\n",
            "  0.72377812 0.41527945 0.37978015 0.2937528  0.4046141  0.63512935\n",
            "  0.62143621 0.60664248 0.36228322 0.55001082 0.3213444  0.37786665\n",
            "  0.39919764 0.1598288  0.02594942 0.62116928 0.37840679 0.39336106\n",
            "  0.44233113 0.27778177 0.1830499  0.58984826 0.408449   0.56374333\n",
            "  0.50091884 0.26786818 0.29770779 0.41629992 0.11645884 0.18508008\n",
            "  0.66282392 0.74571779 0.20211257 0.36067355 0.4397278  0.3704063\n",
            "  0.30002869 0.55326623 0.53951346 0.09080241 0.40615543 0.52611701\n",
            "  0.07489343 0.60329698 0.49730269 0.31896207 0.40948059 0.28712514\n",
            "  0.38474934 0.36409773 0.50125232 0.51317756 0.53494751 0.13531265\n",
            "  0.38235923 0.68002557 0.65105345 0.10175239 0.35141712 0.32682716\n",
            "  0.49290568 0.27201474 0.41116311 0.43668364 0.46940433 0.32495848\n",
            "  0.25335715 0.42530661 0.52441416 0.15218498 0.11815849 0.48574891\n",
            "  0.68644544 0.64177202 0.43922378 0.33450051 0.25192918 0.19472717\n",
            "  0.03433058 0.06803322 0.63151322 0.5383324 ]\n",
            " [0.17137362 0.6570177  0.24157633 0.15734377 1.03420176 0.19111597\n",
            "  0.79262777 0.77380296 0.44549805 0.08465436 0.55598861 0.\n",
            "  0.37525684 0.17501806 0.42865123 0.50982989 0.1557939  0.47620855\n",
            "  0.19842467 0.7006026  0.34675197 0.67558465 0.96000185 0.33817142\n",
            "  0.55447484 0.09361028 0.7399771  0.77079035 0.8580944  0.93384134\n",
            "  0.54161349 0.40393283 0.57715762 0.20429687 0.3263057  0.9118437\n",
            "  0.27670827 0.77569143 0.52515541 0.4204661  0.70175182 0.22093784\n",
            "  0.69121906 0.43951417 0.7447632  0.96504971 0.65888869 0.40077381\n",
            "  0.10736468 0.21827089 0.68482469 0.58540121 0.15904088 0.68910662\n",
            "  0.6108908  0.67503735 0.15933512 0.46854603 0.51047269 0.21405363\n",
            "  0.50657966 0.16702688 0.87525833 0.24093102 0.43834701 0.84229058\n",
            "  0.24998188 0.83862267 0.39895613 0.8282862  0.18240995 0.68672479\n",
            "  0.83200435 0.31734842 0.65786407 0.45696523 0.43085339 0.69477131\n",
            "  0.84462249 0.39191608 0.21263043 0.45324709 0.30323653 0.80753268\n",
            "  0.42026267 0.57144358 0.68082946 0.6744034  0.46103512 0.32225442\n",
            "  0.20559493 0.89526733 0.98624146 0.87347619 0.74521347 0.65829874\n",
            "  0.58162323 0.5445327  0.10930719 0.46570332]\n",
            " [0.51794429 0.32314343 0.48383864 0.25541662 0.74549879 0.50066457\n",
            "  0.44138714 0.51565413 0.0711335  0.30951387 0.23106616 0.37525684\n",
            "  0.         0.36727101 0.26175556 0.26158947 0.24857677 0.11176979\n",
            "  0.51432957 0.3635661  0.36428023 0.30682692 0.60931312 0.40423367\n",
            "  0.64856321 0.40319854 0.37616567 0.47031007 0.55181408 0.58976215\n",
            "  0.25349538 0.08743982 0.24259733 0.3972957  0.14904874 0.62429383\n",
            "  0.38253549 0.50428715 0.32143282 0.36776743 0.36164685 0.46347527\n",
            "  0.62493676 0.32622452 0.37021024 0.64142118 0.34752426 0.20491622\n",
            "  0.48081859 0.53592918 0.31123474 0.25901789 0.31312259 0.33839134\n",
            "  0.25343187 0.42125998 0.31978113 0.17832853 0.24121854 0.29880303\n",
            "  0.22515651 0.38391958 0.51805342 0.14484457 0.21055604 0.50603399\n",
            "  0.30756938 0.58709476 0.28194511 0.4898905  0.4230451  0.33814109\n",
            "  0.45866638 0.44940196 0.71274419 0.13823069 0.1571775  0.50911439\n",
            "  0.49411257 0.2940545  0.19060899 0.46866531 0.23883769 0.43229979\n",
            "  0.06838961 0.28711112 0.40656996 0.38080348 0.2064956  0.25626455\n",
            "  0.46801092 0.5875127  0.66520803 0.56449097 0.47644146 0.40494458\n",
            "  0.26468789 0.25944956 0.42778301 0.55046231]\n",
            " [0.33167065 0.68631345 0.41619938 0.12028612 0.91016537 0.3631795\n",
            "  0.80864258 0.64606378 0.43568979 0.21738719 0.47968163 0.17501806\n",
            "  0.36727101 0.         0.30640039 0.57652777 0.25696828 0.47900639\n",
            "  0.36869067 0.72817404 0.18108653 0.67083402 0.87826556 0.4889571\n",
            "  0.38533389 0.26834665 0.74196454 0.82291049 0.74874422 0.84693069\n",
            "  0.59283661 0.3559118  0.50434932 0.37006494 0.38874391 0.79093599\n",
            "  0.10275693 0.65336718 0.39826743 0.54691832 0.72700494 0.09640859\n",
            "  0.51969141 0.29545179 0.72361207 0.86212721 0.56408042 0.29899442\n",
            "  0.24463843 0.38683607 0.64685826 0.61807638 0.05625768 0.70543031\n",
            "  0.62069378 0.7479739  0.30493388 0.38905637 0.56826205 0.34793454\n",
            "  0.41519534 0.33331398 0.88483723 0.22593731 0.50599446 0.75253411\n",
            "  0.10252596 0.70533634 0.50191754 0.85575268 0.05700659 0.61498137\n",
            "  0.81424535 0.48105744 0.48547426 0.39440003 0.47871073 0.54674768\n",
            "  0.86137757 0.25307281 0.28491752 0.27962972 0.40565376 0.77577158\n",
            "  0.43003834 0.62603658 0.74448774 0.56894981 0.36695572 0.42907462\n",
            "  0.38050885 0.94477302 0.8810287  0.76499341 0.62344491 0.53607368\n",
            "  0.49753445 0.44876265 0.28401941 0.29286314]\n",
            " [0.5998516  0.54511881 0.62999422 0.27242375 0.6080707  0.61006959\n",
            "  0.63033317 0.34568679 0.29104325 0.41052165 0.20621809 0.42865123\n",
            "  0.26175556 0.30640039 0.         0.5222321  0.38985489 0.34012985\n",
            "  0.62022226 0.57803498 0.17527124 0.47586244 0.57987294 0.61507672\n",
            "  0.42296978 0.50205961 0.54861784 0.70335704 0.44234445 0.54611021\n",
            "  0.50730199 0.18238611 0.23200412 0.55467792 0.39030656 0.48704546\n",
            "  0.24648745 0.34967009 0.09650746 0.6106239  0.57314296 0.3769583\n",
            "  0.36323997 0.06984896 0.49739862 0.55603911 0.2640018  0.0569336\n",
            "  0.52768849 0.64152914 0.4047915  0.49470478 0.28167746 0.53969736\n",
            "  0.45772834 0.67482509 0.46997907 0.1337623  0.500037   0.47899253\n",
            "  0.13146759 0.52696104 0.68995187 0.24004664 0.4718766  0.45143174\n",
            "  0.20408281 0.40997823 0.5315578  0.69136711 0.35612982 0.33297956\n",
            "  0.58502121 0.64102462 0.46738868 0.16966155 0.41885176 0.2779105\n",
            "  0.67942096 0.06647099 0.36207374 0.2360475  0.46470651 0.53048369\n",
            "  0.32287341 0.539556   0.65490526 0.26359512 0.09232815 0.48718526\n",
            "  0.60205457 0.80955593 0.57469881 0.45859601 0.31936402 0.23178172\n",
            "  0.21153081 0.15448591 0.52527897 0.33489764]\n",
            " [0.59075257 0.18664914 0.48956665 0.45631897 0.91539469 0.54767145\n",
            "  0.32560471 0.7252904  0.24050047 0.4255712  0.4342945  0.50982989\n",
            "  0.26158947 0.57652777 0.5222321  0.         0.35414408 0.20107563\n",
            "  0.56228559 0.22528555 0.61739465 0.28320082 0.7092593  0.32655344\n",
            "  0.90244738 0.48735583 0.31159077 0.26222268 0.72042359 0.70440339\n",
            "  0.05745763 0.3413257  0.43208113 0.41303102 0.18927302 0.80368141\n",
            "  0.61973994 0.70649662 0.57193995 0.2193191  0.2306851  0.66994508\n",
            "  0.88454576 0.58770679 0.37340447 0.78195999 0.5384042  0.46572863\n",
            "  0.59437    0.57972402 0.38161239 0.13009585 0.52052074 0.23968016\n",
            "  0.20620071 0.17145748 0.37657391 0.41976615 0.02968242 0.32374321\n",
            "  0.46089688 0.42364277 0.41070177 0.36046676 0.07199519 0.64307223\n",
            "  0.54509243 0.79490897 0.14998613 0.33980182 0.62537468 0.48276987\n",
            "  0.43117699 0.39468605 0.9720475  0.37464879 0.10598557 0.75098482\n",
            "  0.37079965 0.55520837 0.30210314 0.72705472 0.21710653 0.44755929\n",
            "  0.20004774 0.07011269 0.17134179 0.58159615 0.45645438 0.20743642\n",
            "  0.49351156 0.38650147 0.80704549 0.72906935 0.68317007 0.62828268\n",
            "  0.46712649 0.48650723 0.50614916 0.80297294]\n",
            " [0.27098088 0.50407705 0.24664744 0.15600838 0.9668814  0.25241186\n",
            "  0.64163904 0.71739385 0.31363276 0.07244715 0.46174677 0.1557939\n",
            "  0.24857677 0.25696828 0.38985489 0.35414408 0.         0.33604425\n",
            "  0.26590967 0.54768221 0.37611755 0.53280548 0.85554208 0.24278553\n",
            "  0.63430704 0.15610525 0.59367142 0.61500612 0.77966429 0.83391443\n",
            "  0.38621396 0.3019662  0.47878415 0.16586698 0.17152328 0.84375662\n",
            "  0.33576028 0.71315208 0.4813201  0.28997314 0.54930406 0.33793316\n",
            "  0.71347045 0.42476249 0.6078061  0.8780465  0.57433909 0.34544407\n",
            "  0.24795143 0.28760353 0.55808717 0.43241548 0.20897938 0.53896458\n",
            "  0.46389014 0.52044969 0.08093411 0.3842922  0.35476133 0.09760444\n",
            "  0.4290049  0.14255517 0.7253557  0.15292799 0.28257325 0.74682251\n",
            "  0.27682487 0.78669071 0.25132209 0.67469008 0.29316379 0.58219821\n",
            "  0.69210771 0.25453242 0.72676024 0.36007621 0.27680613 0.66776447\n",
            "  0.69311043 0.3769098  0.06182618 0.49465212 0.15375761 0.67458787\n",
            "  0.27971165 0.41575229 0.52528212 0.598866   0.39046486 0.17558668\n",
            "  0.22480835 0.73948565 0.90089929 0.79379688 0.6831928  0.60061744\n",
            "  0.49211039 0.46778096 0.18020799 0.53687875]\n",
            " [0.60650173 0.2144331  0.55098732 0.36602516 0.72864869 0.58139784\n",
            "  0.32963621 0.52592925 0.05013765 0.40364944 0.23362864 0.47620855\n",
            "  0.11176979 0.47900639 0.34012985 0.20107563 0.33604425 0.\n",
            "  0.59569047 0.25342568 0.46660988 0.19947908 0.5533438  0.43749436\n",
            "  0.74771922 0.49192175 0.26627677 0.36729416 0.53239805 0.54045464\n",
            "  0.17174503 0.15968634 0.23312677 0.4643256  0.1886398  0.61268563\n",
            "  0.49174487 0.5084375  0.37674916 0.36961316 0.25097289 0.5752373\n",
            "  0.69570652 0.40908538 0.27180391 0.60637482 0.34114417 0.28662059\n",
            "  0.57906532 0.61656089 0.23175835 0.15583178 0.42467089 0.22666565\n",
            "  0.14169208 0.33641168 0.39624257 0.22377897 0.17360677 0.36259089\n",
            "  0.26196167 0.4582891  0.40693493 0.2553465  0.17973131 0.46695543\n",
            "  0.41735328 0.59618251 0.28073012 0.37867476 0.53466492 0.2990449\n",
            "  0.3566207  0.49379187 0.8044923  0.17889227 0.12344618 0.55113907\n",
            "  0.38237398 0.38482607 0.27439149 0.56389196 0.27635054 0.33981494\n",
            "  0.05641435 0.20196816 0.31487755 0.38283234 0.26349446 0.28557398\n",
            "  0.54110393 0.48070388 0.63115843 0.54265693 0.48409254 0.42723754\n",
            "  0.26689164 0.28582794 0.51563223 0.65140872]\n",
            " [0.05575632 0.73731025 0.09870005 0.34830213 1.21931807 0.01470509\n",
            "  0.87860164 0.96250913 0.57786992 0.2153477  0.72377812 0.19842467\n",
            "  0.51432957 0.36869067 0.62022226 0.56228559 0.26590967 0.59569047\n",
            "  0.         0.77987196 0.54470651 0.78672776 1.12100296 0.27945881\n",
            "  0.73214475 0.11898224 0.84177747 0.81942732 1.03711469 1.0986243\n",
            "  0.60831845 0.56493589 0.74214049 0.15021899 0.41375849 1.0962679\n",
            "  0.47144232 0.96201826 0.71638275 0.39817581 0.78329744 0.38995902\n",
            "  0.88798085 0.63620699 0.86647248 1.13924067 0.83352372 0.58652442\n",
            "  0.14154867 0.02194442 0.82230058 0.66763243 0.35746457 0.78018919\n",
            "  0.71310083 0.70459438 0.19968593 0.64181528 0.57319434 0.24219238\n",
            "  0.68395456 0.14079597 0.96407181 0.40600155 0.49916253 1.0103419\n",
            "  0.44839251 1.02915027 0.4198708  0.90104229 0.36167252 0.84727483\n",
            "  0.9474635  0.22266791 0.83967742 0.62213452 0.51451037 0.8909294\n",
            "  0.92758291 0.58813443 0.32453204 0.64831429 0.34774944 0.93550197\n",
            "  0.54025367 0.63149865 0.72143899 0.85415935 0.64134248 0.35488687\n",
            "  0.0740533  0.94100068 1.16153949 1.05184878 0.93161105 0.84592252\n",
            "  0.75271413 0.72271279 0.09503796 0.65043687]\n",
            " [0.80350231 0.04361044 0.71228222 0.61153935 0.80171515 0.76517037\n",
            "  0.10035142 0.66748823 0.30199888 0.61993351 0.41527945 0.7006026\n",
            "  0.3635661  0.72817404 0.57803498 0.22528555 0.54768221 0.25342568\n",
            "  0.77987196 0.         0.71799561 0.13488906 0.5526267  0.55172033\n",
            "  0.99575734 0.69452238 0.11003874 0.13672719 0.61926635 0.55895875\n",
            "  0.17274497 0.40714819 0.40010558 0.63283034 0.37661447 0.70619168\n",
            "  0.74514819 0.64164811 0.59206363 0.44042717 0.00957087 0.8245767\n",
            "  0.91433431 0.64786949 0.2026306  0.65075488 0.48332118 0.52926145\n",
            "  0.79529169 0.79836637 0.26297102 0.11528119 0.67277551 0.04885999\n",
            "  0.12031928 0.19298291 0.58640575 0.44812673 0.20836457 0.53800797\n",
            "  0.47274302 0.63942269 0.18573156 0.50234016 0.281071   0.52185983\n",
            "  0.67063072 0.7292884  0.37521429 0.12843209 0.78267649 0.39549588\n",
            "  0.2268371  0.61997112 1.04536189 0.40847473 0.27113799 0.73827347\n",
            "  0.14771096 0.63008613 0.48816997 0.80990271 0.43217444 0.26656162\n",
            "  0.2982807  0.15616363 0.15238273 0.53003817 0.4910415  0.4270296\n",
            "  0.71366883 0.23152106 0.67514831 0.62332122 0.62589281 0.59781228\n",
            "  0.43887006 0.48202927 0.71548447 0.90118231]\n",
            " [0.51106543 0.6806423  0.58096681 0.22183815 0.74580991 0.53784133\n",
            "  0.7820492  0.48274987 0.41685117 0.36434936 0.37978015 0.34675197\n",
            "  0.36428023 0.18108653 0.17527124 0.61739465 0.37611755 0.46660988\n",
            "  0.54470651 0.71799561 0.         0.63096672 0.75051187 0.61885481\n",
            "  0.28516701 0.43637084 0.70446842 0.83305238 0.59893181 0.71514891\n",
            "  0.61682622 0.31134287 0.40571727 0.52187192 0.44912484 0.63048375\n",
            "  0.08696476 0.49448681 0.24699415 0.64879881 0.71450368 0.22086708\n",
            "  0.3457426  0.13322325 0.66316888 0.71549379 0.43606969 0.20071107\n",
            "  0.42552596 0.56386831 0.57380255 0.62108717 0.18892351 0.68507219\n",
            "  0.59992655 0.78347046 0.44464455 0.29879649 0.60103856 0.47371973\n",
            "  0.30575453 0.4875596  0.8481386  0.26669315 0.55474557 0.62086546\n",
            "  0.10134074 0.53667322 0.58459591 0.83879087 0.21390919 0.50824603\n",
            "  0.75253482 0.62586467 0.36022829 0.32383043 0.5116498  0.37018981\n",
            "  0.83308338 0.10883683 0.37638895 0.11906642 0.49834761 0.70151008\n",
            "  0.43257835 0.65066352 0.77057886 0.42943633 0.26232608 0.52273625\n",
            "  0.54727387 0.94719871 0.73206274 0.61556175 0.46586367 0.38116289\n",
            "  0.38676595 0.32961824 0.45526429 0.18628172]\n",
            " [0.80145663 0.13113922 0.73299041 0.56204693 0.67090629 0.77219225\n",
            "  0.15513106 0.53324045 0.23620131 0.60186204 0.2937528  0.67558465\n",
            "  0.30682692 0.67083402 0.47586244 0.28320082 0.53280548 0.19947908\n",
            "  0.78672776 0.13488906 0.63096672 0.         0.43475187 0.59480618\n",
            "  0.89865955 0.68767817 0.07350227 0.27057612 0.48566638 0.43594092\n",
            "  0.22630896 0.32337027 0.27538859 0.64814199 0.37308909 0.57253454\n",
            "  0.67067569 0.50705673 0.47558908 0.49972696 0.1261119  0.76612289\n",
            "  0.79452625 0.54461826 0.09022283 0.52344996 0.35083956 0.43323854\n",
            "  0.77784795 0.80695427 0.12822878 0.15442298 0.61814394 0.08603338\n",
            "  0.07890363 0.31580613 0.58730169 0.34227358 0.25640941 0.54743275\n",
            "  0.35860493 0.64694222 0.21751712 0.4516396  0.31238658 0.39089476\n",
            "  0.59916073 0.59450508 0.41988475 0.21947871 0.72737049 0.26077385\n",
            "  0.16081569 0.65863372 0.93899921 0.30873589 0.27744595 0.6098713\n",
            "  0.20356829 0.53402781 0.47098272 0.71166789 0.44949411 0.16450467\n",
            "  0.25533543 0.23012856 0.27761245 0.39741837 0.38474506 0.45173118\n",
            "  0.72750186 0.34953045 0.54821737 0.49032229 0.49186601 0.46772639\n",
            "  0.31334618 0.36173729 0.7108247  0.80807752]\n",
            " [1.11883399 0.56273764 1.0928032  0.80940176 0.28867085 1.10776529\n",
            "  0.50278407 0.33930024 0.55361214 0.90933381 0.4046141  0.96000185\n",
            "  0.60931312 0.87826556 0.57987294 0.7092593  0.85554208 0.5533438\n",
            "  1.12100296 0.5526267  0.75051187 0.43475187 0.         0.99081996\n",
            "  0.92802215 1.00604695 0.44376246 0.66865168 0.19922758 0.04197677\n",
            "  0.65494391 0.55796253 0.38285401 1.00600106 0.73854868 0.25290553\n",
            "  0.8263185  0.30991297 0.50572079 0.91485832 0.54306753 0.95591979\n",
            "  0.70925182 0.61948534 0.3510782  0.13065458 0.31593257 0.57927157\n",
            "  1.06707042 1.1428252  0.32900443 0.58615506 0.84202619 0.50871512\n",
            "  0.50521541 0.74476836 0.92902015 0.49423954 0.68038219 0.9060056\n",
            "  0.46325911 0.9931941  0.48186446 0.72086969 0.72075919 0.13021292\n",
            "  0.77898899 0.34998508 0.82827534 0.56168239 0.93165786 0.27411042\n",
            "  0.34576726 1.04638457 0.91641233 0.50315204 0.67134984 0.49058339\n",
            "  0.5121465  0.6438685  0.7996216  0.76694518 0.82873522 0.28776182\n",
            "  0.60014123 0.66342572 0.7046615  0.32250088 0.51147413 0.83887415\n",
            "  1.07727228 0.69297124 0.14769326 0.18713137 0.32494072 0.3864216\n",
            "  0.38200939 0.42975482 1.03094593 0.86881272]\n",
            " [0.32523891 0.51301313 0.18606061 0.3984212  1.14935731 0.26683268\n",
            "  0.65194123 0.9171002  0.44294751 0.27216359 0.63512935 0.33817142\n",
            "  0.40423367 0.4889571  0.61507672 0.32655344 0.24278553 0.43749436\n",
            "  0.27945881 0.55172033 0.61885481 0.59480618 0.99081996 0.\n",
            "  0.87273662 0.26333249 0.63442214 0.56359655 0.95481108 0.9775012\n",
            "  0.38153101 0.48445465 0.64520749 0.1445807  0.25768822 1.02847243\n",
            "  0.57596113 0.9074253  0.69928409 0.12387043 0.5572347  0.55595075\n",
            "  0.9535841  0.6587943  0.68322528 1.03907581 0.75155428 0.5641818\n",
            "  0.37094015 0.29046862 0.66602581 0.45129305 0.44705484 0.56448551\n",
            "  0.51602204 0.44073638 0.18441415 0.57632385 0.34650529 0.1452074\n",
            "  0.62370702 0.17754197 0.73670532 0.37644579 0.28251253 0.9008028\n",
            "  0.51952065 0.98829734 0.17740646 0.66104417 0.51397776 0.73143084\n",
            "  0.75124172 0.06960158 0.96794992 0.54069532 0.32250025 0.88981873\n",
            "  0.69588561 0.61235631 0.25364667 0.73743764 0.16596204 0.75709625\n",
            "  0.39341405 0.39571113 0.46389142 0.7848515  0.59460593 0.15238731\n",
            "  0.20558732 0.68006044 1.06345802 0.9669609  0.87899123 0.80338737\n",
            "  0.66888928 0.66036476 0.26848432 0.77682985]\n",
            " [0.68491101 0.96015149 0.79468641 0.48015907 0.83542697 0.73000853\n",
            "  1.05276202 0.60364823 0.69761461 0.60242742 0.62143621 0.55447484\n",
            "  0.64856321 0.38533389 0.42296978 0.90244738 0.63430704 0.74771922\n",
            "  0.73214475 0.99575734 0.28516701 0.89865955 0.92802215 0.87273662\n",
            "  0.         0.64751361 0.97154534 1.11500138 0.74374804 0.88782352\n",
            "  0.90165494 0.58927247 0.6459182  0.75488788 0.73084206 0.7431358\n",
            "  0.2988963  0.62745539 0.44711082 0.91980841 0.9915794  0.34218686\n",
            "  0.27547818 0.35529678 0.91809516 0.8581967  0.63926313 0.46716646\n",
            "  0.59265265 0.74663456 0.82343936 0.90322448 0.42602507 0.95988769\n",
            "  0.87612797 1.06856093 0.68959306 0.5567313  0.88620157 0.72946499\n",
            "  0.54786152 0.71789397 1.11281984 0.54789714 0.83906546 0.80034481\n",
            "  0.365828   0.63009688 0.86234864 1.1126981  0.37347674 0.73130401\n",
            "  1.00379256 0.86633679 0.11098396 0.59070771 0.79677438 0.45213492\n",
            "  1.10222404 0.36598269 0.6476779  0.18699168 0.7716031  0.94483771\n",
            "  0.71662778 0.93543484 1.05512707 0.61502164 0.51486948 0.79594895\n",
            "  0.75793778 1.226577   0.86808854 0.75973585 0.60654513 0.54272768\n",
            "  0.61716918 0.55844256 0.65938764 0.10001121]\n",
            " [0.11493638 0.65114841 0.14797081 0.23111227 1.10034904 0.1080938\n",
            "  0.79084569 0.8436524  0.4694612  0.09721917 0.60664248 0.09361028\n",
            "  0.40319854 0.26834665 0.50205961 0.48735583 0.15610525 0.49192175\n",
            "  0.11898224 0.69452238 0.43637084 0.68767817 1.00604695 0.26333249\n",
            "  0.64751361 0.         0.74689276 0.74925306 0.91855196 0.98270445\n",
            "  0.52711426 0.44863188 0.62560713 0.12058961 0.31930845 0.9773105\n",
            "  0.36938747 0.84304287 0.59802132 0.36169953 0.69692978 0.3107973\n",
            "  0.78185393 0.52054957 0.76372491 1.02141852 0.71539778 0.46760714\n",
            "  0.11213579 0.14074469 0.71371915 0.57993136 0.24745564 0.68952431\n",
            "  0.61716719 0.64339425 0.11102484 0.52362167 0.4933937  0.16656096\n",
            "  0.56533682 0.08579122 0.87547747 0.28804692 0.41895014 0.8935925\n",
            "  0.3372747  0.91048718 0.35837749 0.81953758 0.27450375 0.73199106\n",
            "  0.84748825 0.23177341 0.75136062 0.50522808 0.42404877 0.77441965\n",
            "  0.84146525 0.47217615 0.21753962 0.54537873 0.2708607  0.83069225\n",
            "  0.43566276 0.55380688 0.65456542 0.73543822 0.52246033 0.28458833\n",
            "  0.11219229 0.87309404 1.04354673 0.93336828 0.81263908 0.72701463\n",
            "  0.63504157 0.6040525  0.02490792 0.5592812 ]\n",
            " [0.85954941 0.13073025 0.78273021 0.63155574 0.69939075 0.82713394\n",
            "  0.08618028 0.5846859  0.30639407 0.66404697 0.36228322 0.7399771\n",
            "  0.37616567 0.74196454 0.54861784 0.31159077 0.59367142 0.26627677\n",
            "  0.84177747 0.11003874 0.70446842 0.07350227 0.44376246 0.63442214\n",
            "  0.97154534 0.74689276 0.         0.22979032 0.52256584 0.45179682\n",
            "  0.25450826 0.39655816 0.34234642 0.69955236 0.42878054 0.60921423\n",
            "  0.74374152 0.55687924 0.54507418 0.53089332 0.10063701 0.83757491\n",
            "  0.86166075 0.61710275 0.09789557 0.54566621 0.40854926 0.50658638\n",
            "  0.84052163 0.861462   0.1780913  0.18319621 0.6887293  0.07358339\n",
            "  0.12979848 0.30300399 0.6435027  0.41490123 0.28853306 0.60039577\n",
            "  0.42942269 0.70118271 0.14422235 0.52089796 0.35362687 0.42100866\n",
            "  0.67190291 0.64230065 0.45720975 0.15379395 0.79829379 0.31223284\n",
            "  0.1208891  0.70058807 1.0104238  0.38206212 0.32766172 0.67147156\n",
            "  0.1312117  0.60727181 0.53208377 0.78456461 0.49864469 0.1567533\n",
            "  0.32070702 0.24845653 0.26232624 0.45439359 0.45715748 0.49800257\n",
            "  0.77982534 0.28944897 0.56971632 0.52515611 0.54441921 0.52814332\n",
            "  0.3793222  0.43027181 0.769442   0.8813363 ]\n",
            " [0.85078477 0.15969818 0.74040153 0.70330696 0.92916562 0.80497911\n",
            "  0.16803079 0.80377685 0.41741781 0.68692985 0.55001082 0.77079035\n",
            "  0.47031007 0.82291049 0.70335704 0.26222268 0.61500612 0.36729416\n",
            "  0.81942732 0.13672719 0.83305238 0.27057612 0.66865168 0.56359655\n",
            "  1.11500138 0.74925306 0.22979032 0.         0.75105697 0.67957431\n",
            "  0.23145353 0.52641591 0.53575513 0.66925046 0.44597135 0.83789582\n",
            "  0.85166426 0.77761706 0.72404373 0.44168865 0.14487295 0.91848343\n",
            "  1.04683188 0.77307496 0.32764267 0.77482611 0.62003759 0.65204553\n",
            "  0.85659266 0.83576654 0.39776084 0.21197015 0.76670278 0.1849673\n",
            "  0.25078042 0.12866181 0.63831519 0.57678414 0.26054066 0.5845394\n",
            "  0.60453674 0.68299599 0.22307368 0.59859963 0.33270879 0.65066129\n",
            "  0.77632924 0.86489893 0.39974955 0.12687607 0.87491056 0.53130215\n",
            "  0.32604863 0.63315901 1.17017245 0.53516561 0.34578611 0.87434105\n",
            "  0.17904577 0.75153946 0.56040412 0.93098155 0.47850655 0.38137295\n",
            "  0.40209493 0.19983352 0.09970981 0.6667509  0.61934186 0.46677133\n",
            "  0.74851464 0.12448263 0.79866959 0.75420745 0.76230569 0.73433315\n",
            "  0.57459519 0.61602915 0.76759739 1.01842673]\n",
            " [1.02575513 0.61528366 1.02559102 0.70136948 0.19626567 1.02514309\n",
            "  0.5995246  0.14288397 0.51461256 0.82176721 0.3213444  0.8580944\n",
            "  0.55181408 0.74874422 0.44234445 0.72042359 0.77966429 0.53239805\n",
            "  1.03711469 0.61926635 0.59893181 0.48566638 0.19922758 0.95481108\n",
            "  0.74374804 0.91855196 0.52256584 0.75105697 0.         0.15735074\n",
            "  0.67371224 0.47962481 0.30962436 0.94135214 0.69723197 0.08692666\n",
            "  0.68136253 0.11641609 0.35340129 0.90099585 0.6100562  0.81538699\n",
            "  0.51273228 0.46577623 0.42518094 0.11738139 0.20577098 0.45846652\n",
            "  0.96206625 1.05901889 0.35813448 0.61553102 0.72154864 0.57073756\n",
            "  0.5366718  0.79869186 0.85873182 0.39582369 0.69078078 0.84729153\n",
            "  0.35322236 0.92201776 0.60461024 0.63144653 0.71188367 0.10902717\n",
            "  0.64636952 0.15290926 0.81186348 0.66597136 0.79772732 0.23780852\n",
            "  0.45984053 1.00115959 0.72369075 0.42113247 0.65577216 0.2965611\n",
            "  0.62408469 0.49945435 0.73144302 0.59497721 0.78885067 0.38850281\n",
            "  0.56543363 0.69141446 0.76199831 0.18370047 0.39725285 0.80399376\n",
            "  1.00433348 0.80369417 0.13317016 0.01667933 0.13849516 0.21797109\n",
            "  0.28886695 0.31456731 0.94315261 0.69341404]\n",
            " [1.09470004 0.56588448 1.07358433 0.78165557 0.26139921 1.08560001\n",
            "  0.51594062 0.29737684 0.53711499 0.88569213 0.37786665 0.93384134\n",
            "  0.58976215 0.84693069 0.54611021 0.70440339 0.83391443 0.54045464\n",
            "  1.0986243  0.55895875 0.71514891 0.43594092 0.04197677 0.9775012\n",
            "  0.88782352 0.98270445 0.45179682 0.67957431 0.15735074 0.\n",
            "  0.65134197 0.53407375 0.35740878 0.98704797 0.7230597  0.21425618\n",
            "  0.79222405 0.26810731 0.4693212  0.90578977 0.54939109 0.92284262\n",
            "  0.66741348 0.58339491 0.35633746 0.10085797 0.28303422 0.54819966\n",
            "  1.0405917  1.12050888 0.32279206 0.58429549 0.81217605 0.51350965\n",
            "  0.50294348 0.74953826 0.90873033 0.46618201 0.67516534 0.88787941\n",
            "  0.43293386 0.97293621 0.50148774 0.69610473 0.71175039 0.0946865\n",
            "  0.746844   0.30860309 0.81830334 0.57721041 0.89967778 0.25189371\n",
            "  0.36145529 1.03138558 0.87503836 0.47803565 0.66061551 0.44891427\n",
            "  0.52922226 0.6093136  0.77922252 0.72843377 0.81400435 0.298521\n",
            "  0.58495099 0.66189882 0.7099774  0.28598413 0.48096098 0.82519294\n",
            "  1.05690123 0.7108459  0.12197634 0.14554847 0.28363841 0.3471914\n",
            "  0.35319702 0.39820629 1.00761159 0.82990049]\n",
            " [0.63383082 0.13201448 0.53954314 0.47284386 0.86758298 0.59363297\n",
            "  0.27285359 0.68631624 0.21758132 0.45856777 0.39919764 0.54161349\n",
            "  0.25349538 0.59283661 0.50730199 0.05745763 0.38621396 0.17174503\n",
            "  0.60831845 0.17274497 0.61682622 0.22630896 0.65494391 0.38153101\n",
            "  0.90165494 0.52711426 0.25450826 0.23145353 0.67371224 0.65134197\n",
            "  0.         0.32491935 0.39423281 0.46051238 0.21551436 0.75803863\n",
            "  0.62719115 0.66603219 0.54842869 0.27660352 0.17723523 0.6879721\n",
            "  0.86627623 0.57491346 0.31643264 0.73104827 0.49799911 0.45196732\n",
            "  0.63124132 0.62648853 0.32885034 0.07265988 0.53657957 0.18318977\n",
            "  0.15027203 0.16810824 0.41746349 0.39543148 0.035634   0.3671862\n",
            "  0.43343341 0.46831268 0.35840762 0.37037574 0.10921582 0.5928465\n",
            "  0.55186978 0.75491629 0.20418143 0.29315174 0.64412374 0.43596656\n",
            "  0.37381953 0.44893335 0.96582352 0.35042897 0.11446749 0.72164882\n",
            "  0.32002467 0.54617755 0.32993232 0.72210505 0.26068007 0.39047131\n",
            "  0.18643683 0.03394557 0.1542645  0.54243325 0.43459694 0.25449176\n",
            "  0.54132358 0.35527555 0.75613321 0.6816775  0.64395307 0.59392351\n",
            "  0.4308081  0.45574449 0.54714151 0.80310533]\n",
            " [0.56091378 0.37089499 0.54650612 0.26115962 0.67025329 0.55211534\n",
            "  0.47165689 0.43269029 0.10975694 0.35163778 0.1598288  0.40393283\n",
            "  0.08743982 0.3559118  0.18238611 0.3413257  0.3019662  0.15968634\n",
            "  0.56493589 0.40714819 0.31134287 0.32337027 0.55796253 0.48445465\n",
            "  0.58927247 0.44863188 0.39655816 0.52641591 0.47962481 0.53407375\n",
            "  0.32491935 0.         0.1772133  0.46180384 0.23394488 0.54783534\n",
            "  0.34735303 0.42326427 0.23452615 0.45449525 0.40340953 0.44860682\n",
            "  0.54329827 0.25032357 0.36841964 0.57610885 0.27385394 0.12741481\n",
            "  0.51129663 0.58685511 0.29161373 0.31545678 0.3075228  0.37375248\n",
            "  0.28860037 0.49254323 0.37975594 0.09237502 0.3182445  0.36819456\n",
            "  0.13975383 0.44348422 0.54077641 0.16330915 0.29574607 0.44543515\n",
            "  0.2766669  0.50395925 0.36923405 0.52749481 0.41291164 0.2838946\n",
            "  0.45918509 0.52495484 0.64482133 0.05850267 0.24020296 0.42167774\n",
            "  0.52322368 0.22520648 0.25183204 0.40457812 0.32102674 0.42007213\n",
            "  0.14130367 0.35725708 0.47338334 0.30248337 0.11915971 0.34001644\n",
            "  0.52662234 0.63741621 0.59905093 0.49328318 0.39460772 0.31996555\n",
            "  0.19090331 0.17591201 0.47353869 0.49406811]\n",
            " [0.73730998 0.3783738  0.72193527 0.42732085 0.50444912 0.72932848\n",
            "  0.4281706  0.29322089 0.2074488  0.52849391 0.02594942 0.57715762\n",
            "  0.24259733 0.50434932 0.23200412 0.43208113 0.47878415 0.23312677\n",
            "  0.74214049 0.40010558 0.40571727 0.27538859 0.38285401 0.64520749\n",
            "  0.6459182  0.62560713 0.34234642 0.53575513 0.30962436 0.35740878\n",
            "  0.39423281 0.1772133  0.         0.63638477 0.3877051  0.38478953\n",
            "  0.46811663 0.27531966 0.20491089 0.59533167 0.39293721 0.58902147\n",
            "  0.51946616 0.29302787 0.27453554 0.40020113 0.10884367 0.21076586\n",
            "  0.68421803 0.76406223 0.17830322 0.35170039 0.46364032 0.35425712\n",
            "  0.28726691 0.54447565 0.55560834 0.11530195 0.40341315 0.54005278\n",
            "  0.10056974 0.61961066 0.47540029 0.33869685 0.41147119 0.26822414\n",
            "  0.41003719 0.3631438  0.50637607 0.49433034 0.55981739 0.11118117\n",
            "  0.35809067 0.69196095 0.67378151 0.12062819 0.35377044 0.33881516\n",
            "  0.47237808 0.29788982 0.42663373 0.46161357 0.4792537  0.29971239\n",
            "  0.25832876 0.41894991 0.51433636 0.14974134 0.14407103 0.49466764\n",
            "  0.70310647 0.6245068  0.42359637 0.32201603 0.25117519 0.2019857\n",
            "  0.03886855 0.08931734 0.65050632 0.56352071]\n",
            " [0.18709807 0.59075999 0.08699735 0.30190674 1.13046609 0.13586116\n",
            "  0.73224127 0.88287798 0.45381261 0.15764899 0.62116928 0.20429687\n",
            "  0.3972957  0.37006494 0.55467792 0.41303102 0.16586698 0.4643256\n",
            "  0.15021899 0.63283034 0.52187192 0.64814199 1.00600106 0.1445807\n",
            "  0.75488788 0.12058961 0.69955236 0.66925046 0.94135214 0.98704797\n",
            "  0.46051238 0.46180384 0.63638477 0.         0.27678141 1.0075006\n",
            "  0.46574663 0.87806133 0.64694305 0.25328078 0.63665392 0.42522998\n",
            "  0.86594954 0.58587194 0.7310621  1.0365858  0.73560445 0.51123486\n",
            "  0.22636456 0.16679525 0.69514864 0.52213875 0.33725822 0.63563452\n",
            "  0.57243932 0.55466385 0.08496961 0.54753383 0.42512765 0.10174175\n",
            "  0.59306064 0.03730745 0.81785538 0.31877175 0.35176189 0.90275547\n",
            "  0.42053388 0.95237095 0.26965182 0.75245004 0.38593913 0.73541004\n",
            "  0.80881789 0.11305878 0.85539468 0.52030489 0.37207789 0.83241459\n",
            "  0.78042478 0.53745969 0.21001546 0.6369494  0.20141461 0.80209907\n",
            "  0.41108044 0.48259993 0.57122064 0.76214035 0.5557121  0.20612338\n",
            "  0.08083999 0.79078904 1.05992447 0.95508297 0.84823344 0.76620434\n",
            "  0.6527056  0.6316741  0.12394299 0.66279803]\n",
            " [0.43094633 0.33304845 0.36301099 0.26904182 0.89207771 0.39919009\n",
            "  0.47179346 0.66469613 0.18625157 0.24396234 0.37840679 0.3263057\n",
            "  0.14904874 0.38874391 0.39030656 0.18927302 0.17152328 0.1886398\n",
            "  0.41375849 0.37661447 0.44912484 0.37308909 0.73854868 0.25768822\n",
            "  0.73084206 0.31930845 0.42878054 0.44597135 0.69723197 0.7230597\n",
            "  0.21551436 0.23394488 0.3877051  0.27678141 0.         0.77166093\n",
            "  0.43946706 0.65320733 0.46243403 0.22198159 0.37853106 0.48122214\n",
            "  0.74945075 0.44677764 0.45452395 0.78194778 0.49463665 0.33451622\n",
            "  0.41869889 0.43388573 0.42036061 0.26147685 0.33312709 0.37021638\n",
            "  0.299566   0.36012482 0.21478098 0.32617819 0.18554862 0.17521157\n",
            "  0.37339395 0.27386516 0.55622741 0.18298212 0.11770629 0.64419152\n",
            "  0.36672544 0.73613334 0.14145524 0.50326382 0.43649716 0.47479479\n",
            "  0.53388998 0.30835177 0.80903091 0.28722392 0.10548323 0.65257551\n",
            "  0.52278013 0.406415   0.11447457 0.56473469 0.09182746 0.5253216\n",
            "  0.13841052 0.24614676 0.35992851 0.52928873 0.35051815 0.10740798\n",
            "  0.35503684 0.5702588  0.80622186 0.70930225 0.62546275 0.55351915\n",
            "  0.41242062 0.40833391 0.34124879 0.63083087]\n",
            " [1.0815737  0.70198879 1.09038171 0.75450074 0.1231936  1.08482843\n",
            "  0.68553179 0.14827431 0.59188368 0.88141912 0.39336106 0.9118437\n",
            "  0.62429383 0.79093599 0.48704546 0.80368141 0.84375662 0.61268563\n",
            "  1.0962679  0.70619168 0.63048375 0.57253454 0.25290553 1.02847243\n",
            "  0.7431358  0.9773105  0.60921423 0.83789582 0.08692666 0.21425618\n",
            "  0.75803863 0.54783534 0.38478953 1.0075006  0.77166093 0.\n",
            "  0.71568976 0.13758957 0.39276731 0.97953691 0.69698276 0.85049764\n",
            "  0.49328574 0.49941372 0.51168991 0.13331871 0.27702429 0.51124297\n",
            "  1.01354968 1.11805519 0.44488063 0.70104484 0.76871599 0.6576552\n",
            "  0.622668   0.88517015 0.92382106 0.45997047 0.7741062  0.91590282\n",
            "  0.41475219 0.98629887 0.68818261 0.69295048 0.79241663 0.19172954\n",
            "  0.68854754 0.11521672 0.89044772 0.75164567 0.83686724 0.32226594\n",
            "  0.54354326 1.07230642 0.71028856 0.48982545 0.73565588 0.29133116\n",
            "  0.70896201 0.53819544 0.79846441 0.61023998 0.86276362 0.47290654\n",
            "  0.64281501 0.7765119  0.84865229 0.24552504 0.45516817 0.87891764\n",
            "  1.06744513 0.88916618 0.13325008 0.08475216 0.16771793 0.2553162\n",
            "  0.35960621 0.37598632 1.00159528 0.70355731]\n",
            " [0.4339717  0.70542922 0.51672897 0.18129038 0.83188051 0.46584136\n",
            "  0.81703357 0.56836044 0.44393658 0.30931891 0.44233113 0.27670827\n",
            "  0.38253549 0.10275693 0.24648745 0.61973994 0.33576028 0.49174487\n",
            "  0.47144232 0.74514819 0.08696476 0.67067569 0.8263185  0.57596113\n",
            "  0.2988963  0.36938747 0.74374152 0.85166426 0.68136253 0.79222405\n",
            "  0.62719115 0.34735303 0.46811663 0.46574663 0.43946706 0.71568976\n",
            "  0.         0.57910714 0.32804361 0.62112822 0.74268342 0.13480864\n",
            "  0.41709154 0.2165039  0.71208775 0.79725372 0.51048689 0.25746415\n",
            "  0.34570967 0.48957474 0.62734415 0.64129984 0.12942267 0.71656198\n",
            "  0.63078634 0.78982495 0.39476425 0.35547869 0.60705998 0.4317069\n",
            "  0.37103525 0.42974171 0.88795632 0.25932594 0.55252551 0.69759422\n",
            "  0.07539116 0.62326578 0.56610051 0.86981148 0.12757186 0.57505308\n",
            "  0.80258239 0.57448233 0.39208976 0.3722887  0.51634769 0.45704077\n",
            "  0.86912387 0.18320951 0.3497471  0.17690603 0.47369847 0.75651242\n",
            "  0.45006927 0.66108465 0.78131401 0.50794073 0.32443273 0.49795288\n",
            "  0.48153617 0.96996975 0.81451743 0.69792197 0.55008721 0.46435847\n",
            "  0.45393159 0.39939245 0.38598422 0.20114291]\n",
            " [0.94592586 0.6297973  0.95964923 0.61838974 0.25863143 0.95086216\n",
            "  0.63980361 0.03171496 0.48076212 0.74780215 0.27778177 0.77569143\n",
            "  0.50428715 0.65336718 0.34967009 0.70649662 0.71315208 0.5084375\n",
            "  0.96201826 0.64164811 0.49448681 0.50705673 0.30991297 0.9074253\n",
            "  0.62745539 0.84304287 0.55687924 0.77761706 0.11641609 0.26810731\n",
            "  0.66603219 0.42326427 0.27531966 0.87806133 0.65320733 0.13758957\n",
            "  0.57910714 0.         0.25517774 0.86739566 0.6330641  0.71386828\n",
            "  0.39934627 0.36263031 0.46421411 0.23145742 0.16816363 0.37577821\n",
            "  0.87671701 0.98372086 0.38054185 0.61665741 0.63134007 0.59291639\n",
            "  0.54343736 0.80722772 0.79373894 0.33249442 0.67751262 0.78908343\n",
            "  0.28575681 0.85541323 0.65928725 0.56110466 0.68649326 0.19544151\n",
            "  0.55096433 0.08907863 0.77894371 0.70794364 0.69954782 0.24633149\n",
            "  0.51695032 0.94777865 0.60806201 0.36676968 0.62860447 0.18109722\n",
            "  0.6719268  0.40072338 0.67057407 0.48181483 0.74288195 0.44452298\n",
            "  0.53113884 0.68841207 0.77361994 0.12583944 0.32279963 0.76053404\n",
            "  0.93554632 0.84551081 0.24361653 0.13228464 0.03047989 0.11789188\n",
            "  0.24350221 0.24783063 0.86713679 0.57884293]\n",
            " [0.69635753 0.56436328 0.72392726 0.36885705 0.51286271 0.70608716\n",
            "  0.63017068 0.24965005 0.33206489 0.50564593 0.1830499  0.52515541\n",
            "  0.32143282 0.39826743 0.09650746 0.57193995 0.4813201  0.37674916\n",
            "  0.71638275 0.59206363 0.24699415 0.47558908 0.50572079 0.69928409\n",
            "  0.44711082 0.59802132 0.54507418 0.72404373 0.35340129 0.4693212\n",
            "  0.54842869 0.23452615 0.20491089 0.64694305 0.46243403 0.39276731\n",
            "  0.32804361 0.25517774 0.         0.68441521 0.58589176 0.46199201\n",
            "  0.32282571 0.11421462 0.47932131 0.46923349 0.19649543 0.13628986\n",
            "  0.62381756 0.73774879 0.38276663 0.52365313 0.37696644 0.54915535\n",
            "  0.47344819 0.71213255 0.56200712 0.15299951 0.54694547 0.56729972\n",
            "  0.11950841 0.62037499 0.6801558  0.32923997 0.53002278 0.37559439\n",
            "  0.29581498 0.31347085 0.60141888 0.69501305 0.44531789 0.28426598\n",
            "  0.5613472  0.72933169 0.46910252 0.19807306 0.47377994 0.19091813\n",
            "  0.67586972 0.14635557 0.44880883 0.26885413 0.54320243 0.49948947\n",
            "  0.37303452 0.57855504 0.68767596 0.18335834 0.11588033 0.56448538\n",
            "  0.69675443 0.82133368 0.48652337 0.36993264 0.22518339 0.13785192\n",
            "  0.17215276 0.11560857 0.62139026 0.37241398]\n",
            " [0.43997702 0.4044123  0.30833791 0.43991255 1.09721096 0.38478638\n",
            "  0.53965618 0.88096419 0.38788341 0.34209551 0.58984826 0.4204661\n",
            "  0.36776743 0.54691832 0.6106239  0.2193191  0.28997314 0.36961316\n",
            "  0.39817581 0.44042717 0.64879881 0.49972696 0.91485832 0.12387043\n",
            "  0.91980841 0.36169953 0.53089332 0.44168865 0.90099585 0.90578977\n",
            "  0.27660352 0.45449525 0.59533167 0.25328078 0.22198159 0.97953691\n",
            "  0.62112822 0.86739566 0.68441521 0.         0.44677708 0.62592412\n",
            "  0.96592061 0.66406258 0.58976736 0.97551654 0.70406631 0.55550517\n",
            "  0.47344591 0.41093041 0.58605865 0.348941   0.49767288 0.45869303\n",
            "  0.42124114 0.31742907 0.26147653 0.54609023 0.24385851 0.2066778\n",
            "  0.59287074 0.27914644 0.62316982 0.38644404 0.19413537 0.83593098\n",
            "  0.55562834 0.95235107 0.08913613 0.54353537 0.58166337 0.66863008\n",
            "  0.65042046 0.19264191 1.00727199 0.50524096 0.24648453 0.87448759\n",
            "  0.58110643 0.6212693  0.27297423 0.76744396 0.15072151 0.66413378\n",
            "  0.33701775 0.28490232 0.34205872 0.74202478 0.57214444 0.12651257\n",
            "  0.3242185  0.55675675 1.00038261 0.91169992 0.84069301 0.77225551\n",
            "  0.62417881 0.62640697 0.37225894 0.82093849]\n",
            " [0.80635058 0.04599482 0.71655559 0.61080218 0.7922849  0.76859312\n",
            "  0.09568448 0.65902675 0.29910429 0.62145978 0.408449   0.70175182\n",
            "  0.36164685 0.72700494 0.57314296 0.2306851  0.54930406 0.25097289\n",
            "  0.78329744 0.00957087 0.71450368 0.1261119  0.54306753 0.5572347\n",
            "  0.9915794  0.69692978 0.10063701 0.14487295 0.6100562  0.54939109\n",
            "  0.17723523 0.40340953 0.39293721 0.63665392 0.37853106 0.69698276\n",
            "  0.74268342 0.6330641  0.58589176 0.44677708 0.         0.82341346\n",
            "  0.90796006 0.64295197 0.19306531 0.64122776 0.47522192 0.52482057\n",
            "  0.79707392 0.80192377 0.25404715 0.11707211 0.67174468 0.04015154\n",
            "  0.11554961 0.20244088 0.58918803 0.44274297 0.2128649  0.54128245\n",
            "  0.46667653 0.64273445 0.18130954 0.50130657 0.2849421  0.51245914\n",
            "  0.66832267 0.72060589 0.38044621 0.12882538 0.78171374 0.38684211\n",
            "  0.21796921 0.62529615 1.04036338 0.40350765 0.2731345  0.73084285\n",
            "  0.14461763 0.62576584 0.48949575 0.80553643 0.43573257 0.25707495\n",
            "  0.29697328 0.16209531 0.16188292 0.52192577 0.48568806 0.43107469\n",
            "  0.71749196 0.23660427 0.6656134  0.61404593 0.61749198 0.5901156\n",
            "  0.43165401 0.47539243 0.7180661  0.89730709]\n",
            " [0.34326975 0.78268624 0.45561353 0.21518408 0.96654758 0.38797436\n",
            "  0.90486156 0.70314139 0.53151301 0.28589224 0.56374333 0.22093784\n",
            "  0.46347527 0.09640859 0.3769583  0.66994508 0.33793316 0.5752373\n",
            "  0.38995902 0.8245767  0.22086708 0.76612289 0.95591979 0.55595075\n",
            "  0.34218686 0.3107973  0.83757491 0.91848343 0.81538699 0.92284262\n",
            "  0.6879721  0.44860682 0.58902147 0.42522998 0.48122214 0.85049764\n",
            "  0.13480864 0.71386828 0.46199201 0.62592412 0.82341346 0.\n",
            "  0.52519505 0.35123931 0.81697376 0.93087825 0.64010019 0.37956084\n",
            "  0.25095058 0.40457931 0.73802741 0.71432079 0.15209164 0.80173897\n",
            "  0.71690571 0.8412219  0.37245502 0.47410782 0.66268398 0.42154808\n",
            "  0.49567175 0.38794846 0.98069545 0.32229982 0.5988621  0.82815838\n",
            "  0.17899423 0.75752728 0.58785919 0.95215919 0.04509593 0.69843809\n",
            "  0.90771615 0.53827264 0.45020769 0.48366515 0.57364343 0.58907071\n",
            "  0.95758085 0.3161388  0.3736092  0.28605804 0.49054479 0.86728736\n",
            "  0.52644602 0.72098743 0.83887487 0.64015021 0.4478419  0.51314386\n",
            "  0.41855992 1.0406486  0.94848285 0.83190431 0.68478137 0.59881915\n",
            "  0.57876821 0.52672518 0.32006075 0.26398989]\n",
            " [0.85101804 0.88716704 0.92669735 0.56415565 0.57208995 0.88183913\n",
            "  0.94759907 0.37027588 0.64869492 0.70897787 0.50091884 0.69121906\n",
            "  0.62493676 0.51969141 0.36323997 0.88454576 0.71347045 0.69570652\n",
            "  0.88798085 0.91433431 0.3457426  0.79452625 0.70925182 0.9535841\n",
            "  0.27547818 0.78185393 0.86166075 1.04683188 0.51273228 0.66741348\n",
            "  0.86627623 0.54329827 0.51946616 0.86594954 0.74945075 0.49328574\n",
            "  0.41709154 0.39934627 0.32282571 0.96592061 0.90796006 0.52519505\n",
            "  0.         0.30267562 0.78750709 0.61902208 0.46962162 0.42016042\n",
            "  0.76202677 0.90643855 0.69100242 0.84559786 0.53454346 0.870663\n",
            "  0.79615776 1.03210635 0.78649492 0.47317494 0.86145653 0.81005958\n",
            "  0.44231144 0.83234037 0.99100641 0.58145674 0.83510483 0.59090025\n",
            "  0.44638943 0.37808137 0.89082041 1.01375158 0.53726387 0.57168125\n",
            "  0.86211195 0.96696899 0.21869606 0.51727265 0.78191138 0.21975851\n",
            "  0.99101206 0.34470939 0.70231978 0.24152962 0.81651946 0.79426574\n",
            "  0.68459288 0.89749681 1.00909148 0.43172011 0.43229265 0.84011342\n",
            "  0.89298525 1.14251691 0.62458982 0.52714335 0.38666573 0.35123982\n",
            "  0.4823733  0.4331477  0.80024113 0.2814993 ]\n",
            " [0.61019627 0.61494095 0.65619872 0.28992926 0.61659684 0.62727059\n",
            "  0.69934262 0.35258366 0.3596738  0.43462487 0.26786818 0.43951417\n",
            "  0.32622452 0.29545179 0.06984896 0.58770679 0.42476249 0.40908538\n",
            "  0.63620699 0.64786949 0.13322325 0.54461826 0.61948534 0.6587943\n",
            "  0.35529678 0.52054957 0.61710275 0.77307496 0.46577623 0.58339491\n",
            "  0.57491346 0.25032357 0.29302787 0.58587194 0.44677764 0.49941372\n",
            "  0.2165039  0.36263031 0.11421462 0.66406258 0.64295197 0.35123931\n",
            "  0.30267562 0.         0.56308796 0.5822745  0.30737822 0.12296748\n",
            "  0.53152148 0.65683379 0.4690996  0.56405612 0.28342753 0.60936885\n",
            "  0.52755848 0.74275691 0.50256225 0.20236927 0.5663704  0.51834296\n",
            "  0.1933997  0.55549968 0.75771824 0.28278387 0.5347463  0.48947442\n",
            "  0.19538433 0.41005815 0.58816406 0.76078116 0.33820811 0.38724064\n",
            "  0.64957885 0.67900579 0.39753972 0.23944723 0.48326227 0.25534678\n",
            "  0.74809112 0.04861829 0.40534526 0.16913608 0.51551083 0.59273672\n",
            "  0.38945995 0.60747456 0.72358475 0.29741369 0.15994755 0.53879267\n",
            "  0.62587296 0.87938954 0.59892809 0.48239593 0.33358617 0.24817299\n",
            "  0.2677955  0.20878925 0.54241174 0.27049311]\n",
            " [0.87828821 0.21204099 0.81672554 0.62113693 0.60163097 0.85207062\n",
            "  0.1760282  0.49292413 0.29940168 0.67473002 0.29770779 0.7447632\n",
            "  0.37021024 0.72361207 0.49739862 0.37340447 0.6078061  0.27180391\n",
            "  0.86647248 0.2026306  0.66316888 0.09022283 0.3510782  0.68322528\n",
            "  0.91809516 0.76372491 0.09789557 0.32764267 0.42518094 0.35633746\n",
            "  0.31643264 0.36841964 0.27453554 0.7310621  0.45452395 0.51168991\n",
            "  0.71208775 0.46421411 0.47932131 0.58976736 0.19306531 0.81697376\n",
            "  0.78750709 0.56308796 0.         0.44868276 0.32403656 0.46247977\n",
            "  0.84917817 0.88709941 0.09688406 0.24428854 0.67335049 0.15766524\n",
            "  0.16856349 0.39381545 0.66679298 0.36535029 0.34661342 0.62969167\n",
            "  0.37028957 0.72781449 0.20363965 0.51262402 0.40123861 0.32311673\n",
            "  0.64397704 0.54817021 0.50920907 0.24390545 0.78059678 0.22366752\n",
            "  0.09077392 0.74620086 0.94831294 0.34051087 0.36337117 0.58900761\n",
            "  0.20897595 0.56014463 0.54619056 0.73219728 0.53460585 0.07436777\n",
            "  0.32809456 0.31901273 0.35391912 0.36839864 0.4051387  0.53821523\n",
            "  0.80954757 0.38177274 0.47292085 0.42748197 0.45367209 0.44527436\n",
            "  0.30813686 0.36381748 0.78742285 0.83227353]\n",
            " [1.13068302 0.65446297 1.12207173 0.80937298 0.16054266 1.12682638\n",
            "  0.61316603 0.25463563 0.59612835 0.92425115 0.41629992 0.96504971\n",
            "  0.64142118 0.86212721 0.55603911 0.78195999 0.8780465  0.60637482\n",
            "  1.13924067 0.65075488 0.71549379 0.52344996 0.13065458 1.03907581\n",
            "  0.8581967  1.02141852 0.54566621 0.77482611 0.11738139 0.10085797\n",
            "  0.73104827 0.57610885 0.40020113 1.0365858  0.78194778 0.13331871\n",
            "  0.79725372 0.23145742 0.46923349 0.97551654 0.64122776 0.93087825\n",
            "  0.61902208 0.5822745  0.44868276 0.         0.30640837 0.56828474\n",
            "  1.07020675 1.16118442 0.4032544  0.66683417 0.83284442 0.6040995\n",
            "  0.58566503 0.8390066  0.95558998 0.49801283 0.75238295 0.93988388\n",
            "  0.4584702  1.01948084 0.60165888 0.73338659 0.78272551 0.13963402\n",
            "  0.76005428 0.24375187 0.88692553 0.67562712 0.91208284 0.30794486\n",
            "  0.46050675 1.08933383 0.83346    0.51799715 0.72905017 0.40780196\n",
            "  0.62845131 0.61474364 0.82679632 0.71211565 0.87371482 0.39543894\n",
            "  0.64591044 0.74434311 0.80014778 0.29350949 0.50450779 0.88690887\n",
            "  1.10272925 0.81019519 0.025089   0.10072756 0.25543785 0.33500888\n",
            "  0.3865446  0.42068466 1.0462026  0.81006721]\n",
            " [0.82429133 0.46765635 0.81998149 0.5038232  0.39798966 0.82129036\n",
            "  0.49413052 0.18886364 0.31621414 0.61831406 0.11645884 0.65888869\n",
            "  0.34752426 0.56408042 0.2640018  0.5384042  0.57433909 0.34114417\n",
            "  0.83352372 0.48332118 0.43606969 0.35083956 0.31593257 0.75155428\n",
            "  0.63926313 0.71539778 0.40854926 0.62003759 0.20577098 0.28303422\n",
            "  0.49799911 0.27385394 0.10884367 0.73560445 0.49463665 0.27702429\n",
            "  0.51048689 0.16816363 0.19649543 0.70406631 0.47522192 0.64010019\n",
            "  0.46962162 0.30737822 0.32403656 0.30640837 0.         0.26583396\n",
            "  0.76443588 0.85545912 0.2308577  0.45007914 0.53062691 0.43525759\n",
            "  0.37912949 0.64172389 0.65313008 0.19178013 0.50937817 0.64164385\n",
            "  0.15258811 0.71654613 0.52694083 0.42752227 0.52005766 0.1884876\n",
            "  0.46381027 0.2569247  0.61515385 0.56222119 0.61664803 0.1023896\n",
            "  0.39333965 0.7963357  0.64905838 0.21536203 0.46247327 0.26501908\n",
            "  0.53227667 0.32850132 0.52567598 0.46489591 0.58577895 0.32469812\n",
            "  0.36704914 0.52082093 0.60924017 0.046729   0.19967849 0.60190354\n",
            "  0.79911606 0.69753895 0.32819808 0.21954135 0.14641866 0.12140068\n",
            "  0.08322806 0.11593327 0.74013548 0.56839613]\n",
            " [0.57035181 0.49489134 0.58930951 0.24351058 0.63386973 0.57559048\n",
            "  0.58632286 0.37612147 0.23697357 0.37322173 0.18508008 0.40077381\n",
            "  0.20491622 0.29899442 0.0569336  0.46572863 0.34544407 0.28662059\n",
            "  0.58652442 0.52926145 0.20071107 0.43323854 0.57927157 0.5641818\n",
            "  0.46716646 0.46760714 0.50658638 0.65204553 0.45846652 0.54819966\n",
            "  0.45196732 0.12741481 0.21076586 0.51123486 0.33451622 0.51124297\n",
            "  0.25746415 0.37577821 0.13628986 0.55550517 0.52482057 0.37956084\n",
            "  0.42016042 0.12296748 0.46247977 0.56828474 0.26583396 0.\n",
            "  0.50375476 0.6081648  0.37345154 0.44203333 0.26500331 0.49273314\n",
            "  0.4092811  0.61978974 0.42626622 0.09877747 0.44386992 0.43105495\n",
            "  0.11642575 0.48541306 0.64950821 0.19302636 0.414948   0.45399893\n",
            "  0.2008474  0.44368268 0.47553135 0.64558396 0.35278397 0.31902374\n",
            "  0.55183796 0.59312052 0.51821472 0.12452824 0.36206237 0.32577222\n",
            "  0.63645346 0.10121663 0.31273683 0.28074296 0.41089538 0.50172239\n",
            "  0.26678349 0.48450709 0.60078302 0.27526855 0.06833183 0.43297277\n",
            "  0.56310547 0.76056509 0.58848066 0.47415526 0.34532175 0.25940831\n",
            "  0.19932627 0.15004381 0.49155603 0.37494291]\n",
            " [0.09232111 0.75170897 0.22270554 0.26086791 1.13534082 0.14227616\n",
            "  0.88958915 0.87335918 0.55046988 0.17652513 0.66282392 0.10736468\n",
            "  0.48081859 0.24463843 0.52768849 0.59437    0.24795143 0.57906532\n",
            "  0.14154867 0.79529169 0.42552596 0.77784795 1.06707042 0.37094015\n",
            "  0.59265265 0.11213579 0.84052163 0.85659266 0.96206625 1.0405917\n",
            "  0.63124132 0.51129663 0.68421803 0.22636456 0.41869889 1.01354968\n",
            "  0.34570967 0.87671701 0.62381756 0.47344591 0.79707392 0.25095058\n",
            "  0.76202677 0.53152148 0.84917817 1.07020675 0.76443588 0.50375476\n",
            "  0.         0.1542717  0.79122087 0.6800875  0.24833305 0.78686203\n",
            "  0.71089581 0.75344749 0.22100949 0.57484288 0.59844005 0.27757647\n",
            "  0.61190884 0.19517946 0.97326002 0.34826753 0.52454511 0.94871978\n",
            "  0.33687603 0.93662029 0.46951921 0.92182904 0.22697886 0.79396385\n",
            "  0.93557774 0.33081107 0.70113518 0.56416254 0.52418099 0.78629935\n",
            "  0.94102037 0.48541767 0.30883432 0.52063147 0.37964188 0.91301118\n",
            "  0.5227729  0.65928763 0.76322911 0.77853381 0.56573972 0.39480704\n",
            "  0.18672715 0.98081529 1.09110104 0.97762763 0.84628505 0.75893796\n",
            "  0.68798755 0.64952209 0.10249776 0.51391991]\n",
            " [0.06328697 0.75595442 0.10579374 0.36943334 1.2410914  0.03530663\n",
            "  0.89733598 0.98409434 0.59920858 0.23725641 0.74571779 0.21827089\n",
            "  0.53592918 0.38683607 0.64152914 0.57972402 0.28760353 0.61656089\n",
            "  0.02194442 0.79836637 0.56386831 0.80695427 1.1428252  0.29046862\n",
            "  0.74663456 0.14074469 0.861462   0.83576654 1.05901889 1.12050888\n",
            "  0.62648853 0.58685511 0.76406223 0.16679525 0.43388573 1.11805519\n",
            "  0.48957474 0.98372086 0.73774879 0.41093041 0.80192377 0.40457931\n",
            "  0.90643855 0.65683379 0.88709941 1.16118442 0.85545912 0.6081648\n",
            "  0.1542717  0.         0.8435783  0.68655331 0.37723708 0.79937885\n",
            "  0.73300037 0.71980403 0.22036198 0.66374578 0.59124778 0.26133452\n",
            "  0.7058483  0.16028409 0.98286447 0.42793688 0.51743756 1.03226728\n",
            "  0.46820353 1.05062646 0.43602489 0.9189069  0.37775212 0.86912927\n",
            "  0.96773158 0.23072385 0.85470798 0.64407055 0.53399262 0.9117145\n",
            "  0.94606268 0.60885061 0.34596145 0.66632643 0.36620197 0.95634484\n",
            "  0.56124692 0.64916452 0.7374439  0.87603746 0.66317399 0.37252664\n",
            "  0.08757785 0.95687277 1.18348045 1.07376221 0.95330664 0.8675476\n",
            "  0.77465839 0.74460054 0.11660936 0.66625856]\n",
            " [0.82862204 0.25715759 0.78201087 0.55117426 0.54592919 0.80828134\n",
            "  0.26333007 0.40761187 0.24453728 0.62072714 0.20211257 0.68482469\n",
            "  0.31123474 0.64685826 0.4047915  0.38161239 0.55808717 0.23175835\n",
            "  0.82230058 0.26297102 0.57380255 0.12822878 0.32900443 0.66602581\n",
            "  0.82343936 0.71371915 0.1780913  0.39776084 0.35813448 0.32279206\n",
            "  0.32885034 0.29161373 0.17830322 0.69514864 0.42036061 0.44488063\n",
            "  0.62734415 0.38054185 0.38276663 0.58605865 0.25404715 0.73802741\n",
            "  0.69100242 0.4690996  0.09688406 0.4032544  0.2308577  0.37345154\n",
            "  0.79122087 0.8435783  0.         0.26357978 0.59913502 0.2141255\n",
            "  0.18247023 0.44095802 0.62418473 0.27500619 0.35240009 0.59353853\n",
            "  0.2757543  0.68727633 0.30001465 0.4464276  0.39208131 0.26695554\n",
            "  0.56194901 0.46727597 0.50002434 0.33149638 0.70377776 0.13459763\n",
            "  0.18047928 0.72444452 0.8518541  0.25540215 0.3442502  0.49494779\n",
            "  0.3020319  0.4688011  0.49795156 0.63819538 0.50757235 0.12939075\n",
            "  0.28408666 0.34110546 0.40391064 0.27642835 0.31303852 0.51542381\n",
            "  0.77077393 0.46751037 0.42829073 0.36338893 0.36689368 0.35126844\n",
            "  0.21130144 0.26741501 0.73812047 0.73912417]\n",
            " [0.68970868 0.07167077 0.60349023 0.50006602 0.80733185 0.652929\n",
            "  0.21127154 0.63889755 0.20594471 0.50465404 0.36067355 0.58540121\n",
            "  0.25901789 0.61807638 0.49470478 0.13009585 0.43241548 0.15583178\n",
            "  0.66763243 0.11528119 0.62108717 0.15442298 0.58615506 0.45129305\n",
            "  0.90322448 0.57993136 0.18319621 0.21197015 0.61553102 0.58429549\n",
            "  0.07265988 0.31545678 0.35170039 0.52213875 0.26147685 0.70104484\n",
            "  0.64129984 0.61665741 0.52365313 0.348941   0.11707211 0.71432079\n",
            "  0.84559786 0.56405612 0.24428854 0.66683417 0.45007914 0.44203333\n",
            "  0.6800875  0.68655331 0.26357978 0.         0.56224296 0.11413252\n",
            "  0.08138185 0.19278569 0.47251766 0.37253495 0.10549924 0.42544881\n",
            "  0.40519734 0.52690191 0.29652742 0.39225778 0.17191208 0.52997389\n",
            "  0.56613052 0.70572963 0.27402197 0.24301648 0.6717341  0.37915515\n",
            "  0.30161142 0.51776994 0.96014853 0.3291049  0.15606255 0.6872097\n",
            "  0.26153392 0.54064121 0.37291414 0.71970305 0.32076445 0.31813207\n",
            "  0.19123675 0.07763822 0.16443484 0.49584621 0.41414825 0.31778018\n",
            "  0.60289271 0.32872133 0.69186894 0.6225098  0.59646386 0.55363899\n",
            "  0.38984844 0.42237877 0.60117579 0.80648296]\n",
            " [0.32762044 0.63075114 0.39247189 0.06420478 0.88964026 0.34994273\n",
            "  0.75420729 0.62658339 0.38233979 0.18018101 0.4397278  0.15904088\n",
            "  0.31312259 0.05625768 0.28167746 0.52052074 0.20897938 0.42467089\n",
            "  0.35746457 0.67277551 0.18892351 0.61814394 0.84202619 0.44705484\n",
            "  0.42602507 0.24745564 0.6887293  0.76670278 0.72154864 0.81217605\n",
            "  0.53657957 0.3075228  0.46364032 0.33725822 0.33312709 0.76871599\n",
            "  0.12942267 0.63134007 0.37696644 0.49767288 0.67174468 0.15209164\n",
            "  0.53454346 0.28342753 0.67335049 0.83284442 0.53062691 0.26500331\n",
            "  0.24833305 0.37723708 0.59913502 0.56224296 0.         0.6507594\n",
            "  0.56633472 0.69197747 0.26534598 0.34897689 0.51205407 0.30344033\n",
            "  0.37924295 0.30173911 0.83112734 0.17044253 0.45016518 0.71835388\n",
            "  0.09096853 0.68885731 0.4491102  0.80054251 0.11005966 0.57478245\n",
            "  0.76376161 0.44520942 0.5213943  0.34981778 0.42245766 0.53858454\n",
            "  0.80697046 0.23708531 0.23146575 0.30034265 0.35373163 0.72745422\n",
            "  0.37488054 0.56978044 0.688274   0.5394088  0.33128933 0.3775058\n",
            "  0.35846058 0.88865975 0.85264548 0.73751334 0.60104147 0.51345641\n",
            "  0.46006304 0.41469994 0.2666458  0.32980129]\n",
            " [0.80065747 0.05729562 0.71743999 0.59101715 0.75404694 0.76549672\n",
            "  0.10408542 0.61887992 0.27278118 0.61052503 0.3704063  0.68910662\n",
            "  0.33839134 0.70543031 0.53969736 0.23968016 0.53896458 0.22666565\n",
            "  0.78018919 0.04885999 0.68507219 0.08603338 0.50871512 0.56448551\n",
            "  0.95988769 0.68952431 0.07358339 0.1849673  0.57073756 0.51350965\n",
            "  0.18318977 0.37375248 0.35425712 0.63563452 0.37021638 0.6576552\n",
            "  0.71656198 0.59291639 0.54915535 0.45869303 0.04015154 0.80173897\n",
            "  0.870663   0.60936885 0.15766524 0.6040995  0.43525759 0.49273314\n",
            "  0.78686203 0.79937885 0.2141255  0.11413252 0.6507594  0.\n",
            "  0.08577589 0.23617571 0.5836555  0.40811822 0.21798197 0.53806288\n",
            "  0.43027967 0.63939329 0.18639839 0.48070503 0.2860429  0.47405197\n",
            "  0.64282718 0.68048466 0.38707933 0.15376073 0.76081604 0.3467084\n",
            "  0.19446807 0.63142507 1.00636082 0.3701143  0.26616053 0.69163473\n",
            "  0.15674664 0.59390537 0.47814642 0.77339424 0.43422392 0.22534163\n",
            "  0.27644289 0.17518511 0.19646905 0.48194776 0.45108339 0.43180539\n",
            "  0.71629644 0.27220073 0.62862154 0.57496403 0.57735793 0.55055956\n",
            "  0.39286727 0.43770021 0.71136704 0.8665589 ]\n",
            " [0.73001598 0.09151078 0.65662125 0.50730952 0.72731044 0.698491\n",
            "  0.18795589 0.56704585 0.18705749 0.53438931 0.30002869 0.6108908\n",
            "  0.25343187 0.62069378 0.45772834 0.20620071 0.46389014 0.14169208\n",
            "  0.71310083 0.12031928 0.59992655 0.07890363 0.50521541 0.51602204\n",
            "  0.87612797 0.61716719 0.12979848 0.25078042 0.5366718  0.50294348\n",
            "  0.15027203 0.28860037 0.28726691 0.57243932 0.299566   0.622668\n",
            "  0.63078634 0.54343736 0.47344819 0.42124114 0.11554961 0.71690571\n",
            "  0.79615776 0.52755848 0.16856349 0.58566503 0.37912949 0.4092811\n",
            "  0.71089581 0.73300037 0.18247023 0.08138185 0.56633472 0.08577589\n",
            "  0.         0.26412487 0.51434499 0.32801086 0.1786151  0.47242581\n",
            "  0.35395126 0.57274387 0.26613936 0.39673031 0.23354559 0.44921956\n",
            "  0.55708334 0.63230539 0.3409842  0.23932542 0.67634425 0.30197344\n",
            "  0.23710543 0.58013938 0.92504328 0.28815551 0.2005697  0.62596229\n",
            "  0.24068382 0.51025921 0.40233491 0.69000795 0.37261765 0.24292791\n",
            "  0.19348685 0.15901916 0.23026663 0.42557428 0.3708847  0.37393543\n",
            "  0.65229702 0.35183254 0.61068386 0.54314732 0.52477111 0.48825911\n",
            "  0.32609829 0.36544753 0.63979754 0.78212187]\n",
            " [0.73949261 0.18466708 0.621385   0.62777508 0.98636547 0.69040123\n",
            "  0.26931506 0.83027889 0.38415887 0.59038795 0.55326623 0.67503735\n",
            "  0.42125998 0.7479739  0.67482509 0.17145748 0.52044969 0.33641168\n",
            "  0.70459438 0.19298291 0.78347046 0.31580613 0.74476836 0.44073638\n",
            "  1.06856093 0.64339425 0.30300399 0.12866181 0.79869186 0.74953826\n",
            "  0.16810824 0.49254323 0.54447565 0.55466385 0.36012482 0.88517015\n",
            "  0.78982495 0.80722772 0.71213255 0.31742907 0.20244088 0.8412219\n",
            "  1.03210635 0.74275691 0.39381545 0.8390066  0.64172389 0.61978974\n",
            "  0.75344749 0.71980403 0.44095802 0.19278569 0.69197747 0.23617571\n",
            "  0.26412487 0.         0.53268712 0.55955502 0.18298012 0.47691021\n",
            "  0.59502006 0.5718013  0.34019774 0.53091318 0.24241912 0.70651005\n",
            "  0.71485698 0.89618883 0.28630233 0.24763234 0.79657312 0.56585308\n",
            "  0.41729595 0.50995985 1.13385261 0.5150017  0.27355556 0.87947533\n",
            "  0.29540161 0.71428333 0.47144176 0.88992005 0.3741086  0.45950325\n",
            "  0.35452614 0.13528777 0.04097265 0.68779103 0.59984088 0.35882851\n",
            "  0.63223095 0.23934405 0.86368872 0.80430792 0.78790029 0.74642401\n",
            "  0.58263081 0.61406601 0.65992458 0.9696442 ]\n",
            " [0.21719104 0.5432589  0.16685921 0.22294628 1.04688318 0.18528043\n",
            "  0.68377434 0.79822259 0.38036158 0.08776508 0.53951346 0.15933512\n",
            "  0.31978113 0.30493388 0.46997907 0.37657391 0.08093411 0.39624257\n",
            "  0.19968593 0.58640575 0.44464455 0.58730169 0.92902015 0.18441415\n",
            "  0.68959306 0.11102484 0.6435027  0.63831519 0.85873182 0.90873033\n",
            "  0.41746349 0.37975594 0.55560834 0.08496961 0.21478098 0.92382106\n",
            "  0.39476425 0.79373894 0.56200712 0.26147653 0.58918803 0.37245502\n",
            "  0.78649492 0.50256225 0.66679298 0.95558998 0.65313008 0.42626622\n",
            "  0.22100949 0.22036198 0.62418473 0.47251766 0.26534598 0.5836555\n",
            "  0.51434499 0.53268712 0.         0.46400303 0.3833541  0.057018\n",
            "  0.50914775 0.06420722 0.76884923 0.23386193 0.30880146 0.82300148\n",
            "  0.34359838 0.86759035 0.24861028 0.71039281 0.32993458 0.65683955\n",
            "  0.74796216 0.18123276 0.78667619 0.43816538 0.31749801 0.74781067\n",
            "  0.73380433 0.45432447 0.12950807 0.56156808 0.15985257 0.73599712\n",
            "  0.3411046  0.44349186 0.54354495 0.67866761 0.47117566 0.17388458\n",
            "  0.14825319 0.76209705 0.97868996 0.87267103 0.76383566 0.68148224\n",
            "  0.57051311 0.54785401 0.12975825 0.59473636]\n",
            " [0.63273533 0.41737406 0.63072716 0.31547912 0.58294319 0.62965359\n",
            "  0.49697819 0.34083826 0.17940859 0.42655835 0.09080241 0.46854603\n",
            "  0.17832853 0.38905637 0.1337623  0.41976615 0.3842922  0.22377897\n",
            "  0.64181528 0.44812673 0.29879649 0.34227358 0.49423954 0.57632385\n",
            "  0.5567313  0.52362167 0.41490123 0.57678414 0.39582369 0.46618201\n",
            "  0.39543148 0.09237502 0.11530195 0.54753383 0.32617819 0.45997047\n",
            "  0.35547869 0.33249442 0.15299951 0.54609023 0.44274297 0.47410782\n",
            "  0.47317494 0.20236927 0.36535029 0.49801283 0.19178013 0.09877747\n",
            "  0.57484288 0.66374578 0.27500619 0.37253495 0.34897689 0.40811822\n",
            "  0.32801086 0.55955502 0.46400303 0.         0.39433267 0.45679162\n",
            "  0.04742319 0.52681908 0.55623717 0.2358382  0.38109247 0.37388311\n",
            "  0.29521602 0.41197819 0.46004279 0.55871233 0.44452923 0.22607024\n",
            "  0.45408613 0.61531965 0.59833016 0.04517171 0.32386416 0.33346095\n",
            "  0.54578973 0.19483236 0.33870293 0.36980343 0.41334161 0.40300446\n",
            "  0.22238985 0.42566486 0.53592587 0.21466536 0.04296857 0.43239035\n",
            "  0.60870728 0.67933727 0.51996393 0.41028491 0.30340722 0.22759794\n",
            "  0.11315035 0.08467948 0.54835566 0.46794805]\n",
            " [0.59931619 0.16757572 0.50394075 0.44800041 0.8857203  0.55851749\n",
            "  0.30848757 0.6965578  0.21493311 0.42690434 0.40615543 0.51047269\n",
            "  0.24121854 0.56826205 0.500037   0.02968242 0.35476133 0.17360677\n",
            "  0.57319434 0.20836457 0.60103856 0.25640941 0.68038219 0.34650529\n",
            "  0.88620157 0.4933937  0.28853306 0.26054066 0.69078078 0.67516534\n",
            "  0.035634   0.3182445  0.40341315 0.42512765 0.18554862 0.7741062\n",
            "  0.60705998 0.67751262 0.54694547 0.24385851 0.2128649  0.66268398\n",
            "  0.86145653 0.5663704  0.34661342 0.75238295 0.50937817 0.44386992\n",
            "  0.59844005 0.59124778 0.35240009 0.10549924 0.51205407 0.21798197\n",
            "  0.1786151  0.18298012 0.3833541  0.39433267 0.         0.3324367\n",
            "  0.4346334  0.4333888  0.39403969 0.3485247  0.07457106 0.61345027\n",
            "  0.53200195 0.76601919 0.16909887 0.327947   0.61846557 0.453108\n",
            "  0.40706575 0.41364769 0.95353786 0.3491629  0.09072364 0.72443125\n",
            "  0.35555814 0.53527012 0.29990598 0.70893158 0.22576016 0.42091252\n",
            "  0.17716512 0.06100582 0.17623002 0.55278534 0.43183414 0.21904327\n",
            "  0.50591744 0.38494199 0.77746699 0.69940172 0.654384   0.60043614\n",
            "  0.43877064 0.45940918 0.51310218 0.78707692]\n",
            " [0.26709006 0.49528793 0.18847504 0.25327206 1.03843295 0.22749095\n",
            "  0.63648684 0.79580381 0.35296997 0.13602454 0.52611701 0.21405363\n",
            "  0.29880303 0.34793454 0.47899253 0.32374321 0.09760444 0.36259089\n",
            "  0.24219238 0.53800797 0.47371973 0.54743275 0.9060056  0.1452074\n",
            "  0.72946499 0.16656096 0.60039577 0.5845394  0.84729153 0.88787941\n",
            "  0.3671862  0.36819456 0.54005278 0.10174175 0.17521157 0.91590282\n",
            "  0.4317069  0.78908343 0.56729972 0.2066778  0.54128245 0.42154808\n",
            "  0.81005958 0.51834296 0.62969167 0.93988388 0.64164385 0.43105495\n",
            "  0.27757647 0.26133452 0.59353853 0.42544881 0.30344033 0.53806288\n",
            "  0.47242581 0.47691021 0.057018   0.45679162 0.3324367  0.\n",
            "  0.50332667 0.10146566 0.72191978 0.23896308 0.25799528 0.80483656\n",
            "  0.37431935 0.86618227 0.19195913 0.6603119  0.37796471 0.63668708\n",
            "  0.70821751 0.16211822 0.82339236 0.42649827 0.27277391 0.75621174\n",
            "  0.68569779 0.47109182 0.11914823 0.59224271 0.10680552 0.70050621\n",
            "  0.30952897 0.39178932 0.48884713 0.6704118  0.46907599 0.11828121\n",
            "  0.18007288 0.70791339 0.96350596 0.8606073  0.75969203 0.67995585\n",
            "  0.55845061 0.54144049 0.18333959 0.63279853]\n",
            " [0.67291519 0.44485995 0.67563641 0.35124003 0.53788858 0.67206984\n",
            "  0.51365875 0.29353784 0.22064011 0.46862007 0.07489343 0.50657966\n",
            "  0.22515651 0.41519534 0.13146759 0.46089688 0.4290049  0.26196167\n",
            "  0.68395456 0.47274302 0.30575453 0.35860493 0.46325911 0.62370702\n",
            "  0.54786152 0.56533682 0.42942269 0.60453674 0.35322236 0.43293386\n",
            "  0.43343341 0.13975383 0.10056974 0.59306064 0.37339395 0.41475219\n",
            "  0.37103525 0.28575681 0.11950841 0.59287074 0.46667653 0.49567175\n",
            "  0.44231144 0.1933997  0.37028957 0.4584702  0.15258811 0.11642575\n",
            "  0.61190884 0.7058483  0.2757543  0.40519734 0.37924295 0.43027967\n",
            "  0.35395126 0.59502006 0.50914775 0.04742319 0.4346334  0.50332667\n",
            "  0.         0.57154706 0.56744992 0.27873086 0.42523095 0.33920435\n",
            "  0.31718903 0.3646193  0.50644547 0.57757821 0.46919971 0.20402778\n",
            "  0.45622561 0.66231445 0.58111622 0.08853216 0.3675711  0.29022393\n",
            "  0.56059917 0.19753176 0.38489292 0.36244984 0.46075504 0.39975819\n",
            "  0.2660337  0.46255002 0.56950411 0.17036583 0.04824098 0.47974274\n",
            "  0.65286521 0.70247275 0.47975303 0.36812472 0.25645084 0.18021846\n",
            "  0.0831403  0.03885556 0.58993044 0.46371772]\n",
            " [0.16792043 0.5967406  0.10424275 0.26901843 1.10943036 0.12610531\n",
            "  0.73795239 0.85917259 0.44388684 0.12336297 0.60329698 0.16702688\n",
            "  0.38391958 0.33331398 0.52696104 0.42364277 0.14255517 0.4582891\n",
            "  0.14079597 0.63942269 0.4875596  0.64694222 0.9931941  0.17754197\n",
            "  0.71789397 0.08579122 0.70118271 0.68299599 0.92201776 0.97293621\n",
            "  0.46831268 0.44348422 0.61961066 0.03730745 0.27386516 0.98629887\n",
            "  0.42974171 0.85541323 0.62037499 0.27914644 0.64273445 0.38794846\n",
            "  0.83234037 0.55549968 0.72781449 1.01948084 0.71654613 0.48541306\n",
            "  0.19517946 0.16028409 0.68727633 0.52690191 0.30173911 0.63939329\n",
            "  0.57274387 0.5718013  0.06420722 0.52681908 0.4333888  0.10146566\n",
            "  0.57154706 0.         0.82338321 0.29447273 0.35909717 0.88712443\n",
            "  0.38629988 0.92810631 0.28551416 0.76133516 0.34863916 0.72104476\n",
            "  0.80775012 0.1503244  0.81875323 0.50182269 0.37377194 0.8041425\n",
            "  0.78712252 0.50694856 0.19371478 0.60185582 0.20764264 0.79769875\n",
            "  0.40365803 0.49229949 0.58611833 0.74141511 0.53262942 0.21645679\n",
            "  0.08409432 0.80566278 1.04251478 0.93606343 0.82538562 0.74228673\n",
            "  0.63408766 0.61033061 0.09319291 0.62614072]\n",
            " [0.98601495 0.22711004 0.89785502 0.77295986 0.76157076 0.94936697\n",
            "  0.08563362 0.68919186 0.44918421 0.79691705 0.49730269 0.87525833\n",
            "  0.51805342 0.88483723 0.68995187 0.41070177 0.7253557  0.40693493\n",
            "  0.96407181 0.18573156 0.8481386  0.21751712 0.48186446 0.73670532\n",
            "  1.11281984 0.87547747 0.14422235 0.22307368 0.60461024 0.50148774\n",
            "  0.35840762 0.54077641 0.47540029 0.81785538 0.55622741 0.68818261\n",
            "  0.88795632 0.65928725 0.6801558  0.62316982 0.18130954 0.98069545\n",
            "  0.99100641 0.75771824 0.20363965 0.60165888 0.52694083 0.64950821\n",
            "  0.97326002 0.98286447 0.30001465 0.29652742 0.83112734 0.18639839\n",
            "  0.26613936 0.34019774 0.76884923 0.55623717 0.39403969 0.72191978\n",
            "  0.56744992 0.82338321 0.         0.66227554 0.46621644 0.49655307\n",
            "  0.81601276 0.73954658 0.5606879  0.09637686 0.94093542 0.42551058\n",
            "  0.14476975 0.80524147 1.14814442 0.52503505 0.45157278 0.79193684\n",
            "  0.04481339 0.74979329 0.66453571 0.92598723 0.61676425 0.21662504\n",
            "  0.45962524 0.34104814 0.30166602 0.57054471 0.59795185 0.6123771\n",
            "  0.8986859  0.2121106  0.62346246 0.6036525  0.65156851 0.64832391\n",
            "  0.51038312 0.56458068 0.89709915 1.02376442]\n",
            " [0.39869015 0.46038647 0.39870684 0.11069993 0.81614373 0.39381584\n",
            "  0.58437396 0.56472092 0.21557331 0.19086459 0.31896207 0.24093102\n",
            "  0.14484457 0.22593731 0.24004664 0.36046676 0.15292799 0.2553465\n",
            "  0.40600155 0.50234016 0.26669315 0.4516396  0.72086969 0.37644579\n",
            "  0.54789714 0.28804692 0.52089796 0.59859963 0.63144653 0.69610473\n",
            "  0.37037574 0.16330915 0.33869685 0.31877175 0.18298212 0.69295048\n",
            "  0.25932594 0.56110466 0.32923997 0.38644404 0.50130657 0.32229982\n",
            "  0.58145674 0.28278387 0.51262402 0.73338659 0.42752227 0.19302636\n",
            "  0.34826753 0.42793688 0.4464276  0.39225778 0.17044253 0.48070503\n",
            "  0.39673031 0.53091318 0.23386193 0.2358382  0.3485247  0.23896308\n",
            "  0.27873086 0.29447273 0.66227554 0.         0.29340081 0.60608058\n",
            "  0.1850801  0.63383744 0.3182657  0.63011049 0.28041861 0.44696649\n",
            "  0.60198135 0.40104006 0.62690232 0.21806911 0.25785409 0.51734976\n",
            "  0.63714919 0.23733924 0.12279923 0.38357705 0.23595324 0.57165764\n",
            "  0.20451545 0.40405242 0.52382297 0.44909246 0.2383205  0.2599691\n",
            "  0.37458541 0.71963696 0.75558014 0.64603976 0.53101206 0.44786603\n",
            "  0.3470026  0.31758246 0.31285719 0.44788759]\n",
            " [0.52477896 0.23911288 0.43193754 0.38597934 0.9080813  0.48447241\n",
            "  0.3805842  0.70270891 0.20721831 0.35428634 0.40948059 0.43834701\n",
            "  0.21055604 0.50599446 0.4718766  0.07199519 0.28257325 0.17973131\n",
            "  0.49916253 0.281071   0.55474557 0.31238658 0.72075919 0.28251253\n",
            "  0.83906546 0.41895014 0.35362687 0.33270879 0.71188367 0.71175039\n",
            "  0.10921582 0.29574607 0.41147119 0.35176189 0.11770629 0.79241663\n",
            "  0.55252551 0.68649326 0.53002278 0.19413537 0.2849421  0.5988621\n",
            "  0.83510483 0.5347463  0.40123861 0.78272551 0.52005766 0.414948\n",
            "  0.52454511 0.51743756 0.39208131 0.17191208 0.45016518 0.2860429\n",
            "  0.23354559 0.24241912 0.30880146 0.38109247 0.07457106 0.25799528\n",
            "  0.42523095 0.35909717 0.46621644 0.29340081 0.         0.64309174\n",
            "  0.47847907 0.7735071  0.10858967 0.40231665 0.5541748  0.47705133\n",
            "  0.46904211 0.34735635 0.91214817 0.33692378 0.05816088 0.71455239\n",
            "  0.42870082 0.49924087 0.23010918 0.66694435 0.15147016 0.47535876\n",
            "  0.15924904 0.13489467 0.24330118 0.56066401 0.41422135 0.14622262\n",
            "  0.43260137 0.45717357 0.80767022 0.72190127 0.66131219 0.59957285\n",
            "  0.44346727 0.45465446 0.43855545 0.73924851]\n",
            " [1.0047325  0.52192081 0.98882395 0.68907147 0.28005935 0.99754978\n",
            "  0.49505864 0.22684381 0.4580377  0.7964154  0.28712514 0.84229058\n",
            "  0.50603399 0.75253411 0.45143174 0.64307223 0.74682251 0.46695543\n",
            "  1.0103419  0.52185983 0.62086546 0.39089476 0.13021292 0.9008028\n",
            "  0.80034481 0.8935925  0.42100866 0.65066129 0.10902717 0.0946865\n",
            "  0.5928465  0.44543515 0.26822414 0.90275547 0.64419152 0.19172954\n",
            "  0.69759422 0.19544151 0.37559439 0.83593098 0.51245914 0.82815838\n",
            "  0.59090025 0.48947442 0.32311673 0.13963402 0.1884876  0.45399893\n",
            "  0.94871978 1.03226728 0.26695554 0.52997389 0.71835388 0.47405197\n",
            "  0.44921956 0.70651005 0.82300148 0.37388311 0.61345027 0.80483656\n",
            "  0.33920435 0.88712443 0.49655307 0.60608058 0.64309174 0.\n",
            "  0.6522713  0.25620258 0.74739283 0.56060982 0.80511831 0.16941164\n",
            "  0.3518585  0.9521514  0.79308968 0.38836547 0.58948355 0.37114195\n",
            "  0.51734615 0.51475368 0.69367286 0.63712446 0.73581925 0.2812127\n",
            "  0.5074107  0.60722056 0.66850629 0.19230868 0.3870646  0.74849575\n",
            "  0.97082807 0.69786563 0.16459275 0.10710106 0.20428309 0.25773624\n",
            "  0.26073379 0.30395606 0.91847891 0.73926977]\n",
            " [0.41820208 0.63064147 0.48054618 0.12128667 0.80805513 0.44073849\n",
            "  0.74390781 0.54405864 0.37004881 0.26303967 0.38474934 0.24998188\n",
            "  0.30756938 0.10252596 0.20408281 0.54509243 0.27682487 0.41735328\n",
            "  0.44839251 0.67063072 0.10134074 0.59916073 0.77898899 0.51952065\n",
            "  0.365828   0.3372747  0.67190291 0.77632924 0.64636952 0.746844\n",
            "  0.55186978 0.2766669  0.41003719 0.42053388 0.36672544 0.68854754\n",
            "  0.07539116 0.55096433 0.29581498 0.55562834 0.66832267 0.17899423\n",
            "  0.44638943 0.19538433 0.64397704 0.76005428 0.46381027 0.2008474\n",
            "  0.33687603 0.46820353 0.56194901 0.56613052 0.09096853 0.64282718\n",
            "  0.55708334 0.71485698 0.34359838 0.29521602 0.53200195 0.37431935\n",
            "  0.31718903 0.38629988 0.81601276 0.1850801  0.47847907 0.6522713\n",
            "  0.         0.60418517 0.49652313 0.79579554 0.15285606 0.51950188\n",
            "  0.73470063 0.52482918 0.45195639 0.30667132 0.4413183  0.44947918\n",
            "  0.79618085 0.15125196 0.28273575 0.21825174 0.40636435 0.69133968\n",
            "  0.37489494 0.58577317 0.70602631 0.46715481 0.26917843 0.43076413\n",
            "  0.44733279 0.89483646 0.77878161 0.66264936 0.52099805 0.43358719\n",
            "  0.40017165 0.34925435 0.35709154 0.26614469]\n",
            " [1.00982362 0.71825758 1.03225107 0.68222348 0.21169561 1.01857682\n",
            "  0.72416037 0.07145162 0.56706406 0.81682386 0.36409773 0.83862267\n",
            "  0.58709476 0.70533634 0.40997823 0.79490897 0.78669071 0.59618251\n",
            "  1.02915027 0.7292884  0.53667322 0.59450508 0.34998508 0.98829734\n",
            "  0.63009688 0.91048718 0.64230065 0.86489893 0.15290926 0.30860309\n",
            "  0.75491629 0.50395925 0.3631438  0.95237095 0.73613334 0.11521672\n",
            "  0.62326578 0.08907863 0.31347085 0.95235107 0.72060589 0.75752728\n",
            "  0.37808137 0.41005815 0.54817021 0.24375187 0.2569247  0.44368268\n",
            "  0.93662029 1.05062646 0.46727597 0.70572963 0.68885731 0.68048466\n",
            "  0.63230539 0.89618883 0.86759035 0.41197819 0.76601919 0.86618227\n",
            "  0.3646193  0.92810631 0.73954658 0.63383744 0.7735071  0.25620258\n",
            "  0.60418517 0.         0.86427388 0.79206327 0.74775357 0.33380188\n",
            "  0.59580489 1.02628535 0.59514704 0.44892645 0.71548486 0.18049918\n",
            "  0.75437611 0.45299779 0.74715299 0.50478543 0.82480842 0.52333889\n",
            "  0.61708543 0.77744858 0.86241827 0.21340908 0.39723194 0.84317112\n",
            "  1.00667017 0.92993503 0.24716232 0.16313406 0.11219597 0.18630234\n",
            "  0.33004088 0.3281337  0.93411331 0.59471585]\n",
            " [0.45329097 0.3358847  0.34190171 0.38750342 1.00807571 0.40548994\n",
            "  0.4755553  0.79294454 0.29893994 0.31529382 0.50125232 0.39895613\n",
            "  0.28194511 0.50191754 0.5315578  0.14998613 0.25132209 0.28073012\n",
            "  0.4198708  0.37521429 0.58459591 0.41988475 0.82827534 0.17740646\n",
            "  0.86234864 0.35837749 0.45720975 0.39974955 0.81186348 0.81830334\n",
            "  0.20418143 0.36923405 0.50637607 0.26965182 0.14145524 0.89044772\n",
            "  0.56610051 0.77894371 0.60141888 0.08913613 0.38044621 0.58785919\n",
            "  0.89082041 0.58816406 0.50920907 0.88692553 0.61515385 0.47553135\n",
            "  0.46951921 0.43602489 0.50002434 0.27402197 0.4491102  0.38707933\n",
            "  0.3409842  0.28630233 0.24861028 0.46004279 0.16909887 0.19195913\n",
            "  0.50644547 0.28551416 0.5606879  0.3182657  0.10858967 0.74739283\n",
            "  0.49652313 0.86427388 0.         0.48819905 0.54283121 0.57977459\n",
            "  0.5746685  0.24487701 0.94476684 0.41836703 0.15797661 0.79054927\n",
            "  0.52064064 0.54735194 0.21773939 0.70184274 0.09757749 0.58344709\n",
            "  0.2481365  0.21983975 0.30157217 0.65343506 0.48779278 0.07672688\n",
            "  0.34877582 0.52116261 0.91175602 0.82258953 0.75245906 0.68517615\n",
            "  0.53557695 0.53925558 0.3740697  0.76258566]\n",
            " [0.92696268 0.17167351 0.82929024 0.73962328 0.8336637  0.88637637\n",
            "  0.06828612 0.73636975 0.425875   0.74706536 0.51317756 0.8282862\n",
            "  0.4898905  0.85575268 0.69136711 0.33980182 0.67469008 0.37867476\n",
            "  0.90104229 0.12843209 0.83879087 0.21947871 0.56168239 0.66104417\n",
            "  1.1126981  0.81953758 0.15379395 0.12687607 0.66597136 0.57721041\n",
            "  0.29315174 0.52749481 0.49433034 0.75245004 0.50326382 0.75164567\n",
            "  0.86981148 0.70794364 0.69501305 0.54353537 0.12882538 0.95215919\n",
            "  1.01375158 0.76078116 0.24390545 0.67562712 0.56222119 0.64558396\n",
            "  0.92182904 0.9189069  0.33149638 0.24301648 0.80054251 0.15376073\n",
            "  0.23932542 0.24763234 0.71039281 0.55871233 0.327947   0.6603119\n",
            "  0.57757821 0.76133516 0.09637686 0.63011049 0.40231665 0.56060982\n",
            "  0.79579554 0.79206327 0.48819905 0.         0.91052422 0.46495849\n",
            "  0.2160468  0.73034555 1.15683215 0.52220324 0.39788409 0.82524786\n",
            "  0.05343541 0.74680021 0.61570123 0.92597627 0.55370001 0.2809179\n",
            "  0.42571625 0.26990961 0.21085054 0.60792393 0.60155885 0.54639417\n",
            "  0.83308904 0.13800923 0.69850237 0.66694581 0.69663138 0.68193707\n",
            "  0.53186061 0.58118469 0.83994543 1.01989784]\n",
            " [0.31837691 0.74054153 0.42125346 0.17180921 0.95476953 0.35835178\n",
            "  0.86423831 0.69067159 0.49192458 0.24279186 0.53494751 0.18240995\n",
            "  0.4230451  0.05700659 0.35612982 0.62537468 0.29316379 0.53466492\n",
            "  0.36167252 0.78267649 0.21390919 0.72737049 0.93165786 0.51397776\n",
            "  0.37347674 0.27450375 0.79829379 0.87491056 0.79772732 0.89967778\n",
            "  0.64412374 0.41291164 0.55981739 0.38593913 0.43649716 0.83686724\n",
            "  0.12757186 0.69954782 0.44531789 0.58166337 0.78171374 0.04509593\n",
            "  0.53726387 0.33820811 0.78059678 0.91208284 0.61664803 0.35278397\n",
            "  0.22697886 0.37775212 0.70377776 0.6717341  0.11005966 0.76081604\n",
            "  0.67634425 0.79657312 0.32993458 0.44452923 0.61846557 0.37796471\n",
            "  0.46919971 0.34863916 0.94093542 0.28041861 0.5541748  0.80511831\n",
            "  0.15285606 0.74775357 0.54283121 0.91052422 0.         0.67015922\n",
            "  0.87121865 0.49876083 0.47903132 0.4509583  0.52971538 0.58401198\n",
            "  0.91699772 0.29902449 0.32853652 0.29583934 0.44555728 0.83273135\n",
            "  0.48490748 0.67701646 0.79459896 0.61962061 0.42102176 0.46822446\n",
            "  0.38446761 0.99736976 0.93046096 0.81410526 0.66995462 0.58305561\n",
            "  0.55190664 0.50190532 0.2859113  0.28879249]\n",
            " [0.84472624 0.38532345 0.82184076 0.53814871 0.43271335 0.83414065\n",
            "  0.39667516 0.27305073 0.28862606 0.63523208 0.13531265 0.68672479\n",
            "  0.33814109 0.61498137 0.33297956 0.48276987 0.58219821 0.2990449\n",
            "  0.84727483 0.39549588 0.50824603 0.26077385 0.27411042 0.73143084\n",
            "  0.73130401 0.73199106 0.31223284 0.53130215 0.23780852 0.25189371\n",
            "  0.43596656 0.2838946  0.11118117 0.73541004 0.47479479 0.32226594\n",
            "  0.57505308 0.24633149 0.28426598 0.66863008 0.38684211 0.69843809\n",
            "  0.57168125 0.38724064 0.22366752 0.30794486 0.1023896  0.31902374\n",
            "  0.79396385 0.86912927 0.13459763 0.37915515 0.57478245 0.3467084\n",
            "  0.30197344 0.56585308 0.65683955 0.22607024 0.453108   0.63668708\n",
            "  0.20402778 0.72104476 0.42551058 0.44696649 0.47705133 0.16941164\n",
            "  0.51950188 0.33380188 0.57977459 0.46495849 0.67015922 0.\n",
            "  0.29095007 0.78284027 0.74706851 0.22982831 0.42223235 0.36669363\n",
            "  0.43258662 0.39944252 0.52733242 0.55187728 0.56640835 0.22262312\n",
            "  0.33808271 0.4542782  0.53071974 0.14503516 0.25099103 0.57915544\n",
            "  0.80500766 0.60163975 0.33255373 0.24631831 0.23231119 0.22348922\n",
            "  0.12154614 0.17914459 0.75689379 0.65522863]\n",
            " [0.96157122 0.25152096 0.89344054 0.71098448 0.61950981 0.93294085\n",
            "  0.15828272 0.54730988 0.38758893 0.76026152 0.38235923 0.83200435\n",
            "  0.45866638 0.81424535 0.58502121 0.43117699 0.69210771 0.3566207\n",
            "  0.9474635  0.2268371  0.75253482 0.16081569 0.34576726 0.75124172\n",
            "  1.00379256 0.84748825 0.1208891  0.32604863 0.45984053 0.36145529\n",
            "  0.37381953 0.45918509 0.35809067 0.80881789 0.53388998 0.54354326\n",
            "  0.80258239 0.51695032 0.5613472  0.65042046 0.21796921 0.90771615\n",
            "  0.86211195 0.64957885 0.09077392 0.46050675 0.39333965 0.55183796\n",
            "  0.93557774 0.96773158 0.18047928 0.30161142 0.76376161 0.19446807\n",
            "  0.23710543 0.41729595 0.74796216 0.45408613 0.40706575 0.70821751\n",
            "  0.45622561 0.80775012 0.14476975 0.60198135 0.46904211 0.3518585\n",
            "  0.73470063 0.59580489 0.5746685  0.2160468  0.87121865 0.29095007\n",
            "  0.         0.81635371 1.03019799 0.43067922 0.43750239 0.65683579\n",
            "  0.16795076 0.64857075 0.63030511 0.81867205 0.60961635 0.07250653\n",
            "  0.41301143 0.3691822  0.37632332 0.43480389 0.4930319  0.61098814\n",
            "  0.88827912 0.34970497 0.48304533 0.4589585  0.51076874 0.51424213\n",
            "  0.38920692 0.44665084 0.87083138 0.91954785]\n",
            " [0.27289282 0.5807501  0.12493743 0.4041029  1.19419775 0.21149515\n",
            "  0.72027799 0.95557666 0.49453626 0.26518632 0.68002557 0.31734842\n",
            "  0.44940196 0.48105744 0.64102462 0.39468605 0.25453242 0.49379187\n",
            "  0.22266791 0.61997112 0.62586467 0.65863372 1.04638457 0.06960158\n",
            "  0.86633679 0.23177341 0.70058807 0.63315901 1.00115959 1.03138558\n",
            "  0.44893335 0.52495484 0.69196095 0.11305878 0.30835177 1.07230642\n",
            "  0.57448233 0.94777865 0.72933169 0.19264191 0.62529615 0.53827264\n",
            "  0.96696899 0.67900579 0.74620086 1.08933383 0.7963357  0.59312052\n",
            "  0.33081107 0.23072385 0.72444452 0.51776994 0.44520942 0.63142507\n",
            "  0.58013938 0.50995985 0.18123276 0.61531965 0.41364769 0.16211822\n",
            "  0.66231445 0.1503244  0.80524147 0.40104006 0.34735635 0.9521514\n",
            "  0.52482918 1.02628535 0.24487701 0.73034555 0.49876083 0.78284027\n",
            "  0.81635371 0.         0.96559409 0.58257933 0.38343185 0.91832818\n",
            "  0.76470445 0.63132787 0.28068263 0.74273503 0.21765587 0.8196686\n",
            "  0.44649453 0.46419551 0.53345062 0.82730374 0.62972485 0.20921574\n",
            "  0.15130303 0.74930385 1.11342608 1.01389246 0.91871554 0.84029445\n",
            "  0.71318529 0.69995423 0.23088395 0.77316883]\n",
            " [0.79345585 1.0124009  0.89911628 0.57094301 0.79071976 0.83701384\n",
            "  1.09412047 0.5808814  0.75456137 0.70054618 0.65105345 0.65786407\n",
            "  0.71274419 0.48547426 0.46738868 0.9720475  0.72676024 0.8044923\n",
            "  0.83967742 1.04536189 0.36022829 0.93899921 0.91641233 0.96794992\n",
            "  0.11098396 0.75136062 1.0104238  1.17017245 0.72369075 0.87503836\n",
            "  0.96582352 0.64482133 0.67378151 0.85539468 0.80903091 0.71028856\n",
            "  0.39208976 0.60806201 0.46910252 1.00727199 1.04036338 0.45020769\n",
            "  0.21869606 0.39753972 0.94831294 0.83346    0.64905838 0.51821472\n",
            "  0.70113518 0.85470798 0.8518541  0.96014853 0.5213943  1.00636082\n",
            "  0.92504328 1.13385261 0.78667619 0.59833016 0.95353786 0.82339236\n",
            "  0.58111622 0.81875323 1.14814442 0.62690232 0.91214817 0.79308968\n",
            "  0.45195639 0.59514704 0.94476684 1.15683215 0.47903132 0.74706851\n",
            "  1.03019799 0.96559409 0.         0.63688892 0.8660861  0.42714115\n",
            "  1.14163088 0.42010602 0.73430249 0.24520991 0.85737342 0.96696943\n",
            "  0.7794049  0.99912977 1.11725042 0.61819554 0.55539876 0.8817932\n",
            "  0.86264652 1.27687166 0.84035266 0.73880816 0.59147245 0.54046173\n",
            "  0.64106886 0.58449876 0.764386   0.19261399]\n",
            " [0.61670488 0.37624462 0.60494939 0.30917329 0.61207073 0.60946308\n",
            "  0.46214872 0.37750039 0.13424474 0.40805997 0.10175239 0.45696523\n",
            "  0.13823069 0.39440003 0.16966155 0.37464879 0.36007621 0.17889227\n",
            "  0.62213452 0.40847473 0.32383043 0.30873589 0.50315204 0.54069532\n",
            "  0.59070771 0.50522808 0.38206212 0.53516561 0.42113247 0.47803565\n",
            "  0.35042897 0.05850267 0.12062819 0.52030489 0.28722392 0.48982545\n",
            "  0.3722887  0.36676968 0.19807306 0.50524096 0.40350765 0.48366515\n",
            "  0.51727265 0.23944723 0.34051087 0.51799715 0.21536203 0.12452824\n",
            "  0.56416254 0.64407055 0.25540215 0.3291049  0.34981778 0.3701143\n",
            "  0.28815551 0.5150017  0.43816538 0.04517171 0.3491629  0.42649827\n",
            "  0.08853216 0.50182269 0.52503505 0.21806911 0.33692378 0.38836547\n",
            "  0.30667132 0.44892645 0.41836703 0.52220324 0.4509583  0.22982831\n",
            "  0.43067922 0.58257933 0.63688892 0.         0.27943751 0.37782503\n",
            "  0.51204871 0.22534831 0.3103342  0.40384427 0.37619394 0.38476758\n",
            "  0.17787948 0.38085107 0.49194166 0.24474503 0.0850975  0.3942612\n",
            "  0.58482999 0.63998291 0.5408246  0.43478065 0.33857667 0.26701931\n",
            "  0.13240743 0.12127566 0.53011626 0.49935769]\n",
            " [0.53455308 0.22758295 0.45605167 0.35859294 0.85203376 0.49983854\n",
            "  0.3668011  0.64463821 0.14905979 0.34918809 0.35141712 0.43085339\n",
            "  0.1571775  0.47871073 0.41885176 0.10598557 0.27680613 0.12344618\n",
            "  0.51451037 0.27113799 0.5116498  0.27744595 0.67134984 0.32250025\n",
            "  0.79677438 0.42404877 0.32766172 0.34578611 0.65577216 0.66061551\n",
            "  0.11446749 0.24020296 0.35377044 0.37207789 0.10548323 0.73565588\n",
            "  0.51634769 0.62860447 0.47377994 0.24648453 0.2731345  0.57364343\n",
            "  0.78191138 0.48326227 0.36337117 0.72905017 0.46247327 0.36206237\n",
            "  0.52418099 0.53399262 0.3442502  0.15606255 0.42245766 0.26616053\n",
            "  0.2005697  0.27355556 0.31749801 0.32386416 0.09072364 0.27277391\n",
            "  0.3675711  0.37377194 0.45157278 0.25785409 0.05816088 0.58948355\n",
            "  0.4413183  0.71548486 0.15797661 0.39788409 0.52971538 0.42223235\n",
            "  0.43750239 0.38343185 0.8660861  0.27943751 0.         0.65723599\n",
            "  0.41751622 0.44976867 0.21826343 0.62107301 0.17211837 0.4364502\n",
            "  0.10156233 0.14735101 0.26622897 0.50276572 0.35790033 0.17486101\n",
            "  0.45220238 0.46927483 0.75390637 0.666094   0.60329477 0.5414442\n",
            "  0.3854477  0.39663157 0.44553234 0.69742113]\n",
            " [0.86554187 0.71717337 0.90658513 0.54331234 0.39121414 0.88168695\n",
            "  0.75748419 0.15385293 0.51086238 0.68583332 0.32682716 0.69477131\n",
            "  0.50911439 0.54674768 0.2779105  0.75098482 0.66776447 0.55113907\n",
            "  0.8909294  0.73827347 0.37018981 0.6098713  0.49058339 0.88981873\n",
            "  0.45213492 0.77441965 0.67147156 0.87434105 0.2965611  0.44891427\n",
            "  0.72164882 0.42167774 0.33881516 0.83241459 0.65257551 0.29133116\n",
            "  0.45704077 0.18109722 0.19091813 0.87448759 0.73084285 0.58907071\n",
            "  0.21975851 0.25534678 0.58900761 0.40780196 0.26501908 0.32577222\n",
            "  0.78629935 0.9117145  0.49494779 0.6872097  0.53858454 0.69163473\n",
            "  0.62596229 0.87947533 0.74781067 0.33346095 0.72443125 0.75621174\n",
            "  0.29022393 0.8041425  0.79193684 0.51734976 0.71455239 0.37114195\n",
            "  0.44947918 0.18049918 0.79054927 0.82524786 0.58401198 0.36669363\n",
            "  0.65683579 0.91832818 0.42714115 0.37782503 0.65723599 0.\n",
            "  0.79688839 0.30291601 0.63836008 0.32582322 0.7340922  0.58668078\n",
            "  0.55569267 0.7495228  0.85118546 0.22204076 0.30276769 0.75527971\n",
            "  0.877631   0.95901875 0.41648938 0.31177103 0.16692449 0.14375606\n",
            "  0.2999478  0.26597427 0.79672996 0.41423237]\n",
            " [0.95096221 0.19055753 0.85941901 0.747582   0.78739505 0.91288133\n",
            "  0.05277524 0.70110248 0.42692371 0.76508381 0.49290568 0.84462249\n",
            "  0.49411257 0.86137757 0.67942096 0.37079965 0.69311043 0.38237398\n",
            "  0.92758291 0.14771096 0.83308338 0.20356829 0.5121465  0.69588561\n",
            "  1.10222404 0.84146525 0.1312117  0.17904577 0.62408469 0.52922226\n",
            "  0.32002467 0.52322368 0.47237808 0.78042478 0.52278013 0.70896201\n",
            "  0.86912387 0.6719268  0.67586972 0.58110643 0.14461763 0.95758085\n",
            "  0.99101206 0.74809112 0.20897595 0.62845131 0.53227667 0.63645346\n",
            "  0.94102037 0.94606268 0.3020319  0.26153392 0.80697046 0.15674664\n",
            "  0.24068382 0.29540161 0.73380433 0.54578973 0.35555814 0.68569779\n",
            "  0.56059917 0.78712252 0.04481339 0.63714919 0.42870082 0.51734615\n",
            "  0.79618085 0.75437611 0.52064064 0.05343541 0.91699772 0.43258662\n",
            "  0.16795076 0.76470445 1.14163088 0.51204871 0.41751622 0.79688839\n",
            "  0.         0.7373959  0.63287024 0.91523268 0.57987908 0.23620548\n",
            "  0.43309432 0.30080387 0.25697911 0.57709171 0.58816917 0.57449945\n",
            "  0.86125675 0.18175552 0.65092655 0.62421562 0.66229639 0.65315393\n",
            "  0.508757   0.56079715 0.86266332 1.01138611]\n",
            " [0.56288834 0.59518205 0.60758125 0.24140521 0.65709831 0.57906774\n",
            "  0.68742168 0.39299173 0.33477067 0.38600658 0.27201474 0.39191608\n",
            "  0.2940545  0.25307281 0.06647099 0.55520837 0.3769098  0.38482607\n",
            "  0.58813443 0.63008613 0.10883683 0.53402781 0.6438685  0.61235631\n",
            "  0.36598269 0.47217615 0.60727181 0.75153946 0.49945435 0.6093136\n",
            "  0.54617755 0.22520648 0.29788982 0.53745969 0.406415   0.53819544\n",
            "  0.18320951 0.40072338 0.14635557 0.6212693  0.62576584 0.3161388\n",
            "  0.34470939 0.04861829 0.56014463 0.61474364 0.32850132 0.10121663\n",
            "  0.48541767 0.60885061 0.4688011  0.54064121 0.23708531 0.59390537\n",
            "  0.51025921 0.71428333 0.45432447 0.19483236 0.53527012 0.47109182\n",
            "  0.19753176 0.50694856 0.74979329 0.23733924 0.49924087 0.51475368\n",
            "  0.15125196 0.45299779 0.54735194 0.74680021 0.29902449 0.39944252\n",
            "  0.64857075 0.63132787 0.42010602 0.22534831 0.44976867 0.30291601\n",
            "  0.7373959  0.         0.3593316  0.17983782 0.47182772 0.59542383\n",
            "  0.3597705  0.57931833 0.69716013 0.32473136 0.15583309 0.49540403\n",
            "  0.57727516 0.861223   0.63247171 0.51593057 0.37100837 0.28403127\n",
            "  0.27800176 0.22079176 0.49416516 0.27406494]\n",
            " [0.33223204 0.44456683 0.29530652 0.16988582 0.92125369 0.31065715\n",
            "  0.58116486 0.67687806 0.25342861 0.13238396 0.41116311 0.21263043\n",
            "  0.19060899 0.28491752 0.36207374 0.30210314 0.06182618 0.27439149\n",
            "  0.32453204 0.48816997 0.37638895 0.47098272 0.7996216  0.25364667\n",
            "  0.6476779  0.21753962 0.53208377 0.56040412 0.73144302 0.77922252\n",
            "  0.32993232 0.25183204 0.42663373 0.21001546 0.11447457 0.79846441\n",
            "  0.3497471  0.67057407 0.44880883 0.27297423 0.48949575 0.3736092\n",
            "  0.70231978 0.40534526 0.54619056 0.82679632 0.52567598 0.31273683\n",
            "  0.30883432 0.34596145 0.49795156 0.37291414 0.23146575 0.47814642\n",
            "  0.40233491 0.47144176 0.12950807 0.33870293 0.29990598 0.11914823\n",
            "  0.38489292 0.19371478 0.66453571 0.12279923 0.23010918 0.69367286\n",
            "  0.28273575 0.74715299 0.21773939 0.61570123 0.32853652 0.52733242\n",
            "  0.63030511 0.28068263 0.73430249 0.3103342  0.21826343 0.63836008\n",
            "  0.63287024 0.3593316  0.         0.49531341 0.12397107 0.61333023\n",
            "  0.2181241  0.36059769 0.47334532 0.55295464 0.34998103 0.14828055\n",
            "  0.27772108 0.68472042 0.85004856 0.74511144 0.64105439 0.56089394\n",
            "  0.44271902 0.42321844 0.24136567 0.54844748]\n",
            " [0.61005678 0.77497578 0.69205522 0.33952668 0.71637816 0.64274508\n",
            "  0.86581042 0.46325175 0.51376292 0.47934045 0.43668364 0.45324709\n",
            "  0.46866531 0.27962972 0.2360475  0.72705472 0.49465212 0.56389196\n",
            "  0.64831429 0.80990271 0.11906642 0.71166789 0.76694518 0.73743764\n",
            "  0.18699168 0.54537873 0.78456461 0.93098155 0.59497721 0.72843377\n",
            "  0.72210505 0.40457812 0.46161357 0.6369494  0.56473469 0.61023998\n",
            "  0.17690603 0.48181483 0.26885413 0.76744396 0.80553643 0.28605804\n",
            "  0.24152962 0.16913608 0.73219728 0.71211565 0.46489591 0.28074296\n",
            "  0.52063147 0.66632643 0.63819538 0.71970305 0.30034265 0.77339424\n",
            "  0.69000795 0.88992005 0.56156808 0.36980343 0.70893158 0.59224271\n",
            "  0.36244984 0.60185582 0.92598723 0.38357705 0.66694435 0.63712446\n",
            "  0.21825174 0.50478543 0.70184274 0.92597627 0.29583934 0.55187728\n",
            "  0.81867205 0.74273503 0.24520991 0.40384427 0.62107301 0.32582322\n",
            "  0.91523268 0.17983782 0.49531341 0.         0.61686002 0.76124326\n",
            "  0.5359214  0.75560794 0.87443806 0.44642643 0.32810548 0.64121797\n",
            "  0.65733082 1.04106079 0.72536234 0.61153665 0.45668241 0.38166756\n",
            "  0.43471468 0.37563699 0.5625536  0.10355986]\n",
            " [0.3738893  0.38977306 0.28415803 0.29339144 0.98347551 0.33305347\n",
            "  0.531196   0.75345339 0.27778481 0.21897264 0.46940433 0.30323653\n",
            "  0.23883769 0.40565376 0.46470651 0.21710653 0.15375761 0.27635054\n",
            "  0.34774944 0.43217444 0.49834761 0.44949411 0.82873522 0.16596204\n",
            "  0.7716031  0.2708607  0.49864469 0.47850655 0.78885067 0.81400435\n",
            "  0.26068007 0.32102674 0.4792537  0.20141461 0.09182746 0.86276362\n",
            "  0.47369847 0.74288195 0.54320243 0.15072151 0.43573257 0.49054479\n",
            "  0.81651946 0.51551083 0.53460585 0.87371482 0.58577895 0.41089538\n",
            "  0.37964188 0.36620197 0.50757235 0.32076445 0.35373163 0.43422392\n",
            "  0.37261765 0.3741086  0.15985257 0.41334161 0.22576016 0.10680552\n",
            "  0.46075504 0.20764264 0.61676425 0.23595324 0.15147016 0.73581925\n",
            "  0.40636435 0.82480842 0.09757749 0.55370001 0.44555728 0.56640835\n",
            "  0.60961635 0.21765587 0.85737342 0.37619394 0.17211837 0.7340922\n",
            "  0.57987908 0.47182772 0.12397107 0.61686002 0.         0.60703574\n",
            "  0.22905991 0.28498394 0.38381067 0.61964115 0.4344997  0.0244204\n",
            "  0.28213177 0.60224467 0.89801132 0.80100508 0.71476969 0.64091887\n",
            "  0.50326708 0.49667717 0.28914325 0.67228901]\n",
            " [0.94552259 0.28163253 0.88813438 0.67811928 0.55281047 0.92119858\n",
            "  0.21773483 0.47495667 0.36266854 0.74001624 0.32495848 0.80753268\n",
            "  0.43229979 0.77577158 0.53048369 0.44755929 0.67458787 0.33981494\n",
            "  0.93550197 0.26656162 0.70151008 0.16450467 0.28776182 0.75709625\n",
            "  0.94483771 0.83069225 0.1567533  0.38137295 0.38850281 0.298521\n",
            "  0.39047131 0.42007213 0.29971239 0.80209907 0.5253216  0.47290654\n",
            "  0.75651242 0.44452298 0.49948947 0.66413378 0.25707495 0.86728736\n",
            "  0.79426574 0.59273672 0.07436777 0.39543894 0.32469812 0.50172239\n",
            "  0.91301118 0.95634484 0.12939075 0.31813207 0.72745422 0.22534163\n",
            "  0.24292791 0.45950325 0.73599712 0.40300446 0.42091252 0.70050621\n",
            "  0.39975819 0.79769875 0.21662504 0.57165764 0.47535876 0.2812127\n",
            "  0.69133968 0.52333889 0.58344709 0.2809179  0.83273135 0.22262312\n",
            "  0.07250653 0.8196686  0.96696943 0.38476758 0.4364502  0.58668078\n",
            "  0.23620548 0.59542383 0.61333023 0.76124326 0.60703574 0.\n",
            "  0.39551631 0.39203868 0.41894315 0.3648815  0.43966105 0.61129172\n",
            "  0.88000078 0.41725325 0.41873774 0.38818792 0.43869633 0.44483775\n",
            "  0.32783173 0.38639833 0.85467551 0.86322961]\n",
            " [0.55031939 0.25693666 0.49797671 0.31460314 0.76135365 0.52602928\n",
            "  0.38033895 0.54593042 0.05093156 0.34725039 0.25335715 0.42026267\n",
            "  0.06838961 0.43003834 0.32287341 0.20004774 0.27971165 0.05641435\n",
            "  0.54025367 0.2982807  0.43257835 0.25533543 0.60014123 0.39341405\n",
            "  0.71662778 0.43566276 0.32070702 0.40209493 0.56543363 0.58495099\n",
            "  0.18643683 0.14130367 0.25832876 0.41108044 0.13841052 0.64281501\n",
            "  0.45006927 0.53113884 0.37303452 0.33701775 0.29697328 0.52644602\n",
            "  0.68459288 0.38945995 0.32809456 0.64591044 0.36704914 0.26678349\n",
            "  0.5227729  0.56124692 0.28408666 0.19123675 0.37488054 0.27644289\n",
            "  0.19348685 0.35452614 0.3411046  0.22238985 0.17716512 0.30952897\n",
            "  0.2660337  0.40365803 0.45962524 0.20451545 0.15924904 0.5074107\n",
            "  0.37489494 0.61708543 0.2481365  0.42571625 0.48490748 0.33808271\n",
            "  0.41301143 0.44649453 0.7794049  0.17787948 0.10156233 0.55569267\n",
            "  0.43309432 0.3597705  0.2181241  0.5359214  0.22905991 0.39551631\n",
            "  0.         0.21974875 0.33867261 0.40547743 0.25721783 0.24108506\n",
            "  0.48689316 0.51994444 0.67039749 0.5767337  0.50504246 0.4408585\n",
            "  0.28765002 0.29557816 0.45944652 0.61870301]\n",
            " [0.65886328 0.11967383 0.5596233  0.50594221 0.8839853  0.61685589\n",
            "  0.25625026 0.70957365 0.24907264 0.48790891 0.42530661 0.57144358\n",
            "  0.28711112 0.62603658 0.539556   0.07011269 0.41575229 0.20196816\n",
            "  0.63149865 0.15616363 0.65066352 0.23012856 0.66342572 0.39571113\n",
            "  0.93543484 0.55380688 0.24845653 0.19983352 0.69141446 0.66189882\n",
            "  0.03394557 0.35725708 0.41894991 0.48259993 0.24614676 0.7765119\n",
            "  0.66108465 0.68841207 0.57855504 0.28490232 0.16209531 0.72098743\n",
            "  0.89749681 0.60747456 0.31901273 0.74434311 0.52082093 0.48450709\n",
            "  0.65928763 0.64916452 0.34110546 0.07763822 0.56978044 0.17518511\n",
            "  0.15901916 0.13528777 0.44349186 0.42566486 0.06100582 0.39178932\n",
            "  0.46255002 0.49229949 0.34104814 0.40405242 0.13489467 0.60722056\n",
            "  0.58577317 0.77744858 0.21983975 0.26990961 0.67701646 0.4542782\n",
            "  0.3691822  0.46419551 0.99912977 0.38085107 0.14735101 0.7495228\n",
            "  0.30080387 0.57931833 0.36059769 0.75560794 0.28498394 0.39203868\n",
            "  0.21974875 0.         0.12032071 0.56588265 0.46541721 0.27665176\n",
            "  0.5631979  0.32412631 0.76938752 0.69875018 0.66714214 0.61981603\n",
            "  0.45618165 0.48356212 0.57324471 0.83694501]\n",
            " [0.75403565 0.14680069 0.64125047 0.62422978 0.94851426 0.70706206\n",
            "  0.22901304 0.79730962 0.36392466 0.5964116  0.52441416 0.68082946\n",
            "  0.40656996 0.74448774 0.65490526 0.17134179 0.52528212 0.31487755\n",
            "  0.72143899 0.15238273 0.77057886 0.27761245 0.7046615  0.46389142\n",
            "  1.05512707 0.65456542 0.26232624 0.09970981 0.76199831 0.7099774\n",
            "  0.1542645  0.47338334 0.51433636 0.57122064 0.35992851 0.84865229\n",
            "  0.78131401 0.77361994 0.68767596 0.34205872 0.16188292 0.83887487\n",
            "  1.00909148 0.72358475 0.35391912 0.80014778 0.60924017 0.60078302\n",
            "  0.76322911 0.7374439  0.40391064 0.16443484 0.688274   0.19646905\n",
            "  0.23026663 0.04097265 0.54354495 0.53592587 0.17623002 0.48884713\n",
            "  0.56950411 0.58611833 0.30166602 0.52382297 0.24330118 0.66850629\n",
            "  0.70602631 0.86241827 0.30157217 0.21085054 0.79459896 0.53071974\n",
            "  0.37632332 0.53345062 1.11725042 0.49194166 0.26622897 0.85118546\n",
            "  0.25697911 0.69716013 0.47334532 0.87443806 0.38381067 0.41894315\n",
            "  0.33867261 0.12032071 0.         0.65557669 0.57702889 0.37064001\n",
            "  0.65004815 0.21962651 0.82475724 0.76725463 0.75502446 0.71625704\n",
            "  0.55281965 0.58673053 0.6721785  0.95684946]\n",
            " [0.84214754 0.51430402 0.84537285 0.51775955 0.36833803 0.84234846\n",
            "  0.53975109 0.14389683 0.35500798 0.63886283 0.15218498 0.6744034\n",
            "  0.38080348 0.56894981 0.26359512 0.58159615 0.598866   0.38283234\n",
            "  0.85415935 0.53003817 0.42943633 0.39741837 0.32250088 0.7848515\n",
            "  0.61502164 0.73543822 0.45439359 0.6667509  0.18370047 0.28598413\n",
            "  0.54243325 0.30248337 0.14974134 0.76214035 0.52928873 0.24552504\n",
            "  0.50794073 0.12583944 0.18335834 0.74202478 0.52192577 0.64015021\n",
            "  0.43172011 0.29741369 0.36839864 0.29350949 0.046729   0.27526855\n",
            "  0.77853381 0.87603746 0.27642835 0.49584621 0.5394088  0.48194776\n",
            "  0.42557428 0.68779103 0.67866761 0.21466536 0.55278534 0.6704118\n",
            "  0.17036583 0.74141511 0.57054471 0.44909246 0.56066401 0.19230868\n",
            "  0.46715481 0.21340908 0.65343506 0.60792393 0.61962061 0.14503516\n",
            "  0.43480389 0.82730374 0.61819554 0.24474503 0.50276572 0.22204076\n",
            "  0.57709171 0.32473136 0.55295464 0.44642643 0.61964115 0.3648815\n",
            "  0.40547743 0.56588265 0.65557669 0.         0.21358527 0.63669572\n",
            "  0.82304822 0.74359766 0.31328921 0.19910974 0.10161012 0.08050926\n",
            "  0.11785818 0.13152498 0.75996881 0.54925689]\n",
            " [0.62857461 0.46004388 0.63686983 0.30488003 0.5783292  0.62976707\n",
            "  0.53959406 0.32725994 0.21732711 0.42629872 0.11815849 0.46103512\n",
            "  0.2064956  0.36695572 0.09232815 0.45645438 0.39046486 0.26349446\n",
            "  0.64134248 0.4910415  0.26232608 0.38474506 0.51147413 0.59460593\n",
            "  0.51486948 0.52246033 0.45715748 0.61934186 0.39725285 0.48096098\n",
            "  0.43459694 0.11915971 0.14407103 0.5557121  0.35051815 0.45516817\n",
            "  0.32443273 0.32279963 0.11588033 0.57214444 0.48568806 0.4478419\n",
            "  0.43229265 0.15994755 0.4051387  0.50450779 0.19967849 0.06833183\n",
            "  0.56573972 0.66317399 0.31303852 0.41414825 0.33128933 0.45108339\n",
            "  0.3708847  0.59984088 0.47117566 0.04296857 0.43183414 0.46907599\n",
            "  0.04824098 0.53262942 0.59795185 0.2383205  0.41422135 0.3870646\n",
            "  0.26917843 0.39723194 0.48779278 0.60155885 0.42102176 0.25099103\n",
            "  0.4930319  0.62972485 0.55539876 0.0850975  0.35790033 0.30276769\n",
            "  0.58816917 0.15583309 0.34998103 0.32810548 0.4344997  0.43966105\n",
            "  0.25721783 0.46541721 0.57702889 0.21358527 0.         0.45478336\n",
            "  0.61285229 0.72228684 0.52537381 0.41251451 0.29275787 0.21093767\n",
            "  0.13099447 0.08393369 0.54687906 0.42721184]\n",
            " [0.38405558 0.38529935 0.28575183 0.3174859  0.99911465 0.34025989\n",
            "  0.52674388 0.77175556 0.29085094 0.23857607 0.48574891 0.32225442\n",
            "  0.25626455 0.42907462 0.48718526 0.20743642 0.17558668 0.28557398\n",
            "  0.35488687 0.4270296  0.52273625 0.45173118 0.83887415 0.15238731\n",
            "  0.79594895 0.28458833 0.49800257 0.46677133 0.80399376 0.82519294\n",
            "  0.25449176 0.34001644 0.49466764 0.20612338 0.10740798 0.87891764\n",
            "  0.49795288 0.76053404 0.56448538 0.12651257 0.43107469 0.51314386\n",
            "  0.84011342 0.53879267 0.53821523 0.88690887 0.60190354 0.43297277\n",
            "  0.39480704 0.37252664 0.51542381 0.31778018 0.3775058  0.43180539\n",
            "  0.37393543 0.35882851 0.17388458 0.43239035 0.21904327 0.11828121\n",
            "  0.47974274 0.21645679 0.6123771  0.2599691  0.14622262 0.74849575\n",
            "  0.43076413 0.84317112 0.07672688 0.54639417 0.46822446 0.57915544\n",
            "  0.61098814 0.20921574 0.8817932  0.3942612  0.17486101 0.75527971\n",
            "  0.57449945 0.49540403 0.14828055 0.64121797 0.0244204  0.61129172\n",
            "  0.24108506 0.27665176 0.37064001 0.63669572 0.45478336 0.\n",
            "  0.28688362 0.58986658 0.9113427  0.8158704  0.73269616 0.65996034\n",
            "  0.51979543 0.515171   0.30160684 0.69666264]\n",
            " [0.12160515 0.67159457 0.03713967 0.33616971 1.19063056 0.06126132\n",
            "  0.81307444 0.93835848 0.52773526 0.19180172 0.68644544 0.20559493\n",
            "  0.46801092 0.38050885 0.60205457 0.49351156 0.22480835 0.54110393\n",
            "  0.0740533  0.71366883 0.54727387 0.72750186 1.07727228 0.20558732\n",
            "  0.75793778 0.11219229 0.77982534 0.74851464 1.00433348 1.05690123\n",
            "  0.54132358 0.52662234 0.70310647 0.08083999 0.35503684 1.06744513\n",
            "  0.48153617 0.93554632 0.69675443 0.3242185  0.71749196 0.41855992\n",
            "  0.89298525 0.62587296 0.80954757 1.10272925 0.79911606 0.56310547\n",
            "  0.18672715 0.08757785 0.77077393 0.60289271 0.35846058 0.71629644\n",
            "  0.65229702 0.63223095 0.14825319 0.60870728 0.50591744 0.18007288\n",
            "  0.65286521 0.08409432 0.8986859  0.37458541 0.43260137 0.97082807\n",
            "  0.44733279 1.00667017 0.34877582 0.83308904 0.38446761 0.80500766\n",
            "  0.88827912 0.15130303 0.86264652 0.58482999 0.45220238 0.877631\n",
            "  0.86125675 0.57727516 0.27772108 0.65733082 0.28213177 0.88000078\n",
            "  0.48689316 0.5631979  0.65004815 0.82304822 0.61285229 0.28688362\n",
            "  0.         0.8694128  1.12564765 1.01853319 0.90537855 0.82140698\n",
            "  0.71691719 0.69170656 0.0986184  0.6708643 ]\n",
            " [0.97356621 0.26662319 0.85984439 0.82560178 0.96912313 0.9266426\n",
            "  0.20578379 0.87371416 0.53034884 0.81141081 0.64177202 0.89526733\n",
            "  0.5875127  0.94477302 0.80955593 0.38650147 0.73948565 0.48070388\n",
            "  0.94100068 0.23152106 0.94719871 0.34953045 0.69297124 0.68006044\n",
            "  1.226577   0.87309404 0.28944897 0.12448263 0.80369417 0.7108459\n",
            "  0.35527555 0.63741621 0.6245068  0.79078904 0.5702588  0.88916618\n",
            "  0.96996975 0.84551081 0.82133368 0.55675675 0.23660427 1.0406486\n",
            "  1.14251691 0.87938954 0.38177274 0.81019519 0.69753895 0.76056509\n",
            "  0.98081529 0.95687277 0.46751037 0.32872133 0.88865975 0.27220073\n",
            "  0.35183254 0.23934405 0.76209705 0.67933727 0.38494199 0.70791339\n",
            "  0.70247275 0.80566278 0.2121106  0.71963696 0.45717357 0.69786563\n",
            "  0.89483646 0.92993503 0.52116261 0.13800923 0.99736976 0.60163975\n",
            "  0.34970497 0.74930385 1.27687166 0.63998291 0.46927483 0.95901875\n",
            "  0.18175552 0.861223   0.68472042 1.04106079 0.60224467 0.41725325\n",
            "  0.51994444 0.32412631 0.21962651 0.74359766 0.72228684 0.58986658\n",
            "  0.8694128  0.         0.83261693 0.80443075 0.83370045 0.81627862\n",
            "  0.66271167 0.70938603 0.89114917 1.13136098]\n",
            " [1.15240386 0.67918747 1.14526825 0.83023338 0.14100531 1.1492045\n",
            "  0.63646162 0.26474212 0.62052103 0.94642439 0.43922378 0.98624146\n",
            "  0.66520803 0.8810287  0.57469881 0.80704549 0.90089929 0.63115843\n",
            "  1.16153949 0.67514831 0.73206274 0.54821737 0.14769326 1.06345802\n",
            "  0.86808854 1.04354673 0.56971632 0.79866959 0.13317016 0.12197634\n",
            "  0.75613321 0.59905093 0.42359637 1.05992447 0.80622186 0.13325008\n",
            "  0.81451743 0.24361653 0.48652337 1.00038261 0.6656134  0.94848285\n",
            "  0.62458982 0.59892809 0.47292085 0.025089   0.32819808 0.58848066\n",
            "  1.09110104 1.18348045 0.42829073 0.69186894 0.85264548 0.62862154\n",
            "  0.61068386 0.86368872 0.97868996 0.51996393 0.77746699 0.96350596\n",
            "  0.47975303 1.04251478 0.62346246 0.75558014 0.80767022 0.16459275\n",
            "  0.77878161 0.24716232 0.91175602 0.69850237 0.93046096 0.33255373\n",
            "  0.48304533 1.11342608 0.84035266 0.5408246  0.75390637 0.41648938\n",
            "  0.65092655 0.63247171 0.85004856 0.72536234 0.89801132 0.41873774\n",
            "  0.67039749 0.76938752 0.82475724 0.31328921 0.52537381 0.9113427\n",
            "  1.12564765 0.83261693 0.         0.11659555 0.26912748 0.35098648\n",
            "  0.4090358  0.44171292 1.06830108 0.82232676]\n",
            " [1.04087976 0.62046313 1.03952284 0.71686856 0.18644085 1.03981275\n",
            "  0.60093609 0.15793536 0.52600063 0.83650627 0.33450051 0.87347619\n",
            "  0.56449097 0.76499341 0.45859601 0.72906935 0.79379688 0.54265693\n",
            "  1.05184878 0.62332122 0.61556175 0.49032229 0.18713137 0.9669609\n",
            "  0.75973585 0.93336828 0.52515611 0.75420745 0.01667933 0.14554847\n",
            "  0.6816775  0.49328318 0.32201603 0.95508297 0.70930225 0.08475216\n",
            "  0.69792197 0.13228464 0.36993264 0.91169992 0.61404593 0.83190431\n",
            "  0.52714335 0.48239593 0.42748197 0.10072756 0.21954135 0.47415526\n",
            "  0.97762763 1.07376221 0.36338893 0.6225098  0.73751334 0.57496403\n",
            "  0.54314732 0.80430792 0.87267103 0.41028491 0.69940172 0.8606073\n",
            "  0.36812472 0.93606343 0.6036525  0.64603976 0.72190127 0.10710106\n",
            "  0.66264936 0.16313406 0.82258953 0.66694581 0.81410526 0.24631831\n",
            "  0.4589585  1.01389246 0.73880816 0.43478065 0.666094   0.31177103\n",
            "  0.62421562 0.51593057 0.74511144 0.61153665 0.80100508 0.38818792\n",
            "  0.5767337  0.69875018 0.76725463 0.19910974 0.41251451 0.8158704\n",
            "  1.01853319 0.80443075 0.11659555 0.         0.15496285 0.23463564\n",
            "  0.3023974  0.32956435 0.95799983 0.70985376]\n",
            " [0.91544823 0.61234261 0.9296268  0.58791038 0.28908201 0.92047797\n",
            "  0.62836339 0.04244552 0.45493547 0.71746242 0.25192918 0.74521347\n",
            "  0.47644146 0.62344491 0.31936402 0.68317007 0.6831928  0.48409254\n",
            "  0.93161105 0.62589281 0.46586367 0.49186601 0.32494072 0.87899123\n",
            "  0.60654513 0.81263908 0.54441921 0.76230569 0.13849516 0.28363841\n",
            "  0.64395307 0.39460772 0.25117519 0.84823344 0.62546275 0.16771793\n",
            "  0.55008721 0.03047989 0.22518339 0.84069301 0.61749198 0.68478137\n",
            "  0.38666573 0.33358617 0.45367209 0.25543785 0.14641866 0.34532175\n",
            "  0.84628505 0.95330664 0.36689368 0.59646386 0.60104147 0.57735793\n",
            "  0.52477111 0.78790029 0.76383566 0.30340722 0.654384   0.75969203\n",
            "  0.25645084 0.82538562 0.65156851 0.53101206 0.66131219 0.20428309\n",
            "  0.52099805 0.11219597 0.75245906 0.69663138 0.66995462 0.23231119\n",
            "  0.51076874 0.91871554 0.59147245 0.33857667 0.60329477 0.16692449\n",
            "  0.66229639 0.37100837 0.64105439 0.45668241 0.71476969 0.43869633\n",
            "  0.50504246 0.66714214 0.75502446 0.10161012 0.29275787 0.73269616\n",
            "  0.90537855 0.83370045 0.26912748 0.15496285 0.         0.08760034\n",
            "  0.21784788 0.21884819 0.8367176  0.55491965]\n",
            " [0.8288156  0.57876813 0.84648949 0.50108755 0.37642432 0.83499528\n",
            "  0.61405683 0.1169515  0.39244571 0.63241805 0.19472717 0.65829874\n",
            "  0.40494458 0.53607368 0.23178172 0.62828268 0.60061744 0.42723754\n",
            "  0.84592252 0.59781228 0.38116289 0.46772639 0.3864216  0.80338737\n",
            "  0.54272768 0.72701463 0.52814332 0.73433315 0.21797109 0.3471914\n",
            "  0.59392351 0.31996555 0.2019857  0.76620434 0.55351915 0.2553162\n",
            "  0.46435847 0.11789188 0.13785192 0.77225551 0.5901156  0.59881915\n",
            "  0.35123982 0.24817299 0.44527436 0.33500888 0.12140068 0.25940831\n",
            "  0.75893796 0.8675476  0.35126844 0.55363899 0.51345641 0.55055956\n",
            "  0.48825911 0.74642401 0.68148224 0.22759794 0.60043614 0.67995585\n",
            "  0.18021846 0.74228673 0.64832391 0.44786603 0.59957285 0.25773624\n",
            "  0.43358719 0.18630234 0.68517615 0.68193707 0.58305561 0.22348922\n",
            "  0.51424213 0.84029445 0.54046173 0.26701931 0.5414442  0.14375606\n",
            "  0.65315393 0.28403127 0.56089394 0.38166756 0.64091887 0.44483775\n",
            "  0.4408585  0.61981603 0.71625704 0.08050926 0.21093767 0.65996034\n",
            "  0.82140698 0.81627862 0.35098648 0.23463564 0.08760034 0.\n",
            "  0.16385953 0.14592103 0.75093856 0.48273419]\n",
            " [0.74507192 0.4172349  0.73732411 0.4285047  0.48103988 0.74028202\n",
            "  0.46533785 0.2593233  0.23727241 0.53783883 0.03433058 0.58162323\n",
            "  0.26468789 0.49753445 0.21153081 0.46712649 0.49211039 0.26689164\n",
            "  0.75271413 0.43887006 0.38676595 0.31334618 0.38200939 0.66888928\n",
            "  0.61716918 0.63504157 0.3793222  0.57459519 0.28886695 0.35319702\n",
            "  0.4308081  0.19090331 0.03886855 0.6527056  0.41242062 0.35960621\n",
            "  0.45393159 0.24350221 0.17215276 0.62417881 0.43165401 0.57876821\n",
            "  0.4823733  0.2677955  0.30813686 0.3865446  0.08322806 0.19932627\n",
            "  0.68798755 0.77465839 0.21130144 0.38984844 0.46006304 0.39286727\n",
            "  0.32609829 0.58263081 0.57051311 0.11315035 0.43877064 0.55845061\n",
            "  0.0831403  0.63408766 0.51038312 0.3470026  0.44346727 0.26073379\n",
            "  0.40017165 0.33004088 0.53557695 0.53186061 0.55190664 0.12154614\n",
            "  0.38920692 0.71318529 0.64106886 0.13240743 0.3854477  0.2999478\n",
            "  0.508757   0.27800176 0.44271902 0.43471468 0.50326708 0.32783173\n",
            "  0.28765002 0.45618165 0.55281965 0.11785818 0.13099447 0.51979543\n",
            "  0.71691719 0.66271167 0.4090358  0.3023974  0.21784788 0.16385953\n",
            "  0.         0.05910593 0.65985918 0.53751057]\n",
            " [0.71133948 0.45693454 0.71439671 0.38869775 0.49910044 0.71085929\n",
            "  0.51572219 0.25680886 0.24804741 0.50739131 0.06803322 0.5445327\n",
            "  0.25944956 0.44876265 0.15448591 0.48650723 0.46778096 0.28582794\n",
            "  0.72271279 0.48202927 0.32961824 0.36173729 0.42975482 0.66036476\n",
            "  0.55844256 0.6040525  0.43027181 0.61602915 0.31456731 0.39820629\n",
            "  0.45574449 0.17591201 0.08931734 0.6316741  0.40833391 0.37598632\n",
            "  0.39939245 0.24783063 0.11560857 0.62640697 0.47539243 0.52672518\n",
            "  0.4331477  0.20878925 0.36381748 0.42068466 0.11593327 0.15004381\n",
            "  0.64952209 0.74460054 0.26741501 0.42237877 0.41469994 0.43770021\n",
            "  0.36544753 0.61406601 0.54785401 0.08467948 0.45940918 0.54144049\n",
            "  0.03885556 0.61033061 0.56458068 0.31758246 0.45465446 0.30395606\n",
            "  0.34925435 0.3281337  0.53925558 0.58118469 0.50190532 0.17914459\n",
            "  0.44665084 0.69995423 0.58449876 0.12127566 0.39663157 0.26597427\n",
            "  0.56079715 0.22079176 0.42321844 0.37563699 0.49667717 0.38639833\n",
            "  0.29557816 0.48356212 0.58673053 0.13152498 0.08393369 0.515171\n",
            "  0.69170656 0.70938603 0.44171292 0.32956435 0.21884819 0.14592103\n",
            "  0.05910593 0.         0.62862307 0.47840489]\n",
            " [0.09087291 0.67220766 0.13558271 0.25364815 1.124599   0.0849743\n",
            "  0.81228262 0.86749562 0.49376892 0.12207865 0.63151322 0.10930719\n",
            "  0.42778301 0.28401941 0.52527897 0.50614916 0.18020799 0.51563223\n",
            "  0.09503796 0.71548447 0.45526429 0.7108247  1.03094593 0.26848432\n",
            "  0.65938764 0.02490792 0.769442   0.76759739 0.94315261 1.00761159\n",
            "  0.54714151 0.47353869 0.65050632 0.12394299 0.34124879 1.00159528\n",
            "  0.38598422 0.86713679 0.62139026 0.37225894 0.7180661  0.32006075\n",
            "  0.80024113 0.54241174 0.78742285 1.0462026  0.74013548 0.49155603\n",
            "  0.10249776 0.11660936 0.73812047 0.60117579 0.2666458  0.71136704\n",
            "  0.63979754 0.65992458 0.12975825 0.54835566 0.51310218 0.18333959\n",
            "  0.58993044 0.09319291 0.89709915 0.31285719 0.43855545 0.91847891\n",
            "  0.35709154 0.93411331 0.3740697  0.83994543 0.2859113  0.75689379\n",
            "  0.87083138 0.23088395 0.764386   0.53011626 0.44553234 0.79672996\n",
            "  0.86266332 0.49416516 0.24136567 0.5625536  0.28914325 0.85467551\n",
            "  0.45944652 0.57324471 0.6721785  0.75996881 0.54687906 0.30160684\n",
            "  0.0986184  0.89114917 1.06830108 0.95799983 0.8367176  0.75093856\n",
            "  0.65985918 0.62862307 0.         0.5728668 ]\n",
            " [0.60603728 0.86474921 0.70717244 0.38187397 0.80507462 0.64710876\n",
            "  0.96123002 0.55842089 0.60141848 0.50826445 0.5383324  0.46570332\n",
            "  0.55046231 0.29286314 0.33489764 0.80297294 0.53687875 0.65140872\n",
            "  0.65043687 0.90118231 0.18628172 0.80807752 0.86881272 0.77682985\n",
            "  0.10001121 0.5592812  0.8813363  1.01842673 0.69341404 0.82990049\n",
            "  0.80310533 0.49406811 0.56352071 0.66279803 0.63083087 0.70355731\n",
            "  0.20114291 0.57884293 0.37241398 0.82093849 0.89730709 0.26398989\n",
            "  0.2814993  0.27049311 0.83227353 0.81006721 0.56839613 0.37494291\n",
            "  0.51391991 0.66625856 0.73912417 0.80648296 0.32980129 0.8665589\n",
            "  0.78212187 0.9696442  0.59473636 0.46794805 0.78707692 0.63279853\n",
            "  0.46371772 0.62614072 1.02376442 0.44788759 0.73924851 0.73926977\n",
            "  0.26614469 0.59471585 0.76258566 1.01989784 0.28879249 0.65522863\n",
            "  0.91954785 0.77316883 0.19261399 0.49935769 0.69742113 0.41423237\n",
            "  1.01138611 0.27406494 0.54844748 0.10355986 0.67228901 0.86322961\n",
            "  0.61870301 0.83694501 0.95684946 0.54925689 0.42721184 0.69666264\n",
            "  0.6708643  1.13136098 0.82232676 0.70985376 0.55491965 0.48273419\n",
            "  0.53751057 0.47840489 0.5728668  0.        ]]\n"
          ]
        }
      ],
      "source": [
        "arr = np.random.random((100, 2))\n",
        "\n",
        "distances = linalg.norm(arr[:, None, :] - arr, axis=-1)\n",
        "\n",
        "print(distances)"
      ]
    },
    {
      "cell_type": "markdown",
      "id": "b90e0bb2",
      "metadata": {
        "id": "b90e0bb2"
      },
      "source": [
        "#### 53. How to convert a float (32 bits) array into an integer (32 bits) in place?"
      ]
    },
    {
      "cell_type": "code",
      "execution_count": 120,
      "id": "db97ea05",
      "metadata": {
        "colab": {
          "base_uri": "https://localhost:8080/"
        },
        "id": "db97ea05",
        "outputId": "f41b3c8f-56c5-40ac-a85c-0abfe6bb0d79"
      },
      "outputs": [
        {
          "output_type": "stream",
          "name": "stdout",
          "text": [
            "[0 0 0 0 0 0 0 0 0 0]\n"
          ]
        }
      ],
      "source": [
        "arr = np.random.random(10)\n",
        "arr = arr.astype(np.int32)\n",
        "\n",
        "print(arr)"
      ]
    },
    {
      "cell_type": "markdown",
      "id": "0d1b021c",
      "metadata": {
        "id": "0d1b021c"
      },
      "source": [
        "#### 54. How to read the following file? (★★☆)\n",
        "```\n",
        "1, 2, 3, 4, 5\n",
        "6,  ,  , 7, 8\n",
        " ,  , 9,10,11\n",
        "```"
      ]
    },
    {
      "cell_type": "code",
      "execution_count": 121,
      "id": "9551928e",
      "metadata": {
        "colab": {
          "base_uri": "https://localhost:8080/",
          "height": 345
        },
        "id": "9551928e",
        "outputId": "7506f19a-a546-401a-fce2-5b1799980612"
      },
      "outputs": [
        {
          "output_type": "error",
          "ename": "OSError",
          "evalue": "ignored",
          "traceback": [
            "\u001b[0;31m---------------------------------------------------------------------------\u001b[0m",
            "\u001b[0;31mOSError\u001b[0m                                   Traceback (most recent call last)",
            "\u001b[0;32m<ipython-input-121-6bf652678c89>\u001b[0m in \u001b[0;36m<module>\u001b[0;34m\u001b[0m\n\u001b[0;32m----> 1\u001b[0;31m \u001b[0marr\u001b[0m \u001b[0;34m=\u001b[0m \u001b[0mnp\u001b[0m\u001b[0;34m.\u001b[0m\u001b[0mgenfromtxt\u001b[0m\u001b[0;34m(\u001b[0m\u001b[0;34m\"file.txt\"\u001b[0m\u001b[0;34m,\u001b[0m \u001b[0mdelimiter\u001b[0m\u001b[0;34m=\u001b[0m\u001b[0;34m\",\"\u001b[0m\u001b[0;34m,\u001b[0m \u001b[0mdtype\u001b[0m\u001b[0;34m=\u001b[0m\u001b[0;32mNone\u001b[0m\u001b[0;34m,\u001b[0m \u001b[0mmissing_values\u001b[0m\u001b[0;34m=\u001b[0m\u001b[0;34m\" \"\u001b[0m\u001b[0;34m,\u001b[0m \u001b[0mfilling_values\u001b[0m\u001b[0;34m=\u001b[0m\u001b[0mnp\u001b[0m\u001b[0;34m.\u001b[0m\u001b[0mnan\u001b[0m\u001b[0;34m)\u001b[0m\u001b[0;34m\u001b[0m\u001b[0;34m\u001b[0m\u001b[0m\n\u001b[0m\u001b[1;32m      2\u001b[0m \u001b[0;34m\u001b[0m\u001b[0m\n\u001b[1;32m      3\u001b[0m \u001b[0mprint\u001b[0m\u001b[0;34m(\u001b[0m\u001b[0marr\u001b[0m\u001b[0;34m)\u001b[0m\u001b[0;34m\u001b[0m\u001b[0;34m\u001b[0m\u001b[0m\n",
            "\u001b[0;32m/usr/local/lib/python3.8/dist-packages/numpy/lib/npyio.py\u001b[0m in \u001b[0;36mgenfromtxt\u001b[0;34m(fname, dtype, comments, delimiter, skip_header, skip_footer, converters, missing_values, filling_values, usecols, names, excludelist, deletechars, replace_space, autostrip, case_sensitive, defaultfmt, unpack, usemask, loose, invalid_raise, max_rows, encoding, like)\u001b[0m\n\u001b[1;32m   1791\u001b[0m             \u001b[0mfname\u001b[0m \u001b[0;34m=\u001b[0m \u001b[0mos_fspath\u001b[0m\u001b[0;34m(\u001b[0m\u001b[0mfname\u001b[0m\u001b[0;34m)\u001b[0m\u001b[0;34m\u001b[0m\u001b[0;34m\u001b[0m\u001b[0m\n\u001b[1;32m   1792\u001b[0m         \u001b[0;32mif\u001b[0m \u001b[0misinstance\u001b[0m\u001b[0;34m(\u001b[0m\u001b[0mfname\u001b[0m\u001b[0;34m,\u001b[0m \u001b[0mstr\u001b[0m\u001b[0;34m)\u001b[0m\u001b[0;34m:\u001b[0m\u001b[0;34m\u001b[0m\u001b[0;34m\u001b[0m\u001b[0m\n\u001b[0;32m-> 1793\u001b[0;31m             \u001b[0mfid\u001b[0m \u001b[0;34m=\u001b[0m \u001b[0mnp\u001b[0m\u001b[0;34m.\u001b[0m\u001b[0mlib\u001b[0m\u001b[0;34m.\u001b[0m\u001b[0m_datasource\u001b[0m\u001b[0;34m.\u001b[0m\u001b[0mopen\u001b[0m\u001b[0;34m(\u001b[0m\u001b[0mfname\u001b[0m\u001b[0;34m,\u001b[0m \u001b[0;34m'rt'\u001b[0m\u001b[0;34m,\u001b[0m \u001b[0mencoding\u001b[0m\u001b[0;34m=\u001b[0m\u001b[0mencoding\u001b[0m\u001b[0;34m)\u001b[0m\u001b[0;34m\u001b[0m\u001b[0;34m\u001b[0m\u001b[0m\n\u001b[0m\u001b[1;32m   1794\u001b[0m             \u001b[0mfid_ctx\u001b[0m \u001b[0;34m=\u001b[0m \u001b[0mcontextlib\u001b[0m\u001b[0;34m.\u001b[0m\u001b[0mclosing\u001b[0m\u001b[0;34m(\u001b[0m\u001b[0mfid\u001b[0m\u001b[0;34m)\u001b[0m\u001b[0;34m\u001b[0m\u001b[0;34m\u001b[0m\u001b[0m\n\u001b[1;32m   1795\u001b[0m         \u001b[0;32melse\u001b[0m\u001b[0;34m:\u001b[0m\u001b[0;34m\u001b[0m\u001b[0;34m\u001b[0m\u001b[0m\n",
            "\u001b[0;32m/usr/local/lib/python3.8/dist-packages/numpy/lib/_datasource.py\u001b[0m in \u001b[0;36mopen\u001b[0;34m(path, mode, destpath, encoding, newline)\u001b[0m\n\u001b[1;32m    191\u001b[0m \u001b[0;34m\u001b[0m\u001b[0m\n\u001b[1;32m    192\u001b[0m     \u001b[0mds\u001b[0m \u001b[0;34m=\u001b[0m \u001b[0mDataSource\u001b[0m\u001b[0;34m(\u001b[0m\u001b[0mdestpath\u001b[0m\u001b[0;34m)\u001b[0m\u001b[0;34m\u001b[0m\u001b[0;34m\u001b[0m\u001b[0m\n\u001b[0;32m--> 193\u001b[0;31m     \u001b[0;32mreturn\u001b[0m \u001b[0mds\u001b[0m\u001b[0;34m.\u001b[0m\u001b[0mopen\u001b[0m\u001b[0;34m(\u001b[0m\u001b[0mpath\u001b[0m\u001b[0;34m,\u001b[0m \u001b[0mmode\u001b[0m\u001b[0;34m,\u001b[0m \u001b[0mencoding\u001b[0m\u001b[0;34m=\u001b[0m\u001b[0mencoding\u001b[0m\u001b[0;34m,\u001b[0m \u001b[0mnewline\u001b[0m\u001b[0;34m=\u001b[0m\u001b[0mnewline\u001b[0m\u001b[0;34m)\u001b[0m\u001b[0;34m\u001b[0m\u001b[0;34m\u001b[0m\u001b[0m\n\u001b[0m\u001b[1;32m    194\u001b[0m \u001b[0;34m\u001b[0m\u001b[0m\n\u001b[1;32m    195\u001b[0m \u001b[0;34m\u001b[0m\u001b[0m\n",
            "\u001b[0;32m/usr/local/lib/python3.8/dist-packages/numpy/lib/_datasource.py\u001b[0m in \u001b[0;36mopen\u001b[0;34m(self, path, mode, encoding, newline)\u001b[0m\n\u001b[1;32m    531\u001b[0m                                       encoding=encoding, newline=newline)\n\u001b[1;32m    532\u001b[0m         \u001b[0;32melse\u001b[0m\u001b[0;34m:\u001b[0m\u001b[0;34m\u001b[0m\u001b[0;34m\u001b[0m\u001b[0m\n\u001b[0;32m--> 533\u001b[0;31m             \u001b[0;32mraise\u001b[0m \u001b[0mIOError\u001b[0m\u001b[0;34m(\u001b[0m\u001b[0;34m\"%s not found.\"\u001b[0m \u001b[0;34m%\u001b[0m \u001b[0mpath\u001b[0m\u001b[0;34m)\u001b[0m\u001b[0;34m\u001b[0m\u001b[0;34m\u001b[0m\u001b[0m\n\u001b[0m\u001b[1;32m    534\u001b[0m \u001b[0;34m\u001b[0m\u001b[0m\n\u001b[1;32m    535\u001b[0m \u001b[0;34m\u001b[0m\u001b[0m\n",
            "\u001b[0;31mOSError\u001b[0m: file.txt not found."
          ]
        }
      ],
      "source": [
        "arr = np.genfromtxt(\"file.txt\", delimiter=\",\", dtype=None, missing_values=\" \", filling_values=np.nan)\n",
        "\n",
        "print(arr)"
      ]
    },
    {
      "cell_type": "markdown",
      "id": "56928772",
      "metadata": {
        "id": "56928772"
      },
      "source": [
        "#### 55. What is the equivalent of enumerate for numpy arrays? (★★☆)"
      ]
    },
    {
      "cell_type": "code",
      "execution_count": 122,
      "id": "327d9b88",
      "metadata": {
        "colab": {
          "base_uri": "https://localhost:8080/"
        },
        "id": "327d9b88",
        "outputId": "2211b4f6-89cf-4efe-d58b-3de90676e75c"
      },
      "outputs": [
        {
          "output_type": "stream",
          "name": "stdout",
          "text": [
            "Index: (0, 0), Value: 1\n",
            "Index: (0, 1), Value: 2\n",
            "Index: (0, 2), Value: 3\n",
            "Index: (1, 0), Value: 4\n",
            "Index: (1, 1), Value: 5\n",
            "Index: (1, 2), Value: 6\n"
          ]
        }
      ],
      "source": [
        "arr = np.array([[1, 2, 3], [4, 5, 6]])\n",
        "\n",
        "for i, value in np.ndenumerate(arr):\n",
        "    print(f\"Index: {i}, Value: {value}\")"
      ]
    },
    {
      "cell_type": "markdown",
      "id": "257e0bac",
      "metadata": {
        "id": "257e0bac"
      },
      "source": [
        "#### 56. Generate a generic 2D Gaussian-like array (★★☆)"
      ]
    },
    {
      "cell_type": "code",
      "execution_count": 124,
      "id": "1325d664",
      "metadata": {
        "colab": {
          "base_uri": "https://localhost:8080/"
        },
        "id": "1325d664",
        "outputId": "2fabfb09-2a60-4a63-dde8-12db82a1e678"
      },
      "outputs": [
        {
          "output_type": "stream",
          "name": "stdout",
          "text": [
            "[[1.83156389e-02 6.73794700e-03 3.35462628e-04 2.26032941e-06\n",
            "  2.06115362e-09]\n",
            " [3.67879441e-01 1.35335283e-01 6.73794700e-03 4.53999298e-05\n",
            "  4.13993772e-08]\n",
            " [1.00000000e+00 3.67879441e-01 1.83156389e-02 1.23409804e-04\n",
            "  1.12535175e-07]\n",
            " [3.67879441e-01 1.35335283e-01 6.73794700e-03 4.53999298e-05\n",
            "  4.13993772e-08]\n",
            " [1.83156389e-02 6.73794700e-03 3.35462628e-04 2.26032941e-06\n",
            "  2.06115362e-09]]\n"
          ]
        }
      ],
      "source": [
        "size = (5, 5)\n",
        "\n",
        "center = np.mean(np.indices(size), axis=1)\n",
        "\n",
        "gaussian = np.empty(size)\n",
        "\n",
        "for i, j in np.ndindex(size):\n",
        "    x = i - center[0]\n",
        "    y = j - center[1]\n",
        "    distance = np.sqrt(x**2 + y**2)[0]\n",
        "\n",
        "    gaussian[i, j] = np.exp(-distance**2)\n",
        "\n",
        "print(gaussian)"
      ]
    },
    {
      "cell_type": "markdown",
      "id": "441347ee",
      "metadata": {
        "id": "441347ee"
      },
      "source": [
        "#### 57. How to randomly place p elements in a 2D array? (★★☆)"
      ]
    },
    {
      "cell_type": "code",
      "execution_count": 135,
      "id": "1e61fce5",
      "metadata": {
        "colab": {
          "base_uri": "https://localhost:8080/"
        },
        "id": "1e61fce5",
        "outputId": "3a833e4f-6903-48f2-be9f-d73bd84d4304"
      },
      "outputs": [
        {
          "output_type": "stream",
          "name": "stdout",
          "text": [
            "[[1. 0. 0. 1. 0.]\n",
            " [0. 0. 0. 0. 0.]\n",
            " [0. 0. 0. 0. 0.]\n",
            " [0. 0. 1. 0. 0.]\n",
            " [0. 0. 0. 0. 1.]]\n"
          ]
        }
      ],
      "source": [
        "n, m = 5, 5\n",
        "p = 4\n",
        "\n",
        "array = np.zeros(n*m)\n",
        "indices = np.random.choice(n*m, size=p, replace=False)\n",
        "\n",
        "np.put(array, indices, 1)\n",
        "\n",
        "array = array.reshape((n, m))\n",
        "\n",
        "print(array)"
      ]
    },
    {
      "cell_type": "markdown",
      "id": "8a76af52",
      "metadata": {
        "id": "8a76af52"
      },
      "source": [
        "#### 58. Subtract the mean of each row of a matrix (★★☆)"
      ]
    },
    {
      "cell_type": "code",
      "execution_count": 139,
      "id": "65cf18e9",
      "metadata": {
        "colab": {
          "base_uri": "https://localhost:8080/"
        },
        "id": "65cf18e9",
        "outputId": "b7eb21a3-775d-4bf6-ba69-4fd049bcf00e"
      },
      "outputs": [
        {
          "output_type": "stream",
          "name": "stdout",
          "text": [
            "[[0.4280086  0.48170986 0.58699808 0.04850533]\n",
            " [0.93997624 0.05255348 0.80990431 0.80704341]\n",
            " [0.27900398 0.84091894 0.28635932 0.24155707]]\n",
            "[[ 0.04170313  0.09540439  0.20069262 -0.33780014]\n",
            " [ 0.28760688 -0.59981588  0.15753495  0.15467405]\n",
            " [-0.13295585  0.42895911 -0.12560051 -0.17040276]]\n"
          ]
        }
      ],
      "source": [
        "A = np.random.random((3, 4))\n",
        "print(A)\n",
        "B = A - A.mean(axis=1, keepdims=True)\n",
        "print(B)"
      ]
    },
    {
      "cell_type": "markdown",
      "id": "d2dc8b5f",
      "metadata": {
        "id": "d2dc8b5f"
      },
      "source": [
        "#### 59. How to sort an array by the nth column? (★★☆)"
      ]
    },
    {
      "cell_type": "code",
      "execution_count": 140,
      "id": "83b5eafe",
      "metadata": {
        "colab": {
          "base_uri": "https://localhost:8080/"
        },
        "id": "83b5eafe",
        "outputId": "0eab1dde-a501-4181-f6d3-f65646e32cf8"
      },
      "outputs": [
        {
          "output_type": "stream",
          "name": "stdout",
          "text": [
            "[[7 0 4]\n",
            " [5 1 5]\n",
            " [7 1 2]\n",
            " [4 2 6]\n",
            " [1 4 6]]\n"
          ]
        }
      ],
      "source": [
        "A = np.random.randint(0, 10, (5, 3))\n",
        "\n",
        "indices = A[:, 1].argsort()\n",
        "A = A[indices]\n",
        "\n",
        "print(A)"
      ]
    },
    {
      "cell_type": "markdown",
      "id": "4886f74e",
      "metadata": {
        "id": "4886f74e"
      },
      "source": [
        "#### 60. How to tell if a given 2D array has null columns? (★★☆)"
      ]
    },
    {
      "cell_type": "code",
      "execution_count": 143,
      "id": "7a066dd9",
      "metadata": {
        "colab": {
          "base_uri": "https://localhost:8080/"
        },
        "id": "7a066dd9",
        "outputId": "9f96566e-98c4-499f-ded6-43b0f0cbc318"
      },
      "outputs": [
        {
          "output_type": "stream",
          "name": "stdout",
          "text": [
            "[[0 1 1]\n",
            " [0 1 0]\n",
            " [1 1 1]\n",
            " [1 1 0]]\n",
            "[ True False  True]\n"
          ]
        }
      ],
      "source": [
        "A = np.random.randint(0, 2, (4, 3))\n",
        "print(A)\n",
        "has_null_columns = ~A.all(axis=0)\n",
        "\n",
        "print(has_null_columns)"
      ]
    },
    {
      "cell_type": "markdown",
      "id": "1f5ad2a9",
      "metadata": {
        "id": "1f5ad2a9"
      },
      "source": [
        "#### 61. Find the nearest value from a given value in an array (★★☆)"
      ]
    },
    {
      "cell_type": "code",
      "execution_count": 144,
      "id": "f53df167",
      "metadata": {
        "colab": {
          "base_uri": "https://localhost:8080/"
        },
        "id": "f53df167",
        "outputId": "9030ebb0-f46e-4d0f-e601-0d7c2f47579d"
      },
      "outputs": [
        {
          "output_type": "stream",
          "name": "stdout",
          "text": [
            "4\n",
            "2\n"
          ]
        }
      ],
      "source": [
        "arr = np.random.randint(0, 10, (5,))\n",
        "\n",
        "val = 3\n",
        "\n",
        "idx = (np.abs(arr - val)).argmin()\n",
        "\n",
        "print(arr[idx])"
      ]
    },
    {
      "cell_type": "markdown",
      "id": "aa48f9b2",
      "metadata": {
        "id": "aa48f9b2"
      },
      "source": [
        "#### 62. Considering two arrays with shape (1,3) and (3,1), how to compute their sum using an iterator? (★★☆)"
      ]
    },
    {
      "cell_type": "code",
      "execution_count": 12,
      "id": "68987301",
      "metadata": {
        "colab": {
          "base_uri": "https://localhost:8080/"
        },
        "id": "68987301",
        "outputId": "afb1ab7f-5085-4174-ab43-16b917b52dd6"
      },
      "outputs": [
        {
          "output_type": "stream",
          "name": "stdout",
          "text": [
            "[[0 1 2]\n",
            " [1 2 3]\n",
            " [2 3 4]]\n"
          ]
        }
      ],
      "source": [
        "a = np.arange(3).reshape(3, 1)\n",
        "b = np.arange(3).reshape(1, 3)\n",
        "it = np.nditer([a, b, None])\n",
        "for x,y,z in it: z[...] = x + y\n",
        "print(it.operands[2])"
      ]
    },
    {
      "cell_type": "markdown",
      "id": "0bed1516",
      "metadata": {
        "id": "0bed1516"
      },
      "source": [
        "#### 63. Create an array class that has a name attribute (★★☆)"
      ]
    },
    {
      "cell_type": "code",
      "execution_count": 13,
      "id": "fa1d52fc",
      "metadata": {
        "colab": {
          "base_uri": "https://localhost:8080/"
        },
        "id": "fa1d52fc",
        "outputId": "c2013713-35e0-4988-b322-0e6ac18b44b7"
      },
      "outputs": [
        {
          "output_type": "stream",
          "name": "stdout",
          "text": [
            "my_array\n"
          ]
        }
      ],
      "source": [
        "class NamedArray(np.ndarray):\n",
        "    def __new__(cls, input_array, name=None):\n",
        "        obj = np.asarray(input_array).view(cls)\n",
        "        obj.name = name\n",
        "        return obj\n",
        "    \n",
        "    def __array_finalize__(self, obj):\n",
        "        if obj is None: return\n",
        "        self.name = getattr(obj, 'name', None)\n",
        "\n",
        "a = NamedArray(np.arange(10), name='my_array')\n",
        "print(a.name)"
      ]
    },
    {
      "cell_type": "markdown",
      "id": "463a40bb",
      "metadata": {
        "id": "463a40bb"
      },
      "source": [
        "#### 64. Consider a given vector, how to add 1 to each element indexed by a second vector (be careful with repeated indices)? (★★★)"
      ]
    },
    {
      "cell_type": "code",
      "execution_count": 29,
      "id": "cdb2cad0",
      "metadata": {
        "colab": {
          "base_uri": "https://localhost:8080/"
        },
        "id": "cdb2cad0",
        "outputId": "97ab439f-ca9f-46fb-a5f6-af45abb1b008"
      },
      "outputs": [
        {
          "output_type": "stream",
          "name": "stdout",
          "text": [
            "[3 3 5 4 5]\n"
          ]
        }
      ],
      "source": [
        "vec1 = np.array([1, 2, 3, 4, 5])\n",
        "vec2 = np.array([0, 1, 2, 0, 2])\n",
        "\n",
        "np.add.at(vec1, vec2, 1)\n",
        "\n",
        "print(vec1) "
      ]
    },
    {
      "cell_type": "markdown",
      "id": "2a2f8219",
      "metadata": {
        "id": "2a2f8219"
      },
      "source": [
        "#### 65. How to accumulate elements of a vector (X) to an array (F) based on an index list (I)? (★★★)"
      ]
    },
    {
      "cell_type": "code",
      "execution_count": 19,
      "id": "9cc34a77",
      "metadata": {
        "colab": {
          "base_uri": "https://localhost:8080/"
        },
        "id": "9cc34a77",
        "outputId": "e5c6ae86-7eb2-4184-a989-84427ecb7034"
      },
      "outputs": [
        {
          "output_type": "stream",
          "name": "stdout",
          "text": [
            "[1. 4. 7. 3. 0.]\n"
          ]
        }
      ],
      "source": [
        "X = np.array([1, 2, 3, 4, 5])\n",
        "I = np.array([0, 2, 3, 1, 2])\n",
        "F = np.zeros(5)\n",
        "\n",
        "np.add.at(F, I, X)\n",
        "\n",
        "print(F)"
      ]
    },
    {
      "cell_type": "markdown",
      "id": "6a6a3c66",
      "metadata": {
        "id": "6a6a3c66"
      },
      "source": [
        "#### 66. Considering a (w,h,3) image of (dtype=ubyte), compute the number of unique colors (★★☆)"
      ]
    },
    {
      "cell_type": "code",
      "execution_count": 30,
      "id": "c88f5a5e",
      "metadata": {
        "colab": {
          "base_uri": "https://localhost:8080/"
        },
        "id": "c88f5a5e",
        "outputId": "27641ace-2adc-485e-a4b3-6988c50f8be7"
      },
      "outputs": [
        {
          "output_type": "stream",
          "name": "stdout",
          "text": [
            "64\n"
          ]
        }
      ],
      "source": [
        "w, h = 256, 256\n",
        "I = np.random.randint(0, 4, (h, w, 3)).astype(np.ubyte)\n",
        "colors = np.unique(I.reshape(-1, 3), axis=0)\n",
        "n = len(colors)\n",
        "print(n)"
      ]
    },
    {
      "cell_type": "markdown",
      "id": "4b030baa",
      "metadata": {
        "id": "4b030baa"
      },
      "source": [
        "#### 67. Considering a four dimensions array, how to get sum over the last two axis at once? (★★★)"
      ]
    },
    {
      "cell_type": "code",
      "execution_count": 40,
      "id": "cd2e7c9c",
      "metadata": {
        "colab": {
          "base_uri": "https://localhost:8080/"
        },
        "id": "cd2e7c9c",
        "outputId": "cbdf3636-8213-43fe-eb4d-473637923215"
      },
      "outputs": [
        {
          "output_type": "stream",
          "name": "stdout",
          "text": [
            "[[63 50 43 66]\n",
            " [52 43 68 61]\n",
            " [38 68 51 58]]\n"
          ]
        }
      ],
      "source": [
        "arr = np.random.randint(0,10,(3,4,3,4))\n",
        "result = arr.sum(axis=(-1,-2))\n",
        "print(result)"
      ]
    },
    {
      "cell_type": "markdown",
      "id": "1fa6053b",
      "metadata": {
        "id": "1fa6053b"
      },
      "source": [
        "#### 68. Considering a one-dimensional vector D, how to compute means of subsets of D using a vector S of same size describing subset  indices? (★★★)"
      ]
    },
    {
      "cell_type": "code",
      "execution_count": 42,
      "id": "9b5a070d",
      "metadata": {
        "colab": {
          "base_uri": "https://localhost:8080/"
        },
        "id": "9b5a070d",
        "outputId": "c85b4e60-7ad4-4b99-f14c-bbf7d58d9144"
      },
      "outputs": [
        {
          "output_type": "stream",
          "name": "stdout",
          "text": [
            "[0.50384711 0.51063865 0.62965081 0.53293321 0.46716705 0.51720025\n",
            " 0.66970673 0.47173534 0.42817654 0.57338832]\n"
          ]
        }
      ],
      "source": [
        "D = np.random.uniform(0,1,100)\n",
        "S = np.random.randint(0,10,100)\n",
        "D_sums = np.bincount(S, weights=D)\n",
        "D_counts = np.bincount(S)\n",
        "D_means = D_sums / D_counts\n",
        "print(D_means)"
      ]
    },
    {
      "cell_type": "markdown",
      "id": "2e7b0395",
      "metadata": {
        "id": "2e7b0395"
      },
      "source": [
        "#### 69. How to get the diagonal of a dot product? (★★★)"
      ]
    },
    {
      "cell_type": "code",
      "execution_count": 47,
      "id": "ae437196",
      "metadata": {
        "colab": {
          "base_uri": "https://localhost:8080/"
        },
        "id": "ae437196",
        "outputId": "d5173ffa-8a76-430c-e0e5-d1f3724e9719"
      },
      "outputs": [
        {
          "output_type": "stream",
          "name": "stdout",
          "text": [
            "[19 50]\n"
          ]
        }
      ],
      "source": [
        "A = np.array([[1, 2], [3, 4]])\n",
        "B = np.array([[5, 6], [7, 8]])\n",
        "\n",
        "dot_product = np.dot(A, B)\n",
        "diagonal = np.diag(dot_product)\n",
        "\n",
        "print(diagonal)"
      ]
    },
    {
      "cell_type": "markdown",
      "id": "2bf2f8e4",
      "metadata": {
        "id": "2bf2f8e4"
      },
      "source": [
        "#### 70. Consider the vector [1, 2, 3, 4, 5], how to build a new vector with 3 consecutive zeros interleaved between each value? (★★★)"
      ]
    },
    {
      "cell_type": "code",
      "execution_count": 57,
      "id": "8a427342",
      "metadata": {
        "colab": {
          "base_uri": "https://localhost:8080/"
        },
        "id": "8a427342",
        "outputId": "3a41db42-3ac5-4eea-d7c1-b92791d6d6a7"
      },
      "outputs": [
        {
          "output_type": "stream",
          "name": "stdout",
          "text": [
            "[1. 0. 0. 0. 2. 0. 0. 0. 3. 0. 0. 0. 4. 0. 0. 0. 5.]\n"
          ]
        }
      ],
      "source": [
        "vec = np.array([1,2,3,4,5])\n",
        "n = 3\n",
        "vec_new = np.zeros(len(vec) + (len(vec)-1)*(n))\n",
        "vec_new[::n+1] = vec\n",
        "print(vec_new)"
      ]
    },
    {
      "cell_type": "markdown",
      "id": "fff802ea",
      "metadata": {
        "id": "fff802ea"
      },
      "source": [
        "#### 71. Consider an array of dimension (5,5,3), how to mulitply it by an array with dimensions (5,5)? (★★★)"
      ]
    },
    {
      "cell_type": "code",
      "execution_count": 66,
      "id": "e83ab7b5",
      "metadata": {
        "colab": {
          "base_uri": "https://localhost:8080/"
        },
        "id": "e83ab7b5",
        "outputId": "838193a1-5e71-468a-bbfc-c862b31f4f87"
      },
      "outputs": [
        {
          "output_type": "stream",
          "name": "stdout",
          "text": [
            "[[[12 16 16]\n",
            "  [ 8  8  6]\n",
            "  [ 4  6  4]\n",
            "  [ 2  1  3]\n",
            "  [ 1  3  3]]\n",
            "\n",
            " [[16  4  4]\n",
            "  [ 4  0  0]\n",
            "  [ 0  0  0]\n",
            "  [ 0  0  0]\n",
            "  [ 0  0  0]]\n",
            "\n",
            " [[ 0  0  0]\n",
            "  [12  8 16]\n",
            "  [ 3  6  6]\n",
            "  [ 2  0  1]\n",
            "  [16  4 16]]\n",
            "\n",
            " [[ 0  0  0]\n",
            "  [12  6  6]\n",
            "  [ 0  0  0]\n",
            "  [ 0  0  8]\n",
            "  [ 0  1  2]]\n",
            "\n",
            " [[ 4  4  0]\n",
            "  [ 6  3  6]\n",
            "  [ 0  0  0]\n",
            "  [ 0  0  0]\n",
            "  [ 0  0  0]]]\n"
          ]
        }
      ],
      "source": [
        "arr1 = np.random.randint(5, size=(5, 5, 3))\n",
        "arr2 = np.random.randint(5, size=(5, 5))\n",
        "\n",
        "result = arr1 * arr2[:, :, np.newaxis]\n",
        "\n",
        "print(result)"
      ]
    },
    {
      "cell_type": "markdown",
      "id": "a0865c04",
      "metadata": {
        "id": "a0865c04"
      },
      "source": [
        "#### 72. How to swap two rows of an array? (★★★)"
      ]
    },
    {
      "cell_type": "code",
      "execution_count": 70,
      "id": "bb510428",
      "metadata": {
        "colab": {
          "base_uri": "https://localhost:8080/"
        },
        "id": "bb510428",
        "outputId": "dd749206-bd50-46b8-a5b7-228f6a043ca2"
      },
      "outputs": [
        {
          "output_type": "stream",
          "name": "stdout",
          "text": [
            "[[1 2 3]\n",
            " [4 5 6]\n",
            " [7 8 9]]\n",
            "[[7 8 9]\n",
            " [4 5 6]\n",
            " [1 2 3]]\n"
          ]
        }
      ],
      "source": [
        "arr = np.array([[1, 2, 3], [4, 5, 6], [7, 8, 9]])\n",
        "print(arr)\n",
        "row_index1 = 0\n",
        "row_index2 = 2\n",
        "arr[[row_index1, row_index2]] = arr[[row_index2, row_index1]]\n",
        "\n",
        "print(arr) "
      ]
    },
    {
      "cell_type": "markdown",
      "id": "52beda8d",
      "metadata": {
        "id": "52beda8d"
      },
      "source": [
        "#### 73. Consider a set of 10 triplets describing 10 triangles (with shared vertices), find the set of unique line segments composing all the  triangles (★★★)"
      ]
    },
    {
      "cell_type": "code",
      "execution_count": 75,
      "id": "5b9895de",
      "metadata": {
        "colab": {
          "base_uri": "https://localhost:8080/"
        },
        "id": "5b9895de",
        "outputId": "7ecf427f-5183-4fe9-fc03-dfd12b121c99"
      },
      "outputs": [
        {
          "output_type": "stream",
          "name": "stdout",
          "text": [
            "[( 4, 67) ( 4, 95) ( 6, 21) ( 6, 52) (16, 19) (16, 34) (17, 39) (17, 50)\n",
            " (19, 34) (21, 52) (22, 30) (22, 92) (30, 31) (30, 32) (30, 92) (31, 32)\n",
            " (39, 50) (41, 55) (41, 74) (42, 63) (42, 85) (51, 55) (51, 95) (53, 62)\n",
            " (53, 73) (55, 74) (55, 95) (62, 73) (63, 85) (67, 95)]\n"
          ]
        }
      ],
      "source": [
        "C = np.random.randint(0, 100, (10, 3))\n",
        "A = np.roll(C.repeat(2, axis=1), -1, axis=1)\n",
        "A = F.reshape(len(A) * 3, 2)\n",
        "A = np.sort(A, axis=1)\n",
        "B = F.view(dtype=[('p0', A.dtype), ('p1', A.dtype)])\n",
        "B = np.unique(B)\n",
        "\n",
        "print(B)"
      ]
    },
    {
      "cell_type": "markdown",
      "id": "b1f8e571",
      "metadata": {
        "id": "b1f8e571"
      },
      "source": [
        "#### 74. Given a sorted array C that corresponds to a bincount, how to produce an array A such that np.bincount(A) == C? (★★★)"
      ]
    },
    {
      "cell_type": "code",
      "execution_count": 89,
      "id": "ea6d42e9",
      "metadata": {
        "colab": {
          "base_uri": "https://localhost:8080/"
        },
        "id": "ea6d42e9",
        "outputId": "5cb97bab-7f9c-4cd4-df3c-4e12832a4bb7"
      },
      "outputs": [
        {
          "output_type": "stream",
          "name": "stdout",
          "text": [
            "[2 2 3 4 4 5 6]\n"
          ]
        }
      ],
      "source": [
        "C = np.bincount([4,5,2,3,2,4,6])\n",
        "A = np.repeat(np.arange(len(C)), C)\n",
        "print(A)"
      ]
    },
    {
      "cell_type": "markdown",
      "id": "db1ed658",
      "metadata": {
        "id": "db1ed658"
      },
      "source": [
        "#### 75. How to compute averages using a sliding window over an array? (★★★)"
      ]
    },
    {
      "cell_type": "code",
      "execution_count": 92,
      "id": "9dc6a98a",
      "metadata": {
        "colab": {
          "base_uri": "https://localhost:8080/"
        },
        "id": "9dc6a98a",
        "outputId": "6d97b668-dffa-4d0f-c202-5b74f2927e16"
      },
      "outputs": [
        {
          "output_type": "stream",
          "name": "stdout",
          "text": [
            "[1. 3. 2. 3. 4. 5. 6. 7. 8. 9.]\n"
          ]
        }
      ],
      "source": [
        "arr = [1, 2, 3, 4, 5, 6, 7, 8, 9, 10]\n",
        "window_size = 3\n",
        "rolling_avg = np.cumsum(arr, dtype=float)\n",
        "rolling_avg[window_size:] = rolling_avg[window_size:] - rolling_avg[:-window_size]\n",
        "rolling_avg[window_size - 1:] = rolling_avg[window_size - 1:] / window_size\n",
        "\n",
        "print(rolling_avg)"
      ]
    },
    {
      "cell_type": "markdown",
      "id": "1ca35bda",
      "metadata": {
        "id": "1ca35bda"
      },
      "source": [
        "#### 76. Consider a one-dimensional array Z, build a two-dimensional array whose first row is (Z[0],Z[1],Z[2]) and each subsequent row is  shifted by 1 (last row should be (Z[-3],Z[-2],Z[-1]) (★★★)"
      ]
    },
    {
      "cell_type": "code",
      "execution_count": 93,
      "id": "900e8b0a",
      "metadata": {
        "colab": {
          "base_uri": "https://localhost:8080/"
        },
        "id": "900e8b0a",
        "outputId": "648d413b-75c8-46b5-afae-ad82b74d3d8d"
      },
      "outputs": [
        {
          "output_type": "stream",
          "name": "stdout",
          "text": [
            "[[1 2 3]\n",
            " [2 3 4]\n",
            " [3 4 5]\n",
            " [4 5 6]\n",
            " [5 6 7]\n",
            " [6 7 8]\n",
            " [7 8 9]]\n"
          ]
        }
      ],
      "source": [
        "from numpy.lib.stride_tricks import as_strided\n",
        "\n",
        "Z = np.array([1, 2, 3, 4, 5, 6, 7, 8, 9])\n",
        "window_size = 3\n",
        "stride = 1\n",
        "rolling_window_view = as_strided(Z, shape=(len(Z) - window_size + 1, window_size), strides=(Z.itemsize, Z.itemsize))\n",
        "result = np.copy(rolling_window_view)\n",
        "\n",
        "print(result)"
      ]
    },
    {
      "cell_type": "markdown",
      "id": "18bd6fab",
      "metadata": {
        "id": "18bd6fab"
      },
      "source": [
        "#### 77. How to negate a boolean, or to change the sign of a float inplace? (★★★)"
      ]
    },
    {
      "cell_type": "code",
      "execution_count": 95,
      "id": "554c5103",
      "metadata": {
        "colab": {
          "base_uri": "https://localhost:8080/"
        },
        "id": "554c5103",
        "outputId": "e2995002-b258-4eb4-b199-c98a614f649d"
      },
      "outputs": [
        {
          "output_type": "execute_result",
          "data": {
            "text/plain": [
              "array([ 0.05314201, -0.09362216,  0.86841847,  0.39235807, -0.04373636,\n",
              "        0.30478524,  0.06149867, -0.79776237,  0.22164359, -0.83724435,\n",
              "        0.7325827 , -0.95221228, -0.11800622,  0.12043151, -0.19702145,\n",
              "       -0.97186247,  0.57162133,  0.20851436,  0.26446022, -0.50472197,\n",
              "        0.45661228, -0.89316508,  0.7652847 ,  0.6267761 , -0.13847744,\n",
              "       -0.84514903,  0.48405609,  0.31071389,  0.88885976,  0.3081736 ,\n",
              "        0.02577404,  0.88355135, -0.43150959,  0.26146391, -0.00428391,\n",
              "       -0.82097333, -0.48808033,  0.69797272,  0.31600135,  0.07032213,\n",
              "        0.86060243,  0.84737983, -0.80721657,  0.16435538, -0.64150306,\n",
              "        0.26468597,  0.25461935, -0.18960518, -0.65286918,  0.54383089,\n",
              "       -0.44496096, -0.90314563, -0.44230715, -0.24003693,  0.88789632,\n",
              "        0.60484051, -0.84451568,  0.27502998, -0.28993422,  0.08556554,\n",
              "       -0.37598672,  0.50125404,  0.83477695, -0.83789366, -0.74351955,\n",
              "        0.84367212, -0.60434212, -0.12269729, -0.16382827,  0.00116239,\n",
              "       -0.08401301, -0.51307329, -0.0947375 ,  0.69705224, -0.87060934,\n",
              "        0.79692433, -0.30204943,  0.3351227 ,  0.2527101 ,  0.17010392,\n",
              "       -0.6236245 ,  0.79143205, -0.51366422, -0.51499188,  0.12777434,\n",
              "       -0.18385676, -0.13150313,  0.9295199 ,  0.95762   ,  0.34856117,\n",
              "        0.82946082, -0.32108882, -0.2144154 ,  0.93292869,  0.95962641,\n",
              "        0.56405612, -0.75459484,  0.85786808, -0.63651089,  0.69149515])"
            ]
          },
          "metadata": {},
          "execution_count": 95
        }
      ],
      "source": [
        "Z = np.random.randint(0,2,100)\n",
        "np.logical_not(Z, out=Z)\n",
        "\n",
        "Z = np.random.uniform(-1.0,1.0,100)\n",
        "np.negative(Z, out=Z)"
      ]
    },
    {
      "cell_type": "markdown",
      "id": "79a5b412",
      "metadata": {
        "id": "79a5b412"
      },
      "source": [
        "#### 78. Consider 2 sets of points P0,P1 describing lines (2d) and a point p, how to compute distance from p to each line i (P0[i],P1[i])? (★★★)"
      ]
    },
    {
      "cell_type": "code",
      "execution_count": 98,
      "id": "4e4eac2f",
      "metadata": {
        "colab": {
          "base_uri": "https://localhost:8080/"
        },
        "id": "4e4eac2f",
        "outputId": "8334781b-4bdb-4e0a-d2ff-aa58ee03b083"
      },
      "outputs": [
        {
          "output_type": "stream",
          "name": "stdout",
          "text": [
            "[0.         0.70710678 0.70710678]\n"
          ]
        }
      ],
      "source": [
        "P0 = np.array([[0, 0], [0, 1], [1, 0]])\n",
        "P1 = np.array([[1, 1], [1, 2], [2, 1]])\n",
        "\n",
        "p = np.array([0.5, 0.5])\n",
        "distances = np.empty(len(P0))\n",
        "for i in range(len(P0)):\n",
        "    distances[i] = abs((P1[i,1] - P0[i,1]) * p[0] - (P1[i,0] - P0[i,0]) * p[1] + P1[i,0] * P0[i,1] - P1[i,1] * P0[i,0]) / np.sqrt((P1[i,1] - P0[i,1])**2 + (P1[i,0] - P0[i,0])**2)\n",
        "print(distances)"
      ]
    },
    {
      "cell_type": "markdown",
      "id": "33ffa66d",
      "metadata": {
        "id": "33ffa66d"
      },
      "source": [
        "#### 79. Consider 2 sets of points P0,P1 describing lines (2d) and a set of points P, how to compute distance from each point j (P[j]) to each line i (P0[i],P1[i])? (★★★)"
      ]
    },
    {
      "cell_type": "code",
      "execution_count": 101,
      "id": "b56c2510",
      "metadata": {
        "colab": {
          "base_uri": "https://localhost:8080/"
        },
        "id": "b56c2510",
        "outputId": "1c91a368-c9cb-4dff-e3a5-b5eb8920fe5d"
      },
      "outputs": [
        {
          "output_type": "stream",
          "name": "stdout",
          "text": [
            "[[0.2431367  0.24241846 0.10844872 0.33876639 0.08243966]\n",
            " [0.60116407 0.76592018 0.40300618 0.02340055 0.60165952]\n",
            " [0.30820534 0.63023535 0.46335538 0.03919998 0.33339878]\n",
            " [0.56091458 0.32237136 0.02623826 0.42760376 0.33745746]\n",
            " [0.51378125 0.28607922 0.03142085 0.44048614 0.28655976]\n",
            " [0.1184052  0.21315457 0.16349643 0.30163721 0.01652425]\n",
            " [0.61825796 0.17259329 0.21962869 0.61876436 0.29561777]\n",
            " [0.24712399 0.02445296 0.16845334 0.35478003 0.38778727]\n",
            " [0.71562618 0.50573329 0.05691806 0.31680919 0.53889453]\n",
            " [0.06719659 0.46744232 0.55209261 0.07125809 0.00442873]]\n"
          ]
        }
      ],
      "source": [
        "n_points = 10\n",
        "n_lines = 5\n",
        "\n",
        "P = np.random.rand(n_points, 2)\n",
        "P0 = np.random.rand(n_lines, 2)\n",
        "P1 = np.random.rand(n_lines, 2)\n",
        "\n",
        "distances = np.empty((n_points, n_lines))\n",
        "for j in range(n_points):\n",
        "    for i in range(n_lines):\n",
        "        v = P1[i] - P0[i]\n",
        "        proj_Pj = P[j] - np.dot(v, P[j] - P0[i]) / np.dot(v, v) * v\n",
        "        distances[j, i] = np.linalg.norm(P[j] - proj_Pj)\n",
        "\n",
        "print(distances)"
      ]
    },
    {
      "cell_type": "markdown",
      "id": "a0f23dfa",
      "metadata": {
        "id": "a0f23dfa"
      },
      "source": [
        "#### 80. Consider an arbitrary array, write a function that extract a subpart with a fixed shape and centered on a given element (pad with a `fill` value when necessary) (★★★)"
      ]
    },
    {
      "cell_type": "code",
      "execution_count": 109,
      "id": "4b7b96fc",
      "metadata": {
        "colab": {
          "base_uri": "https://localhost:8080/"
        },
        "id": "4b7b96fc",
        "outputId": "03973dce-bb21-4643-a74b-8a3a10bf9f2e"
      },
      "outputs": [
        {
          "output_type": "stream",
          "name": "stdout",
          "text": [
            "[[ 1  2  3]\n",
            " [ 5  6  7]\n",
            " [ 9 10 11]]\n"
          ]
        }
      ],
      "source": [
        "def extract_subarray(arr, shape, center):\n",
        "  start_idx = []\n",
        "  end_idx = []\n",
        "  for i in range(arr.ndim):\n",
        "    half_shape = shape[i] // 2\n",
        "    start_idx.append(center[i] - half_shape)\n",
        "    end_idx.append(center[i] + half_shape + 1)\n",
        "    \n",
        "  subarray = arr[tuple(slice(start, end) for start, end in zip(start_idx, end_idx))]\n",
        "  \n",
        "  pad_width = []\n",
        "  for i in range(arr.ndim):\n",
        "    if subarray.shape[i] < shape[i]:\n",
        "      pad_width.append((0, shape[i] - subarray.shape[i]))\n",
        "    else:\n",
        "      pad_width.append((0, 0))\n",
        "  subarray = np.pad(subarray, pad_width, mode='constant', constant_values=0)\n",
        "  \n",
        "  return subarray\n",
        "\n",
        "arr = np.array([[1, 2, 3, 4], [5, 6, 7, 8], [9, 10, 11, 12]])\n",
        "subarray = extract_subarray(arr, (2, 2), (1, 1))\n",
        "print(subarray)"
      ]
    },
    {
      "cell_type": "markdown",
      "id": "cc27e944",
      "metadata": {
        "id": "cc27e944"
      },
      "source": [
        "#### 81. Consider an array Z = [1,2,3,4,5,6,7,8,9,10,11,12,13,14], how to generate an array R = [[1,2,3,4], [2,3,4,5], [3,4,5,6], ..., [11,12,13,14]]? (★★★)"
      ]
    },
    {
      "cell_type": "code",
      "execution_count": 112,
      "id": "2fdaa26c",
      "metadata": {
        "colab": {
          "base_uri": "https://localhost:8080/"
        },
        "id": "2fdaa26c",
        "outputId": "d04e8716-ba3b-47a6-f25c-b3d5ad74b522"
      },
      "outputs": [
        {
          "output_type": "stream",
          "name": "stdout",
          "text": [
            "[[ 1  2  3  4]\n",
            " [ 2  3  4  5]\n",
            " [ 3  4  5  6]\n",
            " [ 4  5  6  7]\n",
            " [ 5  6  7  8]\n",
            " [ 6  7  8  9]\n",
            " [ 7  8  9 10]\n",
            " [ 8  9 10 11]\n",
            " [ 9 10 11 12]\n",
            " [10 11 12 13]\n",
            " [11 12 13 14]]\n"
          ]
        }
      ],
      "source": [
        "Z = np.array([1,2,3,4,5,6,7,8,9,10,11,12,13,14])\n",
        "n_rows = len(Z) - 3\n",
        "n_cols = 4\n",
        "R = np.lib.stride_tricks.as_strided(Z, shape=(n_rows, n_cols), strides=(Z.itemsize, Z.itemsize))\n",
        "\n",
        "print(R)"
      ]
    },
    {
      "cell_type": "markdown",
      "id": "9bc44d6e",
      "metadata": {
        "id": "9bc44d6e"
      },
      "source": [
        "#### 82. Compute a matrix rank (★★★)"
      ]
    },
    {
      "cell_type": "code",
      "execution_count": 138,
      "id": "3a4c7564",
      "metadata": {
        "colab": {
          "base_uri": "https://localhost:8080/"
        },
        "id": "3a4c7564",
        "outputId": "3b9d3dd8-6bf8-4da6-e0e2-a8c2439dbac3"
      },
      "outputs": [
        {
          "output_type": "stream",
          "name": "stdout",
          "text": [
            "[[0 0 0 0 1 0 1 1 1 1]\n",
            " [1 1 1 0 1 1 1 1 1 1]\n",
            " [0 0 0 0 0 0 0 0 0 0]\n",
            " [0 0 1 1 0 0 1 1 1 1]\n",
            " [1 0 1 1 0 1 0 1 0 0]\n",
            " [1 1 1 1 0 0 1 0 1 1]\n",
            " [1 1 0 0 1 0 0 0 0 1]\n",
            " [0 1 0 0 1 1 0 0 0 0]\n",
            " [1 1 0 0 0 0 0 1 1 0]\n",
            " [1 1 0 0 0 1 0 1 0 1]]\n",
            "5\n"
          ]
        }
      ],
      "source": [
        "matrix = np.random.randint(2,size=(10,10))\n",
        "print(matrix)\n",
        "rank = np.linalg.matrix_rank(a, tol=1e-10)\n",
        "print(rank)"
      ]
    },
    {
      "cell_type": "markdown",
      "id": "718a82dd",
      "metadata": {
        "id": "718a82dd"
      },
      "source": [
        "#### 83. How to find the most frequent value in an array?"
      ]
    },
    {
      "cell_type": "code",
      "execution_count": 151,
      "id": "8ffc513c",
      "metadata": {
        "colab": {
          "base_uri": "https://localhost:8080/"
        },
        "id": "8ffc513c",
        "outputId": "6a0e0d73-ce6c-4301-d98b-f25282f1f0cf"
      },
      "outputs": [
        {
          "output_type": "stream",
          "name": "stdout",
          "text": [
            "The most frequent values are [3 4] and they occur 4 times\n"
          ]
        }
      ],
      "source": [
        "arr = np.array([1, 2, 2, 3, 3, 3, 3, 4, 4, 4, 4])\n",
        "unique_values, counts = np.unique(arr, return_counts=True)\n",
        "max_count = counts.max()\n",
        "frequent_values = unique_values[counts == max_count]\n",
        "\n",
        "print(f\"The most frequent values are {frequent_values} and they occur {max_count} times\")"
      ]
    },
    {
      "cell_type": "markdown",
      "id": "754ceeba",
      "metadata": {
        "id": "754ceeba"
      },
      "source": [
        "#### 84. Extract all the contiguous 3x3 blocks from a random 10x10 matrix (★★★)"
      ]
    },
    {
      "cell_type": "code",
      "execution_count": 176,
      "id": "c32bb120",
      "metadata": {
        "colab": {
          "base_uri": "https://localhost:8080/"
        },
        "id": "c32bb120",
        "outputId": "f8e455ca-a9f5-4af7-eb56-7179862a1771"
      },
      "outputs": [
        {
          "output_type": "stream",
          "name": "stdout",
          "text": [
            "[[4 3 0 1 4 3 0 3 4 3]\n",
            " [1 1 0 0 3 3 1 1 4 4]\n",
            " [1 0 2 1 1 4 2 4 2 3]\n",
            " [0 3 4 4 1 4 2 2 4 0]\n",
            " [3 0 1 0 3 1 2 3 2 0]\n",
            " [4 2 3 0 1 2 4 4 1 2]\n",
            " [3 1 4 2 3 4 2 3 1 1]\n",
            " [0 2 0 0 3 0 2 0 2 1]\n",
            " [2 4 0 1 4 2 0 0 4 1]\n",
            " [0 1 1 0 3 1 2 2 0 4]]\n",
            "[[[4 3 0]\n",
            "  [1 1 0]\n",
            "  [1 0 2]]\n",
            "\n",
            " [[3 0 1]\n",
            "  [1 0 0]\n",
            "  [0 2 1]]\n",
            "\n",
            " [[0 1 4]\n",
            "  [0 0 3]\n",
            "  [2 1 1]]\n",
            "\n",
            " [[1 4 3]\n",
            "  [0 3 3]\n",
            "  [1 1 4]]\n",
            "\n",
            " [[4 3 0]\n",
            "  [3 3 1]\n",
            "  [1 4 2]]\n",
            "\n",
            " [[3 0 3]\n",
            "  [3 1 1]\n",
            "  [4 2 4]]\n",
            "\n",
            " [[0 3 4]\n",
            "  [1 1 4]\n",
            "  [2 4 2]]\n",
            "\n",
            " [[3 4 3]\n",
            "  [1 4 4]\n",
            "  [4 2 3]]\n",
            "\n",
            " [[1 1 0]\n",
            "  [1 0 2]\n",
            "  [0 3 4]]\n",
            "\n",
            " [[1 0 0]\n",
            "  [0 2 1]\n",
            "  [3 4 4]]\n",
            "\n",
            " [[0 0 3]\n",
            "  [2 1 1]\n",
            "  [4 4 1]]\n",
            "\n",
            " [[0 3 3]\n",
            "  [1 1 4]\n",
            "  [4 1 4]]\n",
            "\n",
            " [[3 3 1]\n",
            "  [1 4 2]\n",
            "  [1 4 2]]\n",
            "\n",
            " [[3 1 1]\n",
            "  [4 2 4]\n",
            "  [4 2 2]]\n",
            "\n",
            " [[1 1 4]\n",
            "  [2 4 2]\n",
            "  [2 2 4]]\n",
            "\n",
            " [[1 4 4]\n",
            "  [4 2 3]\n",
            "  [2 4 0]]\n",
            "\n",
            " [[1 0 2]\n",
            "  [0 3 4]\n",
            "  [3 0 1]]\n",
            "\n",
            " [[0 2 1]\n",
            "  [3 4 4]\n",
            "  [0 1 0]]\n",
            "\n",
            " [[2 1 1]\n",
            "  [4 4 1]\n",
            "  [1 0 3]]\n",
            "\n",
            " [[1 1 4]\n",
            "  [4 1 4]\n",
            "  [0 3 1]]\n",
            "\n",
            " [[1 4 2]\n",
            "  [1 4 2]\n",
            "  [3 1 2]]\n",
            "\n",
            " [[4 2 4]\n",
            "  [4 2 2]\n",
            "  [1 2 3]]\n",
            "\n",
            " [[2 4 2]\n",
            "  [2 2 4]\n",
            "  [2 3 2]]\n",
            "\n",
            " [[4 2 3]\n",
            "  [2 4 0]\n",
            "  [3 2 0]]\n",
            "\n",
            " [[0 3 4]\n",
            "  [3 0 1]\n",
            "  [4 2 3]]\n",
            "\n",
            " [[3 4 4]\n",
            "  [0 1 0]\n",
            "  [2 3 0]]\n",
            "\n",
            " [[4 4 1]\n",
            "  [1 0 3]\n",
            "  [3 0 1]]\n",
            "\n",
            " [[4 1 4]\n",
            "  [0 3 1]\n",
            "  [0 1 2]]\n",
            "\n",
            " [[1 4 2]\n",
            "  [3 1 2]\n",
            "  [1 2 4]]\n",
            "\n",
            " [[4 2 2]\n",
            "  [1 2 3]\n",
            "  [2 4 4]]\n",
            "\n",
            " [[2 2 4]\n",
            "  [2 3 2]\n",
            "  [4 4 1]]\n",
            "\n",
            " [[2 4 0]\n",
            "  [3 2 0]\n",
            "  [4 1 2]]\n",
            "\n",
            " [[3 0 1]\n",
            "  [4 2 3]\n",
            "  [3 1 4]]\n",
            "\n",
            " [[0 1 0]\n",
            "  [2 3 0]\n",
            "  [1 4 2]]\n",
            "\n",
            " [[1 0 3]\n",
            "  [3 0 1]\n",
            "  [4 2 3]]\n",
            "\n",
            " [[0 3 1]\n",
            "  [0 1 2]\n",
            "  [2 3 4]]\n",
            "\n",
            " [[3 1 2]\n",
            "  [1 2 4]\n",
            "  [3 4 2]]\n",
            "\n",
            " [[1 2 3]\n",
            "  [2 4 4]\n",
            "  [4 2 3]]\n",
            "\n",
            " [[2 3 2]\n",
            "  [4 4 1]\n",
            "  [2 3 1]]\n",
            "\n",
            " [[3 2 0]\n",
            "  [4 1 2]\n",
            "  [3 1 1]]\n",
            "\n",
            " [[4 2 3]\n",
            "  [3 1 4]\n",
            "  [0 2 0]]\n",
            "\n",
            " [[2 3 0]\n",
            "  [1 4 2]\n",
            "  [2 0 0]]\n",
            "\n",
            " [[3 0 1]\n",
            "  [4 2 3]\n",
            "  [0 0 3]]\n",
            "\n",
            " [[0 1 2]\n",
            "  [2 3 4]\n",
            "  [0 3 0]]\n",
            "\n",
            " [[1 2 4]\n",
            "  [3 4 2]\n",
            "  [3 0 2]]\n",
            "\n",
            " [[2 4 4]\n",
            "  [4 2 3]\n",
            "  [0 2 0]]\n",
            "\n",
            " [[4 4 1]\n",
            "  [2 3 1]\n",
            "  [2 0 2]]\n",
            "\n",
            " [[4 1 2]\n",
            "  [3 1 1]\n",
            "  [0 2 1]]\n",
            "\n",
            " [[3 1 4]\n",
            "  [0 2 0]\n",
            "  [2 4 0]]\n",
            "\n",
            " [[1 4 2]\n",
            "  [2 0 0]\n",
            "  [4 0 1]]\n",
            "\n",
            " [[4 2 3]\n",
            "  [0 0 3]\n",
            "  [0 1 4]]\n",
            "\n",
            " [[2 3 4]\n",
            "  [0 3 0]\n",
            "  [1 4 2]]\n",
            "\n",
            " [[3 4 2]\n",
            "  [3 0 2]\n",
            "  [4 2 0]]\n",
            "\n",
            " [[4 2 3]\n",
            "  [0 2 0]\n",
            "  [2 0 0]]\n",
            "\n",
            " [[2 3 1]\n",
            "  [2 0 2]\n",
            "  [0 0 4]]\n",
            "\n",
            " [[3 1 1]\n",
            "  [0 2 1]\n",
            "  [0 4 1]]\n",
            "\n",
            " [[0 2 0]\n",
            "  [2 4 0]\n",
            "  [0 1 1]]\n",
            "\n",
            " [[2 0 0]\n",
            "  [4 0 1]\n",
            "  [1 1 0]]\n",
            "\n",
            " [[0 0 3]\n",
            "  [0 1 4]\n",
            "  [1 0 3]]\n",
            "\n",
            " [[0 3 0]\n",
            "  [1 4 2]\n",
            "  [0 3 1]]\n",
            "\n",
            " [[3 0 2]\n",
            "  [4 2 0]\n",
            "  [3 1 2]]\n",
            "\n",
            " [[0 2 0]\n",
            "  [2 0 0]\n",
            "  [1 2 2]]\n",
            "\n",
            " [[2 0 2]\n",
            "  [0 0 4]\n",
            "  [2 2 0]]\n",
            "\n",
            " [[0 2 1]\n",
            "  [0 4 1]\n",
            "  [2 0 4]]]\n"
          ]
        }
      ],
      "source": [
        "Z = np.random.randint(0, 5, (10, 10))\n",
        "print(Z)\n",
        "\n",
        "n = 3\n",
        "C = np.stack([Z[i:i+n, j:j+n] for i in range(Z.shape[0] - 2) for j in range(Z.shape[1] - 2)])\n",
        "print(C)"
      ]
    },
    {
      "cell_type": "markdown",
      "id": "9fc0b63a",
      "metadata": {
        "id": "9fc0b63a"
      },
      "source": [
        "#### 85. Create a 2D array subclass such that Z[i,j] == Z[j,i] (★★★)"
      ]
    },
    {
      "cell_type": "code",
      "execution_count": 177,
      "id": "c41d0f9b",
      "metadata": {
        "colab": {
          "base_uri": "https://localhost:8080/"
        },
        "id": "c41d0f9b",
        "outputId": "b4ba99a0-9795-41af-a304-9a99f3e641cc"
      },
      "outputs": [
        {
          "output_type": "stream",
          "name": "stdout",
          "text": [
            "10.0\n",
            "10.0\n"
          ]
        }
      ],
      "source": [
        "class SymmetricArray(np.ndarray):\n",
        "    def __setitem__(self, index, value):\n",
        "        i, j = index\n",
        "        super().__setitem__((i, j), value)\n",
        "        super().__setitem__((j, i), value)\n",
        "\n",
        "Z = SymmetricArray((5, 5))\n",
        "Z[1, 2] = 10\n",
        "print(Z[1, 2])\n",
        "print(Z[2, 1])"
      ]
    },
    {
      "cell_type": "markdown",
      "id": "ae909782",
      "metadata": {
        "id": "ae909782"
      },
      "source": [
        "#### 86. Consider a set of p matrices wich shape (n,n) and a set of p vectors with shape (n,1). How to compute the sum of of the p matrix products at once? (result has shape (n,1)) (★★★)"
      ]
    },
    {
      "cell_type": "code",
      "execution_count": 180,
      "id": "013944b1",
      "metadata": {
        "colab": {
          "base_uri": "https://localhost:8080/"
        },
        "id": "013944b1",
        "outputId": "7c2aa8cc-a776-4005-9e8e-dc19e5044f29"
      },
      "outputs": [
        {
          "output_type": "stream",
          "name": "stdout",
          "text": [
            "[[187.]\n",
            " [328.]\n",
            " [281.]\n",
            " [134.]]\n"
          ]
        }
      ],
      "source": [
        "p = 3\n",
        "n = 4\n",
        "\n",
        "matrices = np.random.randint(10, size=(p, n, n))\n",
        "vectors = np.random.randint(10, size=(p, n, 1))\n",
        "\n",
        "result = np.zeros((n, 1))\n",
        "\n",
        "for i in range(p):\n",
        "    result += np.matmul(matrices[i], vectors[i])\n",
        "\n",
        "print(result)"
      ]
    },
    {
      "cell_type": "markdown",
      "id": "5f134bf4",
      "metadata": {
        "id": "5f134bf4"
      },
      "source": [
        "#### 87. Consider a 16x16 array, how to get the block-sum (block size is 4x4)? (★★★)"
      ]
    },
    {
      "cell_type": "code",
      "execution_count": 185,
      "id": "bf480005",
      "metadata": {
        "colab": {
          "base_uri": "https://localhost:8080/"
        },
        "id": "bf480005",
        "outputId": "df0297ad-706b-49d5-802d-03d0d7c1c000"
      },
      "outputs": [
        {
          "output_type": "stream",
          "name": "stdout",
          "text": [
            "[[16. 16. 16. 16.]\n",
            " [16. 16. 16. 16.]\n",
            " [16. 16. 16. 16.]\n",
            " [16. 16. 16. 16.]]\n"
          ]
        }
      ],
      "source": [
        "from skimage.util import view_as_blocks\n",
        "arr = np.ones((16,16))\n",
        "block_sum = view_as_blocks(arr, block_shape=(4, 4)).sum(axis=(2, 3))\n",
        "\n",
        "print(block_sum)"
      ]
    },
    {
      "cell_type": "markdown",
      "id": "aa91a3be",
      "metadata": {
        "id": "aa91a3be"
      },
      "source": [
        "#### 88. How to implement the Game of Life using numpy arrays? (★★★)"
      ]
    },
    {
      "cell_type": "code",
      "execution_count": 210,
      "id": "a20f0e2b",
      "metadata": {
        "id": "a20f0e2b"
      },
      "outputs": [],
      "source": []
    },
    {
      "cell_type": "markdown",
      "id": "885023d9",
      "metadata": {
        "id": "885023d9"
      },
      "source": [
        "#### 89. How to get the n largest values of an array (★★★)"
      ]
    },
    {
      "cell_type": "code",
      "execution_count": 218,
      "id": "996ab585",
      "metadata": {
        "colab": {
          "base_uri": "https://localhost:8080/"
        },
        "id": "996ab585",
        "outputId": "7591805e-84a5-4248-dda5-51eee8024ebe"
      },
      "outputs": [
        {
          "output_type": "stream",
          "name": "stdout",
          "text": [
            "[99 98 97 96 95]\n"
          ]
        }
      ],
      "source": [
        "Z = np.arange(100)\n",
        "np.random.shuffle(Z)\n",
        "n = 5\n",
        "print (Z[np.argpartition(-Z,n)[:n]])"
      ]
    },
    {
      "cell_type": "markdown",
      "id": "d0518aeb",
      "metadata": {
        "id": "d0518aeb"
      },
      "source": [
        "#### 90. Given an arbitrary number of vectors, build the cartesian product (every combinations of every item) (★★★)"
      ]
    },
    {
      "cell_type": "code",
      "execution_count": 223,
      "id": "d9ae30ca",
      "metadata": {
        "colab": {
          "base_uri": "https://localhost:8080/"
        },
        "id": "d9ae30ca",
        "outputId": "87ba75f5-aaaf-40bc-8a1c-54af6006e90e"
      },
      "outputs": [
        {
          "output_type": "stream",
          "name": "stdout",
          "text": [
            "[[1 4 6]\n",
            " [1 4 7]\n",
            " [1 4 8]\n",
            " [1 4 9]\n",
            " [1 5 6]\n",
            " [1 5 7]\n",
            " [1 5 8]\n",
            " [1 5 9]\n",
            " [2 4 6]\n",
            " [2 4 7]\n",
            " [2 4 8]\n",
            " [2 4 9]\n",
            " [2 5 6]\n",
            " [2 5 7]\n",
            " [2 5 8]\n",
            " [2 5 9]\n",
            " [3 4 6]\n",
            " [3 4 7]\n",
            " [3 4 8]\n",
            " [3 4 9]\n",
            " [3 5 6]\n",
            " [3 5 7]\n",
            " [3 5 8]\n",
            " [3 5 9]]\n"
          ]
        }
      ],
      "source": [
        "import itertools\n",
        "\n",
        "vectors = [np.array([1, 2, 3]), np.array([4, 5]), np.array([6, 7, 8, 9])]\n",
        "cartesian_product = np.array(list(itertools.product(*vectors)))\n",
        "print(cartesian_product)"
      ]
    },
    {
      "cell_type": "markdown",
      "id": "20cc5dc6",
      "metadata": {
        "id": "20cc5dc6"
      },
      "source": [
        "#### 91. How to create a record array from a regular array? (★★★)"
      ]
    },
    {
      "cell_type": "code",
      "execution_count": 226,
      "id": "a7d05a34",
      "metadata": {
        "colab": {
          "base_uri": "https://localhost:8080/"
        },
        "id": "a7d05a34",
        "outputId": "84a7b3bb-b10d-454d-9c9c-332d73ff2d9d"
      },
      "outputs": [
        {
          "output_type": "stream",
          "name": "stdout",
          "text": [
            "[[(1, 0, 2) (0, 3, 0)]\n",
            " [(4, 0, 5) (0, 6, 0)]\n",
            " [(7, 0, 8) (0, 9, 0)]]\n"
          ]
        }
      ],
      "source": [
        "data = np.array([[1, 2, 3], [4, 5, 6], [7, 8, 9]])\n",
        "\n",
        "record_array = np.rec.array(data, dtype=[('a', 'i4'), ('b', 'i4'), ('c', 'i4')])\n",
        "\n",
        "print(record_array)"
      ]
    },
    {
      "cell_type": "markdown",
      "id": "e59a2c44",
      "metadata": {
        "id": "e59a2c44"
      },
      "source": [
        "#### 92. Consider a large vector Z, compute Z to the power of 3 using 3 different methods (★★★)"
      ]
    },
    {
      "cell_type": "code",
      "execution_count": 236,
      "id": "916168ea",
      "metadata": {
        "colab": {
          "base_uri": "https://localhost:8080/"
        },
        "id": "916168ea",
        "outputId": "27ec3220-6420-4a15-d157-1fb6cca2b9af"
      },
      "outputs": [
        {
          "output_type": "stream",
          "name": "stdout",
          "text": [
            "[0.15178961 0.03138316 0.05458118 ... 0.19252195 0.42320327 0.00771331]\n",
            "[1.51789609e-01 3.13831589e-02 5.45811787e-02 3.41766479e-01\n",
            " 1.09167662e-04]\n",
            "[0.15178961 0.03138316 0.05458118 ... 0.19252195 0.42320327 0.00771331]\n"
          ]
        }
      ],
      "source": [
        "Z = np.random.rand(int(5e5))\n",
        "result = np.power(Z, 3)\n",
        "print(result)\n",
        "\n",
        "result = np.einsum('i,i,i->i', Z, Z, Z)[:5]\n",
        "print(result)\n",
        "\n",
        "power3 = np.vectorize(lambda x: x**3)\n",
        "result = power3(Z)\n",
        "print(result)\n"
      ]
    },
    {
      "cell_type": "markdown",
      "id": "f1fc4b70",
      "metadata": {
        "id": "f1fc4b70"
      },
      "source": [
        "#### 93. Consider two arrays A and B of shape (8,3) and (2,2). How to find rows of A that contain elements of each row of B regardless of the order of the elements in B? (★★★)"
      ]
    },
    {
      "cell_type": "code",
      "execution_count": 239,
      "id": "d35b4705",
      "metadata": {
        "colab": {
          "base_uri": "https://localhost:8080/"
        },
        "id": "d35b4705",
        "outputId": "2c38cfba-6255-4768-bdee-2be1d696e407"
      },
      "outputs": [
        {
          "output_type": "stream",
          "name": "stdout",
          "text": [
            "[[1 2 3]\n",
            " [4 5 6]]\n"
          ]
        }
      ],
      "source": [
        "A = np.array([[1, 2, 3], [4, 5, 6], [7, 8, 9], [10, 11, 12], [13, 14, 15], [16, 17, 18], [19, 20, 21], [22, 23, 24]])\n",
        "B = np.array([[1, 2], [3, 4]])\n",
        "\n",
        "mask = np.isin(A, B).any(axis=1)\n",
        "\n",
        "print(A[mask])"
      ]
    },
    {
      "cell_type": "markdown",
      "id": "821a6ce8",
      "metadata": {
        "id": "821a6ce8"
      },
      "source": [
        "#### 94. Considering a 10x3 matrix, extract rows with unequal values (e.g. [2,2,3]) (★★★)"
      ]
    },
    {
      "cell_type": "code",
      "execution_count": 243,
      "id": "5690c131",
      "metadata": {
        "colab": {
          "base_uri": "https://localhost:8080/"
        },
        "id": "5690c131",
        "outputId": "37f66f04-dad8-45f4-8a5e-bbc19f7b30ab"
      },
      "outputs": [
        {
          "output_type": "stream",
          "name": "stdout",
          "text": [
            "[[0 8 2]\n",
            " [4 3 1]\n",
            " [2 7 1]\n",
            " [6 3 4]\n",
            " [4 4 1]\n",
            " [6 0 3]\n",
            " [3 0 5]\n",
            " [0 9 6]\n",
            " [7 5 3]\n",
            " [3 4 6]]\n"
          ]
        }
      ],
      "source": [
        "matrix = np.random.randint(10, size=(10, 3))\n",
        "mask = (matrix[:,0] != matrix[:,1]) | (matrix[:,0] != matrix[:,2]) | (matrix[:,1] != matrix[:,2])\n",
        "result = matrix[mask]\n",
        "\n",
        "print(result)"
      ]
    },
    {
      "cell_type": "markdown",
      "id": "9dc9a61c",
      "metadata": {
        "id": "9dc9a61c"
      },
      "source": [
        "#### 95. Convert a vector of ints into a matrix binary representation (★★★)"
      ]
    },
    {
      "cell_type": "code",
      "execution_count": 248,
      "id": "c728306f",
      "metadata": {
        "colab": {
          "base_uri": "https://localhost:8080/"
        },
        "id": "c728306f",
        "outputId": "8ceb633c-9fe0-4af3-f813-09a7d0620f6e"
      },
      "outputs": [
        {
          "output_type": "stream",
          "name": "stdout",
          "text": [
            "[[0 0 0 0 0 0 0 0]\n",
            " [0 0 0 0 0 0 0 1]\n",
            " [0 0 0 0 0 0 1 0]\n",
            " [0 0 0 0 0 0 1 1]\n",
            " [0 0 0 0 1 1 1 1]\n",
            " [0 0 0 1 0 0 0 0]\n",
            " [0 0 1 0 0 0 0 0]\n",
            " [0 1 0 0 0 0 0 0]\n",
            " [1 0 0 0 0 0 0 0]]\n"
          ]
        }
      ],
      "source": [
        "array = np.array([0,1,2,3,15, 16, 32, 64, 128], dtype=np.uint8)\n",
        "print(np.unpackbits(array[:, np.newaxis], axis=1))"
      ]
    },
    {
      "cell_type": "markdown",
      "id": "cca48e6e",
      "metadata": {
        "id": "cca48e6e"
      },
      "source": [
        "#### 96. Given a two dimensional array, how to extract unique rows? (★★★)"
      ]
    },
    {
      "cell_type": "code",
      "execution_count": 249,
      "id": "ae2e6484",
      "metadata": {
        "colab": {
          "base_uri": "https://localhost:8080/"
        },
        "id": "ae2e6484",
        "outputId": "84204092-c508-4b35-ea8c-44f69ca16b0c"
      },
      "outputs": [
        {
          "output_type": "stream",
          "name": "stdout",
          "text": [
            "[[9 3 1]\n",
            " [5 5 3]\n",
            " [1 7 7]\n",
            " [5 4 1]\n",
            " [5 3 4]]\n",
            "[[1 7 7]\n",
            " [5 3 4]\n",
            " [5 4 1]\n",
            " [5 5 3]\n",
            " [9 3 1]]\n"
          ]
        }
      ],
      "source": [
        "arr = np.random.randint(10, size=(5, 3))\n",
        "print(arr)\n",
        "\n",
        "unique_rows = np.unique(arr, axis=0)\n",
        "print(unique_rows)"
      ]
    },
    {
      "cell_type": "markdown",
      "id": "3621d474",
      "metadata": {
        "id": "3621d474"
      },
      "source": [
        "#### 97. Considering 2 vectors A & B, write the einsum equivalent of inner, outer, sum, and mul function (★★★)"
      ]
    },
    {
      "cell_type": "code",
      "execution_count": 252,
      "id": "09238dfb",
      "metadata": {
        "colab": {
          "base_uri": "https://localhost:8080/"
        },
        "id": "09238dfb",
        "outputId": "139078c3-86b5-447d-e0ac-486d7bb80960"
      },
      "outputs": [
        {
          "output_type": "stream",
          "name": "stdout",
          "text": [
            "[[0.76188675 0.72889394 0.31387337 0.36424707 0.33688777 0.09453138\n",
            "  0.10379111 0.61062643 0.21077322 0.72171714]\n",
            " [0.39831139 0.38106288 0.16409176 0.19042694 0.1761236  0.04942063\n",
            "  0.05426159 0.3192331  0.11019141 0.37731088]\n",
            " [0.19311589 0.18475319 0.07955767 0.09232592 0.08539115 0.02396093\n",
            "  0.026308   0.15477585 0.05342481 0.18293408]\n",
            " [0.18980708 0.18158766 0.07819454 0.09074403 0.08392807 0.02355038\n",
            "  0.02585724 0.15212395 0.05250944 0.17979972]\n",
            " [0.20357335 0.19475779 0.08386581 0.09732548 0.09001518 0.02525844\n",
            "  0.02773261 0.16315715 0.05631783 0.19284018]\n",
            " [0.52795001 0.50508762 0.21749879 0.25240529 0.23344664 0.06550559\n",
            "  0.07192213 0.42313406 0.14605546 0.50011445]\n",
            " [0.60330693 0.57718128 0.24854347 0.28843235 0.26676763 0.07485553\n",
            "  0.08218793 0.48353008 0.16690268 0.57149826]\n",
            " [0.88165076 0.84347169 0.36321237 0.42150452 0.3898445  0.10939114\n",
            "  0.12010645 0.70661324 0.2439055  0.83516674]\n",
            " [0.6245946  0.5975471  0.25731332 0.29860967 0.27618052 0.07749681\n",
            "  0.08508793 0.50059142 0.17279184 0.59166356]\n",
            " [0.55727065 0.53313856 0.22957797 0.26642307 0.24641151 0.06914356\n",
            "  0.07591646 0.44663356 0.15416691 0.5278892 ]]\n",
            "[[0.76188675 0.72889394 0.31387337 0.36424707 0.33688777 0.09453138\n",
            "  0.10379111 0.61062643 0.21077322 0.72171714]\n",
            " [0.39831139 0.38106288 0.16409176 0.19042694 0.1761236  0.04942063\n",
            "  0.05426159 0.3192331  0.11019141 0.37731088]\n",
            " [0.19311589 0.18475319 0.07955767 0.09232592 0.08539115 0.02396093\n",
            "  0.026308   0.15477585 0.05342481 0.18293408]\n",
            " [0.18980708 0.18158766 0.07819454 0.09074403 0.08392807 0.02355038\n",
            "  0.02585724 0.15212395 0.05250944 0.17979972]\n",
            " [0.20357335 0.19475779 0.08386581 0.09732548 0.09001518 0.02525844\n",
            "  0.02773261 0.16315715 0.05631783 0.19284018]\n",
            " [0.52795001 0.50508762 0.21749879 0.25240529 0.23344664 0.06550559\n",
            "  0.07192213 0.42313406 0.14605546 0.50011445]\n",
            " [0.60330693 0.57718128 0.24854347 0.28843235 0.26676763 0.07485553\n",
            "  0.08218793 0.48353008 0.16690268 0.57149826]\n",
            " [0.88165076 0.84347169 0.36321237 0.42150452 0.3898445  0.10939114\n",
            "  0.12010645 0.70661324 0.2439055  0.83516674]\n",
            " [0.6245946  0.5975471  0.25731332 0.29860967 0.27618052 0.07749681\n",
            "  0.08508793 0.50059142 0.17279184 0.59166356]\n",
            " [0.55727065 0.53313856 0.22957797 0.26642307 0.24641151 0.06914356\n",
            "  0.07591646 0.44663356 0.15416691 0.5278892 ]]\n",
            "2.958254311611916\n",
            "[0.76188675 0.38106288 0.07955767 0.09074403 0.09001518 0.06550559\n",
            " 0.08218793 0.70661324 0.17279184 0.5278892 ]\n"
          ]
        }
      ],
      "source": [
        "A = np.random.uniform(0,1,10)\n",
        "B = np.random.uniform(0,1,10)\n",
        "print(np.einsum('i,j->ij', A, B))\n",
        "print(np.einsum('i,j->ij', A, B))\n",
        "print(np.einsum('i,i->', A, B))\n",
        "print(np.einsum('i,i->i', A, B))"
      ]
    },
    {
      "cell_type": "markdown",
      "id": "26162fae",
      "metadata": {
        "id": "26162fae"
      },
      "source": [
        "#### 98. Considering a path described by two vectors (X,Y), how to sample it using equidistant samples (★★★)?"
      ]
    },
    {
      "cell_type": "code",
      "execution_count": 263,
      "id": "283c279f",
      "metadata": {
        "id": "283c279f"
      },
      "outputs": [],
      "source": []
    },
    {
      "cell_type": "markdown",
      "id": "44b20c57",
      "metadata": {
        "id": "44b20c57"
      },
      "source": [
        "#### 99. Given an integer n and a 2D array X, select from X the rows which can be interpreted as draws from a multinomial distribution with n degrees, i.e., the rows which only contain integers and which sum to n. (★★★)"
      ]
    },
    {
      "cell_type": "code",
      "execution_count": null,
      "id": "389b7190",
      "metadata": {
        "id": "389b7190"
      },
      "outputs": [],
      "source": []
    },
    {
      "cell_type": "markdown",
      "id": "6fa5ed76",
      "metadata": {
        "id": "6fa5ed76"
      },
      "source": [
        "#### 100. Compute bootstrapped 95% confidence intervals for the mean of a 1D array X (i.e., resample the elements of an array with replacement N times, compute the mean of each sample, and then compute percentiles over the means). (★★★)"
      ]
    },
    {
      "cell_type": "code",
      "execution_count": 262,
      "id": "4db4cc57",
      "metadata": {
        "colab": {
          "base_uri": "https://localhost:8080/"
        },
        "id": "4db4cc57",
        "outputId": "10af677e-d9be-40cc-85a0-6d841de1261e"
      },
      "outputs": [
        {
          "output_type": "stream",
          "name": "stdout",
          "text": [
            "[-0.17065304  0.21156853]\n"
          ]
        }
      ],
      "source": [
        "X = np.random.randn(100) \n",
        "N = 1000 \n",
        "idx = np.random.randint(0, X.size, (N, X.size))\n",
        "means = X[idx].mean(axis=1)\n",
        "confint = np.percentile(means, [2.5, 97.5])\n",
        "print(confint)"
      ]
    }
  ],
  "metadata": {
    "colab": {
      "provenance": []
    },
    "language_info": {
      "name": "python"
    },
    "kernelspec": {
      "name": "python3",
      "display_name": "Python 3"
    },
    "gpuClass": "standard"
  },
  "nbformat": 4,
  "nbformat_minor": 5
}