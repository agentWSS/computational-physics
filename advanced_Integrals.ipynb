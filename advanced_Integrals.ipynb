{
  "cells": [
    {
      "cell_type": "markdown",
      "metadata": {
        "id": "JlKEtTIneLVE"
      },
      "source": [
        "Before you turn this problem in, make sure everything runs as expected. First, **restart the kernel** (in the menubar, select Kernel$\\rightarrow$Restart) and then **run all cells** (in the menubar, select Cell$\\rightarrow$Run All).\n",
        "\n",
        "Make sure you fill in any place that says `YOUR CODE HERE` or \"YOUR ANSWER HERE\", as well as your github nickname below:"
      ]
    },
    {
      "cell_type": "code",
      "execution_count": 110,
      "metadata": {
        "id": "relsESHJeLVN"
      },
      "outputs": [],
      "source": [
        "NICKNAME = \"agentWSS\""
      ]
    },
    {
      "cell_type": "markdown",
      "metadata": {
        "id": "B98UihbWeLVO"
      },
      "source": [
        "---"
      ]
    },
    {
      "cell_type": "markdown",
      "metadata": {
        "deletable": false,
        "editable": false,
        "heading_collapsed": true,
        "nbgrader": {
          "cell_type": "markdown",
          "checksum": "dae37096cb69d9308fedfcc04f2dc929",
          "grade": false,
          "grade_id": "cell-2458024e3a3efd4c",
          "locked": true,
          "schema_version": 3,
          "solution": false,
          "task": false
        },
        "id": "WNq6guOMeLVP"
      },
      "source": [
        "# Часть 1. Гауссовы квадратуры\n",
        "\n",
        "Метод Гауссовых квадратур является одним из методов численного интегрирования, который позволяет увеличить точность интегрирования, используя ортогональные полиномы и их корни в качестве узлов.\n",
        "\n",
        "$$\n",
        "\\int_a^b \\!  w(x)\\, f(x)\\, dx \\approx \\sum_{k=1}^n w_k \\, f(x_k) \\;,\n",
        "$$\n",
        "\n",
        "здесь $\\omega$ - функция весов, которая определят базис ортогональных полиномов, чьи корни используются в качестве узлов интегрирования. \n",
        "\n",
        "Получаемая таким образом квадратурная схема *точно* инегрирует $f(x)$ если это полином степени $m\\le2n-1$, где $n$ - степень полинома, корни которого используются в качестве узлов."
      ]
    },
    {
      "cell_type": "markdown",
      "metadata": {
        "deletable": false,
        "editable": false,
        "heading_collapsed": true,
        "hidden": true,
        "nbgrader": {
          "cell_type": "markdown",
          "checksum": "775042397203e9bde8901fc67df64a80",
          "grade": false,
          "grade_id": "cell-fc379192341494d5",
          "locked": true,
          "schema_version": 3,
          "solution": false,
          "task": false
        },
        "id": "wqjhWzUDeLVQ"
      },
      "source": [
        "## Двухточечная квадратура Гаусса\n",
        "\n",
        "Постройте квадратурную формулу Гаусса, интегрирующую точно многочлены степеней вплоть до третьей на интервале $[a, b]$. Заметим, что для этого достаточно построить _двухточечную_ квадратуру.\n",
        "\n",
        "    hint:Легко найти точки и веса для отрезка [-1,1], после чего можно сделать аффинное преобразование..\n",
        "\n",
        "Напишите функцию, которая возвращает веса, $w_1$ и $w_2$, и узлы, $x_1$ и $x_2$, двухточечной квадратурной формулы Гаусса с весовой функцией $w(x) = 1$, т.е., интегралы вида\n",
        "\n",
        "$$\n",
        "\\int_a^b\\! f(x)\\, dx \\approx w_1 f(x_1) + w_2 f(x_2)\n",
        "$$"
      ]
    },
    {
      "cell_type": "code",
      "execution_count": 92,
      "metadata": {
        "deletable": false,
        "hidden": true,
        "nbgrader": {
          "cell_type": "code",
          "checksum": "904166366d67e67506e3087dd19ce395",
          "grade": false,
          "grade_id": "cell-cf3c018fa371396b",
          "locked": false,
          "schema_version": 3,
          "solution": true,
          "task": false
        },
        "id": "DlEO7phWeLVQ"
      },
      "outputs": [],
      "source": [
        "from scipy.special import roots_legendre\n",
        "\n",
        "def gauss_2(a, b):\n",
        "    r\"\"\"Return nodes and weights for a two-point Gauss quadrature on [a, b].\n",
        "    \n",
        "    Parameters\n",
        "    ----------\n",
        "    a, b : float\n",
        "       Boundaries of the integration interval\n",
        "       \n",
        "    Returns\n",
        "    -------\n",
        "    x1, x2, w1, w2 : float\n",
        "       Nodes and weights of the quadrature.\n",
        "    \"\"\"\n",
        "    nodes, weights = roots_legendre(2)\n",
        "    x1 = (a + b) / 2 + (b - a) / 2 * nodes[0]\n",
        "    x2 = (a + b) / 2 + (b - a) / 2 * nodes[1]\n",
        "    w1 = (b - a) / 2 * weights[0]\n",
        "    w2 = (b - a) / 2 * weights[1]\n",
        "    return x1, x2, w1, w2"
      ]
    },
    {
      "cell_type": "code",
      "execution_count": 93,
      "metadata": {
        "deletable": false,
        "editable": false,
        "hidden": true,
        "nbgrader": {
          "cell_type": "code",
          "checksum": "0359e8b293f2fb6d01a58c9fedf8394d",
          "grade": true,
          "grade_id": "cell-b6739a7f6045a9ec",
          "locked": true,
          "points": 5,
          "schema_version": 3,
          "solution": false,
          "task": false
        },
        "id": "7YCjWCDzeLVR"
      },
      "outputs": [],
      "source": [
        "from numpy.testing import assert_allclose\n",
        "\n",
        "x1, x2, w1, w2 = gauss_2(0, 1)\n",
        "\n",
        "def f(x, n): \n",
        "    return x**n\n",
        "\n",
        "for n in [0, 1, 2, 3]:\n",
        "    assert_allclose(w1*f(x1, n=n) + w2*f(x2, n=n),\n",
        "                    1./(n+1), atol=1e-14)"
      ]
    },
    {
      "cell_type": "markdown",
      "metadata": {
        "deletable": false,
        "editable": false,
        "heading_collapsed": true,
        "hidden": true,
        "nbgrader": {
          "cell_type": "markdown",
          "checksum": "c5f8b30020145459fde89f8633497e81",
          "grade": false,
          "grade_id": "cell-e8c64d5ac1bfac1e",
          "locked": true,
          "schema_version": 3,
          "solution": false,
          "task": false
        },
        "id": "7sjrDE_zeLVT"
      },
      "source": [
        "## Использование ортогональных полиномов"
      ]
    },
    {
      "cell_type": "markdown",
      "metadata": {
        "deletable": false,
        "editable": false,
        "heading_collapsed": true,
        "hidden": true,
        "nbgrader": {
          "cell_type": "markdown",
          "checksum": "29bba00b9afe94a4031db5f2999cbfd3",
          "grade": false,
          "grade_id": "cell-fb434c4b7c784b46",
          "locked": true,
          "schema_version": 3,
          "solution": false,
          "task": false
        },
        "id": "C6KCG5k8eLVT"
      },
      "source": [
        "### Legendre"
      ]
    },
    {
      "cell_type": "markdown",
      "metadata": {
        "deletable": false,
        "editable": false,
        "hidden": true,
        "nbgrader": {
          "cell_type": "markdown",
          "checksum": "b34d43a5ea949551d5f49894016354bc",
          "grade": false,
          "grade_id": "cell-8e5c8d092b20a000",
          "locked": true,
          "schema_version": 3,
          "solution": false,
          "task": false
        },
        "id": "q7km58XaeLVU"
      },
      "source": [
        "Теперь посчитаем следующий интеграл:\n",
        "\n",
        "$$\n",
        "\\int_{-1}^1 (7x^3 - 8 x^2 - 3 x + 3) dx  \\label{eq1}\\tag{1}\n",
        "$$\n",
        "\n",
        "Здесь функция уже полиномиальна, поэтому возьмем весовую функцию $\\omega(x) = 1$. Тогда вычисление интеграла сводится к сумме корней полинома, соответствующих весовой функции $\\omega(x) = 1$. Например, здесь https://dlmf.nist.gov/18.3 вы можете увидеть, какой базис полиномов соответствует вашей весовой функции.\n",
        "\n",
        "Заметим, что нашей соответствуют полиномы Лежандра. Теперь, зайдем в документацию https://docs.scipy.org/doc/scipy/reference/special.html#orthogonal-polynomials. Функция *roots_legendre* сразу же выдаст корни полиномов Лежандра, а также веса к их корням (для полиномов Лежандра все эти веса равны единице)."
      ]
    },
    {
      "cell_type": "markdown",
      "metadata": {
        "deletable": false,
        "editable": false,
        "hidden": true,
        "nbgrader": {
          "cell_type": "markdown",
          "checksum": "037083acc46d40c85a54bc7331280cb9",
          "grade": false,
          "grade_id": "cell-a22c173af41a812e",
          "locked": true,
          "schema_version": 3,
          "solution": false,
          "task": false
        },
        "id": "cKfBBq4HeLVV"
      },
      "source": [
        "1. Посчитайте точное значение интеграла ([1](#mjx-eqn-eq1)) \"руками\"."
      ]
    },
    {
      "cell_type": "code",
      "execution_count": 94,
      "metadata": {
        "deletable": false,
        "hidden": true,
        "nbgrader": {
          "cell_type": "code",
          "checksum": "2b6ac6e30a26e022387bdecd8fdd616f",
          "grade": true,
          "grade_id": "cell-16f3cafcd6f326e5",
          "locked": false,
          "points": 1,
          "schema_version": 3,
          "solution": true,
          "task": false
        },
        "id": "XnMmSnAKeLVW",
        "outputId": "3bda0d06-8b8e-4f36-e601-d49efa76aaec",
        "colab": {
          "base_uri": "https://localhost:8080/"
        }
      },
      "outputs": [
        {
          "output_type": "stream",
          "name": "stdout",
          "text": [
            "0.6666666666666674\n"
          ]
        }
      ],
      "source": [
        "func = lambda x: 7 * x**3 - 8 * x**2 - 3 * x + 3\n",
        "primitive = lambda x: 7 / 4 * x**4 - 8 / 3 * x**3 - 3 / 2 * x**2 + 3 * x\n",
        "real_int = primitive(1) - primitive(-1)\n",
        "print(real_int)"
      ]
    },
    {
      "cell_type": "markdown",
      "metadata": {
        "deletable": false,
        "editable": false,
        "hidden": true,
        "nbgrader": {
          "cell_type": "markdown",
          "checksum": "c44b7f4761eba9c6e36ed4a20ce8d0ad",
          "grade": false,
          "grade_id": "cell-948b60507b24e367",
          "locked": true,
          "schema_version": 3,
          "solution": false,
          "task": false
        },
        "id": "KC-LjkTveLVW"
      },
      "source": [
        "2. Посчитайте значение интеграла ([1](#mjx-eqn-eq1)), используя обычный метод интегрирования на равномерной сетке (например, написанный вами в предыдущем дз). Оцените количество узлов, необходимых для достижения относительной точности $10^{-10}$."
      ]
    },
    {
      "cell_type": "code",
      "execution_count": 95,
      "metadata": {
        "deletable": false,
        "hidden": true,
        "nbgrader": {
          "cell_type": "code",
          "checksum": "bd115dffeda241a3731fd014860b2716",
          "grade": true,
          "grade_id": "cell-7790db31d641a7db",
          "locked": false,
          "points": 1,
          "schema_version": 3,
          "solution": true,
          "task": false
        },
        "id": "XF1GPnHGeLVX",
        "outputId": "7e44bdda-f6f0-4695-c0da-5fb123f3c2c1",
        "colab": {
          "base_uri": "https://localhost:8080/"
        }
      },
      "outputs": [
        {
          "output_type": "stream",
          "name": "stdout",
          "text": [
            "0.6666666667442743 262144\n"
          ]
        }
      ],
      "source": [
        "def midpoint_rule(func, a, b, eps, real_int):\n",
        "    \"\"\" Вычисляет интеграл f от a до b используя правило центральной точки.\n",
        "    \n",
        "    Parameters\n",
        "    ----------\n",
        "    func : callable\n",
        "        Функция, которую нужно проинтегрировать\n",
        "    a : float\n",
        "        Нижний предел интегрирования\n",
        "    b : float\n",
        "        Верхний предел интегрирования\n",
        "    eps : float\n",
        "        Ожидаемая ошибка оценки\n",
        "        \n",
        "    Returns\n",
        "    -------\n",
        "    integral : float\n",
        "        Оценка интеграла $\\int_a^b f(x) dx$.\n",
        "    n : int\n",
        "        The number of intervals on segment.\n",
        "    \"\"\"\n",
        "    \n",
        "    n = 1 \n",
        "    integral = func((a + b) / 2) * (b - a)\n",
        "\n",
        "    while abs(integral - real_int) >= eps:\n",
        "        integral = 0\n",
        "        n *= 2\n",
        "        h = (b - a) / n\n",
        "        for i in range(1, n + 1):\n",
        "            integral += func(a + (i - 0.5) * h) * h\n",
        "\n",
        "    return integral, n\n",
        "\n",
        "  \n",
        "midpoint_int, midpoint_n = midpoint_rule(func, -1, 1, 1e-10, real_int)\n",
        "print(midpoint_int, midpoint_n)"
      ]
    },
    {
      "cell_type": "markdown",
      "metadata": {
        "deletable": false,
        "editable": false,
        "hidden": true,
        "nbgrader": {
          "cell_type": "markdown",
          "checksum": "f6dabecd2b5598369b254d25c762df09",
          "grade": false,
          "grade_id": "cell-f088101355d78922",
          "locked": true,
          "schema_version": 3,
          "solution": false,
          "task": false
        },
        "id": "aG16YeT5eLVX"
      },
      "source": [
        "3. Посчитайте значение интеграла ([1](#mjx-eqn-eq1)), с помощью Гауссовой квадратуры (используя корни полинома Лежандра степени от 1 до 6 в качестве узлов) (чтобы получить корни и веса используйте scipy.special.roots_legendre)"
      ]
    },
    {
      "cell_type": "code",
      "execution_count": 96,
      "metadata": {
        "deletable": false,
        "hidden": true,
        "nbgrader": {
          "cell_type": "code",
          "checksum": "e856289f89873d2dd62b4d05b7964881",
          "grade": true,
          "grade_id": "cell-6dc2ce8d5be0a99c",
          "locked": false,
          "points": 1,
          "schema_version": 3,
          "solution": true,
          "task": false
        },
        "id": "Qp-4ssb-eLVX",
        "outputId": "6599f780-c0d1-49ee-ca02-4fbd8ab82d81",
        "colab": {
          "base_uri": "https://localhost:8080/"
        }
      },
      "outputs": [
        {
          "output_type": "stream",
          "name": "stdout",
          "text": [
            "1 6.0\n",
            "2 0.6666666666666674\n",
            "3 0.6666666666666639\n",
            "4 0.6666666666666667\n",
            "5 0.6666666666666685\n",
            "6 0.6666666666666695\n"
          ]
        }
      ],
      "source": [
        "import numpy as np\n",
        "\n",
        "for i in range(1, 7):\n",
        "    roots, weights = roots_legendre(i)\n",
        "    print(i, np.sum(func(roots) * weights))"
      ]
    },
    {
      "cell_type": "markdown",
      "metadata": {
        "deletable": false,
        "editable": false,
        "hidden": true,
        "nbgrader": {
          "cell_type": "markdown",
          "checksum": "7efb7260ef67ce819ece51a1140ae13c",
          "grade": false,
          "grade_id": "cell-c91608154cad03e1",
          "locked": true,
          "schema_version": 3,
          "solution": false,
          "task": false
        },
        "id": "8fl1s6uheLVY"
      },
      "source": [
        "Сравните количество узлов, необходимых для достижения одинаковой точности в обоих чисенных методах."
      ]
    },
    {
      "cell_type": "code",
      "execution_count": 97,
      "metadata": {
        "deletable": false,
        "hidden": true,
        "nbgrader": {
          "cell_type": "code",
          "checksum": "43552b414f9a368c005cc81189908d28",
          "grade": true,
          "grade_id": "cell-16d11da2a52ec8c0",
          "locked": false,
          "points": 1,
          "schema_version": 3,
          "solution": true,
          "task": false
        },
        "id": "k4mViWrmeLVY",
        "outputId": "2d2f5ca2-c18b-4ef0-dad6-babe38854171",
        "colab": {
          "base_uri": "https://localhost:8080/"
        }
      },
      "outputs": [
        {
          "output_type": "stream",
          "name": "stdout",
          "text": [
            "2 8\n",
            "2 16\n",
            "2 64\n",
            "2 128\n",
            "2 256\n",
            "2 512\n",
            "2 1024\n",
            "2 2048\n",
            "2 4096\n",
            "2 8192\n"
          ]
        }
      ],
      "source": [
        "for eps in np.logspace(-1, -7, num=10):\n",
        "  for i in range(1, 10):\n",
        "    roots, weights = roots_legendre(i)\n",
        "    if abs(np.sum(func(roots) * weights) - real_int) < eps:\n",
        "      print(i, end=' ')\n",
        "      break\n",
        "  print(midpoint_rule(func, -1, 1, eps, real_int)[1])"
      ]
    },
    {
      "cell_type": "markdown",
      "metadata": {
        "deletable": false,
        "editable": false,
        "hidden": true,
        "nbgrader": {
          "cell_type": "markdown",
          "checksum": "5b464089f419aba26b8917d6a50b5533",
          "grade": false,
          "grade_id": "cell-90f6342d2fe72d9b",
          "locked": true,
          "schema_version": 3,
          "solution": false,
          "task": false
        },
        "id": "GbkgaLvBeLVY"
      },
      "source": [
        "\n",
        "Вычислите значение того же интеграла, но на интервале от 0 до 10.\n",
        "\n",
        "$$\n",
        "\\int_{0}^{10} (7x^3 - 8 x^2 - 3 x + 3) dx \n",
        "$$\n",
        "\n",
        "Заметим, что больше нельзя использовать полиномы Лежанда, потому что они определены на интервале (-1, 1). Однако всегда можно произвести *аффинное преобразование* для того, чтобы перейти к желаемой системе координат.\n",
        "\n",
        "(20% итоговой оценки)"
      ]
    },
    {
      "cell_type": "markdown",
      "source": [
        "$$\n",
        "\\int_{0}^{10} (7x^3 - 8 x^2 - 3 x + 3) dx = //y=\\frac{x}{10}\\Rightarrow x=10y//=10\\int_{0}^{1} (7\\cdot(10y)^3 -8\\cdot(10y)^2 - 3\\cdot10y + 3) dy\n",
        "$$"
      ],
      "metadata": {
        "id": "GdZl7o8I5Y5v"
      }
    },
    {
      "cell_type": "code",
      "execution_count": 98,
      "metadata": {
        "deletable": false,
        "hidden": true,
        "nbgrader": {
          "cell_type": "code",
          "checksum": "ecbb9c326dedcff540534ea083ac90d7",
          "grade": true,
          "grade_id": "cell-000ec6abd35fcdd9",
          "locked": false,
          "points": 2,
          "schema_version": 3,
          "solution": true,
          "task": false
        },
        "id": "CZam9GSieLVZ",
        "outputId": "2d6ec8bb-b98f-42c0-a34e-a30dabc379f8",
        "colab": {
          "base_uri": "https://localhost:8080/"
        }
      },
      "outputs": [
        {
          "output_type": "stream",
          "name": "stdout",
          "text": [
            "14713.333333333336\n"
          ]
        }
      ],
      "source": [
        "roots, weights = roots_legendre(6)\n",
        "x = 5 * roots + 5\n",
        "integral = 5 * np.sum(func(x)*weights)\n",
        "print(integral)"
      ]
    },
    {
      "cell_type": "markdown",
      "metadata": {
        "deletable": false,
        "editable": false,
        "hidden": true,
        "nbgrader": {
          "cell_type": "markdown",
          "checksum": "fecefb6e3a941594b03ce8c9abc97370",
          "grade": false,
          "grade_id": "cell-dc53e776f48381a8",
          "locked": true,
          "schema_version": 3,
          "solution": false,
          "task": false
        },
        "id": "onI93aMueLVa"
      },
      "source": [
        "Сравните результат с точным значением интеграла."
      ]
    },
    {
      "cell_type": "code",
      "source": [
        "real_int = primitive(10) - primitive(0)\n",
        "print(abs(integral - real_int))"
      ],
      "metadata": {
        "id": "yMu11fcuAxya",
        "outputId": "eb83aa65-9b1f-4cd7-a5a1-16dee5629f04",
        "colab": {
          "base_uri": "https://localhost:8080/"
        }
      },
      "execution_count": 99,
      "outputs": [
        {
          "output_type": "stream",
          "name": "stdout",
          "text": [
            "1.8189894035458565e-12\n"
          ]
        }
      ]
    },
    {
      "cell_type": "markdown",
      "metadata": {
        "deletable": false,
        "editable": false,
        "heading_collapsed": true,
        "hidden": true,
        "nbgrader": {
          "cell_type": "markdown",
          "checksum": "f12bff0315d6af95982b633bfa67cecc",
          "grade": false,
          "grade_id": "cell-ca98b358d26e8b43",
          "locked": true,
          "schema_version": 3,
          "solution": false,
          "task": false
        },
        "id": "HO-8un9oeLVb"
      },
      "source": [
        "### \n",
        "\n",
        "Вычислите значение следующиего интеграла:\n",
        "$$\n",
        "\\int_{0}^{2\\pi} \\frac{cos(x) dx }{\\sqrt{4\\pi^2 - x^2}}\n",
        "$$\n",
        "используя соответствующий базис ортогональных полиномов.\n",
        "Найдите степень полинома (количество узлов), при которой точность превысит машинное $\\epsilon$.\n"
      ]
    },
    {
      "cell_type": "markdown",
      "source": [
        "$$\n",
        "\\int_{0}^{2\\pi} \\frac{cos(x) dx }{\\sqrt{4\\pi^2 - x^2}} = //y=\\frac{x}{2\\pi} \\Rightarrow x = 2\\pi y// =  \\int_{0}^{1} \\frac{cos(2\\pi y) dy }{\\sqrt{1 - y^2}} = \\frac{1}{2} \\int_{-1}^{1} \\frac{cos(2\\pi y) dy }{\\sqrt{1 - y^2}}\n",
        "$$"
      ],
      "metadata": {
        "id": "eXeFvS80ByCJ"
      }
    },
    {
      "cell_type": "markdown",
      "source": [
        "Воспользуемся полиномом Чебышева первого рода"
      ],
      "metadata": {
        "id": "hDq_yeuUC2jL"
      }
    },
    {
      "cell_type": "code",
      "execution_count": 100,
      "metadata": {
        "deletable": false,
        "hidden": true,
        "nbgrader": {
          "cell_type": "code",
          "checksum": "d9b01518a9d8e7c760eb991dc9f214af",
          "grade": true,
          "grade_id": "cell-6d27cbe45695ad3b",
          "locked": false,
          "points": 5,
          "schema_version": 3,
          "solution": true,
          "task": false
        },
        "id": "yXf2lodgeLVb",
        "outputId": "034db215-1940-44f7-e4b8-a1a15fcbc823",
        "colab": {
          "base_uri": "https://localhost:8080/"
        }
      },
      "outputs": [
        {
          "output_type": "stream",
          "name": "stdout",
          "text": [
            "17\n"
          ]
        }
      ],
      "source": [
        "from scipy.special import roots_chebyt\n",
        "\n",
        "func = lambda y: 0.5 * np.cos(2 * np.pi * y)\n",
        "real_int = 0.34601015881226444 # https://www.integral-calculator.ru/\n",
        "integral = 1\n",
        "n = 1\n",
        "while integral != real_int:\n",
        "    roots, weights = roots_chebyt(n)\n",
        "    integral = (func(roots) * weights).sum()\n",
        "    n += 1\n",
        "print(n)"
      ]
    },
    {
      "cell_type": "markdown",
      "metadata": {
        "deletable": false,
        "editable": false,
        "heading_collapsed": true,
        "nbgrader": {
          "cell_type": "markdown",
          "checksum": "bd74aa881e284f20c1aae900f86db9a2",
          "grade": false,
          "grade_id": "cell-acdd1eabc208c54c",
          "locked": true,
          "schema_version": 3,
          "solution": false,
          "task": false
        },
        "id": "UI0pBpGxeLVc"
      },
      "source": [
        "# Часть 2. Уравение Фредгольма\n",
        "\n",
        "Существует два типа уравнений Фредгольма: \n",
        "\n",
        "1. Уравение Фредгольма первого рода:\n",
        "$$\n",
        "\\int_a^b \\! K(x, t)\\, \\color{blue}{f(t)} \\,dt = g(x)\n",
        "$$\n",
        "\n",
        "2. Уравнение Фредгольма второго рода:\n",
        "$$\n",
        "\\lambda \\int_a^b\\! K(x, t)\\, \\color{blue}{f(t)} \\, dt + g(x) = \\color{blue}{f(x)}\n",
        "$$\n",
        "\n",
        "Здесь функция $f(x)$ неизвестна, $K(x, t)$ - ядро уравнения, заданная функция $g(x)$ и $\\lambda$ - рациональное число.\n",
        "С точки зрения вычислений, уравение Фредгольма первого рода крайне неустойчиво. Далее мы рассмотрим только уравнение второго рода."
      ]
    },
    {
      "cell_type": "markdown",
      "metadata": {
        "deletable": false,
        "editable": false,
        "hidden": true,
        "nbgrader": {
          "cell_type": "markdown",
          "checksum": "a9628395f1d23de5cc15e5e1c381375e",
          "grade": false,
          "grade_id": "cell-36ee7577a4e0dc70",
          "locked": true,
          "schema_version": 3,
          "solution": false,
          "task": false
        },
        "id": "LeK42BfmeLVc"
      },
      "source": [
        "Основная идея - аппроксимировать интеграл некой квадратурной формулой\n",
        "\n",
        "$$\n",
        "\\int_a^b \\! \\xi(t)\\, dt \\approx \\sum_j^N w_j\\, \\xi(t_j)\n",
        "$$\n",
        "\n",
        "с подходящими весами $w_j$ и узлами $t_j$, $j=1, \\dots, N$. Точность аппроксимации контролируется $N$."
      ]
    },
    {
      "cell_type": "markdown",
      "metadata": {
        "deletable": false,
        "editable": false,
        "hidden": true,
        "nbgrader": {
          "cell_type": "markdown",
          "checksum": "a74f70c8935aafb7c5b437c8f5112906",
          "grade": false,
          "grade_id": "cell-0f6dbee289827a84",
          "locked": true,
          "schema_version": 3,
          "solution": false,
          "task": false
        },
        "id": "qfESZbcneLVc"
      },
      "source": [
        "Таким образом, уравнение Фредгольма приближается следующим образом:\n",
        "\n",
        "$$\n",
        "\\lambda \\sum_j w_j\\, K(x, t_j)\\, \\color{blue}{f(t_j)} + g(x) = \\color{blue}{f(x)}\n",
        "$$\n",
        "\n",
        "Отметим, что $x$ - непрерывная переменная, в то время, как $t$ - дискретная."
      ]
    },
    {
      "cell_type": "markdown",
      "metadata": {
        "deletable": false,
        "editable": false,
        "hidden": true,
        "nbgrader": {
          "cell_type": "markdown",
          "checksum": "bbae1dde3d73ef7f88a463b46ef347e3",
          "grade": false,
          "grade_id": "cell-d25f3a12e14deb3e",
          "locked": true,
          "schema_version": 3,
          "solution": false,
          "task": false
        },
        "id": "fM_-JVC2eLVd"
      },
      "source": [
        "Рассматривая данное уравнение на тех же узлах сетки $x = t_k$, получаем\n",
        "\n",
        "$$\n",
        "\\lambda \\sum_j w_j \\, K_{k, j}\\, \\color{blue}{f_j} + g_k = \\color{blue}{f_k}\n",
        "$$\n",
        "\n",
        "где $f_j \\equiv f(t_j)$, $g_j \\equiv g(t_j)$ and $K_{k, j} \\equiv K(t_k, t_j)$. Это ничто иное, как система линейных алгебраических уравнений на вектор $\\color{blue}{f_j}$.\n",
        "\n",
        "Ее решение выдает значение неизвестной функции $f(x)$ в дискретных точках $x=t_j$ для $j=1, \\dots, N$."
      ]
    },
    {
      "cell_type": "markdown",
      "metadata": {
        "deletable": false,
        "editable": false,
        "hidden": true,
        "nbgrader": {
          "cell_type": "markdown",
          "checksum": "d181e448b52543b8da4c5c4499aa45cf",
          "grade": false,
          "grade_id": "cell-7c2ff82c3137923b",
          "locked": true,
          "schema_version": 3,
          "solution": false,
          "task": false
        },
        "id": "ylg3zjRUeLVd"
      },
      "source": [
        "\n",
        "Решите предложенное уравнение Фредгольма второго рода\n",
        "\n",
        "$$\n",
        "f(x) = \\cos(x)  + \\frac{1}{2\\pi} \\int_0^\\pi \\! \\sin(x) \\,t f(t) \\, dt\n",
        "$$\n",
        "\n",
        "Здесь $a, b = 0, 1$, $\\lambda = \\dfrac{1}{2\\pi}$, ядро $K(x, t) = \\sin(x)\\cdot t$ и правая часть - $g(x) = \\cos(x)$.\n",
        "\n",
        "Точное решение (Сборник задач по интегральным уравнениям, 2006):\n",
        "\n",
        "$$\n",
        "f(x) = \\cos(x)- \\frac{2}{\\pi}\\sin(x)\n",
        "$$"
      ]
    },
    {
      "cell_type": "markdown",
      "metadata": {
        "deletable": false,
        "editable": false,
        "hidden": true,
        "nbgrader": {
          "cell_type": "markdown",
          "checksum": "bab482b2121658773bed1c35ed3e9692",
          "grade": false,
          "grade_id": "cell-0686a98da0e5aabb",
          "locked": true,
          "schema_version": 3,
          "solution": false,
          "task": false
        },
        "id": "RO6vLHQJeLVd"
      },
      "source": [
        "Для нахождения интеграла преобразуйте заменой переменных в интеграле область интегрирования в [0,1] воспользуйтесь Гауссовой квадратурой с весовой функцией $w(x) = 1$ на $(0, 1)$. Посмотрите на http://dlmf.nist.gov/18.3, и найдите соответствующую функцию в *scipy.special* (обратите внимание на область интегрирования).\n",
        "\n",
        "Напишите функцию, возвращающую значение f(t_j) по схеме выше, которая в качестве параметра принимает величину $N$--число узлов в квадратуре, для нахождение решения СЛАУ можно использовать `scipy.linalg.solve`.\n",
        "\n",
        "Постройте график истинного решения и набор (t_j, f_j) для раличных $N$, используя вашу функцию."
      ]
    },
    {
      "cell_type": "code",
      "execution_count": 103,
      "metadata": {
        "deletable": false,
        "hidden": true,
        "nbgrader": {
          "cell_type": "code",
          "checksum": "8ef0119a4fa579caf3c668ffbcb89691",
          "grade": true,
          "grade_id": "cell-5b344dd355335170",
          "locked": false,
          "points": 5,
          "schema_version": 3,
          "solution": true,
          "task": false
        },
        "id": "l4NdI14aeLVe",
        "outputId": "45ab93ce-9fe3-4842-89b8-8eabefbf772f",
        "colab": {
          "base_uri": "https://localhost:8080/",
          "height": 624
        }
      },
      "outputs": [
        {
          "output_type": "execute_result",
          "data": {
            "text/plain": [
              "<matplotlib.legend.Legend at 0x7fc4466dae50>"
            ]
          },
          "metadata": {},
          "execution_count": 103
        },
        {
          "output_type": "display_data",
          "data": {
            "text/plain": [
              "<Figure size 1080x720 with 1 Axes>"
            ],
            "image/png": "[encoded data removed]"
          },
          "metadata": {
            "needs_background": "light"
          }
        }
      ],
      "source": [
        "import matplotlib.pyplot as plt\n",
        "from scipy.linalg import solve\n",
        "from scipy.special import roots_sh_legendre\n",
        "\n",
        "K = lambda x, t: np.sin(np.pi * x) * t\n",
        "g = lambda x: np.cos(np.pi * x)\n",
        "\n",
        "def foo(n):\n",
        "    roots, weights = roots_sh_legendre(n)\n",
        "    I = np.eye(n)\n",
        "    A = np.pi / 2 * np.asarray([weights * K(i, roots) for i in roots]) - I\n",
        "    b = - g(roots)\n",
        "    f = solve(A, b)\n",
        "    return f\n",
        "\n",
        "plt.figure(figsize=(15, 10))\n",
        "\n",
        "for n in [2, 5, 15, 50]:\n",
        "    roots, weights = roots_sh_legendre(n)\n",
        "    x = roots * np.pi\n",
        "    f = foo(n)\n",
        "    plt.plot(x, f, '--', label=f'N = {n}')\n",
        "\n",
        "plt.xlabel('x')\n",
        "plt.ylabel('f(x)')\n",
        "func = lambda x: np.cos(x) - 2 / np.pi * np.sin(x)\n",
        "x = np.linspace(0, np.pi, 100)\n",
        "plt.plot(x, func(x), '-', label='Верное решение')\n",
        "plt.legend()"
      ]
    },
    {
      "cell_type": "markdown",
      "metadata": {
        "deletable": false,
        "editable": false,
        "hidden": true,
        "nbgrader": {
          "cell_type": "markdown",
          "checksum": "f6cd5427e76b1f02f0a5bca71daabf2f",
          "grade": false,
          "grade_id": "cell-72937e0192d8f26e",
          "locked": true,
          "schema_version": 3,
          "solution": false,
          "task": false
        },
        "id": "mV2CVIYSeLVe"
      },
      "source": [
        "Очевидной проблемой предыдущего результата для $f(x)$ является то, что он возвращает решения на фиксированном наборе точек. Мы не контролируем их расположение.\n",
        "\n",
        "Оказывается, интерполяционные методы (мы обсудим их на следующих занятиях) работают не очень хорошо, в сравнении с следующим подходом:"
      ]
    },
    {
      "cell_type": "markdown",
      "metadata": {
        "deletable": false,
        "editable": false,
        "hidden": true,
        "nbgrader": {
          "cell_type": "markdown",
          "checksum": "0d6c47a9858013151f2ddbac99976258",
          "grade": false,
          "grade_id": "cell-eb09876399147c69",
          "locked": true,
          "schema_version": 3,
          "solution": false,
          "task": false
        },
        "id": "GGSGsACZeLVf"
      },
      "source": [
        "Используйте изначальный вид, чтобы вычислить значение функции на всём интервале:\n",
        "\n",
        "$$\n",
        "f(x) = g(x) + \\lambda \\sum_j^N w_j\\, K(x, t_j)\\, f(t_j)\n",
        "$$\n",
        "\n",
        "Сравните эту интерполяцию с точным решением для разлиных $N$.\n",
        "(выбирайте наглядный масштаб)"
      ]
    },
    {
      "cell_type": "code",
      "execution_count": 108,
      "metadata": {
        "deletable": false,
        "hidden": true,
        "nbgrader": {
          "cell_type": "code",
          "checksum": "6bdc45a399812573474d4e79d749a014",
          "grade": true,
          "grade_id": "cell-89229632156a22f0",
          "locked": false,
          "points": 2,
          "schema_version": 3,
          "solution": true,
          "task": false
        },
        "id": "2hiWNM2jeLVf",
        "outputId": "d5ba6352-9d4a-47de-e065-7853f9c06a40",
        "colab": {
          "base_uri": "https://localhost:8080/",
          "height": 624
        }
      },
      "outputs": [
        {
          "output_type": "execute_result",
          "data": {
            "text/plain": [
              "<matplotlib.legend.Legend at 0x7fc4466557c0>"
            ]
          },
          "metadata": {},
          "execution_count": 108
        },
        {
          "output_type": "display_data",
          "data": {
            "text/plain": [
              "<Figure size 864x720 with 1 Axes>"
            ],
            "image/png": "[encoded data removed]"
          },
          "metadata": {
            "needs_background": "light"
          }
        }
      ],
      "source": [
        "from numpy.lib.nanfunctions import nanargmin\n",
        "x = np.linspace(0, 1, 200)\n",
        "\n",
        "plt.figure(figsize=(12, 10))\n",
        "plt.grid(True)\n",
        "plt.xlabel('x')\n",
        "plt.ylabel('f(x)')\n",
        "\n",
        "for n in [2, 5, 15, 50]:\n",
        "    roots, weights = roots_sh_legendre(n)\n",
        "    func = foo(n)\n",
        "    f = lambda x: g(x) + np.pi / 2 * np.sum(weights * K(x, roots) * func)\n",
        "    y = [f(i) for i in x]\n",
        "    plt.plot(x * np.pi, y, '--', label=f'N = {n}')\n",
        "\n",
        "func = lambda x: np.cos(x) - 2 / np.pi * np.sin(x)\n",
        "plt.plot(x, func(x), '-', label='Верное решение')\n",
        "plt.legend()"
      ]
    },
    {
      "cell_type": "markdown",
      "metadata": {
        "deletable": false,
        "editable": false,
        "heading_collapsed": true,
        "nbgrader": {
          "cell_type": "markdown",
          "checksum": "9d707bd9e18bbf023cddf791e05ae328",
          "grade": false,
          "grade_id": "cell-70721ae1c137e72e",
          "locked": true,
          "schema_version": 3,
          "solution": false,
          "task": false
        },
        "id": "Q-o3XI0QeLVg"
      },
      "source": [
        "# Часть 3. Интеграл от осциллирующей функции - EXTRA points task\n",
        "\n",
        "Рассмотрим определенный интеграл\n",
        "\n",
        "$$\n",
        "I = \\int_0^\\infty\\! \\frac{\\sin(x) \\cos{(\\cos{(x)})}}{x}\\,dx\n",
        "$$\n",
        "\n",
        "Вычислите значение данного интеграла с относительной точностью $10^{-6}$. Для упрощения задачи можете воспользоваться функционалом `scipy.integrate.quad`.\n",
        "\n",
        "Заметим, что \"из коробки\" интеграл вычислить не удается, и нужно что-то придумать."
      ]
    },
    {
      "cell_type": "code",
      "execution_count": 109,
      "metadata": {
        "ExecuteTime": {
          "end_time": "2022-10-31T20:25:23.757358Z",
          "start_time": "2022-10-31T20:25:23.138756Z"
        },
        "deletable": false,
        "editable": false,
        "hidden": true,
        "nbgrader": {
          "cell_type": "code",
          "checksum": "11f9ea8995c2fc47c6518788c1e3a53b",
          "grade": false,
          "grade_id": "cell-515f8f19764eb256",
          "locked": true,
          "schema_version": 3,
          "solution": false,
          "task": false
        },
        "id": "i-Q54pz3eLVg",
        "outputId": "945bf049-4de4-4634-a24a-289940aeaf38",
        "colab": {
          "base_uri": "https://localhost:8080/"
        }
      },
      "outputs": [
        {
          "output_type": "stream",
          "name": "stderr",
          "text": [
            "<ipython-input-109-5a28b85f551f>:4: IntegrationWarning: The integral is probably divergent, or slowly convergent.\n",
            "  quad(lambda x: sin(x) * cos(cos(x)) / x, 0, float('inf'))\n"
          ]
        },
        {
          "output_type": "execute_result",
          "data": {
            "text/plain": [
              "(1.9653912540956746, 4.089174284042278)"
            ]
          },
          "metadata": {},
          "execution_count": 109
        }
      ],
      "source": [
        "from math import sin, cos\n",
        "\n",
        "from scipy.integrate import quad\n",
        "quad(lambda x: sin(x) * cos(cos(x)) / x, 0, float('inf'))"
      ]
    },
    {
      "cell_type": "markdown",
      "metadata": {
        "deletable": false,
        "editable": false,
        "hidden": true,
        "nbgrader": {
          "cell_type": "markdown",
          "checksum": "53e2ba2b52667aada8dc1a7f43391ef4",
          "grade": false,
          "grade_id": "cell-e34178c9823af271",
          "locked": true,
          "schema_version": 3,
          "solution": false,
          "task": false
        },
        "id": "UCRsLEzSeLVh"
      },
      "source": [
        "Напишите функцию, которая возвращает значение данного интеграла. Только само значение интеграла, без оценки погрешности.\n",
        "(оборачиваем интеграл в функцию только для удобства автопроверки)."
      ]
    },
    {
      "cell_type": "code",
      "execution_count": null,
      "metadata": {
        "ExecuteTime": {
          "end_time": "2022-10-31T20:25:43.060678Z",
          "start_time": "2022-10-31T20:25:43.052101Z"
        },
        "deletable": false,
        "hidden": true,
        "nbgrader": {
          "cell_type": "code",
          "checksum": "f9fa2326b0f5d084ce9385ccd5a2fbd7",
          "grade": false,
          "grade_id": "cell-ddd4e0b6d148fcfd",
          "locked": false,
          "schema_version": 3,
          "solution": true,
          "task": false
        },
        "id": "0IXD-6hzeLVi"
      },
      "outputs": [],
      "source": [
        "from scipy.integrate import quad\n",
        "\n",
        "def integ():\n",
        "    \"\"\"Return a single float, the computed value of the integral.\"\"\"\n",
        "    # YOUR CODE HERE\n",
        "    raise NotImplementedError()"
      ]
    },
    {
      "cell_type": "code",
      "execution_count": null,
      "metadata": {
        "deletable": false,
        "editable": false,
        "hidden": true,
        "nbgrader": {
          "cell_type": "code",
          "checksum": "28f736930b29b8de099e68693bd5f160",
          "grade": true,
          "grade_id": "cell-b341c2ce36bc957d",
          "locked": true,
          "points": 10,
          "schema_version": 3,
          "solution": false,
          "task": false
        },
        "id": "gQUW1aCVeLVi"
      },
      "outputs": [],
      "source": [
        "from numpy.testing import assert_allclose\n",
        "\n",
        "# this is a test cell, keep it intact\n"
      ]
    }
  ],
  "metadata": {
    "kernelspec": {
      "display_name": "Python 3 (ipykernel)",
      "language": "python",
      "name": "python3"
    },
    "language_info": {
      "codemirror_mode": {
        "name": "ipython",
        "version": 3
      },
      "file_extension": ".py",
      "mimetype": "text/x-python",
      "name": "python",
      "nbconvert_exporter": "python",
      "pygments_lexer": "ipython3",
      "version": "3.8.13"
    },
    "latex_envs": {
      "LaTeX_envs_menu_present": true,
      "autoclose": true,
      "autocomplete": false,
      "bibliofile": "biblio.bib",
      "cite_by": "apalike",
      "current_citInitial": 1,
      "eqLabelWithNumbers": true,
      "eqNumInitial": 1,
      "hotkeys": {
        "equation": "Ctrl-E",
        "itemize": "Ctrl-I"
      },
      "labels_anchors": false,
      "latex_user_defs": false,
      "report_style_numbering": false,
      "user_envs_cfg": false
    },
    "toc": {
      "base_numbering": 1,
      "nav_menu": {},
      "number_sections": true,
      "sideBar": true,
      "skip_h1_title": false,
      "title_cell": "Table of Contents",
      "title_sidebar": "Contents",
      "toc_cell": false,
      "toc_position": {},
      "toc_section_display": true,
      "toc_window_display": false
    },
    "colab": {
      "provenance": []
    }
  },
  "nbformat": 4,
  "nbformat_minor": 0
}